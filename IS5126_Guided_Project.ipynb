{
 "cells": [
  {
   "cell_type": "markdown",
   "metadata": {},
   "source": [
    "# Readme"
   ]
  },
  {
   "cell_type": "markdown",
   "metadata": {},
   "source": [
    "Folder Structure\n",
    "\n",
    "  /project_folder\n",
    "    IS5126_Guided_Project.ipynb\n",
    "    /data\n",
    "      player_salaries.pkl\n",
    "      player_info.pkl\n",
    "      player_statistics.pkl\n",
    "      team_info.pkl\n",
    "      team_statistics.pkl"
   ]
  },
  {
   "cell_type": "markdown",
   "metadata": {},
   "source": [
    "# Import Libraries"
   ]
  },
  {
   "cell_type": "code",
   "execution_count": 8,
   "metadata": {},
   "outputs": [],
   "source": [
    "import os\n",
    "import argparse\n",
    "import pickle \n",
    "\n",
    "\n",
    "import pandas as pd\n",
    "import numpy as np\n",
    "import matplotlib.pyplot as plt\n",
    "import seaborn as sns\n",
    "\n",
    "from sklearn.cluster import KMeans\n",
    "from sklearn.preprocessing import StandardScaler\n",
    "from sklearn.metrics import silhouette_score\n",
    "\n",
    "import statsmodels.api as sm\n",
    "import statsmodels.stats.api as sms\n",
    "\n",
    "from linearmodels import PanelOLS\n",
    "from linearmodels import RandomEffects\n",
    "from scipy import stats"
   ]
  },
  {
   "cell_type": "code",
   "execution_count": 9,
   "metadata": {},
   "outputs": [],
   "source": [
    "import warnings\n",
    "warnings.filterwarnings(\"ignore\", category=DeprecationWarning) "
   ]
  },
  {
   "cell_type": "markdown",
   "metadata": {},
   "source": [
    "# Define Filepaths"
   ]
  },
  {
   "cell_type": "markdown",
   "metadata": {},
   "source": [
    "Folder Paths"
   ]
  },
  {
   "cell_type": "code",
   "execution_count": 10,
   "metadata": {},
   "outputs": [],
   "source": [
    "MAIN_FOLDER = r\"./\"\n",
    "DATA_FOLDER = os.path.join(MAIN_FOLDER, \"data\")"
   ]
  },
  {
   "cell_type": "markdown",
   "metadata": {},
   "source": [
    "File Paths"
   ]
  },
  {
   "cell_type": "code",
   "execution_count": 19,
   "metadata": {},
   "outputs": [],
   "source": [
    "SALARY_FILE = os.path.join(DATA_FOLDER, \"player_salaries_all_combined.csv\")\n",
    "PLAYER_INFO_FILE = os.path.join(DATA_FOLDER, \"season_per_game.csv\")\n",
    "PLAYER_STATS_FILE = os.path.join(DATA_FOLDER, \"season_per_game.csv\")\n",
    "TEAM_INFO_FILE = os.path.join(DATA_FOLDER, \"team_info.csv\")\n",
    "TEAM_STATS_FILE = os.path.join(DATA_FOLDER, \"team_season_per_game.csv\")"
   ]
  },
  {
   "cell_type": "markdown",
   "metadata": {},
   "source": [
    "# Read Data"
   ]
  },
  {
   "cell_type": "code",
   "execution_count": 20,
   "metadata": {},
   "outputs": [],
   "source": [
    "df_salary = pd.read_csv (SALARY_FILE, encoding='latin1')\n",
    "df_player_info = pd.read_csv (PLAYER_INFO_FILE, encoding='latin1')\n",
    "df_player_stats = pd.read_csv (PLAYER_STATS_FILE, encoding='latin1')\n",
    "df_team_info = pd.read_csv (TEAM_INFO_FILE, encoding='latin1')\n",
    "df_team_stats = pd.read_csv (TEAM_STATS_FILE, encoding='latin1')"
   ]
  },
  {
   "cell_type": "markdown",
   "metadata": {},
   "source": [
    "# Data Samples"
   ]
  },
  {
   "cell_type": "code",
   "execution_count": 22,
   "metadata": {},
   "outputs": [
    {
     "data": {
      "text/html": [
       "<div>\n",
       "<style scoped>\n",
       "    .dataframe tbody tr th:only-of-type {\n",
       "        vertical-align: middle;\n",
       "    }\n",
       "\n",
       "    .dataframe tbody tr th {\n",
       "        vertical-align: top;\n",
       "    }\n",
       "\n",
       "    .dataframe thead th {\n",
       "        text-align: right;\n",
       "    }\n",
       "</style>\n",
       "<table border=\"1\" class=\"dataframe\">\n",
       "  <thead>\n",
       "    <tr style=\"text-align: right;\">\n",
       "      <th></th>\n",
       "      <th>SN</th>\n",
       "      <th>player</th>\n",
       "      <th>season</th>\n",
       "      <th>team</th>\n",
       "      <th>salary</th>\n",
       "    </tr>\n",
       "  </thead>\n",
       "  <tbody>\n",
       "    <tr>\n",
       "      <th>0</th>\n",
       "      <td>0</td>\n",
       "      <td>Ãlex Abrines</td>\n",
       "      <td>2016-17</td>\n",
       "      <td>Oklahoma City Thunder</td>\n",
       "      <td>5994764</td>\n",
       "    </tr>\n",
       "  </tbody>\n",
       "</table>\n",
       "</div>"
      ],
      "text/plain": [
       "   SN         player   season                   team   salary\n",
       "0   0  Ãlex Abrines  2016-17  Oklahoma City Thunder  5994764"
      ]
     },
     "execution_count": 22,
     "metadata": {},
     "output_type": "execute_result"
    }
   ],
   "source": [
    "df_salary.head(1)"
   ]
  },
  {
   "cell_type": "code",
   "execution_count": 23,
   "metadata": {},
   "outputs": [
    {
     "data": {
      "text/html": [
       "<div>\n",
       "<style scoped>\n",
       "    .dataframe tbody tr th:only-of-type {\n",
       "        vertical-align: middle;\n",
       "    }\n",
       "\n",
       "    .dataframe tbody tr th {\n",
       "        vertical-align: top;\n",
       "    }\n",
       "\n",
       "    .dataframe thead th {\n",
       "        text-align: right;\n",
       "    }\n",
       "</style>\n",
       "<table border=\"1\" class=\"dataframe\">\n",
       "  <thead>\n",
       "    <tr style=\"text-align: right;\">\n",
       "      <th></th>\n",
       "      <th>ï»¿SN</th>\n",
       "      <th>Player</th>\n",
       "      <th>Pos</th>\n",
       "      <th>Age</th>\n",
       "      <th>Tm</th>\n",
       "      <th>G</th>\n",
       "      <th>GS</th>\n",
       "      <th>MP</th>\n",
       "      <th>FG</th>\n",
       "      <th>FGA</th>\n",
       "      <th>...</th>\n",
       "      <th>ORB</th>\n",
       "      <th>DRB</th>\n",
       "      <th>TRB</th>\n",
       "      <th>AST</th>\n",
       "      <th>STL</th>\n",
       "      <th>BLK</th>\n",
       "      <th>TOV</th>\n",
       "      <th>PF</th>\n",
       "      <th>PTS</th>\n",
       "      <th>Season</th>\n",
       "    </tr>\n",
       "  </thead>\n",
       "  <tbody>\n",
       "    <tr>\n",
       "      <th>0</th>\n",
       "      <td>0</td>\n",
       "      <td>Arron Afflalo</td>\n",
       "      <td>SG</td>\n",
       "      <td>24</td>\n",
       "      <td>DEN</td>\n",
       "      <td>82</td>\n",
       "      <td>75</td>\n",
       "      <td>27.1</td>\n",
       "      <td>3.3</td>\n",
       "      <td>7.1</td>\n",
       "      <td>...</td>\n",
       "      <td>0.7</td>\n",
       "      <td>2.4</td>\n",
       "      <td>3.1</td>\n",
       "      <td>1.7</td>\n",
       "      <td>0.6</td>\n",
       "      <td>0.4</td>\n",
       "      <td>0.9</td>\n",
       "      <td>2.7</td>\n",
       "      <td>8.8</td>\n",
       "      <td>2009-10</td>\n",
       "    </tr>\n",
       "  </tbody>\n",
       "</table>\n",
       "<p>1 rows × 31 columns</p>\n",
       "</div>"
      ],
      "text/plain": [
       "   ï»¿SN         Player Pos  Age   Tm   G  GS    MP   FG  FGA  ...  ORB  DRB  \\\n",
       "0      0  Arron Afflalo  SG   24  DEN  82  75  27.1  3.3  7.1  ...  0.7  2.4   \n",
       "\n",
       "   TRB  AST  STL  BLK  TOV   PF  PTS   Season  \n",
       "0  3.1  1.7  0.6  0.4  0.9  2.7  8.8  2009-10  \n",
       "\n",
       "[1 rows x 31 columns]"
      ]
     },
     "execution_count": 23,
     "metadata": {},
     "output_type": "execute_result"
    }
   ],
   "source": [
    "df_player_info.head(1)"
   ]
  },
  {
   "cell_type": "code",
   "execution_count": 24,
   "metadata": {},
   "outputs": [
    {
     "data": {
      "text/html": [
       "<div>\n",
       "<style scoped>\n",
       "    .dataframe tbody tr th:only-of-type {\n",
       "        vertical-align: middle;\n",
       "    }\n",
       "\n",
       "    .dataframe tbody tr th {\n",
       "        vertical-align: top;\n",
       "    }\n",
       "\n",
       "    .dataframe thead th {\n",
       "        text-align: right;\n",
       "    }\n",
       "</style>\n",
       "<table border=\"1\" class=\"dataframe\">\n",
       "  <thead>\n",
       "    <tr style=\"text-align: right;\">\n",
       "      <th></th>\n",
       "      <th>ï»¿SN</th>\n",
       "      <th>Player</th>\n",
       "      <th>Pos</th>\n",
       "      <th>Age</th>\n",
       "      <th>Tm</th>\n",
       "      <th>G</th>\n",
       "      <th>GS</th>\n",
       "      <th>MP</th>\n",
       "      <th>FG</th>\n",
       "      <th>FGA</th>\n",
       "      <th>...</th>\n",
       "      <th>ORB</th>\n",
       "      <th>DRB</th>\n",
       "      <th>TRB</th>\n",
       "      <th>AST</th>\n",
       "      <th>STL</th>\n",
       "      <th>BLK</th>\n",
       "      <th>TOV</th>\n",
       "      <th>PF</th>\n",
       "      <th>PTS</th>\n",
       "      <th>Season</th>\n",
       "    </tr>\n",
       "  </thead>\n",
       "  <tbody>\n",
       "    <tr>\n",
       "      <th>0</th>\n",
       "      <td>0</td>\n",
       "      <td>Arron Afflalo</td>\n",
       "      <td>SG</td>\n",
       "      <td>24</td>\n",
       "      <td>DEN</td>\n",
       "      <td>82</td>\n",
       "      <td>75</td>\n",
       "      <td>27.1</td>\n",
       "      <td>3.3</td>\n",
       "      <td>7.1</td>\n",
       "      <td>...</td>\n",
       "      <td>0.7</td>\n",
       "      <td>2.4</td>\n",
       "      <td>3.1</td>\n",
       "      <td>1.7</td>\n",
       "      <td>0.6</td>\n",
       "      <td>0.4</td>\n",
       "      <td>0.9</td>\n",
       "      <td>2.7</td>\n",
       "      <td>8.8</td>\n",
       "      <td>2009-10</td>\n",
       "    </tr>\n",
       "  </tbody>\n",
       "</table>\n",
       "<p>1 rows × 31 columns</p>\n",
       "</div>"
      ],
      "text/plain": [
       "   ï»¿SN         Player Pos  Age   Tm   G  GS    MP   FG  FGA  ...  ORB  DRB  \\\n",
       "0      0  Arron Afflalo  SG   24  DEN  82  75  27.1  3.3  7.1  ...  0.7  2.4   \n",
       "\n",
       "   TRB  AST  STL  BLK  TOV   PF  PTS   Season  \n",
       "0  3.1  1.7  0.6  0.4  0.9  2.7  8.8  2009-10  \n",
       "\n",
       "[1 rows x 31 columns]"
      ]
     },
     "execution_count": 24,
     "metadata": {},
     "output_type": "execute_result"
    }
   ],
   "source": [
    "df_player_stats.head(1)"
   ]
  },
  {
   "cell_type": "code",
   "execution_count": 25,
   "metadata": {},
   "outputs": [
    {
     "data": {
      "text/html": [
       "<div>\n",
       "<style scoped>\n",
       "    .dataframe tbody tr th:only-of-type {\n",
       "        vertical-align: middle;\n",
       "    }\n",
       "\n",
       "    .dataframe tbody tr th {\n",
       "        vertical-align: top;\n",
       "    }\n",
       "\n",
       "    .dataframe thead th {\n",
       "        text-align: right;\n",
       "    }\n",
       "</style>\n",
       "<table border=\"1\" class=\"dataframe\">\n",
       "  <thead>\n",
       "    <tr style=\"text-align: right;\">\n",
       "      <th></th>\n",
       "      <th>ï»¿SN</th>\n",
       "      <th>name</th>\n",
       "      <th>location</th>\n",
       "      <th>team_names</th>\n",
       "      <th>seasons</th>\n",
       "      <th>record</th>\n",
       "      <th>playoff_appearances</th>\n",
       "      <th>championships</th>\n",
       "    </tr>\n",
       "  </thead>\n",
       "  <tbody>\n",
       "    <tr>\n",
       "      <th>0</th>\n",
       "      <td>0</td>\n",
       "      <td>Philadelphia 76ers</td>\n",
       "      <td>Pennsylvania</td>\n",
       "      <td>Philadelphia 76ers, Syracuse Nationals</td>\n",
       "      <td>73</td>\n",
       "      <td>0.519</td>\n",
       "      <td>51</td>\n",
       "      <td>3</td>\n",
       "    </tr>\n",
       "  </tbody>\n",
       "</table>\n",
       "</div>"
      ],
      "text/plain": [
       "   ï»¿SN                name      location  \\\n",
       "0      0  Philadelphia 76ers  Pennsylvania   \n",
       "\n",
       "                               team_names  seasons  record  \\\n",
       "0  Philadelphia 76ers, Syracuse Nationals       73   0.519   \n",
       "\n",
       "   playoff_appearances  championships  \n",
       "0                   51              3  "
      ]
     },
     "execution_count": 25,
     "metadata": {},
     "output_type": "execute_result"
    }
   ],
   "source": [
    "df_team_info.head(1)"
   ]
  },
  {
   "cell_type": "code",
   "execution_count": 10,
   "metadata": {},
   "outputs": [
    {
     "data": {
      "text/html": [
       "<div>\n",
       "<style scoped>\n",
       "    .dataframe tbody tr th:only-of-type {\n",
       "        vertical-align: middle;\n",
       "    }\n",
       "\n",
       "    .dataframe tbody tr th {\n",
       "        vertical-align: top;\n",
       "    }\n",
       "\n",
       "    .dataframe thead th {\n",
       "        text-align: right;\n",
       "    }\n",
       "</style>\n",
       "<table border=\"1\" class=\"dataframe\">\n",
       "  <thead>\n",
       "    <tr style=\"text-align: right;\">\n",
       "      <th></th>\n",
       "      <th>Team</th>\n",
       "      <th>G</th>\n",
       "      <th>MP</th>\n",
       "      <th>FG</th>\n",
       "      <th>FGA</th>\n",
       "      <th>FG%</th>\n",
       "      <th>3P</th>\n",
       "      <th>3PA</th>\n",
       "      <th>3P%</th>\n",
       "      <th>2P</th>\n",
       "      <th>...</th>\n",
       "      <th>ORB</th>\n",
       "      <th>DRB</th>\n",
       "      <th>TRB</th>\n",
       "      <th>AST</th>\n",
       "      <th>STL</th>\n",
       "      <th>BLK</th>\n",
       "      <th>TOV</th>\n",
       "      <th>PF</th>\n",
       "      <th>PTS</th>\n",
       "      <th>Season</th>\n",
       "    </tr>\n",
       "  </thead>\n",
       "  <tbody>\n",
       "    <tr>\n",
       "      <th>0</th>\n",
       "      <td>Phoenix Suns</td>\n",
       "      <td>82</td>\n",
       "      <td>240.6</td>\n",
       "      <td>40.7</td>\n",
       "      <td>82.8</td>\n",
       "      <td>.492</td>\n",
       "      <td>8.9</td>\n",
       "      <td>21.6</td>\n",
       "      <td>.412</td>\n",
       "      <td>31.8</td>\n",
       "      <td>...</td>\n",
       "      <td>11.1</td>\n",
       "      <td>31.9</td>\n",
       "      <td>43.0</td>\n",
       "      <td>23.3</td>\n",
       "      <td>5.8</td>\n",
       "      <td>5.1</td>\n",
       "      <td>14.8</td>\n",
       "      <td>20.9</td>\n",
       "      <td>110.2</td>\n",
       "      <td>2009-10</td>\n",
       "    </tr>\n",
       "  </tbody>\n",
       "</table>\n",
       "<p>1 rows × 25 columns</p>\n",
       "</div>"
      ],
      "text/plain": [
       "           Team   G     MP    FG   FGA   FG%   3P   3PA   3P%    2P  ...  \\\n",
       "0  Phoenix Suns  82  240.6  40.7  82.8  .492  8.9  21.6  .412  31.8  ...   \n",
       "\n",
       "    ORB   DRB   TRB   AST  STL  BLK   TOV    PF    PTS   Season  \n",
       "0  11.1  31.9  43.0  23.3  5.8  5.1  14.8  20.9  110.2  2009-10  \n",
       "\n",
       "[1 rows x 25 columns]"
      ]
     },
     "execution_count": 10,
     "metadata": {},
     "output_type": "execute_result"
    }
   ],
   "source": [
    "df_team_stats.head(1)"
   ]
  },
  {
   "cell_type": "markdown",
   "metadata": {},
   "source": [
    "# General Helper Functions"
   ]
  },
  {
   "cell_type": "code",
   "execution_count": 11,
   "metadata": {},
   "outputs": [],
   "source": [
    "def _lowercase_colnames(df):\n",
    "    df.columns = [col.lower() for col in df.columns]\n",
    "    return df"
   ]
  },
  {
   "cell_type": "markdown",
   "metadata": {},
   "source": [
    "# Part B"
   ]
  },
  {
   "cell_type": "markdown",
   "metadata": {},
   "source": [
    "### Question 1a"
   ]
  },
  {
   "cell_type": "markdown",
   "metadata": {},
   "source": [
    "Convert all columns to lower case for standardization"
   ]
  },
  {
   "cell_type": "code",
   "execution_count": 12,
   "metadata": {},
   "outputs": [],
   "source": [
    "df_salary = _lowercase_colnames(df=df_salary)\n",
    "df_player_stats = _lowercase_colnames(df=df_player_stats)\n",
    "df_team_info = _lowercase_colnames(df=df_team_info)\n",
    "df_team_stats = _lowercase_colnames(df=df_team_stats)"
   ]
  },
  {
   "cell_type": "markdown",
   "metadata": {},
   "source": [
    "Standardize column names for joining"
   ]
  },
  {
   "cell_type": "code",
   "execution_count": 13,
   "metadata": {},
   "outputs": [],
   "source": [
    "# For df_salary\n",
    "salary_rename = {\"team\": \"team_name\"}\n",
    "\n",
    "# For df_player_info\n",
    "player_info_rename = {\"name\": \"player\"}\n",
    "\n",
    "# For df_team_stats\n",
    "team_stats_rename = {col: \"team_\"+col for col in df_team_stats.columns}\n",
    "team_stats_rename[\"team\"] = \"team_name\"\n",
    "del team_stats_rename[\"season\"]\n",
    "\n",
    "# For df_team_info\n",
    "team_info_rename = {col: \"team_\"+col for col in df_team_info.columns}\n",
    "team_info_rename[\"team_names\"] = \"full_team_name\"\n",
    "team_info_rename[\"seasons\"] = \"team_total_seasons\""
   ]
  },
  {
   "cell_type": "markdown",
   "metadata": {},
   "source": [
    "Rename column names"
   ]
  },
  {
   "cell_type": "code",
   "execution_count": 14,
   "metadata": {},
   "outputs": [],
   "source": [
    "df_salary = df_salary.rename(columns=salary_rename)\n",
    "df_player_info = df_player_info.rename(columns=player_info_rename)\n",
    "df_team_stats = df_team_stats.rename(columns=team_stats_rename)\n",
    "df_team_info = df_team_info.rename(columns=team_info_rename)"
   ]
  },
  {
   "cell_type": "markdown",
   "metadata": {},
   "source": [
    "Remove asterisks from player name"
   ]
  },
  {
   "cell_type": "code",
   "execution_count": 15,
   "metadata": {},
   "outputs": [],
   "source": [
    "df_salary[\"player\"] = df_salary[\"player\"].str.replace(\"*\", \"\", regex=False)\n",
    "df_player_stats[\"player\"] = df_player_stats[\"player\"].str.replace(\"*\", \"\", regex=False)"
   ]
  },
  {
   "cell_type": "markdown",
   "metadata": {},
   "source": [
    "Merge salary and player statistics (outer join)"
   ]
  },
  {
   "cell_type": "code",
   "execution_count": 16,
   "metadata": {},
   "outputs": [],
   "source": [
    "df = df_salary.merge(df_player_stats,\n",
    "                     how=\"outer\",\n",
    "                     on=[\"player\", \"season\"])"
   ]
  },
  {
   "cell_type": "markdown",
   "metadata": {},
   "source": [
    "Filter players active between 2009/2010 - 2019/2020 seasons"
   ]
  },
  {
   "cell_type": "code",
   "execution_count": 17,
   "metadata": {},
   "outputs": [],
   "source": [
    "START_SEASON = 2009\n",
    "END_SEASON = 2019\n",
    "df[\"season_year\"] = df[\"season\"].str.split(\"-\").str[0].astype(int)\n",
    "df_active = df.loc[(df[\"season_year\"]>=START_SEASON)\n",
    "                    &(df[\"season_year\"]<=END_SEASON), :]\n",
    "df_active = pd.DataFrame(df_active.loc[:, \"player\"])"
   ]
  },
  {
   "cell_type": "markdown",
   "metadata": {},
   "source": [
    "Get unique active players"
   ]
  },
  {
   "cell_type": "code",
   "execution_count": 18,
   "metadata": {},
   "outputs": [],
   "source": [
    "df_active = df_active.drop_duplicates(subset=[\"player\"], keep=\"first\")"
   ]
  },
  {
   "cell_type": "markdown",
   "metadata": {},
   "source": [
    "Merge with main df to get statistics of active players only"
   ]
  },
  {
   "cell_type": "code",
   "execution_count": 19,
   "metadata": {},
   "outputs": [],
   "source": [
    "df = df.merge(df_active,\n",
    "              how=\"inner\",\n",
    "              on=[\"player\"])"
   ]
  },
  {
   "cell_type": "markdown",
   "metadata": {},
   "source": [
    "Convert player height and weight"
   ]
  },
  {
   "cell_type": "code",
   "execution_count": 20,
   "metadata": {},
   "outputs": [],
   "source": [
    "df_height_info = df_player_info[\"height\"].str.split(\"-\")\n",
    "df_player_info[\"height\"] = df_height_info.str[0].astype(int) * 30.48 + df_height_info.str[1].astype(int) * 2.54\n",
    "\n",
    "df_weight_info = df_player_info[\"weight\"].str.split(\"lb\").str[0].astype(int)\n",
    "df_player_info[\"weight\"] = df_weight_info * 0.453592"
   ]
  },
  {
   "cell_type": "markdown",
   "metadata": {},
   "source": [
    "Remove birthday"
   ]
  },
  {
   "cell_type": "code",
   "execution_count": 21,
   "metadata": {},
   "outputs": [],
   "source": [
    "df_player_info = df_player_info.drop(columns=[\"birthday\"])"
   ]
  },
  {
   "cell_type": "markdown",
   "metadata": {},
   "source": [
    "Merge with main df to get height and weight of players"
   ]
  },
  {
   "cell_type": "code",
   "execution_count": 22,
   "metadata": {},
   "outputs": [],
   "source": [
    "df = df.merge(df_player_info,\n",
    "              how=\"left\",\n",
    "              on=[\"player\"])"
   ]
  },
  {
   "cell_type": "markdown",
   "metadata": {},
   "source": [
    "Get experience for each player"
   ]
  },
  {
   "cell_type": "code",
   "execution_count": 23,
   "metadata": {},
   "outputs": [],
   "source": [
    "df_exp = (df.groupby(\"player\")\n",
    "            .agg({\"season_year\": [np.min, np.max]})\n",
    "            .reset_index(drop=False))\n",
    "df_exp.columns = [\"player\", \"start_year\", \"latest_year\"]\n",
    "df_exp[\"experience\"] = df_exp[\"latest_year\"] - df_exp[\"start_year\"]"
   ]
  },
  {
   "cell_type": "markdown",
   "metadata": {},
   "source": [
    "Merge with main df to get experience of active players only"
   ]
  },
  {
   "cell_type": "code",
   "execution_count": 24,
   "metadata": {},
   "outputs": [],
   "source": [
    "df = df.merge(df_exp,\n",
    "              how=\"inner\",\n",
    "              on=[\"player\"])"
   ]
  },
  {
   "cell_type": "markdown",
   "metadata": {},
   "source": [
    "Get total salary for each player"
   ]
  },
  {
   "cell_type": "code",
   "execution_count": 25,
   "metadata": {},
   "outputs": [],
   "source": [
    "df_total_salary = df_salary.groupby(\"player\").agg({\"salary\": \"sum\"})\n",
    "df_total_salary = df_total_salary.reset_index(drop=False)\n",
    "df_total_salary.columns = [\"player\", \"total_salary\"]"
   ]
  },
  {
   "cell_type": "markdown",
   "metadata": {},
   "source": [
    "Merge with main df to get total salary of active players only"
   ]
  },
  {
   "cell_type": "code",
   "execution_count": 26,
   "metadata": {},
   "outputs": [],
   "source": [
    "df = df.merge(df_total_salary,\n",
    "              how=\"left\",\n",
    "              on=[\"player\"])"
   ]
  },
  {
   "cell_type": "markdown",
   "metadata": {},
   "source": [
    "Get YTD experience"
   ]
  },
  {
   "cell_type": "code",
   "execution_count": 27,
   "metadata": {},
   "outputs": [],
   "source": [
    "df[\"experience_YTD\"] = df[\"season_year\"] - df[\"start_year\"]"
   ]
  },
  {
   "cell_type": "markdown",
   "metadata": {},
   "source": [
    "Rename old team names with new"
   ]
  },
  {
   "cell_type": "code",
   "execution_count": 28,
   "metadata": {},
   "outputs": [],
   "source": [
    "df[\"team_name\"] = df[\"team_name\"].str.replace(\"New Orleans Hornets\", \"New Orleans Pelicans\", regex=False)\n",
    "df[\"team_name\"] = df[\"team_name\"].str.replace(\"Charlotte Bobcats\", \"Charlotte Hornets\", regex=False)\n",
    "df[\"team_name\"] = df[\"team_name\"].str.replace(\"New Jersey Nets\", \"Brooklyn Nets\", regex=False)\n",
    "\n",
    "df_team_stats[\"team_name\"] = df_team_stats[\"team_name\"].str.replace(\"New Orleans Hornets\", \"New Orleans Pelicans\", regex=False)\n",
    "df_team_stats[\"team_name\"] = df_team_stats[\"team_name\"].str.replace(\"Charlotte Bobcats\", \"Charlotte Hornets\", regex=False)\n",
    "df_team_stats[\"team_name\"] = df_team_stats[\"team_name\"].str.replace(\"New Jersey Nets\", \"Brooklyn Nets\", regex=False)"
   ]
  },
  {
   "cell_type": "markdown",
   "metadata": {},
   "source": [
    "Merge team info and team stats"
   ]
  },
  {
   "cell_type": "code",
   "execution_count": 29,
   "metadata": {},
   "outputs": [],
   "source": [
    "df_team_info = df_team_info.merge(df_team_stats,\n",
    "                                  how=\"inner\",\n",
    "                                  on=[\"team_name\"])"
   ]
  },
  {
   "cell_type": "markdown",
   "metadata": {},
   "source": [
    "Merge with main df to get team info"
   ]
  },
  {
   "cell_type": "code",
   "execution_count": 30,
   "metadata": {},
   "outputs": [],
   "source": [
    "df = df.merge(df_team_info,\n",
    "              how=\"inner\",\n",
    "              on=[\"team_name\", \"season\"])"
   ]
  },
  {
   "cell_type": "markdown",
   "metadata": {},
   "source": [
    "Drop unmatched rows with partial data"
   ]
  },
  {
   "cell_type": "code",
   "execution_count": 31,
   "metadata": {},
   "outputs": [],
   "source": [
    "df = df.dropna(how=\"any\")"
   ]
  },
  {
   "cell_type": "markdown",
   "metadata": {},
   "source": [
    "Convert missing values \"<s+>\" to None"
   ]
  },
  {
   "cell_type": "code",
   "execution_count": 32,
   "metadata": {},
   "outputs": [],
   "source": [
    "df = df.replace(r\"^\\s*$\", np.nan, regex=True)"
   ]
  },
  {
   "cell_type": "markdown",
   "metadata": {},
   "source": [
    "Identify columns with missing values"
   ]
  },
  {
   "cell_type": "code",
   "execution_count": 33,
   "metadata": {},
   "outputs": [
    {
     "name": "stdout",
     "output_type": "stream",
     "text": [
      "Columns with missing values: Index(['fg%', '3p%', '2p%', 'efg%', 'ft%'], dtype='object')\n"
     ]
    }
   ],
   "source": [
    "missing_cols = df.columns[df.isnull().any()]\n",
    "print(\"Columns with missing values: {}\".format(missing_cols))"
   ]
  },
  {
   "cell_type": "markdown",
   "metadata": {},
   "source": [
    "Replace missing values with 0 since all of them at percentages"
   ]
  },
  {
   "cell_type": "code",
   "execution_count": 34,
   "metadata": {},
   "outputs": [],
   "source": [
    "df = df.fillna(0)"
   ]
  },
  {
   "cell_type": "markdown",
   "metadata": {},
   "source": [
    "Convert numeric columns to numeric (brute force)"
   ]
  },
  {
   "cell_type": "code",
   "execution_count": 35,
   "metadata": {},
   "outputs": [],
   "source": [
    "for col in list(df.columns):\n",
    "    try:\n",
    "        df[col] = df[col].astype(float)\n",
    "    except ValueError:\n",
    "        continue"
   ]
  },
  {
   "cell_type": "markdown",
   "metadata": {},
   "source": [
    "Number of teams playing for per season"
   ]
  },
  {
   "cell_type": "code",
   "execution_count": 56,
   "metadata": {},
   "outputs": [],
   "source": [
    "df_num_teams = (df.groupby([\"player\", \"season\"])\n",
    "                  .agg({\"team_name\": pd.Series.nunique})\n",
    "                  .reset_index(drop=False)\n",
    "                  .rename(columns={\"team_name\": \"team_count\"}))\n",
    "df = df.merge(df_num_teams,\n",
    "              how=\"inner\",\n",
    "              on=[\"player\", \"season\"]).reset_index(drop=True)"
   ]
  },
  {
   "cell_type": "markdown",
   "metadata": {},
   "source": [
    "Get YTD age"
   ]
  },
  {
   "cell_type": "code",
   "execution_count": 59,
   "metadata": {},
   "outputs": [],
   "source": [
    "df[\"age_YTD\"] = df[\"age\"] - (MOST_CURRENT_SEASON - df[\"season_year\"])"
   ]
  },
  {
   "cell_type": "markdown",
   "metadata": {},
   "source": [
    "Reset Index"
   ]
  },
  {
   "cell_type": "code",
   "execution_count": 36,
   "metadata": {},
   "outputs": [],
   "source": [
    "df = df.reset_index(drop=True)"
   ]
  },
  {
   "cell_type": "markdown",
   "metadata": {},
   "source": [
    "### Question 2a"
   ]
  },
  {
   "cell_type": "markdown",
   "metadata": {},
   "source": [
    "Define most current season "
   ]
  },
  {
   "cell_type": "code",
   "execution_count": 37,
   "metadata": {},
   "outputs": [],
   "source": [
    "MOST_CURRENT_SEASON = 2019"
   ]
  },
  {
   "cell_type": "markdown",
   "metadata": {},
   "source": [
    "Subset data to retrive most current season "
   ]
  },
  {
   "cell_type": "code",
   "execution_count": 38,
   "metadata": {},
   "outputs": [],
   "source": [
    "df_current = df.loc[df[\"season_year\"]==MOST_CURRENT_SEASON, :]"
   ]
  },
  {
   "cell_type": "markdown",
   "metadata": {},
   "source": [
    "Get number of active players"
   ]
  },
  {
   "cell_type": "code",
   "execution_count": 39,
   "metadata": {},
   "outputs": [
    {
     "name": "stdout",
     "output_type": "stream",
     "text": [
      "Number of active players: 449\n"
     ]
    }
   ],
   "source": [
    "active_players = df_current[\"player\"].unique()\n",
    "print(\"Number of active players: {}\".format(len(active_players)))"
   ]
  },
  {
   "cell_type": "markdown",
   "metadata": {},
   "source": [
    "### Question 2b"
   ]
  },
  {
   "cell_type": "markdown",
   "metadata": {},
   "source": [
    "Get number of players in each position"
   ]
  },
  {
   "cell_type": "code",
   "execution_count": 40,
   "metadata": {},
   "outputs": [
    {
     "name": "stdout",
     "output_type": "stream",
     "text": [
      "Positions: \n"
     ]
    },
    {
     "data": {
      "text/html": [
       "<div>\n",
       "<style scoped>\n",
       "    .dataframe tbody tr th:only-of-type {\n",
       "        vertical-align: middle;\n",
       "    }\n",
       "\n",
       "    .dataframe tbody tr th {\n",
       "        vertical-align: top;\n",
       "    }\n",
       "\n",
       "    .dataframe thead th {\n",
       "        text-align: right;\n",
       "    }\n",
       "</style>\n",
       "<table border=\"1\" class=\"dataframe\">\n",
       "  <thead>\n",
       "    <tr style=\"text-align: right;\">\n",
       "      <th></th>\n",
       "      <th>pos</th>\n",
       "      <th>player</th>\n",
       "    </tr>\n",
       "  </thead>\n",
       "  <tbody>\n",
       "    <tr>\n",
       "      <th>0</th>\n",
       "      <td>C</td>\n",
       "      <td>106</td>\n",
       "    </tr>\n",
       "    <tr>\n",
       "      <th>1</th>\n",
       "      <td>C-PF</td>\n",
       "      <td>1</td>\n",
       "    </tr>\n",
       "    <tr>\n",
       "      <th>2</th>\n",
       "      <td>PF</td>\n",
       "      <td>101</td>\n",
       "    </tr>\n",
       "    <tr>\n",
       "      <th>3</th>\n",
       "      <td>PF-C</td>\n",
       "      <td>5</td>\n",
       "    </tr>\n",
       "    <tr>\n",
       "      <th>4</th>\n",
       "      <td>PF-SF</td>\n",
       "      <td>2</td>\n",
       "    </tr>\n",
       "    <tr>\n",
       "      <th>5</th>\n",
       "      <td>PG</td>\n",
       "      <td>72</td>\n",
       "    </tr>\n",
       "    <tr>\n",
       "      <th>6</th>\n",
       "      <td>PG-SG</td>\n",
       "      <td>1</td>\n",
       "    </tr>\n",
       "    <tr>\n",
       "      <th>7</th>\n",
       "      <td>SF</td>\n",
       "      <td>82</td>\n",
       "    </tr>\n",
       "    <tr>\n",
       "      <th>8</th>\n",
       "      <td>SF-C</td>\n",
       "      <td>1</td>\n",
       "    </tr>\n",
       "    <tr>\n",
       "      <th>9</th>\n",
       "      <td>SF-PF</td>\n",
       "      <td>3</td>\n",
       "    </tr>\n",
       "    <tr>\n",
       "      <th>10</th>\n",
       "      <td>SF-SG</td>\n",
       "      <td>2</td>\n",
       "    </tr>\n",
       "    <tr>\n",
       "      <th>11</th>\n",
       "      <td>SG</td>\n",
       "      <td>106</td>\n",
       "    </tr>\n",
       "    <tr>\n",
       "      <th>12</th>\n",
       "      <td>SG-PG</td>\n",
       "      <td>2</td>\n",
       "    </tr>\n",
       "    <tr>\n",
       "      <th>13</th>\n",
       "      <td>SG-SF</td>\n",
       "      <td>1</td>\n",
       "    </tr>\n",
       "  </tbody>\n",
       "</table>\n",
       "</div>"
      ],
      "text/plain": [
       "      pos  player\n",
       "0       C     106\n",
       "1    C-PF       1\n",
       "2      PF     101\n",
       "3    PF-C       5\n",
       "4   PF-SF       2\n",
       "5      PG      72\n",
       "6   PG-SG       1\n",
       "7      SF      82\n",
       "8    SF-C       1\n",
       "9   SF-PF       3\n",
       "10  SF-SG       2\n",
       "11     SG     106\n",
       "12  SG-PG       2\n",
       "13  SG-SF       1"
      ]
     },
     "execution_count": 40,
     "metadata": {},
     "output_type": "execute_result"
    }
   ],
   "source": [
    "position_brkdown = (df_current.groupby([\"pos\"])\n",
    "                              .agg({\"player\": pd.Series.nunique})\n",
    "                              .reset_index(drop=False))\n",
    "print(\"Positions: \")\n",
    "position_brkdown"
   ]
  },
  {
   "cell_type": "markdown",
   "metadata": {},
   "source": [
    "### Question 2c"
   ]
  },
  {
   "cell_type": "markdown",
   "metadata": {},
   "source": [
    "Get average age, weight, experience, salary"
   ]
  },
  {
   "cell_type": "code",
   "execution_count": 41,
   "metadata": {},
   "outputs": [
    {
     "name": "stdout",
     "output_type": "stream",
     "text": [
      "age           2.587973e+01\n",
      "weight        9.934574e+01\n",
      "experience    4.590200e+00\n",
      "salary        9.932486e+06\n",
      "Name: mean, dtype: float64\n"
     ]
    }
   ],
   "source": [
    "group_cols = [\"player\", \"age\", \"weight\", \"experience\"]\n",
    "df_average = df_current.groupby(group_cols).agg({\"salary\": \"sum\"})\n",
    "df_average = df_average.reset_index(drop=False)\n",
    "print(df_average.describe().loc[\"mean\"])"
   ]
  },
  {
   "cell_type": "markdown",
   "metadata": {},
   "source": [
    "### Question 2d"
   ]
  },
  {
   "cell_type": "markdown",
   "metadata": {},
   "source": [
    "Get average career salary"
   ]
  },
  {
   "cell_type": "code",
   "execution_count": 42,
   "metadata": {},
   "outputs": [
    {
     "name": "stdout",
     "output_type": "stream",
     "text": [
      "Average career salary: 37035617.27616926\n"
     ]
    }
   ],
   "source": [
    "df_average_career = (df_current.groupby([\"player\", \"total_salary\"])\n",
    "                               .agg({\"pos\": \"count\"})\n",
    "                               .reset_index(drop=False))\n",
    "\n",
    "average_career_salary = df_average_career[\"total_salary\"].mean()\n",
    "print(\"Average career salary: {}\".format(average_career_salary))"
   ]
  },
  {
   "cell_type": "markdown",
   "metadata": {},
   "source": [
    "### Question 3a"
   ]
  },
  {
   "cell_type": "markdown",
   "metadata": {},
   "source": [
    "Get number of players per season"
   ]
  },
  {
   "cell_type": "code",
   "execution_count": 43,
   "metadata": {},
   "outputs": [
    {
     "name": "stdout",
     "output_type": "stream",
     "text": [
      "Number of players per season:\n"
     ]
    },
    {
     "data": {
      "text/html": [
       "<div>\n",
       "<style scoped>\n",
       "    .dataframe tbody tr th:only-of-type {\n",
       "        vertical-align: middle;\n",
       "    }\n",
       "\n",
       "    .dataframe tbody tr th {\n",
       "        vertical-align: top;\n",
       "    }\n",
       "\n",
       "    .dataframe thead th {\n",
       "        text-align: right;\n",
       "    }\n",
       "</style>\n",
       "<table border=\"1\" class=\"dataframe\">\n",
       "  <thead>\n",
       "    <tr style=\"text-align: right;\">\n",
       "      <th></th>\n",
       "      <th>season</th>\n",
       "      <th>player</th>\n",
       "    </tr>\n",
       "  </thead>\n",
       "  <tbody>\n",
       "    <tr>\n",
       "      <th>0</th>\n",
       "      <td>2009-10</td>\n",
       "      <td>407</td>\n",
       "    </tr>\n",
       "    <tr>\n",
       "      <th>1</th>\n",
       "      <td>2010-11</td>\n",
       "      <td>445</td>\n",
       "    </tr>\n",
       "    <tr>\n",
       "      <th>2</th>\n",
       "      <td>2011-12</td>\n",
       "      <td>447</td>\n",
       "    </tr>\n",
       "    <tr>\n",
       "      <th>3</th>\n",
       "      <td>2012-13</td>\n",
       "      <td>448</td>\n",
       "    </tr>\n",
       "    <tr>\n",
       "      <th>4</th>\n",
       "      <td>2013-14</td>\n",
       "      <td>385</td>\n",
       "    </tr>\n",
       "    <tr>\n",
       "      <th>5</th>\n",
       "      <td>2014-15</td>\n",
       "      <td>476</td>\n",
       "    </tr>\n",
       "    <tr>\n",
       "      <th>6</th>\n",
       "      <td>2015-16</td>\n",
       "      <td>462</td>\n",
       "    </tr>\n",
       "    <tr>\n",
       "      <th>7</th>\n",
       "      <td>2016-17</td>\n",
       "      <td>462</td>\n",
       "    </tr>\n",
       "    <tr>\n",
       "      <th>8</th>\n",
       "      <td>2017-18</td>\n",
       "      <td>458</td>\n",
       "    </tr>\n",
       "    <tr>\n",
       "      <th>9</th>\n",
       "      <td>2018-19</td>\n",
       "      <td>452</td>\n",
       "    </tr>\n",
       "    <tr>\n",
       "      <th>10</th>\n",
       "      <td>2019-20</td>\n",
       "      <td>449</td>\n",
       "    </tr>\n",
       "  </tbody>\n",
       "</table>\n",
       "</div>"
      ],
      "text/plain": [
       "     season  player\n",
       "0   2009-10     407\n",
       "1   2010-11     445\n",
       "2   2011-12     447\n",
       "3   2012-13     448\n",
       "4   2013-14     385\n",
       "5   2014-15     476\n",
       "6   2015-16     462\n",
       "7   2016-17     462\n",
       "8   2017-18     458\n",
       "9   2018-19     452\n",
       "10  2019-20     449"
      ]
     },
     "execution_count": 43,
     "metadata": {},
     "output_type": "execute_result"
    }
   ],
   "source": [
    "season_players = (df.groupby([\"season\"])\n",
    "                    .agg({\"player\": pd.Series.nunique})\n",
    "                    .reset_index(drop=False))\n",
    "print(\"Number of players per season:\")\n",
    "season_players"
   ]
  },
  {
   "cell_type": "markdown",
   "metadata": {},
   "source": [
    "Get salary statistics per season"
   ]
  },
  {
   "cell_type": "code",
   "execution_count": 44,
   "metadata": {},
   "outputs": [
    {
     "name": "stdout",
     "output_type": "stream",
     "text": [
      "Average salary per season:\n"
     ]
    },
    {
     "data": {
      "text/html": [
       "<div>\n",
       "<style scoped>\n",
       "    .dataframe tbody tr th:only-of-type {\n",
       "        vertical-align: middle;\n",
       "    }\n",
       "\n",
       "    .dataframe tbody tr th {\n",
       "        vertical-align: top;\n",
       "    }\n",
       "\n",
       "    .dataframe thead th {\n",
       "        text-align: right;\n",
       "    }\n",
       "</style>\n",
       "<table border=\"1\" class=\"dataframe\">\n",
       "  <thead>\n",
       "    <tr style=\"text-align: right;\">\n",
       "      <th></th>\n",
       "      <th>season</th>\n",
       "      <th>mean_salary</th>\n",
       "    </tr>\n",
       "  </thead>\n",
       "  <tbody>\n",
       "    <tr>\n",
       "      <th>0</th>\n",
       "      <td>2009-10</td>\n",
       "      <td>4.323799e+06</td>\n",
       "    </tr>\n",
       "    <tr>\n",
       "      <th>1</th>\n",
       "      <td>2010-11</td>\n",
       "      <td>4.170979e+06</td>\n",
       "    </tr>\n",
       "    <tr>\n",
       "      <th>2</th>\n",
       "      <td>2011-12</td>\n",
       "      <td>4.136626e+06</td>\n",
       "    </tr>\n",
       "    <tr>\n",
       "      <th>3</th>\n",
       "      <td>2012-13</td>\n",
       "      <td>3.693633e+06</td>\n",
       "    </tr>\n",
       "    <tr>\n",
       "      <th>4</th>\n",
       "      <td>2013-14</td>\n",
       "      <td>4.717208e+06</td>\n",
       "    </tr>\n",
       "    <tr>\n",
       "      <th>5</th>\n",
       "      <td>2014-15</td>\n",
       "      <td>3.784211e+06</td>\n",
       "    </tr>\n",
       "    <tr>\n",
       "      <th>6</th>\n",
       "      <td>2015-16</td>\n",
       "      <td>4.228398e+06</td>\n",
       "    </tr>\n",
       "    <tr>\n",
       "      <th>7</th>\n",
       "      <td>2016-17</td>\n",
       "      <td>5.121904e+06</td>\n",
       "    </tr>\n",
       "    <tr>\n",
       "      <th>8</th>\n",
       "      <td>2017-18</td>\n",
       "      <td>5.820164e+06</td>\n",
       "    </tr>\n",
       "    <tr>\n",
       "      <th>9</th>\n",
       "      <td>2018-19</td>\n",
       "      <td>6.597487e+06</td>\n",
       "    </tr>\n",
       "    <tr>\n",
       "      <th>10</th>\n",
       "      <td>2019-20</td>\n",
       "      <td>7.158405e+06</td>\n",
       "    </tr>\n",
       "  </tbody>\n",
       "</table>\n",
       "</div>"
      ],
      "text/plain": [
       "     season   mean_salary\n",
       "0   2009-10  4.323799e+06\n",
       "1   2010-11  4.170979e+06\n",
       "2   2011-12  4.136626e+06\n",
       "3   2012-13  3.693633e+06\n",
       "4   2013-14  4.717208e+06\n",
       "5   2014-15  3.784211e+06\n",
       "6   2015-16  4.228398e+06\n",
       "7   2016-17  5.121904e+06\n",
       "8   2017-18  5.820164e+06\n",
       "9   2018-19  6.597487e+06\n",
       "10  2019-20  7.158405e+06"
      ]
     },
     "execution_count": 44,
     "metadata": {},
     "output_type": "execute_result"
    }
   ],
   "source": [
    "season_salary = (df.groupby([\"season\"])\n",
    "                   .agg({\"salary\": [\"mean\", \"var\"]})\n",
    "                   .reset_index(drop=False))\n",
    "season_salary.columns = [\"season\", \"mean_salary\", \"var_salary\"]\n",
    "print(\"Average salary per season:\")\n",
    "season_salary.loc[:, [\"season\", \"mean_salary\"]]"
   ]
  },
  {
   "cell_type": "code",
   "execution_count": 45,
   "metadata": {},
   "outputs": [
    {
     "name": "stdout",
     "output_type": "stream",
     "text": [
      "Variance of salary per season:\n"
     ]
    },
    {
     "data": {
      "text/html": [
       "<div>\n",
       "<style scoped>\n",
       "    .dataframe tbody tr th:only-of-type {\n",
       "        vertical-align: middle;\n",
       "    }\n",
       "\n",
       "    .dataframe tbody tr th {\n",
       "        vertical-align: top;\n",
       "    }\n",
       "\n",
       "    .dataframe thead th {\n",
       "        text-align: right;\n",
       "    }\n",
       "</style>\n",
       "<table border=\"1\" class=\"dataframe\">\n",
       "  <thead>\n",
       "    <tr style=\"text-align: right;\">\n",
       "      <th></th>\n",
       "      <th>season</th>\n",
       "      <th>var_salary</th>\n",
       "    </tr>\n",
       "  </thead>\n",
       "  <tbody>\n",
       "    <tr>\n",
       "      <th>0</th>\n",
       "      <td>2009-10</td>\n",
       "      <td>2.106021e+13</td>\n",
       "    </tr>\n",
       "    <tr>\n",
       "      <th>1</th>\n",
       "      <td>2010-11</td>\n",
       "      <td>2.161851e+13</td>\n",
       "    </tr>\n",
       "    <tr>\n",
       "      <th>2</th>\n",
       "      <td>2011-12</td>\n",
       "      <td>2.007865e+13</td>\n",
       "    </tr>\n",
       "    <tr>\n",
       "      <th>3</th>\n",
       "      <td>2012-13</td>\n",
       "      <td>1.863874e+13</td>\n",
       "    </tr>\n",
       "    <tr>\n",
       "      <th>4</th>\n",
       "      <td>2013-14</td>\n",
       "      <td>2.191713e+13</td>\n",
       "    </tr>\n",
       "    <tr>\n",
       "      <th>5</th>\n",
       "      <td>2014-15</td>\n",
       "      <td>2.042731e+13</td>\n",
       "    </tr>\n",
       "    <tr>\n",
       "      <th>6</th>\n",
       "      <td>2015-16</td>\n",
       "      <td>2.582322e+13</td>\n",
       "    </tr>\n",
       "    <tr>\n",
       "      <th>7</th>\n",
       "      <td>2016-17</td>\n",
       "      <td>3.531411e+13</td>\n",
       "    </tr>\n",
       "    <tr>\n",
       "      <th>8</th>\n",
       "      <td>2017-18</td>\n",
       "      <td>4.907655e+13</td>\n",
       "    </tr>\n",
       "    <tr>\n",
       "      <th>9</th>\n",
       "      <td>2018-19</td>\n",
       "      <td>5.820693e+13</td>\n",
       "    </tr>\n",
       "    <tr>\n",
       "      <th>10</th>\n",
       "      <td>2019-20</td>\n",
       "      <td>7.213759e+13</td>\n",
       "    </tr>\n",
       "  </tbody>\n",
       "</table>\n",
       "</div>"
      ],
      "text/plain": [
       "     season    var_salary\n",
       "0   2009-10  2.106021e+13\n",
       "1   2010-11  2.161851e+13\n",
       "2   2011-12  2.007865e+13\n",
       "3   2012-13  1.863874e+13\n",
       "4   2013-14  2.191713e+13\n",
       "5   2014-15  2.042731e+13\n",
       "6   2015-16  2.582322e+13\n",
       "7   2016-17  3.531411e+13\n",
       "8   2017-18  4.907655e+13\n",
       "9   2018-19  5.820693e+13\n",
       "10  2019-20  7.213759e+13"
      ]
     },
     "execution_count": 45,
     "metadata": {},
     "output_type": "execute_result"
    }
   ],
   "source": [
    "print(\"Variance of salary per season:\")\n",
    "season_salary.loc[:, [\"season\", \"var_salary\"]]"
   ]
  },
  {
   "cell_type": "markdown",
   "metadata": {},
   "source": [
    "### Question 3b"
   ]
  },
  {
   "cell_type": "markdown",
   "metadata": {},
   "source": [
    "Get total salary per player for current season"
   ]
  },
  {
   "cell_type": "code",
   "execution_count": 46,
   "metadata": {},
   "outputs": [],
   "source": [
    "df_current_salary = (df_current.groupby([\"player\"])\n",
    "                               .agg({\"salary\": \"sum\"})\n",
    "                               .reset_index(drop=False))"
   ]
  },
  {
   "cell_type": "markdown",
   "metadata": {},
   "source": [
    "Get top 10% salary"
   ]
  },
  {
   "cell_type": "code",
   "execution_count": 47,
   "metadata": {},
   "outputs": [
    {
     "name": "stdout",
     "output_type": "stream",
     "text": [
      "Top 10 percent players: ['Andrew Wiggins', \"D'Angelo Russell\", 'Andre Drummond', 'Tyler Johnson', 'Kent Bazemore', 'Jeff Teague', 'Reggie Jackson', 'Allen Crabbe', 'Gorgui Dieng', 'Brandon Knight', 'James Johnson', 'Marvin Williams', 'Marcus Morris', 'Jordan Clarkson', 'Stephen Curry', 'Dewayne Dedmon', 'Michael Kidd-Gilchrist', 'Chris Paul', 'Russell Westbrook', 'Solomon Hill', 'James Harden', 'Dion Waiters', 'LeBron James', 'Trevor Ariza', 'Maurice Harkless', 'Blake Griffin', 'Robert Covington', 'Kyle Lowry', 'Paul George', 'Jimmy Butler', 'Kemba Walker', 'Tobias Harris', 'Kawhi Leonard', 'Gordon Hayward', 'Mike Conley', 'Kyrie Irving', 'Khris Middleton', 'Paul Millsap', 'Damian Lillard', 'John Henson', 'Kevin Love', 'Dante Exum', 'Nikola Vučević', 'Al Horford', 'DeMar DeRozan']\n"
     ]
    }
   ],
   "source": [
    "ten_pct = int(0.1 * df_current_salary.shape[0])\n",
    "df_current_salary = (df_current_salary.sort_values(by=[\"salary\"],\n",
    "                                                   ascending=False)\n",
    "                                      .reset_index(drop=True))\n",
    "top_10pct = df_current_salary.loc[:ten_pct, \"player\"]\n",
    "print(\"Top 10 percent players: {}\".format(top_10pct.to_list()))"
   ]
  },
  {
   "cell_type": "markdown",
   "metadata": {},
   "source": [
    "Get teams of top 10% salary"
   ]
  },
  {
   "cell_type": "code",
   "execution_count": 48,
   "metadata": {},
   "outputs": [
    {
     "name": "stdout",
     "output_type": "stream",
     "text": [
      "Teams the top 10 percent plays for:\n"
     ]
    },
    {
     "data": {
      "text/html": [
       "<div>\n",
       "<style scoped>\n",
       "    .dataframe tbody tr th:only-of-type {\n",
       "        vertical-align: middle;\n",
       "    }\n",
       "\n",
       "    .dataframe tbody tr th {\n",
       "        vertical-align: top;\n",
       "    }\n",
       "\n",
       "    .dataframe thead th {\n",
       "        text-align: right;\n",
       "    }\n",
       "</style>\n",
       "<table border=\"1\" class=\"dataframe\">\n",
       "  <thead>\n",
       "    <tr style=\"text-align: right;\">\n",
       "      <th></th>\n",
       "      <th>player</th>\n",
       "      <th>team_name</th>\n",
       "    </tr>\n",
       "  </thead>\n",
       "  <tbody>\n",
       "    <tr>\n",
       "      <th>0</th>\n",
       "      <td>Al Horford</td>\n",
       "      <td>[Philadelphia 76ers]</td>\n",
       "    </tr>\n",
       "    <tr>\n",
       "      <th>1</th>\n",
       "      <td>Allen Crabbe</td>\n",
       "      <td>[Minnesota Timberwolves]</td>\n",
       "    </tr>\n",
       "    <tr>\n",
       "      <th>2</th>\n",
       "      <td>Andre Drummond</td>\n",
       "      <td>[Cleveland Cavaliers]</td>\n",
       "    </tr>\n",
       "    <tr>\n",
       "      <th>3</th>\n",
       "      <td>Andrew Wiggins</td>\n",
       "      <td>[Golden State Warriors]</td>\n",
       "    </tr>\n",
       "    <tr>\n",
       "      <th>4</th>\n",
       "      <td>Blake Griffin</td>\n",
       "      <td>[Detroit Pistons]</td>\n",
       "    </tr>\n",
       "    <tr>\n",
       "      <th>5</th>\n",
       "      <td>Brandon Knight</td>\n",
       "      <td>[Detroit Pistons]</td>\n",
       "    </tr>\n",
       "    <tr>\n",
       "      <th>6</th>\n",
       "      <td>Chris Paul</td>\n",
       "      <td>[Oklahoma City Thunder]</td>\n",
       "    </tr>\n",
       "    <tr>\n",
       "      <th>7</th>\n",
       "      <td>D'Angelo Russell</td>\n",
       "      <td>[Minnesota Timberwolves]</td>\n",
       "    </tr>\n",
       "    <tr>\n",
       "      <th>8</th>\n",
       "      <td>Damian Lillard</td>\n",
       "      <td>[Portland Trail Blazers]</td>\n",
       "    </tr>\n",
       "    <tr>\n",
       "      <th>9</th>\n",
       "      <td>Dante Exum</td>\n",
       "      <td>[Cleveland Cavaliers]</td>\n",
       "    </tr>\n",
       "    <tr>\n",
       "      <th>10</th>\n",
       "      <td>DeMar DeRozan</td>\n",
       "      <td>[San Antonio Spurs]</td>\n",
       "    </tr>\n",
       "    <tr>\n",
       "      <th>11</th>\n",
       "      <td>Dewayne Dedmon</td>\n",
       "      <td>[Atlanta Hawks]</td>\n",
       "    </tr>\n",
       "    <tr>\n",
       "      <th>12</th>\n",
       "      <td>Dion Waiters</td>\n",
       "      <td>[Memphis Grizzlies, Los Angeles Lakers]</td>\n",
       "    </tr>\n",
       "    <tr>\n",
       "      <th>13</th>\n",
       "      <td>Gordon Hayward</td>\n",
       "      <td>[Boston Celtics]</td>\n",
       "    </tr>\n",
       "    <tr>\n",
       "      <th>14</th>\n",
       "      <td>Gorgui Dieng</td>\n",
       "      <td>[Memphis Grizzlies]</td>\n",
       "    </tr>\n",
       "    <tr>\n",
       "      <th>15</th>\n",
       "      <td>James Harden</td>\n",
       "      <td>[Houston Rockets]</td>\n",
       "    </tr>\n",
       "    <tr>\n",
       "      <th>16</th>\n",
       "      <td>James Johnson</td>\n",
       "      <td>[Minnesota Timberwolves]</td>\n",
       "    </tr>\n",
       "    <tr>\n",
       "      <th>17</th>\n",
       "      <td>Jeff Teague</td>\n",
       "      <td>[Atlanta Hawks]</td>\n",
       "    </tr>\n",
       "    <tr>\n",
       "      <th>18</th>\n",
       "      <td>Jimmy Butler</td>\n",
       "      <td>[Miami Heat]</td>\n",
       "    </tr>\n",
       "    <tr>\n",
       "      <th>19</th>\n",
       "      <td>John Henson</td>\n",
       "      <td>[Detroit Pistons]</td>\n",
       "    </tr>\n",
       "    <tr>\n",
       "      <th>20</th>\n",
       "      <td>Jordan Clarkson</td>\n",
       "      <td>[Utah Jazz]</td>\n",
       "    </tr>\n",
       "    <tr>\n",
       "      <th>21</th>\n",
       "      <td>Kawhi Leonard</td>\n",
       "      <td>[Los Angeles Clippers]</td>\n",
       "    </tr>\n",
       "    <tr>\n",
       "      <th>22</th>\n",
       "      <td>Kemba Walker</td>\n",
       "      <td>[Boston Celtics]</td>\n",
       "    </tr>\n",
       "    <tr>\n",
       "      <th>23</th>\n",
       "      <td>Kent Bazemore</td>\n",
       "      <td>[Sacramento Kings]</td>\n",
       "    </tr>\n",
       "    <tr>\n",
       "      <th>24</th>\n",
       "      <td>Kevin Love</td>\n",
       "      <td>[Cleveland Cavaliers]</td>\n",
       "    </tr>\n",
       "    <tr>\n",
       "      <th>25</th>\n",
       "      <td>Khris Middleton</td>\n",
       "      <td>[Milwaukee Bucks]</td>\n",
       "    </tr>\n",
       "    <tr>\n",
       "      <th>26</th>\n",
       "      <td>Kyle Lowry</td>\n",
       "      <td>[Toronto Raptors]</td>\n",
       "    </tr>\n",
       "    <tr>\n",
       "      <th>27</th>\n",
       "      <td>Kyrie Irving</td>\n",
       "      <td>[Brooklyn Nets]</td>\n",
       "    </tr>\n",
       "    <tr>\n",
       "      <th>28</th>\n",
       "      <td>LeBron James</td>\n",
       "      <td>[Los Angeles Lakers]</td>\n",
       "    </tr>\n",
       "    <tr>\n",
       "      <th>29</th>\n",
       "      <td>Marcus Morris</td>\n",
       "      <td>[Los Angeles Clippers]</td>\n",
       "    </tr>\n",
       "    <tr>\n",
       "      <th>30</th>\n",
       "      <td>Marvin Williams</td>\n",
       "      <td>[Milwaukee Bucks, Charlotte Hornets]</td>\n",
       "    </tr>\n",
       "    <tr>\n",
       "      <th>31</th>\n",
       "      <td>Maurice Harkless</td>\n",
       "      <td>[New York Knicks]</td>\n",
       "    </tr>\n",
       "    <tr>\n",
       "      <th>32</th>\n",
       "      <td>Michael Kidd-Gilchrist</td>\n",
       "      <td>[Charlotte Hornets, Dallas Mavericks]</td>\n",
       "    </tr>\n",
       "    <tr>\n",
       "      <th>33</th>\n",
       "      <td>Mike Conley</td>\n",
       "      <td>[Utah Jazz]</td>\n",
       "    </tr>\n",
       "    <tr>\n",
       "      <th>34</th>\n",
       "      <td>Nikola Vučević</td>\n",
       "      <td>[Orlando Magic]</td>\n",
       "    </tr>\n",
       "    <tr>\n",
       "      <th>35</th>\n",
       "      <td>Paul George</td>\n",
       "      <td>[Los Angeles Clippers]</td>\n",
       "    </tr>\n",
       "    <tr>\n",
       "      <th>36</th>\n",
       "      <td>Paul Millsap</td>\n",
       "      <td>[Denver Nuggets]</td>\n",
       "    </tr>\n",
       "    <tr>\n",
       "      <th>37</th>\n",
       "      <td>Reggie Jackson</td>\n",
       "      <td>[Los Angeles Clippers, Detroit Pistons]</td>\n",
       "    </tr>\n",
       "    <tr>\n",
       "      <th>38</th>\n",
       "      <td>Robert Covington</td>\n",
       "      <td>[Houston Rockets]</td>\n",
       "    </tr>\n",
       "    <tr>\n",
       "      <th>39</th>\n",
       "      <td>Russell Westbrook</td>\n",
       "      <td>[Houston Rockets]</td>\n",
       "    </tr>\n",
       "    <tr>\n",
       "      <th>40</th>\n",
       "      <td>Solomon Hill</td>\n",
       "      <td>[Miami Heat]</td>\n",
       "    </tr>\n",
       "    <tr>\n",
       "      <th>41</th>\n",
       "      <td>Stephen Curry</td>\n",
       "      <td>[Golden State Warriors]</td>\n",
       "    </tr>\n",
       "    <tr>\n",
       "      <th>42</th>\n",
       "      <td>Tobias Harris</td>\n",
       "      <td>[Philadelphia 76ers]</td>\n",
       "    </tr>\n",
       "    <tr>\n",
       "      <th>43</th>\n",
       "      <td>Trevor Ariza</td>\n",
       "      <td>[Portland Trail Blazers]</td>\n",
       "    </tr>\n",
       "    <tr>\n",
       "      <th>44</th>\n",
       "      <td>Tyler Johnson</td>\n",
       "      <td>[Brooklyn Nets, Phoenix Suns]</td>\n",
       "    </tr>\n",
       "  </tbody>\n",
       "</table>\n",
       "</div>"
      ],
      "text/plain": [
       "                    player                                team_name\n",
       "0               Al Horford                     [Philadelphia 76ers]\n",
       "1             Allen Crabbe                 [Minnesota Timberwolves]\n",
       "2           Andre Drummond                    [Cleveland Cavaliers]\n",
       "3           Andrew Wiggins                  [Golden State Warriors]\n",
       "4            Blake Griffin                        [Detroit Pistons]\n",
       "5           Brandon Knight                        [Detroit Pistons]\n",
       "6               Chris Paul                  [Oklahoma City Thunder]\n",
       "7         D'Angelo Russell                 [Minnesota Timberwolves]\n",
       "8           Damian Lillard                 [Portland Trail Blazers]\n",
       "9               Dante Exum                    [Cleveland Cavaliers]\n",
       "10           DeMar DeRozan                      [San Antonio Spurs]\n",
       "11          Dewayne Dedmon                          [Atlanta Hawks]\n",
       "12            Dion Waiters  [Memphis Grizzlies, Los Angeles Lakers]\n",
       "13          Gordon Hayward                         [Boston Celtics]\n",
       "14            Gorgui Dieng                      [Memphis Grizzlies]\n",
       "15            James Harden                        [Houston Rockets]\n",
       "16           James Johnson                 [Minnesota Timberwolves]\n",
       "17             Jeff Teague                          [Atlanta Hawks]\n",
       "18            Jimmy Butler                             [Miami Heat]\n",
       "19             John Henson                        [Detroit Pistons]\n",
       "20         Jordan Clarkson                              [Utah Jazz]\n",
       "21           Kawhi Leonard                   [Los Angeles Clippers]\n",
       "22            Kemba Walker                         [Boston Celtics]\n",
       "23           Kent Bazemore                       [Sacramento Kings]\n",
       "24              Kevin Love                    [Cleveland Cavaliers]\n",
       "25         Khris Middleton                        [Milwaukee Bucks]\n",
       "26              Kyle Lowry                        [Toronto Raptors]\n",
       "27            Kyrie Irving                          [Brooklyn Nets]\n",
       "28            LeBron James                     [Los Angeles Lakers]\n",
       "29           Marcus Morris                   [Los Angeles Clippers]\n",
       "30         Marvin Williams     [Milwaukee Bucks, Charlotte Hornets]\n",
       "31        Maurice Harkless                        [New York Knicks]\n",
       "32  Michael Kidd-Gilchrist    [Charlotte Hornets, Dallas Mavericks]\n",
       "33             Mike Conley                              [Utah Jazz]\n",
       "34          Nikola Vučević                          [Orlando Magic]\n",
       "35             Paul George                   [Los Angeles Clippers]\n",
       "36            Paul Millsap                         [Denver Nuggets]\n",
       "37          Reggie Jackson  [Los Angeles Clippers, Detroit Pistons]\n",
       "38        Robert Covington                        [Houston Rockets]\n",
       "39       Russell Westbrook                        [Houston Rockets]\n",
       "40            Solomon Hill                             [Miami Heat]\n",
       "41           Stephen Curry                  [Golden State Warriors]\n",
       "42           Tobias Harris                     [Philadelphia 76ers]\n",
       "43            Trevor Ariza                 [Portland Trail Blazers]\n",
       "44           Tyler Johnson            [Brooklyn Nets, Phoenix Suns]"
      ]
     },
     "execution_count": 48,
     "metadata": {},
     "output_type": "execute_result"
    }
   ],
   "source": [
    "df_teams_top_10pct = df_current.merge(top_10pct.to_frame(),\n",
    "                                      how=\"inner\",\n",
    "                                      on=[\"player\"])\n",
    "df_teams_top_10pct = df_teams_top_10pct.loc[:, [\"player\", \"team_name\"]]\n",
    "df_teams_top_10pct = df_teams_top_10pct.drop_duplicates(keep=\"first\")\n",
    "df_teams_top_10pct = (df_teams_top_10pct.groupby([\"player\"])\n",
    "                                        .agg({\"team_name\": list})\n",
    "                                        .reset_index(drop=False))\n",
    "print(\"Teams the top 10 percent plays for:\")\n",
    "df_teams_top_10pct"
   ]
  },
  {
   "cell_type": "markdown",
   "metadata": {},
   "source": [
    "### Question 3c"
   ]
  },
  {
   "cell_type": "markdown",
   "metadata": {},
   "source": [
    "Get bottom 10% salary"
   ]
  },
  {
   "cell_type": "code",
   "execution_count": 49,
   "metadata": {},
   "outputs": [
    {
     "name": "stdout",
     "output_type": "stream",
     "text": [
      "Bottom 10 percent players: ['Eric Mika', 'Marques Bolden', 'Malik Newman', 'Dusty Hannahs', 'Chasson Randle', 'Jeremy Pargo', 'Zach Norvell', 'Luguentz Dort', 'Sindarius Thornwell', 'Jerian Grant', 'Mychal Mulder', 'Tyler Zeller', 'Stanton Kidd', 'Lance Thomas', 'Luc Mbah a Moute', 'Corey Brewer', 'Jamal Crawford', 'Justin Anderson', 'Cameron Payne', 'Juan Toscano-Anderson', 'Norvel Pelle', 'Ky Bowman', 'Dean Wade', 'Justin Robinson', 'Iman Shumpert', 'Chris Silva', 'Anžejs Pasečņiks', 'Chris Clemons', 'Rayjon Tucker', 'Donta Hall', 'Jarrod Uthoff', 'Juwan Morgan', 'Timothé Luwawu-Cabarrot', 'Ignas Brazdeikis', 'Nicolas Claxton', 'Naz Reid', 'KZ Okpala', 'Dewan Hernandez', 'Jalen McDaniels', 'Daniel Gafford', 'Terence Davis', 'Vlatko Čančar', 'Talen Horton-Tucker', 'Eric Paschall', 'Caleb Martin']\n"
     ]
    }
   ],
   "source": [
    "df_current_salary = (df_current_salary.sort_values(by=[\"salary\"],\n",
    "                                                   ascending=True)\n",
    "                                      .reset_index(drop=True))\n",
    "btm_10pct = df_current_salary.loc[:ten_pct, \"player\"]\n",
    "print(\"Bottom 10 percent players: {}\".format(btm_10pct.to_list()))"
   ]
  },
  {
   "cell_type": "markdown",
   "metadata": {},
   "source": [
    "Get teams of bottom 10% salary"
   ]
  },
  {
   "cell_type": "code",
   "execution_count": 50,
   "metadata": {},
   "outputs": [
    {
     "name": "stdout",
     "output_type": "stream",
     "text": [
      "Teams the bottom 10 percent plays for:\n"
     ]
    },
    {
     "data": {
      "text/html": [
       "<div>\n",
       "<style scoped>\n",
       "    .dataframe tbody tr th:only-of-type {\n",
       "        vertical-align: middle;\n",
       "    }\n",
       "\n",
       "    .dataframe tbody tr th {\n",
       "        vertical-align: top;\n",
       "    }\n",
       "\n",
       "    .dataframe thead th {\n",
       "        text-align: right;\n",
       "    }\n",
       "</style>\n",
       "<table border=\"1\" class=\"dataframe\">\n",
       "  <thead>\n",
       "    <tr style=\"text-align: right;\">\n",
       "      <th></th>\n",
       "      <th>player</th>\n",
       "      <th>team_name</th>\n",
       "    </tr>\n",
       "  </thead>\n",
       "  <tbody>\n",
       "    <tr>\n",
       "      <th>0</th>\n",
       "      <td>Anžejs Pasečņiks</td>\n",
       "      <td>[Washington Wizards]</td>\n",
       "    </tr>\n",
       "    <tr>\n",
       "      <th>1</th>\n",
       "      <td>Caleb Martin</td>\n",
       "      <td>[Charlotte Hornets]</td>\n",
       "    </tr>\n",
       "    <tr>\n",
       "      <th>2</th>\n",
       "      <td>Cameron Payne</td>\n",
       "      <td>[Toronto Raptors, Phoenix Suns]</td>\n",
       "    </tr>\n",
       "    <tr>\n",
       "      <th>3</th>\n",
       "      <td>Chasson Randle</td>\n",
       "      <td>[Golden State Warriors]</td>\n",
       "    </tr>\n",
       "    <tr>\n",
       "      <th>4</th>\n",
       "      <td>Chris Clemons</td>\n",
       "      <td>[Houston Rockets]</td>\n",
       "    </tr>\n",
       "    <tr>\n",
       "      <th>5</th>\n",
       "      <td>Chris Silva</td>\n",
       "      <td>[Miami Heat]</td>\n",
       "    </tr>\n",
       "    <tr>\n",
       "      <th>6</th>\n",
       "      <td>Corey Brewer</td>\n",
       "      <td>[Sacramento Kings]</td>\n",
       "    </tr>\n",
       "    <tr>\n",
       "      <th>7</th>\n",
       "      <td>Daniel Gafford</td>\n",
       "      <td>[Chicago Bulls]</td>\n",
       "    </tr>\n",
       "    <tr>\n",
       "      <th>8</th>\n",
       "      <td>Dean Wade</td>\n",
       "      <td>[Cleveland Cavaliers]</td>\n",
       "    </tr>\n",
       "    <tr>\n",
       "      <th>9</th>\n",
       "      <td>Dewan Hernandez</td>\n",
       "      <td>[Toronto Raptors]</td>\n",
       "    </tr>\n",
       "    <tr>\n",
       "      <th>10</th>\n",
       "      <td>Donta Hall</td>\n",
       "      <td>[Brooklyn Nets, Detroit Pistons]</td>\n",
       "    </tr>\n",
       "    <tr>\n",
       "      <th>11</th>\n",
       "      <td>Dusty Hannahs</td>\n",
       "      <td>[Memphis Grizzlies]</td>\n",
       "    </tr>\n",
       "    <tr>\n",
       "      <th>12</th>\n",
       "      <td>Eric Mika</td>\n",
       "      <td>[Sacramento Kings]</td>\n",
       "    </tr>\n",
       "    <tr>\n",
       "      <th>13</th>\n",
       "      <td>Eric Paschall</td>\n",
       "      <td>[Golden State Warriors]</td>\n",
       "    </tr>\n",
       "    <tr>\n",
       "      <th>14</th>\n",
       "      <td>Ignas Brazdeikis</td>\n",
       "      <td>[New York Knicks]</td>\n",
       "    </tr>\n",
       "    <tr>\n",
       "      <th>15</th>\n",
       "      <td>Iman Shumpert</td>\n",
       "      <td>[Brooklyn Nets]</td>\n",
       "    </tr>\n",
       "    <tr>\n",
       "      <th>16</th>\n",
       "      <td>Jalen McDaniels</td>\n",
       "      <td>[Charlotte Hornets]</td>\n",
       "    </tr>\n",
       "    <tr>\n",
       "      <th>17</th>\n",
       "      <td>Jamal Crawford</td>\n",
       "      <td>[Brooklyn Nets]</td>\n",
       "    </tr>\n",
       "    <tr>\n",
       "      <th>18</th>\n",
       "      <td>Jarrod Uthoff</td>\n",
       "      <td>[Memphis Grizzlies, Washington Wizards]</td>\n",
       "    </tr>\n",
       "    <tr>\n",
       "      <th>19</th>\n",
       "      <td>Jeremy Pargo</td>\n",
       "      <td>[Golden State Warriors]</td>\n",
       "    </tr>\n",
       "    <tr>\n",
       "      <th>20</th>\n",
       "      <td>Jerian Grant</td>\n",
       "      <td>[Washington Wizards]</td>\n",
       "    </tr>\n",
       "    <tr>\n",
       "      <th>21</th>\n",
       "      <td>Juan Toscano-Anderson</td>\n",
       "      <td>[Golden State Warriors]</td>\n",
       "    </tr>\n",
       "    <tr>\n",
       "      <th>22</th>\n",
       "      <td>Justin Anderson</td>\n",
       "      <td>[Brooklyn Nets]</td>\n",
       "    </tr>\n",
       "    <tr>\n",
       "      <th>23</th>\n",
       "      <td>Justin Robinson</td>\n",
       "      <td>[Washington Wizards]</td>\n",
       "    </tr>\n",
       "    <tr>\n",
       "      <th>24</th>\n",
       "      <td>Juwan Morgan</td>\n",
       "      <td>[Utah Jazz]</td>\n",
       "    </tr>\n",
       "    <tr>\n",
       "      <th>25</th>\n",
       "      <td>KZ Okpala</td>\n",
       "      <td>[Miami Heat]</td>\n",
       "    </tr>\n",
       "    <tr>\n",
       "      <th>26</th>\n",
       "      <td>Ky Bowman</td>\n",
       "      <td>[Golden State Warriors]</td>\n",
       "    </tr>\n",
       "    <tr>\n",
       "      <th>27</th>\n",
       "      <td>Lance Thomas</td>\n",
       "      <td>[Brooklyn Nets]</td>\n",
       "    </tr>\n",
       "    <tr>\n",
       "      <th>28</th>\n",
       "      <td>Luc Mbah a Moute</td>\n",
       "      <td>[Houston Rockets]</td>\n",
       "    </tr>\n",
       "    <tr>\n",
       "      <th>29</th>\n",
       "      <td>Luguentz Dort</td>\n",
       "      <td>[Oklahoma City Thunder]</td>\n",
       "    </tr>\n",
       "    <tr>\n",
       "      <th>30</th>\n",
       "      <td>Malik Newman</td>\n",
       "      <td>[Cleveland Cavaliers]</td>\n",
       "    </tr>\n",
       "    <tr>\n",
       "      <th>31</th>\n",
       "      <td>Marques Bolden</td>\n",
       "      <td>[Cleveland Cavaliers]</td>\n",
       "    </tr>\n",
       "    <tr>\n",
       "      <th>32</th>\n",
       "      <td>Mychal Mulder</td>\n",
       "      <td>[Golden State Warriors]</td>\n",
       "    </tr>\n",
       "    <tr>\n",
       "      <th>33</th>\n",
       "      <td>Naz Reid</td>\n",
       "      <td>[Minnesota Timberwolves]</td>\n",
       "    </tr>\n",
       "    <tr>\n",
       "      <th>34</th>\n",
       "      <td>Nicolas Claxton</td>\n",
       "      <td>[Brooklyn Nets]</td>\n",
       "    </tr>\n",
       "    <tr>\n",
       "      <th>35</th>\n",
       "      <td>Norvel Pelle</td>\n",
       "      <td>[Philadelphia 76ers]</td>\n",
       "    </tr>\n",
       "    <tr>\n",
       "      <th>36</th>\n",
       "      <td>Rayjon Tucker</td>\n",
       "      <td>[Utah Jazz]</td>\n",
       "    </tr>\n",
       "    <tr>\n",
       "      <th>37</th>\n",
       "      <td>Sindarius Thornwell</td>\n",
       "      <td>[New Orleans Pelicans]</td>\n",
       "    </tr>\n",
       "    <tr>\n",
       "      <th>38</th>\n",
       "      <td>Stanton Kidd</td>\n",
       "      <td>[Utah Jazz]</td>\n",
       "    </tr>\n",
       "    <tr>\n",
       "      <th>39</th>\n",
       "      <td>Talen Horton-Tucker</td>\n",
       "      <td>[Los Angeles Lakers]</td>\n",
       "    </tr>\n",
       "    <tr>\n",
       "      <th>40</th>\n",
       "      <td>Terence Davis</td>\n",
       "      <td>[Toronto Raptors]</td>\n",
       "    </tr>\n",
       "    <tr>\n",
       "      <th>41</th>\n",
       "      <td>Timothé Luwawu-Cabarrot</td>\n",
       "      <td>[Brooklyn Nets]</td>\n",
       "    </tr>\n",
       "    <tr>\n",
       "      <th>42</th>\n",
       "      <td>Tyler Zeller</td>\n",
       "      <td>[San Antonio Spurs]</td>\n",
       "    </tr>\n",
       "    <tr>\n",
       "      <th>43</th>\n",
       "      <td>Vlatko Čančar</td>\n",
       "      <td>[Denver Nuggets]</td>\n",
       "    </tr>\n",
       "    <tr>\n",
       "      <th>44</th>\n",
       "      <td>Zach Norvell</td>\n",
       "      <td>[Golden State Warriors]</td>\n",
       "    </tr>\n",
       "  </tbody>\n",
       "</table>\n",
       "</div>"
      ],
      "text/plain": [
       "                     player                                team_name\n",
       "0          Anžejs Pasečņiks                     [Washington Wizards]\n",
       "1              Caleb Martin                      [Charlotte Hornets]\n",
       "2             Cameron Payne          [Toronto Raptors, Phoenix Suns]\n",
       "3            Chasson Randle                  [Golden State Warriors]\n",
       "4             Chris Clemons                        [Houston Rockets]\n",
       "5               Chris Silva                             [Miami Heat]\n",
       "6              Corey Brewer                       [Sacramento Kings]\n",
       "7            Daniel Gafford                          [Chicago Bulls]\n",
       "8                 Dean Wade                    [Cleveland Cavaliers]\n",
       "9           Dewan Hernandez                        [Toronto Raptors]\n",
       "10               Donta Hall         [Brooklyn Nets, Detroit Pistons]\n",
       "11            Dusty Hannahs                      [Memphis Grizzlies]\n",
       "12                Eric Mika                       [Sacramento Kings]\n",
       "13            Eric Paschall                  [Golden State Warriors]\n",
       "14         Ignas Brazdeikis                        [New York Knicks]\n",
       "15            Iman Shumpert                          [Brooklyn Nets]\n",
       "16          Jalen McDaniels                      [Charlotte Hornets]\n",
       "17           Jamal Crawford                          [Brooklyn Nets]\n",
       "18            Jarrod Uthoff  [Memphis Grizzlies, Washington Wizards]\n",
       "19             Jeremy Pargo                  [Golden State Warriors]\n",
       "20             Jerian Grant                     [Washington Wizards]\n",
       "21    Juan Toscano-Anderson                  [Golden State Warriors]\n",
       "22          Justin Anderson                          [Brooklyn Nets]\n",
       "23          Justin Robinson                     [Washington Wizards]\n",
       "24             Juwan Morgan                              [Utah Jazz]\n",
       "25                KZ Okpala                             [Miami Heat]\n",
       "26                Ky Bowman                  [Golden State Warriors]\n",
       "27             Lance Thomas                          [Brooklyn Nets]\n",
       "28         Luc Mbah a Moute                        [Houston Rockets]\n",
       "29            Luguentz Dort                  [Oklahoma City Thunder]\n",
       "30             Malik Newman                    [Cleveland Cavaliers]\n",
       "31           Marques Bolden                    [Cleveland Cavaliers]\n",
       "32            Mychal Mulder                  [Golden State Warriors]\n",
       "33                 Naz Reid                 [Minnesota Timberwolves]\n",
       "34          Nicolas Claxton                          [Brooklyn Nets]\n",
       "35             Norvel Pelle                     [Philadelphia 76ers]\n",
       "36            Rayjon Tucker                              [Utah Jazz]\n",
       "37      Sindarius Thornwell                   [New Orleans Pelicans]\n",
       "38             Stanton Kidd                              [Utah Jazz]\n",
       "39      Talen Horton-Tucker                     [Los Angeles Lakers]\n",
       "40            Terence Davis                        [Toronto Raptors]\n",
       "41  Timothé Luwawu-Cabarrot                          [Brooklyn Nets]\n",
       "42             Tyler Zeller                      [San Antonio Spurs]\n",
       "43            Vlatko Čančar                         [Denver Nuggets]\n",
       "44             Zach Norvell                  [Golden State Warriors]"
      ]
     },
     "execution_count": 50,
     "metadata": {},
     "output_type": "execute_result"
    }
   ],
   "source": [
    "df_teams_btm_10pct = df_current.merge(btm_10pct.to_frame(),\n",
    "                                      how=\"inner\",\n",
    "                                      on=[\"player\"])\n",
    "df_teams_btm_10pct = df_teams_btm_10pct.loc[:, [\"player\", \"team_name\"]]\n",
    "df_teams_btm_10pct = df_teams_btm_10pct.drop_duplicates(keep=\"first\")\n",
    "df_teams_btm_10pct = (df_teams_btm_10pct.groupby([\"player\"])\n",
    "                                        .agg({\"team_name\": list})\n",
    "                                        .reset_index(drop=False))\n",
    "print(\"Teams the bottom 10 percent plays for:\")\n",
    "df_teams_btm_10pct"
   ]
  },
  {
   "cell_type": "markdown",
   "metadata": {},
   "source": [
    "### Question 3d"
   ]
  },
  {
   "cell_type": "markdown",
   "metadata": {},
   "source": [
    "Get middle 50% by salary"
   ]
  },
  {
   "cell_type": "code",
   "execution_count": 51,
   "metadata": {},
   "outputs": [
    {
     "name": "stdout",
     "output_type": "stream",
     "text": [
      "Teams the 50th percent plays for:\n"
     ]
    },
    {
     "data": {
      "text/html": [
       "<div>\n",
       "<style scoped>\n",
       "    .dataframe tbody tr th:only-of-type {\n",
       "        vertical-align: middle;\n",
       "    }\n",
       "\n",
       "    .dataframe tbody tr th {\n",
       "        vertical-align: top;\n",
       "    }\n",
       "\n",
       "    .dataframe thead th {\n",
       "        text-align: right;\n",
       "    }\n",
       "</style>\n",
       "<table border=\"1\" class=\"dataframe\">\n",
       "  <thead>\n",
       "    <tr style=\"text-align: right;\">\n",
       "      <th></th>\n",
       "      <th>player</th>\n",
       "      <th>team_name</th>\n",
       "    </tr>\n",
       "  </thead>\n",
       "  <tbody>\n",
       "    <tr>\n",
       "      <th>0</th>\n",
       "      <td>Ed Davis</td>\n",
       "      <td>[Utah Jazz]</td>\n",
       "    </tr>\n",
       "    <tr>\n",
       "      <th>1</th>\n",
       "      <td>Enes Kanter</td>\n",
       "      <td>[Boston Celtics]</td>\n",
       "    </tr>\n",
       "    <tr>\n",
       "      <th>2</th>\n",
       "      <td>Frank Kaminsky</td>\n",
       "      <td>[Phoenix Suns]</td>\n",
       "    </tr>\n",
       "    <tr>\n",
       "      <th>3</th>\n",
       "      <td>Garrett Temple</td>\n",
       "      <td>[Brooklyn Nets]</td>\n",
       "    </tr>\n",
       "    <tr>\n",
       "      <th>4</th>\n",
       "      <td>JaMychal Green</td>\n",
       "      <td>[Los Angeles Clippers]</td>\n",
       "    </tr>\n",
       "    <tr>\n",
       "      <th>5</th>\n",
       "      <td>Justin Holiday</td>\n",
       "      <td>[Indiana Pacers]</td>\n",
       "    </tr>\n",
       "    <tr>\n",
       "      <th>6</th>\n",
       "      <td>Mike Scott</td>\n",
       "      <td>[Philadelphia 76ers]</td>\n",
       "    </tr>\n",
       "    <tr>\n",
       "      <th>7</th>\n",
       "      <td>Richaun Holmes</td>\n",
       "      <td>[Sacramento Kings]</td>\n",
       "    </tr>\n",
       "    <tr>\n",
       "      <th>8</th>\n",
       "      <td>Robin Lopez</td>\n",
       "      <td>[Milwaukee Bucks]</td>\n",
       "    </tr>\n",
       "  </tbody>\n",
       "</table>\n",
       "</div>"
      ],
      "text/plain": [
       "           player               team_name\n",
       "0        Ed Davis             [Utah Jazz]\n",
       "1     Enes Kanter        [Boston Celtics]\n",
       "2  Frank Kaminsky          [Phoenix Suns]\n",
       "3  Garrett Temple         [Brooklyn Nets]\n",
       "4  JaMychal Green  [Los Angeles Clippers]\n",
       "5  Justin Holiday        [Indiana Pacers]\n",
       "6      Mike Scott    [Philadelphia 76ers]\n",
       "7  Richaun Holmes      [Sacramento Kings]\n",
       "8     Robin Lopez       [Milwaukee Bucks]"
      ]
     },
     "execution_count": 51,
     "metadata": {},
     "output_type": "execute_result"
    }
   ],
   "source": [
    "median_salary = df_current_salary.loc[:, \"salary\"].median()\n",
    "mid_50pct = df_current_salary.loc[df_current_salary[\"salary\"]==median_salary,\n",
    "                                  \"player\"]\n",
    "df_teams_mid_50pct = df_current.merge(mid_50pct.to_frame(),\n",
    "                                      how=\"inner\",\n",
    "                                      on=[\"player\"])\n",
    "df_teams_mid_50pct = df_teams_mid_50pct.drop_duplicates(keep=\"first\")\n",
    "df_teams_mid_50pct = (df_teams_mid_50pct.groupby([\"player\"])\n",
    "                                        .agg({\"team_name\": list})\n",
    "                                        .reset_index(drop=False))\n",
    "print(\"Teams the 50th percent plays for:\")\n",
    "df_teams_mid_50pct"
   ]
  },
  {
   "cell_type": "markdown",
   "metadata": {},
   "source": [
    "### Question 3e"
   ]
  },
  {
   "cell_type": "markdown",
   "metadata": {},
   "source": [
    "Get breakdown of salary per season for players active in current season"
   ]
  },
  {
   "cell_type": "code",
   "execution_count": 52,
   "metadata": {},
   "outputs": [
    {
     "name": "stdout",
     "output_type": "stream",
     "text": [
      "Salary of active players per season:\n"
     ]
    },
    {
     "data": {
      "text/html": [
       "<div>\n",
       "<style scoped>\n",
       "    .dataframe tbody tr th:only-of-type {\n",
       "        vertical-align: middle;\n",
       "    }\n",
       "\n",
       "    .dataframe tbody tr th {\n",
       "        vertical-align: top;\n",
       "    }\n",
       "\n",
       "    .dataframe thead th {\n",
       "        text-align: right;\n",
       "    }\n",
       "</style>\n",
       "<table border=\"1\" class=\"dataframe\">\n",
       "  <thead>\n",
       "    <tr style=\"text-align: right;\">\n",
       "      <th></th>\n",
       "      <th>player</th>\n",
       "      <th>season</th>\n",
       "      <th>salary</th>\n",
       "    </tr>\n",
       "  </thead>\n",
       "  <tbody>\n",
       "    <tr>\n",
       "      <th>0</th>\n",
       "      <td>Aaron Gordon</td>\n",
       "      <td>2014-15</td>\n",
       "      <td>3992040.0</td>\n",
       "    </tr>\n",
       "    <tr>\n",
       "      <th>1</th>\n",
       "      <td>Aaron Gordon</td>\n",
       "      <td>2015-16</td>\n",
       "      <td>4171680.0</td>\n",
       "    </tr>\n",
       "    <tr>\n",
       "      <th>2</th>\n",
       "      <td>Aaron Gordon</td>\n",
       "      <td>2016-17</td>\n",
       "      <td>4351320.0</td>\n",
       "    </tr>\n",
       "    <tr>\n",
       "      <th>3</th>\n",
       "      <td>Aaron Gordon</td>\n",
       "      <td>2017-18</td>\n",
       "      <td>5504420.0</td>\n",
       "    </tr>\n",
       "    <tr>\n",
       "      <th>4</th>\n",
       "      <td>Aaron Gordon</td>\n",
       "      <td>2018-19</td>\n",
       "      <td>21590909.0</td>\n",
       "    </tr>\n",
       "    <tr>\n",
       "      <th>...</th>\n",
       "      <td>...</td>\n",
       "      <td>...</td>\n",
       "      <td>...</td>\n",
       "    </tr>\n",
       "    <tr>\n",
       "      <th>2289</th>\n",
       "      <td>Zach LaVine</td>\n",
       "      <td>2019-20</td>\n",
       "      <td>19500000.0</td>\n",
       "    </tr>\n",
       "    <tr>\n",
       "      <th>2290</th>\n",
       "      <td>Zach Norvell</td>\n",
       "      <td>2019-20</td>\n",
       "      <td>152256.0</td>\n",
       "    </tr>\n",
       "    <tr>\n",
       "      <th>2291</th>\n",
       "      <td>Zhaire Smith</td>\n",
       "      <td>2018-19</td>\n",
       "      <td>2611800.0</td>\n",
       "    </tr>\n",
       "    <tr>\n",
       "      <th>2292</th>\n",
       "      <td>Zhaire Smith</td>\n",
       "      <td>2019-20</td>\n",
       "      <td>3058800.0</td>\n",
       "    </tr>\n",
       "    <tr>\n",
       "      <th>2293</th>\n",
       "      <td>Zion Williamson</td>\n",
       "      <td>2019-20</td>\n",
       "      <td>9757440.0</td>\n",
       "    </tr>\n",
       "  </tbody>\n",
       "</table>\n",
       "<p>2294 rows × 3 columns</p>\n",
       "</div>"
      ],
      "text/plain": [
       "               player   season      salary\n",
       "0        Aaron Gordon  2014-15   3992040.0\n",
       "1        Aaron Gordon  2015-16   4171680.0\n",
       "2        Aaron Gordon  2016-17   4351320.0\n",
       "3        Aaron Gordon  2017-18   5504420.0\n",
       "4        Aaron Gordon  2018-19  21590909.0\n",
       "...               ...      ...         ...\n",
       "2289      Zach LaVine  2019-20  19500000.0\n",
       "2290     Zach Norvell  2019-20    152256.0\n",
       "2291     Zhaire Smith  2018-19   2611800.0\n",
       "2292     Zhaire Smith  2019-20   3058800.0\n",
       "2293  Zion Williamson  2019-20   9757440.0\n",
       "\n",
       "[2294 rows x 3 columns]"
      ]
     },
     "execution_count": 52,
     "metadata": {},
     "output_type": "execute_result"
    }
   ],
   "source": [
    "df_active_player_career = df.merge(pd.DataFrame(active_players, columns=[\"player\"]),\n",
    "                                   how=\"inner\",\n",
    "                                   on=[\"player\"])\n",
    "df_active_salary_season = (df_active_player_career.groupby([\"player\", \"season\"])\n",
    "                                                  .agg({\"salary\": \"sum\"})\n",
    "                                                  .reset_index(drop=False))\n",
    "print(\"Salary of active players per season:\")\n",
    "df_active_salary_season"
   ]
  },
  {
   "cell_type": "markdown",
   "metadata": {},
   "source": [
    "### Question 4a"
   ]
  },
  {
   "cell_type": "markdown",
   "metadata": {},
   "source": [
    "Get average salary per team per season"
   ]
  },
  {
   "cell_type": "code",
   "execution_count": 53,
   "metadata": {},
   "outputs": [
    {
     "name": "stdout",
     "output_type": "stream",
     "text": [
      "Average salary per team per season:\n"
     ]
    },
    {
     "data": {
      "text/html": [
       "<div>\n",
       "<style scoped>\n",
       "    .dataframe tbody tr th:only-of-type {\n",
       "        vertical-align: middle;\n",
       "    }\n",
       "\n",
       "    .dataframe tbody tr th {\n",
       "        vertical-align: top;\n",
       "    }\n",
       "\n",
       "    .dataframe thead th {\n",
       "        text-align: right;\n",
       "    }\n",
       "</style>\n",
       "<table border=\"1\" class=\"dataframe\">\n",
       "  <thead>\n",
       "    <tr style=\"text-align: right;\">\n",
       "      <th></th>\n",
       "      <th>team_name</th>\n",
       "      <th>season</th>\n",
       "      <th>salary</th>\n",
       "    </tr>\n",
       "  </thead>\n",
       "  <tbody>\n",
       "    <tr>\n",
       "      <th>0</th>\n",
       "      <td>Atlanta Hawks</td>\n",
       "      <td>2009-10</td>\n",
       "      <td>5.393407e+06</td>\n",
       "    </tr>\n",
       "    <tr>\n",
       "      <th>1</th>\n",
       "      <td>Atlanta Hawks</td>\n",
       "      <td>2010-11</td>\n",
       "      <td>5.080845e+06</td>\n",
       "    </tr>\n",
       "    <tr>\n",
       "      <th>2</th>\n",
       "      <td>Atlanta Hawks</td>\n",
       "      <td>2011-12</td>\n",
       "      <td>3.896664e+06</td>\n",
       "    </tr>\n",
       "    <tr>\n",
       "      <th>3</th>\n",
       "      <td>Atlanta Hawks</td>\n",
       "      <td>2012-13</td>\n",
       "      <td>3.144653e+06</td>\n",
       "    </tr>\n",
       "    <tr>\n",
       "      <th>4</th>\n",
       "      <td>Atlanta Hawks</td>\n",
       "      <td>2013-14</td>\n",
       "      <td>3.596780e+06</td>\n",
       "    </tr>\n",
       "    <tr>\n",
       "      <th>...</th>\n",
       "      <td>...</td>\n",
       "      <td>...</td>\n",
       "      <td>...</td>\n",
       "    </tr>\n",
       "    <tr>\n",
       "      <th>325</th>\n",
       "      <td>Washington Wizards</td>\n",
       "      <td>2015-16</td>\n",
       "      <td>3.848458e+06</td>\n",
       "    </tr>\n",
       "    <tr>\n",
       "      <th>326</th>\n",
       "      <td>Washington Wizards</td>\n",
       "      <td>2016-17</td>\n",
       "      <td>5.145690e+06</td>\n",
       "    </tr>\n",
       "    <tr>\n",
       "      <th>327</th>\n",
       "      <td>Washington Wizards</td>\n",
       "      <td>2017-18</td>\n",
       "      <td>7.736236e+06</td>\n",
       "    </tr>\n",
       "    <tr>\n",
       "      <th>328</th>\n",
       "      <td>Washington Wizards</td>\n",
       "      <td>2018-19</td>\n",
       "      <td>6.774569e+06</td>\n",
       "    </tr>\n",
       "    <tr>\n",
       "      <th>329</th>\n",
       "      <td>Washington Wizards</td>\n",
       "      <td>2019-20</td>\n",
       "      <td>4.445464e+06</td>\n",
       "    </tr>\n",
       "  </tbody>\n",
       "</table>\n",
       "<p>330 rows × 3 columns</p>\n",
       "</div>"
      ],
      "text/plain": [
       "              team_name   season        salary\n",
       "0         Atlanta Hawks  2009-10  5.393407e+06\n",
       "1         Atlanta Hawks  2010-11  5.080845e+06\n",
       "2         Atlanta Hawks  2011-12  3.896664e+06\n",
       "3         Atlanta Hawks  2012-13  3.144653e+06\n",
       "4         Atlanta Hawks  2013-14  3.596780e+06\n",
       "..                  ...      ...           ...\n",
       "325  Washington Wizards  2015-16  3.848458e+06\n",
       "326  Washington Wizards  2016-17  5.145690e+06\n",
       "327  Washington Wizards  2017-18  7.736236e+06\n",
       "328  Washington Wizards  2018-19  6.774569e+06\n",
       "329  Washington Wizards  2019-20  4.445464e+06\n",
       "\n",
       "[330 rows x 3 columns]"
      ]
     },
     "execution_count": 53,
     "metadata": {},
     "output_type": "execute_result"
    }
   ],
   "source": [
    "df_team_salary = (df.groupby([\"team_name\", \"season\"])\n",
    "                    .agg({\"salary\": \"mean\"})\n",
    "                    .reset_index(drop=False))\n",
    "print(\"Average salary per team per season:\")\n",
    "df_team_salary"
   ]
  },
  {
   "cell_type": "markdown",
   "metadata": {},
   "source": [
    "### Question 4b"
   ]
  },
  {
   "cell_type": "markdown",
   "metadata": {},
   "source": [
    "Get average age and experience per team per season"
   ]
  },
  {
   "cell_type": "code",
   "execution_count": 54,
   "metadata": {},
   "outputs": [
    {
     "name": "stdout",
     "output_type": "stream",
     "text": [
      "Statistics of teams per season:\n"
     ]
    },
    {
     "data": {
      "text/html": [
       "<div>\n",
       "<style scoped>\n",
       "    .dataframe tbody tr th:only-of-type {\n",
       "        vertical-align: middle;\n",
       "    }\n",
       "\n",
       "    .dataframe tbody tr th {\n",
       "        vertical-align: top;\n",
       "    }\n",
       "\n",
       "    .dataframe thead th {\n",
       "        text-align: right;\n",
       "    }\n",
       "</style>\n",
       "<table border=\"1\" class=\"dataframe\">\n",
       "  <thead>\n",
       "    <tr style=\"text-align: right;\">\n",
       "      <th></th>\n",
       "      <th>team_name</th>\n",
       "      <th>season</th>\n",
       "      <th>age</th>\n",
       "      <th>mean_exp</th>\n",
       "      <th>var_exp</th>\n",
       "    </tr>\n",
       "  </thead>\n",
       "  <tbody>\n",
       "    <tr>\n",
       "      <th>0</th>\n",
       "      <td>Atlanta Hawks</td>\n",
       "      <td>2009-10</td>\n",
       "      <td>27.083333</td>\n",
       "      <td>6.416667</td>\n",
       "      <td>16.446970</td>\n",
       "    </tr>\n",
       "    <tr>\n",
       "      <th>1</th>\n",
       "      <td>Atlanta Hawks</td>\n",
       "      <td>2010-11</td>\n",
       "      <td>27.388889</td>\n",
       "      <td>5.777778</td>\n",
       "      <td>8.065359</td>\n",
       "    </tr>\n",
       "    <tr>\n",
       "      <th>2</th>\n",
       "      <td>Atlanta Hawks</td>\n",
       "      <td>2011-12</td>\n",
       "      <td>28.473684</td>\n",
       "      <td>6.684211</td>\n",
       "      <td>28.116959</td>\n",
       "    </tr>\n",
       "    <tr>\n",
       "      <th>3</th>\n",
       "      <td>Atlanta Hawks</td>\n",
       "      <td>2012-13</td>\n",
       "      <td>27.826087</td>\n",
       "      <td>6.217391</td>\n",
       "      <td>15.450593</td>\n",
       "    </tr>\n",
       "    <tr>\n",
       "      <th>4</th>\n",
       "      <td>Atlanta Hawks</td>\n",
       "      <td>2013-14</td>\n",
       "      <td>25.375000</td>\n",
       "      <td>4.000000</td>\n",
       "      <td>15.866667</td>\n",
       "    </tr>\n",
       "    <tr>\n",
       "      <th>...</th>\n",
       "      <td>...</td>\n",
       "      <td>...</td>\n",
       "      <td>...</td>\n",
       "      <td>...</td>\n",
       "      <td>...</td>\n",
       "    </tr>\n",
       "    <tr>\n",
       "      <th>325</th>\n",
       "      <td>Washington Wizards</td>\n",
       "      <td>2015-16</td>\n",
       "      <td>27.960000</td>\n",
       "      <td>6.400000</td>\n",
       "      <td>10.500000</td>\n",
       "    </tr>\n",
       "    <tr>\n",
       "      <th>326</th>\n",
       "      <td>Washington Wizards</td>\n",
       "      <td>2016-17</td>\n",
       "      <td>25.363636</td>\n",
       "      <td>3.681818</td>\n",
       "      <td>9.846320</td>\n",
       "    </tr>\n",
       "    <tr>\n",
       "      <th>327</th>\n",
       "      <td>Washington Wizards</td>\n",
       "      <td>2017-18</td>\n",
       "      <td>27.937500</td>\n",
       "      <td>6.437500</td>\n",
       "      <td>11.329167</td>\n",
       "    </tr>\n",
       "    <tr>\n",
       "      <th>328</th>\n",
       "      <td>Washington Wizards</td>\n",
       "      <td>2018-19</td>\n",
       "      <td>26.656250</td>\n",
       "      <td>5.625000</td>\n",
       "      <td>17.725806</td>\n",
       "    </tr>\n",
       "    <tr>\n",
       "      <th>329</th>\n",
       "      <td>Washington Wizards</td>\n",
       "      <td>2019-20</td>\n",
       "      <td>25.086957</td>\n",
       "      <td>3.521739</td>\n",
       "      <td>14.624506</td>\n",
       "    </tr>\n",
       "  </tbody>\n",
       "</table>\n",
       "<p>330 rows × 5 columns</p>\n",
       "</div>"
      ],
      "text/plain": [
       "              team_name   season        age  mean_exp    var_exp\n",
       "0         Atlanta Hawks  2009-10  27.083333  6.416667  16.446970\n",
       "1         Atlanta Hawks  2010-11  27.388889  5.777778   8.065359\n",
       "2         Atlanta Hawks  2011-12  28.473684  6.684211  28.116959\n",
       "3         Atlanta Hawks  2012-13  27.826087  6.217391  15.450593\n",
       "4         Atlanta Hawks  2013-14  25.375000  4.000000  15.866667\n",
       "..                  ...      ...        ...       ...        ...\n",
       "325  Washington Wizards  2015-16  27.960000  6.400000  10.500000\n",
       "326  Washington Wizards  2016-17  25.363636  3.681818   9.846320\n",
       "327  Washington Wizards  2017-18  27.937500  6.437500  11.329167\n",
       "328  Washington Wizards  2018-19  26.656250  5.625000  17.725806\n",
       "329  Washington Wizards  2019-20  25.086957  3.521739  14.624506\n",
       "\n",
       "[330 rows x 5 columns]"
      ]
     },
     "execution_count": 54,
     "metadata": {},
     "output_type": "execute_result"
    }
   ],
   "source": [
    "df_team_age_exp = (df.groupby([\"team_name\", \"season\"])\n",
    "                     .agg({\"age\": \"mean\",\n",
    "                           \"experience_YTD\": [\"mean\", \"var\"]})\n",
    "                     .reset_index(drop=False))\n",
    "df_team_age_exp.columns = [\"team_name\", \"season\", \"age\", \"mean_exp\", \"var_exp\"]\n",
    "print(\"Statistics of teams per season:\")\n",
    "df_team_age_exp"
   ]
  },
  {
   "cell_type": "markdown",
   "metadata": {},
   "source": [
    "### Question 4c"
   ]
  },
  {
   "cell_type": "markdown",
   "metadata": {},
   "source": [
    "Get average age and experience per team per season (cross-tabulation)"
   ]
  },
  {
   "cell_type": "code",
   "execution_count": 55,
   "metadata": {},
   "outputs": [
    {
     "name": "stdout",
     "output_type": "stream",
     "text": [
      "Statistics of teams per season (cross-tabulated):\n"
     ]
    },
    {
     "data": {
      "text/html": [
       "<div>\n",
       "<style scoped>\n",
       "    .dataframe tbody tr th:only-of-type {\n",
       "        vertical-align: middle;\n",
       "    }\n",
       "\n",
       "    .dataframe tbody tr th {\n",
       "        vertical-align: top;\n",
       "    }\n",
       "\n",
       "    .dataframe thead tr th {\n",
       "        text-align: left;\n",
       "    }\n",
       "\n",
       "    .dataframe thead tr:last-of-type th {\n",
       "        text-align: right;\n",
       "    }\n",
       "</style>\n",
       "<table border=\"1\" class=\"dataframe\">\n",
       "  <thead>\n",
       "    <tr>\n",
       "      <th></th>\n",
       "      <th colspan=\"10\" halign=\"left\">age</th>\n",
       "      <th>...</th>\n",
       "      <th colspan=\"10\" halign=\"left\">var_exp</th>\n",
       "    </tr>\n",
       "    <tr>\n",
       "      <th>season</th>\n",
       "      <th>2009-10</th>\n",
       "      <th>2010-11</th>\n",
       "      <th>2011-12</th>\n",
       "      <th>2012-13</th>\n",
       "      <th>2013-14</th>\n",
       "      <th>2014-15</th>\n",
       "      <th>2015-16</th>\n",
       "      <th>2016-17</th>\n",
       "      <th>2017-18</th>\n",
       "      <th>2018-19</th>\n",
       "      <th>...</th>\n",
       "      <th>2010-11</th>\n",
       "      <th>2011-12</th>\n",
       "      <th>2012-13</th>\n",
       "      <th>2013-14</th>\n",
       "      <th>2014-15</th>\n",
       "      <th>2015-16</th>\n",
       "      <th>2016-17</th>\n",
       "      <th>2017-18</th>\n",
       "      <th>2018-19</th>\n",
       "      <th>2019-20</th>\n",
       "    </tr>\n",
       "    <tr>\n",
       "      <th>team_name</th>\n",
       "      <th></th>\n",
       "      <th></th>\n",
       "      <th></th>\n",
       "      <th></th>\n",
       "      <th></th>\n",
       "      <th></th>\n",
       "      <th></th>\n",
       "      <th></th>\n",
       "      <th></th>\n",
       "      <th></th>\n",
       "      <th></th>\n",
       "      <th></th>\n",
       "      <th></th>\n",
       "      <th></th>\n",
       "      <th></th>\n",
       "      <th></th>\n",
       "      <th></th>\n",
       "      <th></th>\n",
       "      <th></th>\n",
       "      <th></th>\n",
       "      <th></th>\n",
       "    </tr>\n",
       "  </thead>\n",
       "  <tbody>\n",
       "    <tr>\n",
       "      <th>Atlanta Hawks</th>\n",
       "      <td>27.083333</td>\n",
       "      <td>27.388889</td>\n",
       "      <td>28.473684</td>\n",
       "      <td>27.826087</td>\n",
       "      <td>25.375000</td>\n",
       "      <td>27.555556</td>\n",
       "      <td>28.800000</td>\n",
       "      <td>29.645161</td>\n",
       "      <td>27.615385</td>\n",
       "      <td>27.083333</td>\n",
       "      <td>...</td>\n",
       "      <td>8.065359</td>\n",
       "      <td>28.116959</td>\n",
       "      <td>15.450593</td>\n",
       "      <td>15.866667</td>\n",
       "      <td>16.614379</td>\n",
       "      <td>20.155263</td>\n",
       "      <td>27.827957</td>\n",
       "      <td>25.975385</td>\n",
       "      <td>30.340580</td>\n",
       "      <td>23.690476</td>\n",
       "    </tr>\n",
       "    <tr>\n",
       "      <th>Boston Celtics</th>\n",
       "      <td>27.100000</td>\n",
       "      <td>27.090909</td>\n",
       "      <td>28.533333</td>\n",
       "      <td>26.333333</td>\n",
       "      <td>25.937500</td>\n",
       "      <td>26.148148</td>\n",
       "      <td>26.842105</td>\n",
       "      <td>25.266667</td>\n",
       "      <td>25.782609</td>\n",
       "      <td>26.222222</td>\n",
       "      <td>...</td>\n",
       "      <td>32.051948</td>\n",
       "      <td>32.095238</td>\n",
       "      <td>27.101449</td>\n",
       "      <td>12.929167</td>\n",
       "      <td>11.230769</td>\n",
       "      <td>15.912281</td>\n",
       "      <td>14.780952</td>\n",
       "      <td>9.059289</td>\n",
       "      <td>12.705882</td>\n",
       "      <td>10.352381</td>\n",
       "    </tr>\n",
       "    <tr>\n",
       "      <th>Brooklyn Nets</th>\n",
       "      <td>26.600000</td>\n",
       "      <td>26.000000</td>\n",
       "      <td>26.300000</td>\n",
       "      <td>28.200000</td>\n",
       "      <td>30.375000</td>\n",
       "      <td>27.000000</td>\n",
       "      <td>27.095238</td>\n",
       "      <td>26.454545</td>\n",
       "      <td>25.880000</td>\n",
       "      <td>26.296296</td>\n",
       "      <td>...</td>\n",
       "      <td>5.221344</td>\n",
       "      <td>10.660526</td>\n",
       "      <td>22.780952</td>\n",
       "      <td>27.716667</td>\n",
       "      <td>14.916667</td>\n",
       "      <td>24.390476</td>\n",
       "      <td>12.132576</td>\n",
       "      <td>5.723333</td>\n",
       "      <td>15.404558</td>\n",
       "      <td>21.346014</td>\n",
       "    </tr>\n",
       "    <tr>\n",
       "      <th>Charlotte Hornets</th>\n",
       "      <td>27.238095</td>\n",
       "      <td>26.592593</td>\n",
       "      <td>26.052632</td>\n",
       "      <td>25.050000</td>\n",
       "      <td>26.000000</td>\n",
       "      <td>26.000000</td>\n",
       "      <td>26.333333</td>\n",
       "      <td>25.777778</td>\n",
       "      <td>25.375000</td>\n",
       "      <td>26.352941</td>\n",
       "      <td>...</td>\n",
       "      <td>16.686610</td>\n",
       "      <td>50.830409</td>\n",
       "      <td>52.947368</td>\n",
       "      <td>9.339181</td>\n",
       "      <td>15.307692</td>\n",
       "      <td>10.173203</td>\n",
       "      <td>17.437908</td>\n",
       "      <td>16.262500</td>\n",
       "      <td>21.154412</td>\n",
       "      <td>25.228070</td>\n",
       "    </tr>\n",
       "    <tr>\n",
       "      <th>Chicago Bulls</th>\n",
       "      <td>26.650000</td>\n",
       "      <td>27.538462</td>\n",
       "      <td>28.533333</td>\n",
       "      <td>27.733333</td>\n",
       "      <td>27.157895</td>\n",
       "      <td>28.937500</td>\n",
       "      <td>27.388889</td>\n",
       "      <td>25.857143</td>\n",
       "      <td>27.078947</td>\n",
       "      <td>24.961538</td>\n",
       "      <td>...</td>\n",
       "      <td>15.923077</td>\n",
       "      <td>12.780952</td>\n",
       "      <td>16.780952</td>\n",
       "      <td>18.397661</td>\n",
       "      <td>28.466667</td>\n",
       "      <td>20.761438</td>\n",
       "      <td>14.261905</td>\n",
       "      <td>15.439545</td>\n",
       "      <td>10.395385</td>\n",
       "      <td>10.192308</td>\n",
       "    </tr>\n",
       "    <tr>\n",
       "      <th>Cleveland Cavaliers</th>\n",
       "      <td>26.833333</td>\n",
       "      <td>25.678571</td>\n",
       "      <td>25.038462</td>\n",
       "      <td>24.964286</td>\n",
       "      <td>24.615385</td>\n",
       "      <td>28.347826</td>\n",
       "      <td>28.947368</td>\n",
       "      <td>29.777778</td>\n",
       "      <td>28.038462</td>\n",
       "      <td>25.517241</td>\n",
       "      <td>...</td>\n",
       "      <td>17.809524</td>\n",
       "      <td>15.938462</td>\n",
       "      <td>8.359788</td>\n",
       "      <td>9.423077</td>\n",
       "      <td>20.620553</td>\n",
       "      <td>24.619883</td>\n",
       "      <td>20.182336</td>\n",
       "      <td>21.853846</td>\n",
       "      <td>11.401478</td>\n",
       "      <td>15.134387</td>\n",
       "    </tr>\n",
       "    <tr>\n",
       "      <th>Dallas Mavericks</th>\n",
       "      <td>30.047619</td>\n",
       "      <td>29.166667</td>\n",
       "      <td>30.750000</td>\n",
       "      <td>30.208333</td>\n",
       "      <td>29.000000</td>\n",
       "      <td>28.000000</td>\n",
       "      <td>30.150000</td>\n",
       "      <td>26.562500</td>\n",
       "      <td>26.947368</td>\n",
       "      <td>27.857143</td>\n",
       "      <td>...</td>\n",
       "      <td>15.188406</td>\n",
       "      <td>24.272727</td>\n",
       "      <td>30.782609</td>\n",
       "      <td>28.769231</td>\n",
       "      <td>25.146825</td>\n",
       "      <td>18.410526</td>\n",
       "      <td>20.369960</td>\n",
       "      <td>21.923977</td>\n",
       "      <td>27.433333</td>\n",
       "      <td>8.454545</td>\n",
       "    </tr>\n",
       "    <tr>\n",
       "      <th>Denver Nuggets</th>\n",
       "      <td>28.142857</td>\n",
       "      <td>25.041667</td>\n",
       "      <td>26.210526</td>\n",
       "      <td>25.312500</td>\n",
       "      <td>26.888889</td>\n",
       "      <td>25.800000</td>\n",
       "      <td>26.321429</td>\n",
       "      <td>25.833333</td>\n",
       "      <td>28.400000</td>\n",
       "      <td>24.625000</td>\n",
       "      <td>...</td>\n",
       "      <td>11.505435</td>\n",
       "      <td>18.023392</td>\n",
       "      <td>14.116667</td>\n",
       "      <td>19.084967</td>\n",
       "      <td>13.820690</td>\n",
       "      <td>16.629630</td>\n",
       "      <td>17.326087</td>\n",
       "      <td>29.418421</td>\n",
       "      <td>14.116667</td>\n",
       "      <td>9.437908</td>\n",
       "    </tr>\n",
       "    <tr>\n",
       "      <th>Detroit Pistons</th>\n",
       "      <td>27.333333</td>\n",
       "      <td>27.230769</td>\n",
       "      <td>27.562500</td>\n",
       "      <td>26.333333</td>\n",
       "      <td>26.166667</td>\n",
       "      <td>27.230769</td>\n",
       "      <td>26.315789</td>\n",
       "      <td>25.642857</td>\n",
       "      <td>27.772727</td>\n",
       "      <td>25.625000</td>\n",
       "      <td>...</td>\n",
       "      <td>21.576923</td>\n",
       "      <td>20.783333</td>\n",
       "      <td>14.600000</td>\n",
       "      <td>19.901515</td>\n",
       "      <td>14.746154</td>\n",
       "      <td>13.450292</td>\n",
       "      <td>9.516484</td>\n",
       "      <td>16.599567</td>\n",
       "      <td>19.172101</td>\n",
       "      <td>10.645161</td>\n",
       "    </tr>\n",
       "    <tr>\n",
       "      <th>Golden State Warriors</th>\n",
       "      <td>26.600000</td>\n",
       "      <td>26.173913</td>\n",
       "      <td>24.833333</td>\n",
       "      <td>25.928571</td>\n",
       "      <td>26.294118</td>\n",
       "      <td>27.187500</td>\n",
       "      <td>28.368421</td>\n",
       "      <td>29.294118</td>\n",
       "      <td>28.466667</td>\n",
       "      <td>28.071429</td>\n",
       "      <td>...</td>\n",
       "      <td>36.383399</td>\n",
       "      <td>9.201087</td>\n",
       "      <td>13.450549</td>\n",
       "      <td>18.882353</td>\n",
       "      <td>14.262500</td>\n",
       "      <td>13.666667</td>\n",
       "      <td>23.433824</td>\n",
       "      <td>24.257143</td>\n",
       "      <td>24.769231</td>\n",
       "      <td>9.161905</td>\n",
       "    </tr>\n",
       "    <tr>\n",
       "      <th>Houston Rockets</th>\n",
       "      <td>25.700000</td>\n",
       "      <td>25.280000</td>\n",
       "      <td>24.160000</td>\n",
       "      <td>24.833333</td>\n",
       "      <td>26.350000</td>\n",
       "      <td>27.935484</td>\n",
       "      <td>27.458333</td>\n",
       "      <td>27.500000</td>\n",
       "      <td>29.400000</td>\n",
       "      <td>28.043478</td>\n",
       "      <td>...</td>\n",
       "      <td>10.333333</td>\n",
       "      <td>4.916667</td>\n",
       "      <td>8.891954</td>\n",
       "      <td>50.471053</td>\n",
       "      <td>16.161290</td>\n",
       "      <td>16.927536</td>\n",
       "      <td>23.629167</td>\n",
       "      <td>26.916667</td>\n",
       "      <td>15.901186</td>\n",
       "      <td>21.379630</td>\n",
       "    </tr>\n",
       "    <tr>\n",
       "      <th>Indiana Pacers</th>\n",
       "      <td>26.875000</td>\n",
       "      <td>26.375000</td>\n",
       "      <td>26.538462</td>\n",
       "      <td>26.000000</td>\n",
       "      <td>26.500000</td>\n",
       "      <td>27.800000</td>\n",
       "      <td>26.380952</td>\n",
       "      <td>26.684211</td>\n",
       "      <td>27.000000</td>\n",
       "      <td>26.619048</td>\n",
       "      <td>...</td>\n",
       "      <td>14.262500</td>\n",
       "      <td>11.358974</td>\n",
       "      <td>5.918129</td>\n",
       "      <td>8.109890</td>\n",
       "      <td>10.980952</td>\n",
       "      <td>9.847619</td>\n",
       "      <td>13.444444</td>\n",
       "      <td>16.649123</td>\n",
       "      <td>11.790476</td>\n",
       "      <td>5.230769</td>\n",
       "    </tr>\n",
       "    <tr>\n",
       "      <th>Los Angeles Clippers</th>\n",
       "      <td>26.666667</td>\n",
       "      <td>27.375000</td>\n",
       "      <td>27.217391</td>\n",
       "      <td>30.076923</td>\n",
       "      <td>27.866667</td>\n",
       "      <td>28.285714</td>\n",
       "      <td>29.105263</td>\n",
       "      <td>29.562500</td>\n",
       "      <td>27.333333</td>\n",
       "      <td>27.222222</td>\n",
       "      <td>...</td>\n",
       "      <td>9.471014</td>\n",
       "      <td>16.509881</td>\n",
       "      <td>22.897436</td>\n",
       "      <td>15.095238</td>\n",
       "      <td>14.290476</td>\n",
       "      <td>22.473684</td>\n",
       "      <td>23.295833</td>\n",
       "      <td>9.201087</td>\n",
       "      <td>20.319088</td>\n",
       "      <td>13.944737</td>\n",
       "    </tr>\n",
       "    <tr>\n",
       "      <th>Los Angeles Lakers</th>\n",
       "      <td>27.615385</td>\n",
       "      <td>30.187500</td>\n",
       "      <td>29.631579</td>\n",
       "      <td>28.533333</td>\n",
       "      <td>30.307692</td>\n",
       "      <td>25.789474</td>\n",
       "      <td>27.357143</td>\n",
       "      <td>26.909091</td>\n",
       "      <td>26.571429</td>\n",
       "      <td>27.708333</td>\n",
       "      <td>...</td>\n",
       "      <td>28.066667</td>\n",
       "      <td>23.397661</td>\n",
       "      <td>33.980952</td>\n",
       "      <td>25.102564</td>\n",
       "      <td>23.000000</td>\n",
       "      <td>39.340659</td>\n",
       "      <td>24.831169</td>\n",
       "      <td>23.146825</td>\n",
       "      <td>34.259058</td>\n",
       "      <td>16.561905</td>\n",
       "    </tr>\n",
       "    <tr>\n",
       "      <th>Memphis Grizzlies</th>\n",
       "      <td>25.916667</td>\n",
       "      <td>26.615385</td>\n",
       "      <td>26.444444</td>\n",
       "      <td>25.259259</td>\n",
       "      <td>27.312500</td>\n",
       "      <td>26.695652</td>\n",
       "      <td>27.682927</td>\n",
       "      <td>27.352941</td>\n",
       "      <td>25.956522</td>\n",
       "      <td>26.444444</td>\n",
       "      <td>...</td>\n",
       "      <td>16.013846</td>\n",
       "      <td>13.624183</td>\n",
       "      <td>10.062678</td>\n",
       "      <td>11.316667</td>\n",
       "      <td>22.584980</td>\n",
       "      <td>24.275610</td>\n",
       "      <td>32.742647</td>\n",
       "      <td>15.474308</td>\n",
       "      <td>14.980159</td>\n",
       "      <td>15.873118</td>\n",
       "    </tr>\n",
       "    <tr>\n",
       "      <th>Miami Heat</th>\n",
       "      <td>27.789474</td>\n",
       "      <td>30.277778</td>\n",
       "      <td>28.000000</td>\n",
       "      <td>28.550000</td>\n",
       "      <td>29.777778</td>\n",
       "      <td>27.850000</td>\n",
       "      <td>30.055556</td>\n",
       "      <td>26.166667</td>\n",
       "      <td>28.368421</td>\n",
       "      <td>27.277778</td>\n",
       "      <td>...</td>\n",
       "      <td>18.941176</td>\n",
       "      <td>25.867647</td>\n",
       "      <td>28.028947</td>\n",
       "      <td>22.970588</td>\n",
       "      <td>22.344737</td>\n",
       "      <td>22.418301</td>\n",
       "      <td>13.320261</td>\n",
       "      <td>21.649123</td>\n",
       "      <td>27.205882</td>\n",
       "      <td>22.918129</td>\n",
       "    </tr>\n",
       "    <tr>\n",
       "      <th>Milwaukee Bucks</th>\n",
       "      <td>28.352941</td>\n",
       "      <td>26.684211</td>\n",
       "      <td>26.944444</td>\n",
       "      <td>27.272727</td>\n",
       "      <td>26.588235</td>\n",
       "      <td>25.277778</td>\n",
       "      <td>25.000000</td>\n",
       "      <td>26.222222</td>\n",
       "      <td>26.966667</td>\n",
       "      <td>28.607143</td>\n",
       "      <td>...</td>\n",
       "      <td>18.988304</td>\n",
       "      <td>15.647059</td>\n",
       "      <td>14.727273</td>\n",
       "      <td>13.139706</td>\n",
       "      <td>14.427778</td>\n",
       "      <td>8.450000</td>\n",
       "      <td>14.165242</td>\n",
       "      <td>10.378161</td>\n",
       "      <td>22.804233</td>\n",
       "      <td>24.892105</td>\n",
       "    </tr>\n",
       "    <tr>\n",
       "      <th>Minnesota Timberwolves</th>\n",
       "      <td>24.888889</td>\n",
       "      <td>23.650000</td>\n",
       "      <td>24.866667</td>\n",
       "      <td>26.740741</td>\n",
       "      <td>25.058824</td>\n",
       "      <td>27.090909</td>\n",
       "      <td>28.476190</td>\n",
       "      <td>26.095238</td>\n",
       "      <td>27.105263</td>\n",
       "      <td>26.964286</td>\n",
       "      <td>...</td>\n",
       "      <td>4.976316</td>\n",
       "      <td>13.638095</td>\n",
       "      <td>10.336182</td>\n",
       "      <td>6.514706</td>\n",
       "      <td>39.783550</td>\n",
       "      <td>42.733333</td>\n",
       "      <td>8.428571</td>\n",
       "      <td>16.982456</td>\n",
       "      <td>12.861111</td>\n",
       "      <td>9.472906</td>\n",
       "    </tr>\n",
       "    <tr>\n",
       "      <th>New Orleans Pelicans</th>\n",
       "      <td>28.000000</td>\n",
       "      <td>27.160000</td>\n",
       "      <td>25.304348</td>\n",
       "      <td>25.409091</td>\n",
       "      <td>24.615385</td>\n",
       "      <td>25.478261</td>\n",
       "      <td>25.875000</td>\n",
       "      <td>25.804878</td>\n",
       "      <td>26.461538</td>\n",
       "      <td>26.344828</td>\n",
       "      <td>...</td>\n",
       "      <td>5.093333</td>\n",
       "      <td>7.474308</td>\n",
       "      <td>13.099567</td>\n",
       "      <td>3.410256</td>\n",
       "      <td>2.059289</td>\n",
       "      <td>8.345766</td>\n",
       "      <td>35.187805</td>\n",
       "      <td>11.513846</td>\n",
       "      <td>10.209360</td>\n",
       "      <td>17.638095</td>\n",
       "    </tr>\n",
       "    <tr>\n",
       "      <th>New York Knicks</th>\n",
       "      <td>26.238095</td>\n",
       "      <td>27.653846</td>\n",
       "      <td>27.187500</td>\n",
       "      <td>31.214286</td>\n",
       "      <td>29.400000</td>\n",
       "      <td>26.896552</td>\n",
       "      <td>26.421053</td>\n",
       "      <td>26.421053</td>\n",
       "      <td>25.840000</td>\n",
       "      <td>25.515152</td>\n",
       "      <td>...</td>\n",
       "      <td>16.186154</td>\n",
       "      <td>24.266667</td>\n",
       "      <td>35.016484</td>\n",
       "      <td>19.923810</td>\n",
       "      <td>19.221675</td>\n",
       "      <td>14.315789</td>\n",
       "      <td>18.818713</td>\n",
       "      <td>16.476667</td>\n",
       "      <td>13.443182</td>\n",
       "      <td>13.690058</td>\n",
       "    </tr>\n",
       "    <tr>\n",
       "      <th>Oklahoma City Thunder</th>\n",
       "      <td>24.000000</td>\n",
       "      <td>25.750000</td>\n",
       "      <td>25.500000</td>\n",
       "      <td>27.210526</td>\n",
       "      <td>26.357143</td>\n",
       "      <td>25.653846</td>\n",
       "      <td>27.470588</td>\n",
       "      <td>26.458333</td>\n",
       "      <td>27.823529</td>\n",
       "      <td>26.312500</td>\n",
       "      <td>...</td>\n",
       "      <td>14.260526</td>\n",
       "      <td>12.650000</td>\n",
       "      <td>26.807018</td>\n",
       "      <td>23.016484</td>\n",
       "      <td>9.126154</td>\n",
       "      <td>21.279412</td>\n",
       "      <td>60.896739</td>\n",
       "      <td>21.757353</td>\n",
       "      <td>14.029167</td>\n",
       "      <td>18.262500</td>\n",
       "    </tr>\n",
       "    <tr>\n",
       "      <th>Orlando Magic</th>\n",
       "      <td>27.181818</td>\n",
       "      <td>28.695652</td>\n",
       "      <td>26.444444</td>\n",
       "      <td>25.625000</td>\n",
       "      <td>26.352941</td>\n",
       "      <td>25.117647</td>\n",
       "      <td>25.125000</td>\n",
       "      <td>25.388889</td>\n",
       "      <td>24.684211</td>\n",
       "      <td>25.250000</td>\n",
       "      <td>...</td>\n",
       "      <td>12.893281</td>\n",
       "      <td>19.124183</td>\n",
       "      <td>20.601449</td>\n",
       "      <td>19.860294</td>\n",
       "      <td>16.279412</td>\n",
       "      <td>10.563406</td>\n",
       "      <td>8.617647</td>\n",
       "      <td>9.654971</td>\n",
       "      <td>8.410526</td>\n",
       "      <td>9.479532</td>\n",
       "    </tr>\n",
       "    <tr>\n",
       "      <th>Philadelphia 76ers</th>\n",
       "      <td>27.000000</td>\n",
       "      <td>25.928571</td>\n",
       "      <td>26.285714</td>\n",
       "      <td>25.000000</td>\n",
       "      <td>24.761905</td>\n",
       "      <td>24.625000</td>\n",
       "      <td>25.166667</td>\n",
       "      <td>25.555556</td>\n",
       "      <td>27.076923</td>\n",
       "      <td>27.657143</td>\n",
       "      <td>...</td>\n",
       "      <td>15.939560</td>\n",
       "      <td>19.208791</td>\n",
       "      <td>15.618462</td>\n",
       "      <td>6.657143</td>\n",
       "      <td>13.748992</td>\n",
       "      <td>13.432971</td>\n",
       "      <td>14.626781</td>\n",
       "      <td>18.561538</td>\n",
       "      <td>11.963025</td>\n",
       "      <td>9.693841</td>\n",
       "    </tr>\n",
       "    <tr>\n",
       "      <th>Phoenix Suns</th>\n",
       "      <td>28.000000</td>\n",
       "      <td>28.192308</td>\n",
       "      <td>29.000000</td>\n",
       "      <td>26.100000</td>\n",
       "      <td>26.611111</td>\n",
       "      <td>26.031250</td>\n",
       "      <td>25.714286</td>\n",
       "      <td>25.428571</td>\n",
       "      <td>24.904762</td>\n",
       "      <td>26.282051</td>\n",
       "      <td>...</td>\n",
       "      <td>18.566154</td>\n",
       "      <td>21.695238</td>\n",
       "      <td>13.607895</td>\n",
       "      <td>14.352941</td>\n",
       "      <td>9.353831</td>\n",
       "      <td>14.915966</td>\n",
       "      <td>18.033333</td>\n",
       "      <td>14.033333</td>\n",
       "      <td>23.673414</td>\n",
       "      <td>13.205628</td>\n",
       "    </tr>\n",
       "    <tr>\n",
       "      <th>Portland Trail Blazers</th>\n",
       "      <td>26.318182</td>\n",
       "      <td>26.250000</td>\n",
       "      <td>27.160000</td>\n",
       "      <td>24.941176</td>\n",
       "      <td>25.714286</td>\n",
       "      <td>26.761905</td>\n",
       "      <td>26.833333</td>\n",
       "      <td>24.687500</td>\n",
       "      <td>23.937500</td>\n",
       "      <td>24.857143</td>\n",
       "      <td>...</td>\n",
       "      <td>19.734211</td>\n",
       "      <td>27.556667</td>\n",
       "      <td>9.654412</td>\n",
       "      <td>15.824176</td>\n",
       "      <td>12.661905</td>\n",
       "      <td>18.253623</td>\n",
       "      <td>8.095833</td>\n",
       "      <td>6.333333</td>\n",
       "      <td>6.414286</td>\n",
       "      <td>31.720588</td>\n",
       "    </tr>\n",
       "    <tr>\n",
       "      <th>Sacramento Kings</th>\n",
       "      <td>26.333333</td>\n",
       "      <td>24.650000</td>\n",
       "      <td>24.250000</td>\n",
       "      <td>25.454545</td>\n",
       "      <td>27.181818</td>\n",
       "      <td>26.739130</td>\n",
       "      <td>26.500000</td>\n",
       "      <td>27.148148</td>\n",
       "      <td>26.538462</td>\n",
       "      <td>25.541667</td>\n",
       "      <td>...</td>\n",
       "      <td>6.892105</td>\n",
       "      <td>7.395833</td>\n",
       "      <td>5.497835</td>\n",
       "      <td>7.882576</td>\n",
       "      <td>25.498024</td>\n",
       "      <td>13.316667</td>\n",
       "      <td>18.102564</td>\n",
       "      <td>40.733846</td>\n",
       "      <td>13.275362</td>\n",
       "      <td>12.566154</td>\n",
       "    </tr>\n",
       "    <tr>\n",
       "      <th>San Antonio Spurs</th>\n",
       "      <td>29.785714</td>\n",
       "      <td>26.724138</td>\n",
       "      <td>27.222222</td>\n",
       "      <td>27.055556</td>\n",
       "      <td>28.125000</td>\n",
       "      <td>28.100000</td>\n",
       "      <td>30.615385</td>\n",
       "      <td>28.666667</td>\n",
       "      <td>28.600000</td>\n",
       "      <td>29.294118</td>\n",
       "      <td>...</td>\n",
       "      <td>17.115764</td>\n",
       "      <td>22.173203</td>\n",
       "      <td>21.947712</td>\n",
       "      <td>22.262500</td>\n",
       "      <td>60.010526</td>\n",
       "      <td>32.006154</td>\n",
       "      <td>31.398693</td>\n",
       "      <td>34.638095</td>\n",
       "      <td>35.985294</td>\n",
       "      <td>22.535948</td>\n",
       "    </tr>\n",
       "    <tr>\n",
       "      <th>Toronto Raptors</th>\n",
       "      <td>25.705882</td>\n",
       "      <td>25.333333</td>\n",
       "      <td>27.176471</td>\n",
       "      <td>26.130435</td>\n",
       "      <td>25.600000</td>\n",
       "      <td>25.750000</td>\n",
       "      <td>25.631579</td>\n",
       "      <td>25.850000</td>\n",
       "      <td>24.350000</td>\n",
       "      <td>27.904762</td>\n",
       "      <td>...</td>\n",
       "      <td>11.568182</td>\n",
       "      <td>12.389706</td>\n",
       "      <td>6.837945</td>\n",
       "      <td>4.976316</td>\n",
       "      <td>9.400000</td>\n",
       "      <td>8.473684</td>\n",
       "      <td>14.273684</td>\n",
       "      <td>14.660526</td>\n",
       "      <td>12.500000</td>\n",
       "      <td>16.862637</td>\n",
       "    </tr>\n",
       "    <tr>\n",
       "      <th>Utah Jazz</th>\n",
       "      <td>25.000000</td>\n",
       "      <td>25.833333</td>\n",
       "      <td>25.466667</td>\n",
       "      <td>25.333333</td>\n",
       "      <td>25.166667</td>\n",
       "      <td>24.333333</td>\n",
       "      <td>24.545455</td>\n",
       "      <td>26.428571</td>\n",
       "      <td>26.650000</td>\n",
       "      <td>28.500000</td>\n",
       "      <td>...</td>\n",
       "      <td>12.565359</td>\n",
       "      <td>12.980952</td>\n",
       "      <td>13.537879</td>\n",
       "      <td>14.628788</td>\n",
       "      <td>9.621212</td>\n",
       "      <td>3.777056</td>\n",
       "      <td>18.593407</td>\n",
       "      <td>10.515789</td>\n",
       "      <td>27.462500</td>\n",
       "      <td>19.252632</td>\n",
       "    </tr>\n",
       "    <tr>\n",
       "      <th>Washington Wizards</th>\n",
       "      <td>28.434783</td>\n",
       "      <td>26.468750</td>\n",
       "      <td>25.571429</td>\n",
       "      <td>27.468750</td>\n",
       "      <td>25.500000</td>\n",
       "      <td>27.761905</td>\n",
       "      <td>27.960000</td>\n",
       "      <td>25.363636</td>\n",
       "      <td>27.937500</td>\n",
       "      <td>26.656250</td>\n",
       "      <td>...</td>\n",
       "      <td>22.221774</td>\n",
       "      <td>12.190476</td>\n",
       "      <td>14.345766</td>\n",
       "      <td>14.839869</td>\n",
       "      <td>19.361905</td>\n",
       "      <td>10.500000</td>\n",
       "      <td>9.846320</td>\n",
       "      <td>11.329167</td>\n",
       "      <td>17.725806</td>\n",
       "      <td>14.624506</td>\n",
       "    </tr>\n",
       "  </tbody>\n",
       "</table>\n",
       "<p>30 rows × 33 columns</p>\n",
       "</div>"
      ],
      "text/plain": [
       "                              age                                              \\\n",
       "season                    2009-10    2010-11    2011-12    2012-13    2013-14   \n",
       "team_name                                                                       \n",
       "Atlanta Hawks           27.083333  27.388889  28.473684  27.826087  25.375000   \n",
       "Boston Celtics          27.100000  27.090909  28.533333  26.333333  25.937500   \n",
       "Brooklyn Nets           26.600000  26.000000  26.300000  28.200000  30.375000   \n",
       "Charlotte Hornets       27.238095  26.592593  26.052632  25.050000  26.000000   \n",
       "Chicago Bulls           26.650000  27.538462  28.533333  27.733333  27.157895   \n",
       "Cleveland Cavaliers     26.833333  25.678571  25.038462  24.964286  24.615385   \n",
       "Dallas Mavericks        30.047619  29.166667  30.750000  30.208333  29.000000   \n",
       "Denver Nuggets          28.142857  25.041667  26.210526  25.312500  26.888889   \n",
       "Detroit Pistons         27.333333  27.230769  27.562500  26.333333  26.166667   \n",
       "Golden State Warriors   26.600000  26.173913  24.833333  25.928571  26.294118   \n",
       "Houston Rockets         25.700000  25.280000  24.160000  24.833333  26.350000   \n",
       "Indiana Pacers          26.875000  26.375000  26.538462  26.000000  26.500000   \n",
       "Los Angeles Clippers    26.666667  27.375000  27.217391  30.076923  27.866667   \n",
       "Los Angeles Lakers      27.615385  30.187500  29.631579  28.533333  30.307692   \n",
       "Memphis Grizzlies       25.916667  26.615385  26.444444  25.259259  27.312500   \n",
       "Miami Heat              27.789474  30.277778  28.000000  28.550000  29.777778   \n",
       "Milwaukee Bucks         28.352941  26.684211  26.944444  27.272727  26.588235   \n",
       "Minnesota Timberwolves  24.888889  23.650000  24.866667  26.740741  25.058824   \n",
       "New Orleans Pelicans    28.000000  27.160000  25.304348  25.409091  24.615385   \n",
       "New York Knicks         26.238095  27.653846  27.187500  31.214286  29.400000   \n",
       "Oklahoma City Thunder   24.000000  25.750000  25.500000  27.210526  26.357143   \n",
       "Orlando Magic           27.181818  28.695652  26.444444  25.625000  26.352941   \n",
       "Philadelphia 76ers      27.000000  25.928571  26.285714  25.000000  24.761905   \n",
       "Phoenix Suns            28.000000  28.192308  29.000000  26.100000  26.611111   \n",
       "Portland Trail Blazers  26.318182  26.250000  27.160000  24.941176  25.714286   \n",
       "Sacramento Kings        26.333333  24.650000  24.250000  25.454545  27.181818   \n",
       "San Antonio Spurs       29.785714  26.724138  27.222222  27.055556  28.125000   \n",
       "Toronto Raptors         25.705882  25.333333  27.176471  26.130435  25.600000   \n",
       "Utah Jazz               25.000000  25.833333  25.466667  25.333333  25.166667   \n",
       "Washington Wizards      28.434783  26.468750  25.571429  27.468750  25.500000   \n",
       "\n",
       "                                                                               \\\n",
       "season                    2014-15    2015-16    2016-17    2017-18    2018-19   \n",
       "team_name                                                                       \n",
       "Atlanta Hawks           27.555556  28.800000  29.645161  27.615385  27.083333   \n",
       "Boston Celtics          26.148148  26.842105  25.266667  25.782609  26.222222   \n",
       "Brooklyn Nets           27.000000  27.095238  26.454545  25.880000  26.296296   \n",
       "Charlotte Hornets       26.000000  26.333333  25.777778  25.375000  26.352941   \n",
       "Chicago Bulls           28.937500  27.388889  25.857143  27.078947  24.961538   \n",
       "Cleveland Cavaliers     28.347826  28.947368  29.777778  28.038462  25.517241   \n",
       "Dallas Mavericks        28.000000  30.150000  26.562500  26.947368  27.857143   \n",
       "Denver Nuggets          25.800000  26.321429  25.833333  28.400000  24.625000   \n",
       "Detroit Pistons         27.230769  26.315789  25.642857  27.772727  25.625000   \n",
       "Golden State Warriors   27.187500  28.368421  29.294118  28.466667  28.071429   \n",
       "Houston Rockets         27.935484  27.458333  27.500000  29.400000  28.043478   \n",
       "Indiana Pacers          27.800000  26.380952  26.684211  27.000000  26.619048   \n",
       "Los Angeles Clippers    28.285714  29.105263  29.562500  27.333333  27.222222   \n",
       "Los Angeles Lakers      25.789474  27.357143  26.909091  26.571429  27.708333   \n",
       "Memphis Grizzlies       26.695652  27.682927  27.352941  25.956522  26.444444   \n",
       "Miami Heat              27.850000  30.055556  26.166667  28.368421  27.277778   \n",
       "Milwaukee Bucks         25.277778  25.000000  26.222222  26.966667  28.607143   \n",
       "Minnesota Timberwolves  27.090909  28.476190  26.095238  27.105263  26.964286   \n",
       "New Orleans Pelicans    25.478261  25.875000  25.804878  26.461538  26.344828   \n",
       "New York Knicks         26.896552  26.421053  26.421053  25.840000  25.515152   \n",
       "Oklahoma City Thunder   25.653846  27.470588  26.458333  27.823529  26.312500   \n",
       "Orlando Magic           25.117647  25.125000  25.388889  24.684211  25.250000   \n",
       "Philadelphia 76ers      24.625000  25.166667  25.555556  27.076923  27.657143   \n",
       "Phoenix Suns            26.031250  25.714286  25.428571  24.904762  26.282051   \n",
       "Portland Trail Blazers  26.761905  26.833333  24.687500  23.937500  24.857143   \n",
       "Sacramento Kings        26.739130  26.500000  27.148148  26.538462  25.541667   \n",
       "San Antonio Spurs       28.100000  30.615385  28.666667  28.600000  29.294118   \n",
       "Toronto Raptors         25.750000  25.631579  25.850000  24.350000  27.904762   \n",
       "Utah Jazz               24.333333  24.545455  26.428571  26.650000  28.500000   \n",
       "Washington Wizards      27.761905  27.960000  25.363636  27.937500  26.656250   \n",
       "\n",
       "                        ...    var_exp                                   \\\n",
       "season                  ...    2010-11    2011-12    2012-13    2013-14   \n",
       "team_name               ...                                               \n",
       "Atlanta Hawks           ...   8.065359  28.116959  15.450593  15.866667   \n",
       "Boston Celtics          ...  32.051948  32.095238  27.101449  12.929167   \n",
       "Brooklyn Nets           ...   5.221344  10.660526  22.780952  27.716667   \n",
       "Charlotte Hornets       ...  16.686610  50.830409  52.947368   9.339181   \n",
       "Chicago Bulls           ...  15.923077  12.780952  16.780952  18.397661   \n",
       "Cleveland Cavaliers     ...  17.809524  15.938462   8.359788   9.423077   \n",
       "Dallas Mavericks        ...  15.188406  24.272727  30.782609  28.769231   \n",
       "Denver Nuggets          ...  11.505435  18.023392  14.116667  19.084967   \n",
       "Detroit Pistons         ...  21.576923  20.783333  14.600000  19.901515   \n",
       "Golden State Warriors   ...  36.383399   9.201087  13.450549  18.882353   \n",
       "Houston Rockets         ...  10.333333   4.916667   8.891954  50.471053   \n",
       "Indiana Pacers          ...  14.262500  11.358974   5.918129   8.109890   \n",
       "Los Angeles Clippers    ...   9.471014  16.509881  22.897436  15.095238   \n",
       "Los Angeles Lakers      ...  28.066667  23.397661  33.980952  25.102564   \n",
       "Memphis Grizzlies       ...  16.013846  13.624183  10.062678  11.316667   \n",
       "Miami Heat              ...  18.941176  25.867647  28.028947  22.970588   \n",
       "Milwaukee Bucks         ...  18.988304  15.647059  14.727273  13.139706   \n",
       "Minnesota Timberwolves  ...   4.976316  13.638095  10.336182   6.514706   \n",
       "New Orleans Pelicans    ...   5.093333   7.474308  13.099567   3.410256   \n",
       "New York Knicks         ...  16.186154  24.266667  35.016484  19.923810   \n",
       "Oklahoma City Thunder   ...  14.260526  12.650000  26.807018  23.016484   \n",
       "Orlando Magic           ...  12.893281  19.124183  20.601449  19.860294   \n",
       "Philadelphia 76ers      ...  15.939560  19.208791  15.618462   6.657143   \n",
       "Phoenix Suns            ...  18.566154  21.695238  13.607895  14.352941   \n",
       "Portland Trail Blazers  ...  19.734211  27.556667   9.654412  15.824176   \n",
       "Sacramento Kings        ...   6.892105   7.395833   5.497835   7.882576   \n",
       "San Antonio Spurs       ...  17.115764  22.173203  21.947712  22.262500   \n",
       "Toronto Raptors         ...  11.568182  12.389706   6.837945   4.976316   \n",
       "Utah Jazz               ...  12.565359  12.980952  13.537879  14.628788   \n",
       "Washington Wizards      ...  22.221774  12.190476  14.345766  14.839869   \n",
       "\n",
       "                                                                               \\\n",
       "season                    2014-15    2015-16    2016-17    2017-18    2018-19   \n",
       "team_name                                                                       \n",
       "Atlanta Hawks           16.614379  20.155263  27.827957  25.975385  30.340580   \n",
       "Boston Celtics          11.230769  15.912281  14.780952   9.059289  12.705882   \n",
       "Brooklyn Nets           14.916667  24.390476  12.132576   5.723333  15.404558   \n",
       "Charlotte Hornets       15.307692  10.173203  17.437908  16.262500  21.154412   \n",
       "Chicago Bulls           28.466667  20.761438  14.261905  15.439545  10.395385   \n",
       "Cleveland Cavaliers     20.620553  24.619883  20.182336  21.853846  11.401478   \n",
       "Dallas Mavericks        25.146825  18.410526  20.369960  21.923977  27.433333   \n",
       "Denver Nuggets          13.820690  16.629630  17.326087  29.418421  14.116667   \n",
       "Detroit Pistons         14.746154  13.450292   9.516484  16.599567  19.172101   \n",
       "Golden State Warriors   14.262500  13.666667  23.433824  24.257143  24.769231   \n",
       "Houston Rockets         16.161290  16.927536  23.629167  26.916667  15.901186   \n",
       "Indiana Pacers          10.980952   9.847619  13.444444  16.649123  11.790476   \n",
       "Los Angeles Clippers    14.290476  22.473684  23.295833   9.201087  20.319088   \n",
       "Los Angeles Lakers      23.000000  39.340659  24.831169  23.146825  34.259058   \n",
       "Memphis Grizzlies       22.584980  24.275610  32.742647  15.474308  14.980159   \n",
       "Miami Heat              22.344737  22.418301  13.320261  21.649123  27.205882   \n",
       "Milwaukee Bucks         14.427778   8.450000  14.165242  10.378161  22.804233   \n",
       "Minnesota Timberwolves  39.783550  42.733333   8.428571  16.982456  12.861111   \n",
       "New Orleans Pelicans     2.059289   8.345766  35.187805  11.513846  10.209360   \n",
       "New York Knicks         19.221675  14.315789  18.818713  16.476667  13.443182   \n",
       "Oklahoma City Thunder    9.126154  21.279412  60.896739  21.757353  14.029167   \n",
       "Orlando Magic           16.279412  10.563406   8.617647   9.654971   8.410526   \n",
       "Philadelphia 76ers      13.748992  13.432971  14.626781  18.561538  11.963025   \n",
       "Phoenix Suns             9.353831  14.915966  18.033333  14.033333  23.673414   \n",
       "Portland Trail Blazers  12.661905  18.253623   8.095833   6.333333   6.414286   \n",
       "Sacramento Kings        25.498024  13.316667  18.102564  40.733846  13.275362   \n",
       "San Antonio Spurs       60.010526  32.006154  31.398693  34.638095  35.985294   \n",
       "Toronto Raptors          9.400000   8.473684  14.273684  14.660526  12.500000   \n",
       "Utah Jazz                9.621212   3.777056  18.593407  10.515789  27.462500   \n",
       "Washington Wizards      19.361905  10.500000   9.846320  11.329167  17.725806   \n",
       "\n",
       "                                   \n",
       "season                    2019-20  \n",
       "team_name                          \n",
       "Atlanta Hawks           23.690476  \n",
       "Boston Celtics          10.352381  \n",
       "Brooklyn Nets           21.346014  \n",
       "Charlotte Hornets       25.228070  \n",
       "Chicago Bulls           10.192308  \n",
       "Cleveland Cavaliers     15.134387  \n",
       "Dallas Mavericks         8.454545  \n",
       "Denver Nuggets           9.437908  \n",
       "Detroit Pistons         10.645161  \n",
       "Golden State Warriors    9.161905  \n",
       "Houston Rockets         21.379630  \n",
       "Indiana Pacers           5.230769  \n",
       "Los Angeles Clippers    13.944737  \n",
       "Los Angeles Lakers      16.561905  \n",
       "Memphis Grizzlies       15.873118  \n",
       "Miami Heat              22.918129  \n",
       "Milwaukee Bucks         24.892105  \n",
       "Minnesota Timberwolves   9.472906  \n",
       "New Orleans Pelicans    17.638095  \n",
       "New York Knicks         13.690058  \n",
       "Oklahoma City Thunder   18.262500  \n",
       "Orlando Magic            9.479532  \n",
       "Philadelphia 76ers       9.693841  \n",
       "Phoenix Suns            13.205628  \n",
       "Portland Trail Blazers  31.720588  \n",
       "Sacramento Kings        12.566154  \n",
       "San Antonio Spurs       22.535948  \n",
       "Toronto Raptors         16.862637  \n",
       "Utah Jazz               19.252632  \n",
       "Washington Wizards      14.624506  \n",
       "\n",
       "[30 rows x 33 columns]"
      ]
     },
     "execution_count": 55,
     "metadata": {},
     "output_type": "execute_result"
    }
   ],
   "source": [
    "df_cross_tab = df_team_age_exp.pivot(index=[\"team_name\"], columns=[\"season\"], values=[\"age\", \"mean_exp\", \"var_exp\"])\n",
    "print(\"Statistics of teams per season (cross-tabulated):\")\n",
    "df_cross_tab"
   ]
  },
  {
   "cell_type": "markdown",
   "metadata": {},
   "source": [
    "### Question 5"
   ]
  },
  {
   "cell_type": "markdown",
   "metadata": {},
   "source": [
    "Other data used to explain Salary"
   ]
  },
  {
   "cell_type": "markdown",
   "metadata": {},
   "source": [
    "One hot encode \"pos\""
   ]
  },
  {
   "cell_type": "code",
   "execution_count": 57,
   "metadata": {},
   "outputs": [],
   "source": [
    "pos_dummies = pd.get_dummies(df[\"pos\"])\n",
    "df = df.merge(pos_dummies,\n",
    "              how=\"inner\",\n",
    "              left_index=True,\n",
    "              right_index=True).reset_index(drop=True)"
   ]
  },
  {
   "cell_type": "markdown",
   "metadata": {},
   "source": [
    "One hot encode \"season_year\""
   ]
  },
  {
   "cell_type": "code",
   "execution_count": 58,
   "metadata": {},
   "outputs": [],
   "source": [
    "season_year_dummies = pd.get_dummies(df[\"season_year\"].astype(int).astype(str))\n",
    "df = df.merge(season_year_dummies,\n",
    "              how=\"inner\",\n",
    "              left_index=True,\n",
    "              right_index=True).reset_index(drop=True)"
   ]
  },
  {
   "cell_type": "markdown",
   "metadata": {},
   "source": [
    "Key columns"
   ]
  },
  {
   "cell_type": "code",
   "execution_count": 60,
   "metadata": {},
   "outputs": [
    {
     "data": {
      "text/plain": [
       "'\\nkey_cols.remove(\"team_fga\")\\nkey_cols.remove(\"team_fg%\")\\nkey_cols.remove(\"team_3p\")\\nkey_cols.remove(\"team_3pa\")\\nkey_cols.remove(\"team_3p%\")\\nkey_cols.remove(\"team_2p\")\\nkey_cols.remove(\"team_2pa\")\\nkey_cols.remove(\"team_2p%\")\\nkey_cols.remove(\"team_ft\")\\nkey_cols.remove(\"team_fta\")\\nkey_cols.remove(\"team_ft%\")\\nkey_cols.remove(\"team_tov\")\\nkey_cols.remove(\"team_pf\")\\nkey_cols.remove(\"team_pts\")\\nkey_cols.remove(\"team_orb\")\\nkey_cols.remove(\"team_drb\")\\nkey_cols.remove(\"team_ast\")\\nkey_cols.remove(\"team_stl\")\\nkey_cols.remove(\"team_blk\")\\nkey_cols.remove(\"team_trb\")\\n'"
      ]
     },
     "execution_count": 60,
     "metadata": {},
     "output_type": "execute_result"
    }
   ],
   "source": [
    "key_cols = list(df.columns)\n",
    "key_cols.remove(\"age\")\n",
    "key_cols.remove(\"total_salary\")\n",
    "key_cols.remove(\"player\")\n",
    "key_cols.remove(\"season\")\n",
    "key_cols.remove(\"season_year\")\n",
    "key_cols.remove(\"team_name\")\n",
    "key_cols.remove(\"pos\")\n",
    "key_cols.remove(\"start_year\")\n",
    "key_cols.remove(\"full_team_name\")\n",
    "key_cols.remove(\"latest_year\")\n",
    "key_cols.remove(\"team_location\")\n",
    "key_cols.remove(\"experience\")\n",
    "key_cols.remove(\"team_total_seasons\")\n",
    "key_cols.remove(\"team_championships\")\n",
    "key_cols.remove(\"team_playoff_appearances\")\n",
    "key_cols.remove(\"team_g\")\n",
    "key_cols.remove(\"team_mp\")\n",
    "key_cols.remove(\"team_record\")\n",
    "key_cols.remove(\"team_fg\")\n",
    "key_cols.remove(\"tm\")"
   ]
  },
  {
   "cell_type": "code",
   "execution_count": 61,
   "metadata": {},
   "outputs": [],
   "source": [
    "df_final = df.loc[:, key_cols]"
   ]
  },
  {
   "cell_type": "markdown",
   "metadata": {},
   "source": [
    "Summary Statistics of Variables"
   ]
  },
  {
   "cell_type": "code",
   "execution_count": 62,
   "metadata": {},
   "outputs": [
    {
     "name": "stdout",
     "output_type": "stream",
     "text": [
      "Summary statistics:\n"
     ]
    },
    {
     "data": {
      "text/html": [
       "<div>\n",
       "<style scoped>\n",
       "    .dataframe tbody tr th:only-of-type {\n",
       "        vertical-align: middle;\n",
       "    }\n",
       "\n",
       "    .dataframe tbody tr th {\n",
       "        vertical-align: top;\n",
       "    }\n",
       "\n",
       "    .dataframe thead th {\n",
       "        text-align: right;\n",
       "    }\n",
       "</style>\n",
       "<table border=\"1\" class=\"dataframe\">\n",
       "  <thead>\n",
       "    <tr style=\"text-align: right;\">\n",
       "      <th></th>\n",
       "      <th>salary</th>\n",
       "      <th>g</th>\n",
       "      <th>gs</th>\n",
       "      <th>mp</th>\n",
       "      <th>fg</th>\n",
       "      <th>fga</th>\n",
       "      <th>fg%</th>\n",
       "      <th>3p</th>\n",
       "      <th>3pa</th>\n",
       "      <th>3p%</th>\n",
       "      <th>...</th>\n",
       "      <th>2011</th>\n",
       "      <th>2012</th>\n",
       "      <th>2013</th>\n",
       "      <th>2014</th>\n",
       "      <th>2015</th>\n",
       "      <th>2016</th>\n",
       "      <th>2017</th>\n",
       "      <th>2018</th>\n",
       "      <th>2019</th>\n",
       "      <th>age_YTD</th>\n",
       "    </tr>\n",
       "  </thead>\n",
       "  <tbody>\n",
       "    <tr>\n",
       "      <th>count</th>\n",
       "      <td>6.930000e+03</td>\n",
       "      <td>6930.000000</td>\n",
       "      <td>6930.000000</td>\n",
       "      <td>6930.000000</td>\n",
       "      <td>6930.000000</td>\n",
       "      <td>6930.000000</td>\n",
       "      <td>6930.000000</td>\n",
       "      <td>6930.000000</td>\n",
       "      <td>6930.000000</td>\n",
       "      <td>6930.000000</td>\n",
       "      <td>...</td>\n",
       "      <td>6930.000000</td>\n",
       "      <td>6930.000000</td>\n",
       "      <td>6930.000000</td>\n",
       "      <td>6930.000000</td>\n",
       "      <td>6930.000000</td>\n",
       "      <td>6930.000000</td>\n",
       "      <td>6930.000000</td>\n",
       "      <td>6930.000000</td>\n",
       "      <td>6930.000000</td>\n",
       "      <td>6930.000000</td>\n",
       "    </tr>\n",
       "    <tr>\n",
       "      <th>mean</th>\n",
       "      <td>4.913745e+06</td>\n",
       "      <td>45.464935</td>\n",
       "      <td>20.983838</td>\n",
       "      <td>19.729481</td>\n",
       "      <td>3.004517</td>\n",
       "      <td>6.732583</td>\n",
       "      <td>0.436263</td>\n",
       "      <td>0.693045</td>\n",
       "      <td>1.989481</td>\n",
       "      <td>0.261297</td>\n",
       "      <td>...</td>\n",
       "      <td>0.078932</td>\n",
       "      <td>0.088889</td>\n",
       "      <td>0.072150</td>\n",
       "      <td>0.102020</td>\n",
       "      <td>0.095527</td>\n",
       "      <td>0.094517</td>\n",
       "      <td>0.095815</td>\n",
       "      <td>0.104473</td>\n",
       "      <td>0.089899</td>\n",
       "      <td>21.874026</td>\n",
       "    </tr>\n",
       "    <tr>\n",
       "      <th>std</th>\n",
       "      <td>5.916186e+06</td>\n",
       "      <td>25.664808</td>\n",
       "      <td>26.545631</td>\n",
       "      <td>9.164025</td>\n",
       "      <td>2.046424</td>\n",
       "      <td>4.329675</td>\n",
       "      <td>0.106330</td>\n",
       "      <td>0.718233</td>\n",
       "      <td>1.879922</td>\n",
       "      <td>0.169259</td>\n",
       "      <td>...</td>\n",
       "      <td>0.269652</td>\n",
       "      <td>0.284604</td>\n",
       "      <td>0.258755</td>\n",
       "      <td>0.302697</td>\n",
       "      <td>0.293962</td>\n",
       "      <td>0.292567</td>\n",
       "      <td>0.294359</td>\n",
       "      <td>0.305896</td>\n",
       "      <td>0.286058</td>\n",
       "      <td>5.207140</td>\n",
       "    </tr>\n",
       "    <tr>\n",
       "      <th>min</th>\n",
       "      <td>4.608000e+03</td>\n",
       "      <td>1.000000</td>\n",
       "      <td>0.000000</td>\n",
       "      <td>0.000000</td>\n",
       "      <td>0.000000</td>\n",
       "      <td>0.000000</td>\n",
       "      <td>0.000000</td>\n",
       "      <td>0.000000</td>\n",
       "      <td>0.000000</td>\n",
       "      <td>0.000000</td>\n",
       "      <td>...</td>\n",
       "      <td>0.000000</td>\n",
       "      <td>0.000000</td>\n",
       "      <td>0.000000</td>\n",
       "      <td>0.000000</td>\n",
       "      <td>0.000000</td>\n",
       "      <td>0.000000</td>\n",
       "      <td>0.000000</td>\n",
       "      <td>0.000000</td>\n",
       "      <td>0.000000</td>\n",
       "      <td>9.000000</td>\n",
       "    </tr>\n",
       "    <tr>\n",
       "      <th>25%</th>\n",
       "      <td>1.000000e+06</td>\n",
       "      <td>23.000000</td>\n",
       "      <td>0.000000</td>\n",
       "      <td>12.500000</td>\n",
       "      <td>1.400000</td>\n",
       "      <td>3.400000</td>\n",
       "      <td>0.396000</td>\n",
       "      <td>0.000000</td>\n",
       "      <td>0.300000</td>\n",
       "      <td>0.143000</td>\n",
       "      <td>...</td>\n",
       "      <td>0.000000</td>\n",
       "      <td>0.000000</td>\n",
       "      <td>0.000000</td>\n",
       "      <td>0.000000</td>\n",
       "      <td>0.000000</td>\n",
       "      <td>0.000000</td>\n",
       "      <td>0.000000</td>\n",
       "      <td>0.000000</td>\n",
       "      <td>0.000000</td>\n",
       "      <td>18.000000</td>\n",
       "    </tr>\n",
       "    <tr>\n",
       "      <th>50%</th>\n",
       "      <td>2.500000e+06</td>\n",
       "      <td>49.000000</td>\n",
       "      <td>7.000000</td>\n",
       "      <td>19.300000</td>\n",
       "      <td>2.600000</td>\n",
       "      <td>5.800000</td>\n",
       "      <td>0.435000</td>\n",
       "      <td>0.500000</td>\n",
       "      <td>1.600000</td>\n",
       "      <td>0.318000</td>\n",
       "      <td>...</td>\n",
       "      <td>0.000000</td>\n",
       "      <td>0.000000</td>\n",
       "      <td>0.000000</td>\n",
       "      <td>0.000000</td>\n",
       "      <td>0.000000</td>\n",
       "      <td>0.000000</td>\n",
       "      <td>0.000000</td>\n",
       "      <td>0.000000</td>\n",
       "      <td>0.000000</td>\n",
       "      <td>22.000000</td>\n",
       "    </tr>\n",
       "    <tr>\n",
       "      <th>75%</th>\n",
       "      <td>6.514907e+06</td>\n",
       "      <td>69.000000</td>\n",
       "      <td>37.000000</td>\n",
       "      <td>27.175000</td>\n",
       "      <td>4.200000</td>\n",
       "      <td>9.275000</td>\n",
       "      <td>0.481000</td>\n",
       "      <td>1.100000</td>\n",
       "      <td>3.200000</td>\n",
       "      <td>0.368000</td>\n",
       "      <td>...</td>\n",
       "      <td>0.000000</td>\n",
       "      <td>0.000000</td>\n",
       "      <td>0.000000</td>\n",
       "      <td>0.000000</td>\n",
       "      <td>0.000000</td>\n",
       "      <td>0.000000</td>\n",
       "      <td>0.000000</td>\n",
       "      <td>0.000000</td>\n",
       "      <td>0.000000</td>\n",
       "      <td>25.000000</td>\n",
       "    </tr>\n",
       "    <tr>\n",
       "      <th>max</th>\n",
       "      <td>4.023176e+07</td>\n",
       "      <td>83.000000</td>\n",
       "      <td>82.000000</td>\n",
       "      <td>42.000000</td>\n",
       "      <td>10.900000</td>\n",
       "      <td>24.500000</td>\n",
       "      <td>1.000000</td>\n",
       "      <td>5.100000</td>\n",
       "      <td>13.200000</td>\n",
       "      <td>1.000000</td>\n",
       "      <td>...</td>\n",
       "      <td>1.000000</td>\n",
       "      <td>1.000000</td>\n",
       "      <td>1.000000</td>\n",
       "      <td>1.000000</td>\n",
       "      <td>1.000000</td>\n",
       "      <td>1.000000</td>\n",
       "      <td>1.000000</td>\n",
       "      <td>1.000000</td>\n",
       "      <td>1.000000</td>\n",
       "      <td>43.000000</td>\n",
       "    </tr>\n",
       "  </tbody>\n",
       "</table>\n",
       "<p>8 rows × 77 columns</p>\n",
       "</div>"
      ],
      "text/plain": [
       "             salary            g           gs           mp           fg  \\\n",
       "count  6.930000e+03  6930.000000  6930.000000  6930.000000  6930.000000   \n",
       "mean   4.913745e+06    45.464935    20.983838    19.729481     3.004517   \n",
       "std    5.916186e+06    25.664808    26.545631     9.164025     2.046424   \n",
       "min    4.608000e+03     1.000000     0.000000     0.000000     0.000000   \n",
       "25%    1.000000e+06    23.000000     0.000000    12.500000     1.400000   \n",
       "50%    2.500000e+06    49.000000     7.000000    19.300000     2.600000   \n",
       "75%    6.514907e+06    69.000000    37.000000    27.175000     4.200000   \n",
       "max    4.023176e+07    83.000000    82.000000    42.000000    10.900000   \n",
       "\n",
       "               fga          fg%           3p          3pa          3p%  ...  \\\n",
       "count  6930.000000  6930.000000  6930.000000  6930.000000  6930.000000  ...   \n",
       "mean      6.732583     0.436263     0.693045     1.989481     0.261297  ...   \n",
       "std       4.329675     0.106330     0.718233     1.879922     0.169259  ...   \n",
       "min       0.000000     0.000000     0.000000     0.000000     0.000000  ...   \n",
       "25%       3.400000     0.396000     0.000000     0.300000     0.143000  ...   \n",
       "50%       5.800000     0.435000     0.500000     1.600000     0.318000  ...   \n",
       "75%       9.275000     0.481000     1.100000     3.200000     0.368000  ...   \n",
       "max      24.500000     1.000000     5.100000    13.200000     1.000000  ...   \n",
       "\n",
       "              2011         2012         2013         2014         2015  \\\n",
       "count  6930.000000  6930.000000  6930.000000  6930.000000  6930.000000   \n",
       "mean      0.078932     0.088889     0.072150     0.102020     0.095527   \n",
       "std       0.269652     0.284604     0.258755     0.302697     0.293962   \n",
       "min       0.000000     0.000000     0.000000     0.000000     0.000000   \n",
       "25%       0.000000     0.000000     0.000000     0.000000     0.000000   \n",
       "50%       0.000000     0.000000     0.000000     0.000000     0.000000   \n",
       "75%       0.000000     0.000000     0.000000     0.000000     0.000000   \n",
       "max       1.000000     1.000000     1.000000     1.000000     1.000000   \n",
       "\n",
       "              2016         2017         2018         2019      age_YTD  \n",
       "count  6930.000000  6930.000000  6930.000000  6930.000000  6930.000000  \n",
       "mean      0.094517     0.095815     0.104473     0.089899    21.874026  \n",
       "std       0.292567     0.294359     0.305896     0.286058     5.207140  \n",
       "min       0.000000     0.000000     0.000000     0.000000     9.000000  \n",
       "25%       0.000000     0.000000     0.000000     0.000000    18.000000  \n",
       "50%       0.000000     0.000000     0.000000     0.000000    22.000000  \n",
       "75%       0.000000     0.000000     0.000000     0.000000    25.000000  \n",
       "max       1.000000     1.000000     1.000000     1.000000    43.000000  \n",
       "\n",
       "[8 rows x 77 columns]"
      ]
     },
     "execution_count": 62,
     "metadata": {},
     "output_type": "execute_result"
    }
   ],
   "source": [
    "print(\"Summary statistics:\")\n",
    "df_final.describe()"
   ]
  },
  {
   "cell_type": "code",
   "execution_count": 63,
   "metadata": {},
   "outputs": [
    {
     "data": {
      "text/plain": [
       "Index(['salary', 'g', 'gs', 'mp', 'fg', 'fga', 'fg%', '3p', '3pa', '3p%', '2p',\n",
       "       '2pa', '2p%', 'efg%', 'ft', 'fta', 'ft%', 'orb', 'drb', 'trb', 'ast',\n",
       "       'stl', 'blk', 'tov', 'pf', 'pts', 'height', 'weight', 'experience_YTD',\n",
       "       'team_fga', 'team_fg%', 'team_3p', 'team_3pa', 'team_3p%', 'team_2p',\n",
       "       'team_2pa', 'team_2p%', 'team_ft', 'team_fta', 'team_ft%', 'team_orb',\n",
       "       'team_drb', 'team_trb', 'team_ast', 'team_stl', 'team_blk', 'team_tov',\n",
       "       'team_pf', 'team_pts', 'team_count', 'C', 'C-PF', 'PF', 'PF-C', 'PF-SF',\n",
       "       'PG', 'PG-SG', 'SF', 'SF-C', 'SF-PF', 'SF-SG', 'SG', 'SG-PF', 'SG-PG',\n",
       "       'SG-SF', '2009', '2010', '2011', '2012', '2013', '2014', '2015', '2016',\n",
       "       '2017', '2018', '2019', 'age_YTD'],\n",
       "      dtype='object')"
      ]
     },
     "execution_count": 63,
     "metadata": {},
     "output_type": "execute_result"
    }
   ],
   "source": [
    "df_final.columns"
   ]
  },
  {
   "cell_type": "markdown",
   "metadata": {},
   "source": [
    "# Part C"
   ]
  },
  {
   "cell_type": "markdown",
   "metadata": {},
   "source": [
    "Understanding distribution of salary"
   ]
  },
  {
   "cell_type": "code",
   "execution_count": 64,
   "metadata": {},
   "outputs": [
    {
     "data": {
      "image/png": "[encoded data removed]",
      "text/plain": [
       "<Figure size 432x288 with 1 Axes>"
      ]
     },
     "metadata": {
      "needs_background": "light"
     },
     "output_type": "display_data"
    }
   ],
   "source": [
    "plt.hist(df_final[\"salary\"], bins=100)\n",
    "plt.show()"
   ]
  },
  {
   "cell_type": "markdown",
   "metadata": {},
   "source": [
    "### Question 1a"
   ]
  },
  {
   "cell_type": "markdown",
   "metadata": {},
   "source": [
    "Metric for evaluation: Silhouette Score\n",
    "    \n",
    "    Silhouette Coefficient = (x-y)/ max(x,y)\n",
    "    where x = mean intercluster distance and y = mean intracluster distance"
   ]
  },
  {
   "cell_type": "markdown",
   "metadata": {},
   "source": [
    "Define cluster sizes"
   ]
  },
  {
   "cell_type": "code",
   "execution_count": 65,
   "metadata": {},
   "outputs": [],
   "source": [
    "n_clusters = range(2, 22)"
   ]
  },
  {
   "cell_type": "markdown",
   "metadata": {},
   "source": [
    "Form clusters using salary"
   ]
  },
  {
   "cell_type": "code",
   "execution_count": 66,
   "metadata": {},
   "outputs": [],
   "source": [
    "df_salary_clusters = df_final.loc[:, \"salary\"].to_frame()\n",
    "df_salary_Kmeans = df_final.loc[:, \"salary\"].to_frame()"
   ]
  },
  {
   "cell_type": "markdown",
   "metadata": {},
   "source": [
    "Fit Kmeans to salary to identify optimal clusters"
   ]
  },
  {
   "cell_type": "code",
   "execution_count": 502,
   "metadata": {},
   "outputs": [],
   "source": [
    "for n_cluster in n_clusters:\n",
    "    kmeans = KMeans(n_clusters=n_cluster, random_state=0, max_iter=1000).fit(df_salary_Kmeans)\n",
    "    df_salary_clusters[\"cluster_{}\".format(n_cluster)] = kmeans.labels_"
   ]
  },
  {
   "cell_type": "markdown",
   "metadata": {},
   "source": [
    "Evaluate similarity of salary clusters"
   ]
  },
  {
   "cell_type": "code",
   "execution_count": 503,
   "metadata": {},
   "outputs": [],
   "source": [
    "all_salary_scores = []\n",
    "\n",
    "for n_cluster in n_clusters:\n",
    "    score = silhouette_score(df_salary_clusters[\"salary\"].to_frame(), df_salary_clusters[\"cluster_{}\".format(n_cluster)])\n",
    "    all_salary_scores.append(score)"
   ]
  },
  {
   "cell_type": "code",
   "execution_count": 504,
   "metadata": {},
   "outputs": [
    {
     "data": {
      "text/plain": [
       "[0.7381452959957626,\n",
       " 0.6796920733722058,\n",
       " 0.6451338085416466,\n",
       " 0.6116846185878068,\n",
       " 0.6008688107713919,\n",
       " 0.5930630154316684,\n",
       " 0.5774114546718456,\n",
       " 0.5716190350626539,\n",
       " 0.5518372485074354,\n",
       " 0.5467786641840835,\n",
       " 0.5461950364100183,\n",
       " 0.5455401195512698,\n",
       " 0.569054119038075,\n",
       " 0.5716171020834102,\n",
       " 0.5693514103790446,\n",
       " 0.5683562861276443,\n",
       " 0.5739582606083161,\n",
       " 0.5793098056013686,\n",
       " 0.581081546073071,\n",
       " 0.5779431290474045]"
      ]
     },
     "execution_count": 504,
     "metadata": {},
     "output_type": "execute_result"
    }
   ],
   "source": [
    "all_salary_scores"
   ]
  },
  {
   "cell_type": "markdown",
   "metadata": {},
   "source": [
    "Get predictors"
   ]
  },
  {
   "cell_type": "code",
   "execution_count": 67,
   "metadata": {},
   "outputs": [],
   "source": [
    "df_Kmeans = df_final.drop(columns=[\"salary\"])\n",
    "df_Kmeans_clusters = df_final.drop(columns=[\"salary\"])\n",
    "df_Kmeans_cols = df_Kmeans.columns"
   ]
  },
  {
   "cell_type": "markdown",
   "metadata": {},
   "source": [
    "Normalize predictors"
   ]
  },
  {
   "cell_type": "code",
   "execution_count": 68,
   "metadata": {},
   "outputs": [],
   "source": [
    "scaler = StandardScaler()\n",
    "df_Kmeans = pd.DataFrame(scaler.fit_transform(df_Kmeans), columns=df_Kmeans_cols)"
   ]
  },
  {
   "cell_type": "markdown",
   "metadata": {},
   "source": [
    "Random selection of predictors"
   ]
  },
  {
   "cell_type": "code",
   "execution_count": 69,
   "metadata": {},
   "outputs": [],
   "source": [
    "def _generate_random_predictors(df_Kmeans):\n",
    "    size_pct = float(np.random.randint(low=0, high=100))/100\n",
    "    size = max(int(df_Kmeans.shape[1] * size_pct), 1)\n",
    "    features = np.random.choice(list(df_Kmeans.columns), size=size, replace=False)\n",
    "    \n",
    "    return df_Kmeans.loc[:, features]"
   ]
  },
  {
   "cell_type": "markdown",
   "metadata": {},
   "source": [
    "Define number of random selections of predictors"
   ]
  },
  {
   "cell_type": "code",
   "execution_count": 70,
   "metadata": {},
   "outputs": [],
   "source": [
    "n_feature_selection = range(50)"
   ]
  },
  {
   "cell_type": "markdown",
   "metadata": {},
   "source": [
    "Fit Kmeans"
   ]
  },
  {
   "cell_type": "code",
   "execution_count": 517,
   "metadata": {},
   "outputs": [],
   "source": [
    "all_feature_clusters = []\n",
    "\n",
    "for i in n_feature_selection:\n",
    "    df_features = _generate_random_predictors(df_Kmeans=df_Kmeans)\n",
    "    \n",
    "    for n_cluster in n_clusters:\n",
    "        kmeans = KMeans(n_clusters=n_cluster, random_state=0, max_iter=1000).fit(df_features)\n",
    "        \n",
    "        feature_cluster = (list(df_features.columns), kmeans.labels_, n_cluster)\n",
    "        all_feature_clusters.append(feature_cluster)"
   ]
  },
  {
   "cell_type": "markdown",
   "metadata": {},
   "source": [
    "Evaluate similarity of players in clusters"
   ]
  },
  {
   "cell_type": "code",
   "execution_count": 518,
   "metadata": {},
   "outputs": [],
   "source": [
    "player_similarity = []\n",
    "salary_similarity = []\n",
    "\n",
    "for feature_cluster in all_feature_clusters:\n",
    "    df_subset = df_Kmeans.loc[:, feature_cluster[0]]\n",
    "    player_score = silhouette_score(df_subset, feature_cluster[1])\n",
    "    salary_score = silhouette_score(df_salary_Kmeans, feature_cluster[1])\n",
    "    \n",
    "    player_similarity.append([feature_cluster[0], feature_cluster[2], player_score])\n",
    "    salary_similarity.append([feature_cluster[0], feature_cluster[2], salary_score])"
   ]
  },
  {
   "cell_type": "markdown",
   "metadata": {},
   "source": [
    "Identify best combination"
   ]
  },
  {
   "cell_type": "code",
   "execution_count": 519,
   "metadata": {},
   "outputs": [],
   "source": [
    "player_similarity = sorted(player_similarity, key=lambda x: x[2], reverse=True)\n",
    "salary_similarity = sorted(salary_similarity, key=lambda x: x[2], reverse=True)"
   ]
  },
  {
   "cell_type": "code",
   "execution_count": 523,
   "metadata": {},
   "outputs": [],
   "source": [
    "optimal_columns = salary_similarity[0][0]\n",
    "optimal_k = salary_similarity[0][1]"
   ]
  },
  {
   "cell_type": "markdown",
   "metadata": {},
   "source": [
    "### Question 1b"
   ]
  },
  {
   "cell_type": "code",
   "execution_count": 524,
   "metadata": {},
   "outputs": [
    {
     "name": "stdout",
     "output_type": "stream",
     "text": [
      "Attributes of players used: ['efg%', 'SF-PF', 'SF-C', 'team_pf', '2009', 'team_3p%', 'SF', 'team_3pa', 'SG', 'blk', 'SF-SG', 'ast', 'fga', 'team_drb', 'PF-C', 'gs']\n"
     ]
    }
   ],
   "source": [
    "print(\"Attributes of players used: {}\".format(optimal_columns))"
   ]
  },
  {
   "cell_type": "markdown",
   "metadata": {},
   "source": [
    "### Question 1c"
   ]
  },
  {
   "cell_type": "code",
   "execution_count": 525,
   "metadata": {},
   "outputs": [
    {
     "name": "stdout",
     "output_type": "stream",
     "text": [
      "Number of clusters chosen: 2. Silhouette scores for k=2 is the highest across all experiments.\n"
     ]
    }
   ],
   "source": [
    "print(\"Number of clusters chosen: 2. Silhouette scores for k={} is the highest across all experiments.\".format(\n",
    "      optimal_k))"
   ]
  },
  {
   "cell_type": "markdown",
   "metadata": {},
   "source": [
    "### Question 1d"
   ]
  },
  {
   "cell_type": "markdown",
   "metadata": {},
   "source": [
    "Try different random states"
   ]
  },
  {
   "cell_type": "code",
   "execution_count": 570,
   "metadata": {},
   "outputs": [],
   "source": [
    "df_features = df_Kmeans.loc[:, optimal_columns]\n",
    "\n",
    "def random_initializations(df_features, k, tries):\n",
    "    clusters = []\n",
    "    \n",
    "    for i in range(tries):\n",
    "        random_state = np.random.randint(low=0, high=9999)\n",
    "        kmeans = KMeans(n_clusters=k, random_state=random_state, max_iter=1000).fit(df_features)\n",
    "        kmeans = pd.Series(kmeans.labels_)\n",
    "        clusters.append(kmeans)\n",
    "\n",
    "    clusters = pd.concat(clusters, axis=1)\n",
    "    return clusters\n",
    "    \n",
    "cluster_labels = random_initializations(df_features=df_features, k=optimal_k, tries=4)"
   ]
  },
  {
   "cell_type": "code",
   "execution_count": 571,
   "metadata": {},
   "outputs": [
    {
     "data": {
      "text/html": [
       "<div>\n",
       "<style scoped>\n",
       "    .dataframe tbody tr th:only-of-type {\n",
       "        vertical-align: middle;\n",
       "    }\n",
       "\n",
       "    .dataframe tbody tr th {\n",
       "        vertical-align: top;\n",
       "    }\n",
       "\n",
       "    .dataframe thead th {\n",
       "        text-align: right;\n",
       "    }\n",
       "</style>\n",
       "<table border=\"1\" class=\"dataframe\">\n",
       "  <thead>\n",
       "    <tr style=\"text-align: right;\">\n",
       "      <th></th>\n",
       "      <th>0</th>\n",
       "      <th>1</th>\n",
       "      <th>2</th>\n",
       "      <th>3</th>\n",
       "    </tr>\n",
       "  </thead>\n",
       "  <tbody>\n",
       "    <tr>\n",
       "      <th>0</th>\n",
       "      <td>0</td>\n",
       "      <td>0</td>\n",
       "      <td>1</td>\n",
       "      <td>0</td>\n",
       "    </tr>\n",
       "    <tr>\n",
       "      <th>1</th>\n",
       "      <td>0</td>\n",
       "      <td>0</td>\n",
       "      <td>1</td>\n",
       "      <td>0</td>\n",
       "    </tr>\n",
       "    <tr>\n",
       "      <th>2</th>\n",
       "      <td>0</td>\n",
       "      <td>0</td>\n",
       "      <td>1</td>\n",
       "      <td>0</td>\n",
       "    </tr>\n",
       "    <tr>\n",
       "      <th>3</th>\n",
       "      <td>0</td>\n",
       "      <td>0</td>\n",
       "      <td>1</td>\n",
       "      <td>0</td>\n",
       "    </tr>\n",
       "    <tr>\n",
       "      <th>4</th>\n",
       "      <td>0</td>\n",
       "      <td>0</td>\n",
       "      <td>1</td>\n",
       "      <td>0</td>\n",
       "    </tr>\n",
       "    <tr>\n",
       "      <th>...</th>\n",
       "      <td>...</td>\n",
       "      <td>...</td>\n",
       "      <td>...</td>\n",
       "      <td>...</td>\n",
       "    </tr>\n",
       "    <tr>\n",
       "      <th>6925</th>\n",
       "      <td>0</td>\n",
       "      <td>0</td>\n",
       "      <td>1</td>\n",
       "      <td>0</td>\n",
       "    </tr>\n",
       "    <tr>\n",
       "      <th>6926</th>\n",
       "      <td>0</td>\n",
       "      <td>0</td>\n",
       "      <td>1</td>\n",
       "      <td>0</td>\n",
       "    </tr>\n",
       "    <tr>\n",
       "      <th>6927</th>\n",
       "      <td>0</td>\n",
       "      <td>0</td>\n",
       "      <td>1</td>\n",
       "      <td>0</td>\n",
       "    </tr>\n",
       "    <tr>\n",
       "      <th>6928</th>\n",
       "      <td>0</td>\n",
       "      <td>0</td>\n",
       "      <td>1</td>\n",
       "      <td>0</td>\n",
       "    </tr>\n",
       "    <tr>\n",
       "      <th>6929</th>\n",
       "      <td>1</td>\n",
       "      <td>1</td>\n",
       "      <td>0</td>\n",
       "      <td>1</td>\n",
       "    </tr>\n",
       "  </tbody>\n",
       "</table>\n",
       "<p>6930 rows × 4 columns</p>\n",
       "</div>"
      ],
      "text/plain": [
       "      0  1  2  3\n",
       "0     0  0  1  0\n",
       "1     0  0  1  0\n",
       "2     0  0  1  0\n",
       "3     0  0  1  0\n",
       "4     0  0  1  0\n",
       "...  .. .. .. ..\n",
       "6925  0  0  1  0\n",
       "6926  0  0  1  0\n",
       "6927  0  0  1  0\n",
       "6928  0  0  1  0\n",
       "6929  1  1  0  1\n",
       "\n",
       "[6930 rows x 4 columns]"
      ]
     },
     "execution_count": 571,
     "metadata": {},
     "output_type": "execute_result"
    }
   ],
   "source": [
    "cluster_labels"
   ]
  },
  {
   "cell_type": "code",
   "execution_count": 573,
   "metadata": {},
   "outputs": [
    {
     "name": "stdout",
     "output_type": "stream",
     "text": [
      "We get same results with different initialization of cluster centers using k=2 and features=['efg%', 'SF-PF', 'SF-C', 'team_pf', '2009', 'team_3p%', 'SF', 'team_3pa', 'SG', 'blk', 'SF-SG', 'ast', 'fga', 'team_drb', 'PF-C', 'gs']\n"
     ]
    }
   ],
   "source": [
    "print(\"We get same results with different initialization of cluster centers using k={} and features={}\".format(\n",
    "      optimal_k, optimal_columns))"
   ]
  },
  {
   "cell_type": "markdown",
   "metadata": {},
   "source": [
    "### Question 1e"
   ]
  },
  {
   "cell_type": "markdown",
   "metadata": {},
   "source": [
    "Interpret clusters"
   ]
  },
  {
   "cell_type": "code",
   "execution_count": 574,
   "metadata": {},
   "outputs": [
    {
     "name": "stdout",
     "output_type": "stream",
     "text": [
      "['efg%', 'SF-PF', 'SF-C', 'team_pf', '2009', 'team_3p%', 'SF', 'team_3pa', 'SG', 'blk', 'SF-SG', 'ast', 'fga', 'team_drb', 'PF-C', 'gs']\n"
     ]
    }
   ],
   "source": [
    "print(optimal_columns)"
   ]
  },
  {
   "cell_type": "markdown",
   "metadata": {},
   "source": [
    "### Question 2a"
   ]
  },
  {
   "cell_type": "markdown",
   "metadata": {},
   "source": [
    "Select most current season"
   ]
  },
  {
   "cell_type": "code",
   "execution_count": 609,
   "metadata": {},
   "outputs": [],
   "source": [
    "df_current_ols = df_final.loc[df_final[str(MOST_CURRENT_SEASON)]==1, :]\n",
    "ols_y = df_current_ols[\"salary\"]\n",
    "ols_X = df_current_ols.drop(columns=[\"salary\", \"2019\"])"
   ]
  },
  {
   "cell_type": "markdown",
   "metadata": {},
   "source": [
    "Stepwise regression"
   ]
  },
  {
   "cell_type": "code",
   "execution_count": 71,
   "metadata": {},
   "outputs": [],
   "source": [
    "def stepwise_selection(X, y, \n",
    "                       initial_list=[], \n",
    "                       threshold_in=0.01, \n",
    "                       threshold_out = 0.05, \n",
    "                       verbose=True):\n",
    "    \"\"\" Perform a forward-backward feature selection \n",
    "    based on p-value from statsmodels.api.OLS\n",
    "    Arguments:\n",
    "        X - pandas.DataFrame with candidate features\n",
    "        y - list-like with the target\n",
    "        initial_list - list of features to start with (column names of X)\n",
    "        threshold_in - include a feature if its p-value < threshold_in\n",
    "        threshold_out - exclude a feature if its p-value > threshold_out\n",
    "        verbose - whether to print the sequence of inclusions and exclusions\n",
    "    Returns: list of selected features \n",
    "    Always set threshold_in < threshold_out to avoid infinite looping.\n",
    "    See https://en.wikipedia.org/wiki/Stepwise_regression for the details\n",
    "    \"\"\"\n",
    "    included = list(initial_list)\n",
    "    while True:\n",
    "        changed=False\n",
    "        # forward step\n",
    "        excluded = list(set(X.columns)-set(included))\n",
    "        new_pval = pd.Series(index=excluded)\n",
    "        for new_column in excluded:\n",
    "            model = sm.OLS(y, sm.add_constant(pd.DataFrame(X[included+[new_column]]))).fit()\n",
    "            new_pval[new_column] = model.pvalues[new_column]\n",
    "        best_pval = new_pval.min()\n",
    "        if best_pval < threshold_in:\n",
    "            best_feature = excluded[new_pval.argmin()]\n",
    "            included.append(best_feature)\n",
    "            changed=True\n",
    "            if verbose:\n",
    "                print('Add  {:30} with p-value {:.6}'.format(best_feature, best_pval))\n",
    "\n",
    "        # backward step\n",
    "        model = sm.OLS(y, sm.add_constant(pd.DataFrame(X[included]))).fit()\n",
    "        # use all coefs except intercept\n",
    "        pvalues = model.pvalues.iloc[1:]\n",
    "        worst_pval = pvalues.max() # null if pvalues is empty\n",
    "        if worst_pval > threshold_out:\n",
    "            changed=True\n",
    "            worst_feature = pvalues.argmax()\n",
    "            included.remove(worst_feature)\n",
    "            if verbose:\n",
    "                print('Drop {:30} with p-value {:.6}'.format(worst_feature, worst_pval))\n",
    "        if not changed:\n",
    "            break\n",
    "    return included"
   ]
  },
  {
   "cell_type": "code",
   "execution_count": 611,
   "metadata": {
    "scrolled": true
   },
   "outputs": [
    {
     "name": "stdout",
     "output_type": "stream",
     "text": [
      "Add  pts                            with p-value 1.72177e-67\n",
      "Add  experience_YTD                 with p-value 8.26602e-25\n",
      "Add  team_count                     with p-value 8.95348e-10\n",
      "Add  team_pts                       with p-value 5.89269e-05\n",
      "Add  drb                            with p-value 6.60187e-05\n",
      "Add  efg%                           with p-value 9.27227e-05\n",
      "Add  ast                            with p-value 0.00330065\n",
      "Add  blk                            with p-value 0.000617257\n",
      "Add  pf                             with p-value 0.00125441\n",
      "Add  g                              with p-value 0.00377396\n"
     ]
    }
   ],
   "source": [
    "stepwise_results = stepwise_selection(X=ols_X, y=ols_y) "
   ]
  },
  {
   "cell_type": "code",
   "execution_count": 612,
   "metadata": {},
   "outputs": [
    {
     "name": "stdout",
     "output_type": "stream",
     "text": [
      "Independent variables: ['pts', 'experience_YTD', 'team_count', 'team_pts', 'drb', 'efg%', 'ast', 'blk', 'pf', 'g']\n"
     ]
    }
   ],
   "source": [
    "print(\"Independent variables: {}\".format(stepwise_results))"
   ]
  },
  {
   "cell_type": "markdown",
   "metadata": {},
   "source": [
    "### Question 2b"
   ]
  },
  {
   "cell_type": "markdown",
   "metadata": {},
   "source": [
    "Reason for model"
   ]
  },
  {
   "cell_type": "code",
   "execution_count": 613,
   "metadata": {},
   "outputs": [
    {
     "name": "stdout",
     "output_type": "stream",
     "text": [
      "Stepwise regression was carried out and the selected variables are significant in improving the prediction of salary.\n"
     ]
    }
   ],
   "source": [
    "print(\"Stepwise regression was carried out and the selected variables are significant in improving the prediction of salary.\")"
   ]
  },
  {
   "cell_type": "markdown",
   "metadata": {},
   "source": [
    "### Question 2c"
   ]
  },
  {
   "cell_type": "markdown",
   "metadata": {},
   "source": [
    "Selected OLS model"
   ]
  },
  {
   "cell_type": "code",
   "execution_count": 616,
   "metadata": {},
   "outputs": [],
   "source": [
    "final_ols_X = df_current_ols.loc[:, stepwise_results]\n",
    "model = sm.OLS(ols_y, sm.add_constant(pd.DataFrame(final_ols_X))).fit()"
   ]
  },
  {
   "cell_type": "markdown",
   "metadata": {},
   "source": [
    "Get coefficients"
   ]
  },
  {
   "cell_type": "code",
   "execution_count": 620,
   "metadata": {},
   "outputs": [
    {
     "name": "stdout",
     "output_type": "stream",
     "text": [
      "const             3.024189e+07\n",
      "pts               5.491655e+05\n",
      "experience_YTD    7.231639e+05\n",
      "team_count       -3.792630e+06\n",
      "team_pts         -2.204832e+05\n",
      "drb               7.671680e+05\n",
      "efg%             -7.085619e+06\n",
      "ast               8.133095e+05\n",
      "blk               3.140358e+06\n",
      "pf               -1.356711e+06\n",
      "g                -3.552023e+04\n",
      "dtype: float64\n"
     ]
    }
   ],
   "source": [
    "ols_coefficients = model.params\n",
    "print(ols_coefficients)"
   ]
  },
  {
   "cell_type": "markdown",
   "metadata": {},
   "source": [
    " <Insert interpretation>"
   ]
  },
  {
   "cell_type": "markdown",
   "metadata": {},
   "source": [
    "Interpret results"
   ]
  },
  {
   "cell_type": "code",
   "execution_count": 621,
   "metadata": {},
   "outputs": [
    {
     "name": "stdout",
     "output_type": "stream",
     "text": [
      "INSERT INTERPRETATION....\n"
     ]
    }
   ],
   "source": [
    "print(\"INSERT INTERPRETATION....\")"
   ]
  },
  {
   "cell_type": "markdown",
   "metadata": {},
   "source": [
    "### Question 2d"
   ]
  },
  {
   "cell_type": "markdown",
   "metadata": {},
   "source": [
    "Statistically significant variables"
   ]
  },
  {
   "cell_type": "code",
   "execution_count": 624,
   "metadata": {},
   "outputs": [
    {
     "name": "stdout",
     "output_type": "stream",
     "text": [
      "Statistically significant variables:\n"
     ]
    },
    {
     "data": {
      "text/plain": [
       "const             8.564896e-06\n",
       "pts               3.107996e-15\n",
       "experience_YTD    1.363409e-31\n",
       "team_count        6.013799e-09\n",
       "team_pts          2.884903e-04\n",
       "drb               5.133623e-04\n",
       "efg%              4.001563e-03\n",
       "ast               7.289583e-05\n",
       "blk               5.212981e-05\n",
       "pf                1.417350e-03\n",
       "g                 3.773961e-03\n",
       "dtype: float64"
      ]
     },
     "execution_count": 624,
     "metadata": {},
     "output_type": "execute_result"
    }
   ],
   "source": [
    "sig_val = 0.05\n",
    "print(\"Statistically significant variables:\")\n",
    "model.pvalues[model.pvalues < sig_val]"
   ]
  },
  {
   "cell_type": "markdown",
   "metadata": {},
   "source": [
    "### Question 2e"
   ]
  },
  {
   "cell_type": "markdown",
   "metadata": {},
   "source": [
    "Analysis"
   ]
  },
  {
   "cell_type": "code",
   "execution_count": 625,
   "metadata": {},
   "outputs": [
    {
     "name": "stdout",
     "output_type": "stream",
     "text": [
      "INSERT ANALYSIS....\n"
     ]
    }
   ],
   "source": [
    "print(\"INSERT ANALYSIS....\")"
   ]
  },
  {
   "cell_type": "markdown",
   "metadata": {},
   "source": [
    "### Question 2f"
   ]
  },
  {
   "cell_type": "markdown",
   "metadata": {},
   "source": [
    "Believe in results"
   ]
  },
  {
   "cell_type": "code",
   "execution_count": 626,
   "metadata": {},
   "outputs": [
    {
     "name": "stdout",
     "output_type": "stream",
     "text": [
      "INSERT CONCLUSION....\n"
     ]
    }
   ],
   "source": [
    "print(\"INSERT CONCLUSION....\")"
   ]
  },
  {
   "cell_type": "markdown",
   "metadata": {},
   "source": [
    "### Question 3a"
   ]
  },
  {
   "cell_type": "markdown",
   "metadata": {},
   "source": [
    "Residual vs Fitted plot"
   ]
  },
  {
   "cell_type": "code",
   "execution_count": 645,
   "metadata": {},
   "outputs": [
    {
     "data": {
      "image/png": "[encoded data removed]",
      "text/plain": [
       "<Figure size 432x288 with 1 Axes>"
      ]
     },
     "metadata": {
      "needs_background": "light"
     },
     "output_type": "display_data"
    }
   ],
   "source": [
    "ax = plt.figure()\n",
    "ax.axes[0] = sns.residplot(y=model.fittedvalues, x=model.resid, \n",
    "                          lowess=True,\n",
    "                          scatter_kws={'alpha': 0.5},\n",
    "                          line_kws={'color': 'red', 'lw': 1, 'alpha': 0.8})\n",
    "\n",
    "ax.axes[0].set_title('Residuals vs Fitted')\n",
    "ax.axes[0].set_xlabel('Fitted values')\n",
    "ax.axes[0].set_ylabel('Residuals');"
   ]
  },
  {
   "cell_type": "markdown",
   "metadata": {},
   "source": [
    "Estimation for coefficients"
   ]
  },
  {
   "cell_type": "code",
   "execution_count": 654,
   "metadata": {},
   "outputs": [
    {
     "name": "stdout",
     "output_type": "stream",
     "text": [
      "From the residuals vs fitted plot, most the coefficients tend to be underestimated for larger absolute value of fitted values but overestimated for smaller absolute value of fitted values. Also, it is noted that the shape of the residual plot implies a non-linear relationship.\n"
     ]
    }
   ],
   "source": [
    "print(\"From the residuals vs fitted plot, most the coefficients tend to be underestimated for larger \"\n",
    "      \"absolute value of fitted values but overestimated for smaller absolute value of fitted values. Also, \"\n",
    "      \"it is noted that the shape of the residual plot implies a non-linear relationship.\")"
   ]
  },
  {
   "cell_type": "markdown",
   "metadata": {},
   "source": [
    "### Question 3b"
   ]
  },
  {
   "cell_type": "markdown",
   "metadata": {},
   "source": [
    "Heteroskedasticity"
   ]
  },
  {
   "cell_type": "code",
   "execution_count": 660,
   "metadata": {},
   "outputs": [
    {
     "data": {
      "text/plain": [
       "{'Lagrange multiplier statistic': 150.26556217678808,\n",
       " 'p-value': 3.28685551447711e-27,\n",
       " 'f-value': 19.453316004573683,\n",
       " 'f p-value': 2.7784221291679433e-31}"
      ]
     },
     "execution_count": 660,
     "metadata": {},
     "output_type": "execute_result"
    }
   ],
   "source": [
    "# Breusch Pagan test\n",
    "name = ['Lagrange multiplier statistic', 'p-value',\n",
    "        'f-value', 'f p-value']\n",
    "bptest = sms.het_breuschpagan(model.resid, model.model.exog)\n",
    "dict(zip(name, bptest))"
   ]
  },
  {
   "cell_type": "code",
   "execution_count": 662,
   "metadata": {},
   "outputs": [
    {
     "name": "stdout",
     "output_type": "stream",
     "text": [
      "From the residuals vs fitted plot, the spread of the residuals is not constant, hence heteroskedasticity is present. In addition, from the results of the Breusch-Pagan test, the p-value is < 0.05 and hence, we reject the null hypothesis of homoskedasticity. To fix this, we will use the White-Huber standard errors.\n"
     ]
    }
   ],
   "source": [
    "print(\"From the residuals vs fitted plot, the spread of the residuals is not constant, hence heteroskedasticity \"\n",
    "      \"is present. In addition, from the results of the Breusch-Pagan test, the p-value is < 0.05 and hence, \"\n",
    "      \"we reject the null hypothesis of homoskedasticity. To fix this, we will use the White-Huber standard errors.\")"
   ]
  },
  {
   "cell_type": "markdown",
   "metadata": {},
   "source": [
    "New OLS using White-Huber standard error"
   ]
  },
  {
   "cell_type": "code",
   "execution_count": 695,
   "metadata": {},
   "outputs": [],
   "source": [
    "model_wh = sm.OLS(ols_y, sm.add_constant(pd.DataFrame(final_ols_X))).fit(cov_type=\"HC0\")"
   ]
  },
  {
   "cell_type": "markdown",
   "metadata": {},
   "source": [
    "### Question 3c"
   ]
  },
  {
   "cell_type": "markdown",
   "metadata": {},
   "source": [
    "Multicollinearity (Via Correlation Matrix)"
   ]
  },
  {
   "cell_type": "code",
   "execution_count": 698,
   "metadata": {
    "scrolled": true
   },
   "outputs": [
    {
     "data": {
      "text/html": [
       "<div>\n",
       "<style scoped>\n",
       "    .dataframe tbody tr th:only-of-type {\n",
       "        vertical-align: middle;\n",
       "    }\n",
       "\n",
       "    .dataframe tbody tr th {\n",
       "        vertical-align: top;\n",
       "    }\n",
       "\n",
       "    .dataframe thead th {\n",
       "        text-align: right;\n",
       "    }\n",
       "</style>\n",
       "<table border=\"1\" class=\"dataframe\">\n",
       "  <thead>\n",
       "    <tr style=\"text-align: right;\">\n",
       "      <th></th>\n",
       "      <th>pts</th>\n",
       "      <th>experience_YTD</th>\n",
       "      <th>team_count</th>\n",
       "      <th>team_pts</th>\n",
       "      <th>drb</th>\n",
       "      <th>efg%</th>\n",
       "      <th>ast</th>\n",
       "      <th>blk</th>\n",
       "      <th>pf</th>\n",
       "      <th>g</th>\n",
       "    </tr>\n",
       "  </thead>\n",
       "  <tbody>\n",
       "    <tr>\n",
       "      <th>pts</th>\n",
       "      <td>1.000000</td>\n",
       "      <td>0.130580</td>\n",
       "      <td>-0.259385</td>\n",
       "      <td>0.040007</td>\n",
       "      <td>0.644239</td>\n",
       "      <td>0.255068</td>\n",
       "      <td>0.730637</td>\n",
       "      <td>0.301547</td>\n",
       "      <td>0.544584</td>\n",
       "      <td>0.453923</td>\n",
       "    </tr>\n",
       "    <tr>\n",
       "      <th>experience_YTD</th>\n",
       "      <td>0.130580</td>\n",
       "      <td>1.000000</td>\n",
       "      <td>0.213952</td>\n",
       "      <td>0.151096</td>\n",
       "      <td>0.152065</td>\n",
       "      <td>0.076451</td>\n",
       "      <td>0.166626</td>\n",
       "      <td>0.049126</td>\n",
       "      <td>0.069178</td>\n",
       "      <td>0.049003</td>\n",
       "    </tr>\n",
       "    <tr>\n",
       "      <th>team_count</th>\n",
       "      <td>-0.259385</td>\n",
       "      <td>0.213952</td>\n",
       "      <td>1.000000</td>\n",
       "      <td>0.072816</td>\n",
       "      <td>-0.244727</td>\n",
       "      <td>-0.049245</td>\n",
       "      <td>-0.216521</td>\n",
       "      <td>-0.147979</td>\n",
       "      <td>-0.185828</td>\n",
       "      <td>-0.391453</td>\n",
       "    </tr>\n",
       "    <tr>\n",
       "      <th>team_pts</th>\n",
       "      <td>0.040007</td>\n",
       "      <td>0.151096</td>\n",
       "      <td>0.072816</td>\n",
       "      <td>1.000000</td>\n",
       "      <td>0.017601</td>\n",
       "      <td>0.111327</td>\n",
       "      <td>-0.003679</td>\n",
       "      <td>0.034808</td>\n",
       "      <td>-0.009857</td>\n",
       "      <td>0.061377</td>\n",
       "    </tr>\n",
       "    <tr>\n",
       "      <th>drb</th>\n",
       "      <td>0.644239</td>\n",
       "      <td>0.152065</td>\n",
       "      <td>-0.244727</td>\n",
       "      <td>0.017601</td>\n",
       "      <td>1.000000</td>\n",
       "      <td>0.293133</td>\n",
       "      <td>0.390905</td>\n",
       "      <td>0.632185</td>\n",
       "      <td>0.689827</td>\n",
       "      <td>0.394970</td>\n",
       "    </tr>\n",
       "    <tr>\n",
       "      <th>efg%</th>\n",
       "      <td>0.255068</td>\n",
       "      <td>0.076451</td>\n",
       "      <td>-0.049245</td>\n",
       "      <td>0.111327</td>\n",
       "      <td>0.293133</td>\n",
       "      <td>1.000000</td>\n",
       "      <td>0.069482</td>\n",
       "      <td>0.306110</td>\n",
       "      <td>0.326923</td>\n",
       "      <td>0.290667</td>\n",
       "    </tr>\n",
       "    <tr>\n",
       "      <th>ast</th>\n",
       "      <td>0.730637</td>\n",
       "      <td>0.166626</td>\n",
       "      <td>-0.216521</td>\n",
       "      <td>-0.003679</td>\n",
       "      <td>0.390905</td>\n",
       "      <td>0.069482</td>\n",
       "      <td>1.000000</td>\n",
       "      <td>0.039374</td>\n",
       "      <td>0.330412</td>\n",
       "      <td>0.355573</td>\n",
       "    </tr>\n",
       "    <tr>\n",
       "      <th>blk</th>\n",
       "      <td>0.301547</td>\n",
       "      <td>0.049126</td>\n",
       "      <td>-0.147979</td>\n",
       "      <td>0.034808</td>\n",
       "      <td>0.632185</td>\n",
       "      <td>0.306110</td>\n",
       "      <td>0.039374</td>\n",
       "      <td>1.000000</td>\n",
       "      <td>0.561337</td>\n",
       "      <td>0.211655</td>\n",
       "    </tr>\n",
       "    <tr>\n",
       "      <th>pf</th>\n",
       "      <td>0.544584</td>\n",
       "      <td>0.069178</td>\n",
       "      <td>-0.185828</td>\n",
       "      <td>-0.009857</td>\n",
       "      <td>0.689827</td>\n",
       "      <td>0.326923</td>\n",
       "      <td>0.330412</td>\n",
       "      <td>0.561337</td>\n",
       "      <td>1.000000</td>\n",
       "      <td>0.328644</td>\n",
       "    </tr>\n",
       "    <tr>\n",
       "      <th>g</th>\n",
       "      <td>0.453923</td>\n",
       "      <td>0.049003</td>\n",
       "      <td>-0.391453</td>\n",
       "      <td>0.061377</td>\n",
       "      <td>0.394970</td>\n",
       "      <td>0.290667</td>\n",
       "      <td>0.355573</td>\n",
       "      <td>0.211655</td>\n",
       "      <td>0.328644</td>\n",
       "      <td>1.000000</td>\n",
       "    </tr>\n",
       "  </tbody>\n",
       "</table>\n",
       "</div>"
      ],
      "text/plain": [
       "                     pts  experience_YTD  team_count  team_pts       drb  \\\n",
       "pts             1.000000        0.130580   -0.259385  0.040007  0.644239   \n",
       "experience_YTD  0.130580        1.000000    0.213952  0.151096  0.152065   \n",
       "team_count     -0.259385        0.213952    1.000000  0.072816 -0.244727   \n",
       "team_pts        0.040007        0.151096    0.072816  1.000000  0.017601   \n",
       "drb             0.644239        0.152065   -0.244727  0.017601  1.000000   \n",
       "efg%            0.255068        0.076451   -0.049245  0.111327  0.293133   \n",
       "ast             0.730637        0.166626   -0.216521 -0.003679  0.390905   \n",
       "blk             0.301547        0.049126   -0.147979  0.034808  0.632185   \n",
       "pf              0.544584        0.069178   -0.185828 -0.009857  0.689827   \n",
       "g               0.453923        0.049003   -0.391453  0.061377  0.394970   \n",
       "\n",
       "                    efg%       ast       blk        pf         g  \n",
       "pts             0.255068  0.730637  0.301547  0.544584  0.453923  \n",
       "experience_YTD  0.076451  0.166626  0.049126  0.069178  0.049003  \n",
       "team_count     -0.049245 -0.216521 -0.147979 -0.185828 -0.391453  \n",
       "team_pts        0.111327 -0.003679  0.034808 -0.009857  0.061377  \n",
       "drb             0.293133  0.390905  0.632185  0.689827  0.394970  \n",
       "efg%            1.000000  0.069482  0.306110  0.326923  0.290667  \n",
       "ast             0.069482  1.000000  0.039374  0.330412  0.355573  \n",
       "blk             0.306110  0.039374  1.000000  0.561337  0.211655  \n",
       "pf              0.326923  0.330412  0.561337  1.000000  0.328644  \n",
       "g               0.290667  0.355573  0.211655  0.328644  1.000000  "
      ]
     },
     "execution_count": 698,
     "metadata": {},
     "output_type": "execute_result"
    }
   ],
   "source": [
    "final_ols_X.corr()"
   ]
  },
  {
   "cell_type": "markdown",
   "metadata": {},
   "source": [
    "### Question 3d"
   ]
  },
  {
   "cell_type": "code",
   "execution_count": 699,
   "metadata": {},
   "outputs": [
    {
     "name": "stdout",
     "output_type": "stream",
     "text": [
      "From the correlation matrix, we can see that 'pf', 'blk' and 'drb' has fairly high correlation which might result in multicollinearity. As such, we can use PCA to fix this as PCA projects the data into lower dimensional space while preserving the variation by using orthogonal linear combinations of the original data. However, we might lose interpretability after the use of PCA.\n"
     ]
    }
   ],
   "source": [
    "print(\"From the correlation matrix, we can see that 'pf', 'blk' and 'drb' has fairly high correlation which might \"\n",
    "      \"result in multicollinearity. As such, we can use PCA to fix this as PCA projects the data into lower dimensional \"\n",
    "      \"space while preserving the variation by using orthogonal linear combinations of the original data. However, \"\n",
    "      \"we might lose interpretability after the use of PCA.\")"
   ]
  },
  {
   "cell_type": "markdown",
   "metadata": {},
   "source": [
    "### Question 4a"
   ]
  },
  {
   "cell_type": "markdown",
   "metadata": {},
   "source": [
    "Get panel data"
   ]
  },
  {
   "cell_type": "code",
   "execution_count": 95,
   "metadata": {},
   "outputs": [],
   "source": [
    "df_panel = df.copy(deep=True)\n",
    "#df_panel[\"pos\"] = df_panel[pos_dummies.columns].idxmax(axis=1)\n",
    "df_panel[\"season_year\"] = df_panel[season_year_dummies.columns].idxmax(axis=1).astype(int)\n",
    "df_panel = df_panel.drop(columns=list(season_year_dummies.columns))"
   ]
  },
  {
   "cell_type": "markdown",
   "metadata": {},
   "source": [
    "Key columns"
   ]
  },
  {
   "cell_type": "code",
   "execution_count": 96,
   "metadata": {},
   "outputs": [],
   "source": [
    "panel_key_cols = list(df_panel.columns)\n",
    "panel_key_cols.remove(\"age\")\n",
    "panel_key_cols.remove(\"total_salary\")\n",
    "panel_key_cols.remove(\"player\")\n",
    "panel_key_cols.remove(\"season\")\n",
    "panel_key_cols.remove(\"pos\")\n",
    "panel_key_cols.remove(\"start_year\")\n",
    "panel_key_cols.remove(\"full_team_name\")\n",
    "panel_key_cols.remove(\"latest_year\")\n",
    "panel_key_cols.remove(\"team_location\")\n",
    "panel_key_cols.remove(\"experience\")\n",
    "panel_key_cols.remove(\"team_total_seasons\")\n",
    "panel_key_cols.remove(\"team_championships\")\n",
    "panel_key_cols.remove(\"team_playoff_appearances\")\n",
    "panel_key_cols.remove(\"team_g\")\n",
    "panel_key_cols.remove(\"team_mp\")\n",
    "panel_key_cols.remove(\"team_record\")\n",
    "panel_key_cols.remove(\"team_fg\")\n",
    "panel_key_cols.remove(\"tm\")"
   ]
  },
  {
   "cell_type": "code",
   "execution_count": 97,
   "metadata": {},
   "outputs": [],
   "source": [
    "df_panel = df_panel.loc[:, panel_key_cols]"
   ]
  },
  {
   "cell_type": "markdown",
   "metadata": {},
   "source": [
    "Set index"
   ]
  },
  {
   "cell_type": "code",
   "execution_count": 98,
   "metadata": {},
   "outputs": [],
   "source": [
    "season_year = pd.Categorical(df_panel[\"season_year\"])\n",
    "df_panel = df_panel.set_index([\"team_name\", \"season_year\"])\n",
    "df_panel[\"season_year\"] = season_year"
   ]
  },
  {
   "cell_type": "markdown",
   "metadata": {},
   "source": [
    "Get exogeneous variables"
   ]
  },
  {
   "cell_type": "code",
   "execution_count": 101,
   "metadata": {},
   "outputs": [],
   "source": [
    "exog_var = list(df_panel.columns)\n",
    "exog_var.remove(\"season_year\")\n",
    "exog_var.remove(\"salary\")\n",
    "exog_var.remove(\"SG-PG\")"
   ]
  },
  {
   "cell_type": "code",
   "execution_count": 103,
   "metadata": {},
   "outputs": [],
   "source": [
    "exog = df_panel[exog_var]#.astype(float)\n",
    "exog = sm.add_constant(exog)"
   ]
  },
  {
   "cell_type": "markdown",
   "metadata": {},
   "source": [
    "Get endogeneous variable"
   ]
  },
  {
   "cell_type": "code",
   "execution_count": 104,
   "metadata": {},
   "outputs": [],
   "source": [
    "endog = df_panel[\"salary\"]"
   ]
  },
  {
   "cell_type": "markdown",
   "metadata": {},
   "source": [
    "Fixed effect model"
   ]
  },
  {
   "cell_type": "code",
   "execution_count": 105,
   "metadata": {
    "scrolled": true
   },
   "outputs": [
    {
     "name": "stdout",
     "output_type": "stream",
     "text": [
      "                          PanelOLS Estimation Summary                           \n",
      "================================================================================\n",
      "Dep. Variable:                 salary   R-squared:                        0.5451\n",
      "Estimator:                   PanelOLS   R-squared (Between):              0.2689\n",
      "No. Observations:                6930   R-squared (Within):               0.5451\n",
      "Date:                Sat, Mar 06 2021   R-squared (Overall):              0.5435\n",
      "Time:                        19:25:46   Log-likelihood                -1.151e+05\n",
      "Cov. Estimator:            Unadjusted                                           \n",
      "                                        F-statistic:                      127.99\n",
      "Entities:                          30   P-value                           0.0000\n",
      "Avg Obs:                       231.00   Distribution:                 F(64,6836)\n",
      "Min Obs:                       186.00                                           \n",
      "Max Obs:                       282.00   F-statistic (robust):             127.99\n",
      "                                        P-value                           0.0000\n",
      "Time periods:                      11   Distribution:                 F(64,6836)\n",
      "Avg Obs:                       630.00                                           \n",
      "Min Obs:                       500.00                                           \n",
      "Max Obs:                       724.00                                           \n",
      "                                                                                \n",
      "                               Parameter Estimates                                \n",
      "==================================================================================\n",
      "                Parameter  Std. Err.     T-stat    P-value    Lower CI    Upper CI\n",
      "----------------------------------------------------------------------------------\n",
      "const          -2.428e+07  3.753e+07    -0.6469     0.5177  -9.785e+07   4.929e+07\n",
      "g              -2.073e+04     2793.0    -7.4236     0.0000  -2.621e+04  -1.526e+04\n",
      "gs              2.545e+04     3300.5     7.7111     0.0000   1.898e+04   3.192e+04\n",
      "mp             -9.863e+04  2.022e+04    -4.8772     0.0000  -1.383e+05  -5.899e+04\n",
      "fg              1.053e+06  1.612e+06     0.6529     0.5138  -2.108e+06   4.214e+06\n",
      "fga             2.221e+06  1.066e+06     2.0840     0.0372   1.318e+05   4.311e+06\n",
      "fg%             6.584e+06   2.96e+06     2.2244     0.0262   7.816e+05   1.239e+07\n",
      "3p              -6.04e+05  1.447e+06    -0.4175     0.6764   -3.44e+06   2.232e+06\n",
      "3pa            -1.533e+06  1.066e+06    -1.4385     0.1503  -3.623e+06   5.562e+05\n",
      "3p%            -1.174e+06  4.651e+05    -2.5255     0.0116  -2.086e+06  -2.628e+05\n",
      "2p              5.781e+05  1.168e+06     0.4949     0.6207  -1.712e+06   2.868e+06\n",
      "2pa            -2.612e+06  1.069e+06    -2.4429     0.0146  -4.709e+06  -5.161e+05\n",
      "2p%            -2.301e+06  9.124e+05    -2.5220     0.0117   -4.09e+06  -5.125e+05\n",
      "efg%           -5.227e+06  2.381e+06    -2.1956     0.0282  -9.894e+06  -5.601e+05\n",
      "ft              7.866e+05   7.05e+05     1.1159     0.2645  -5.953e+05   2.169e+06\n",
      "fta            -6.454e+04  2.065e+05    -0.3126     0.7546  -4.693e+05   3.402e+05\n",
      "ft%            -4.528e+05  2.997e+05    -1.5111     0.1308   -1.04e+06   1.346e+05\n",
      "orb            -1.129e+06  1.005e+06    -1.1241     0.2610  -3.099e+06   8.402e+05\n",
      "drb            -2.722e+05  1.003e+06    -0.2714     0.7861  -2.238e+06   1.694e+06\n",
      "trb             9.701e+05  9.997e+05     0.9704     0.3319  -9.896e+05    2.93e+06\n",
      "ast              5.29e+05  6.912e+04     7.6538     0.0000   3.935e+05   6.645e+05\n",
      "stl             1.399e+05  1.949e+05     0.7179     0.4729  -2.422e+05    5.22e+05\n",
      "blk               6.8e+05  1.756e+05     3.8714     0.0001   3.357e+05   1.024e+06\n",
      "tov             1.544e+05   1.74e+05     0.8875     0.3748  -1.866e+05   4.954e+05\n",
      "pf             -8.241e+05   1.15e+05    -7.1662     0.0000   -1.05e+06  -5.987e+05\n",
      "pts            -8.632e+04  6.739e+05    -0.1281     0.8981  -1.407e+06   1.235e+06\n",
      "height          3.097e+04  1.266e+04     2.4455     0.0145      6144.4    5.58e+04\n",
      "weight          3.827e+04     7886.6     4.8525     0.0000   2.281e+04   5.373e+04\n",
      "experience_YTD  3.034e+05  2.204e+04     13.766     0.0000   2.602e+05   3.466e+05\n",
      "team_fga        1.891e+06  1.093e+06     1.7305     0.0836  -2.511e+05   4.033e+06\n",
      "team_fg%         4.64e+07  7.341e+07     0.6321     0.5273   -9.75e+07   1.903e+08\n",
      "team_3p         1.057e+06  1.376e+06     0.7676     0.4428  -1.642e+06   3.755e+06\n",
      "team_3pa       -1.501e+06  1.053e+06    -1.4252     0.1541  -3.565e+06   5.634e+05\n",
      "team_3p%       -8.534e+05  1.314e+07    -0.0649     0.9482  -2.662e+07   2.491e+07\n",
      "team_2p         1.642e+06  1.028e+06     1.5976     0.1102  -3.727e+05   3.656e+06\n",
      "team_2pa       -2.092e+06  1.054e+06    -1.9853     0.0472  -4.158e+06   -2.63e+04\n",
      "team_2p%       -5.877e+07  2.603e+07    -2.2577     0.0240  -1.098e+08  -7.741e+06\n",
      "team_ft        -5.075e+05  8.513e+05    -0.5962     0.5511  -2.176e+06   1.161e+06\n",
      "team_fta         7.54e+05  5.302e+05     1.4221     0.1551  -2.854e+05   1.793e+06\n",
      "team_ft%        2.881e+07  1.676e+07     1.7193     0.0856  -4.039e+06   6.165e+07\n",
      "team_orb       -4.969e+05  9.841e+05    -0.5049     0.6136  -2.426e+06   1.432e+06\n",
      "team_drb       -6.957e+05    9.8e+05    -0.7099     0.4778  -2.617e+06   1.225e+06\n",
      "team_trb        5.125e+05  9.786e+05     0.5237     0.6005  -1.406e+06   2.431e+06\n",
      "team_ast       -6.675e+04  4.466e+04    -1.4946     0.1351  -1.543e+05    2.08e+04\n",
      "team_stl        -2.45e+05  8.125e+04    -3.0148     0.0026  -4.042e+05  -8.568e+04\n",
      "team_blk       -2.404e+04  8.635e+04    -0.2785     0.7807  -1.933e+05   1.452e+05\n",
      "team_tov        -3.06e+04  6.587e+04    -0.4646     0.6422  -1.597e+05   9.852e+04\n",
      "team_pf         3.233e+04  5.353e+04     0.6040     0.5458  -7.259e+04   1.373e+05\n",
      "team_pts       -5.171e+05  5.461e+05    -0.9470     0.3437  -1.588e+06   5.533e+05\n",
      "team_count     -1.751e+06    1.1e+05    -15.914     0.0000  -1.966e+06  -1.535e+06\n",
      "C              -3.608e+05  1.032e+06    -0.3496     0.7267  -2.384e+06   1.663e+06\n",
      "C-PF           -3.222e+05  1.578e+06    -0.2041     0.8383  -3.416e+06   2.772e+06\n",
      "PF              -2.56e+05  1.012e+06    -0.2530     0.8003  -2.239e+06   1.727e+06\n",
      "PF-C            -1.13e+06  1.478e+06    -0.7644     0.4446  -4.028e+06   1.768e+06\n",
      "PF-SF           2.164e+06  1.534e+06     1.4109     0.1583  -8.429e+05   5.172e+06\n",
      "PG             -2.613e+05  9.841e+05    -0.2655     0.7906  -2.191e+06   1.668e+06\n",
      "PG-SG            8.66e+05  1.404e+06     0.6169     0.5373  -1.886e+06   3.618e+06\n",
      "SF              3.825e+04  9.989e+05     0.0383     0.9695   -1.92e+06   1.996e+06\n",
      "SF-C           -6.342e+05  3.015e+06    -0.2104     0.8334  -6.544e+06   5.275e+06\n",
      "SF-PF           1.418e+06  1.496e+06     0.9484     0.3430  -1.513e+06    4.35e+06\n",
      "SF-SG           3.126e+05  1.433e+06     0.2182     0.8273  -2.497e+06   3.122e+06\n",
      "SG              1.948e+05  9.872e+05     0.1974     0.8436   -1.74e+06    2.13e+06\n",
      "SG-PF          -3.219e+06  3.014e+06    -1.0679     0.2856  -9.128e+06    2.69e+06\n",
      "SG-SF           2.446e+06  1.525e+06     1.6046     0.1086  -5.423e+05   5.435e+06\n",
      "age_YTD          1.33e+05  2.169e+04     6.1317     0.0000   9.047e+04   1.755e+05\n",
      "==================================================================================\n",
      "\n",
      "F-test for Poolability: 1.9975\n",
      "P-value: 0.0012\n",
      "Distribution: F(29,6836)\n",
      "\n",
      "Included effects: Entity\n"
     ]
    }
   ],
   "source": [
    "model_fe = PanelOLS(endog, exog, entity_effects = True)\n",
    "fe_res = model_fe.fit()\n",
    "print(fe_res)"
   ]
  },
  {
   "cell_type": "markdown",
   "metadata": {},
   "source": [
    "Random effect model"
   ]
  },
  {
   "cell_type": "code",
   "execution_count": 106,
   "metadata": {
    "scrolled": true
   },
   "outputs": [
    {
     "name": "stdout",
     "output_type": "stream",
     "text": [
      "                        RandomEffects Estimation Summary                        \n",
      "================================================================================\n",
      "Dep. Variable:                 salary   R-squared:                        0.5443\n",
      "Estimator:              RandomEffects   R-squared (Between):              0.4822\n",
      "No. Observations:                6930   R-squared (Within):               0.5445\n",
      "Date:                Sat, Mar 06 2021   R-squared (Overall):              0.5443\n",
      "Time:                        19:26:22   Log-likelihood                -1.152e+05\n",
      "Cov. Estimator:            Unadjusted                                           \n",
      "                                        F-statistic:                      128.13\n",
      "Entities:                          30   P-value                           0.0000\n",
      "Avg Obs:                       231.00   Distribution:                 F(64,6865)\n",
      "Min Obs:                       186.00                                           \n",
      "Max Obs:                       282.00   F-statistic (robust):             128.13\n",
      "                                        P-value                           0.0000\n",
      "Time periods:                      11   Distribution:                 F(64,6865)\n",
      "Avg Obs:                       630.00                                           \n",
      "Min Obs:                       500.00                                           \n",
      "Max Obs:                       724.00                                           \n",
      "                                                                                \n",
      "                               Parameter Estimates                                \n",
      "==================================================================================\n",
      "                Parameter  Std. Err.     T-stat    P-value    Lower CI    Upper CI\n",
      "----------------------------------------------------------------------------------\n",
      "const          -1.462e+07  3.542e+07    -0.4127     0.6798  -8.406e+07   5.482e+07\n",
      "g              -2.076e+04     2783.2    -7.4606     0.0000  -2.622e+04  -1.531e+04\n",
      "gs              2.539e+04     3302.3     7.6885     0.0000   1.892e+04   3.186e+04\n",
      "mp             -9.957e+04  2.022e+04    -4.9246     0.0000  -1.392e+05  -5.994e+04\n",
      "fg              9.442e+05  1.612e+06     0.5858     0.5580  -2.215e+06   4.104e+06\n",
      "fga             2.327e+06  1.066e+06     2.1835     0.0290   2.379e+05   4.416e+06\n",
      "fg%             6.732e+06  2.959e+06     2.2748     0.0230   9.305e+05   1.253e+07\n",
      "3p              -5.91e+05  1.446e+06    -0.4088     0.6827  -3.425e+06   2.243e+06\n",
      "3pa            -1.611e+06  1.066e+06    -1.5124     0.1305    -3.7e+06   4.773e+05\n",
      "3p%            -1.055e+06  4.638e+05    -2.2742     0.0230  -1.964e+06  -1.456e+05\n",
      "2p              6.908e+05  1.168e+06     0.5916     0.5541  -1.598e+06    2.98e+06\n",
      "2pa             -2.73e+06  1.069e+06    -2.5535     0.0107  -4.825e+06  -6.342e+05\n",
      "2p%            -2.399e+06  9.126e+05    -2.6291     0.0086  -4.188e+06  -6.103e+05\n",
      "efg%           -5.336e+06  2.379e+06    -2.2429     0.0249  -9.999e+06  -6.723e+05\n",
      "ft               7.78e+05  7.049e+05     1.1037     0.2697  -6.038e+05    2.16e+06\n",
      "fta            -6.289e+04  2.065e+05    -0.3046     0.7607  -4.677e+05   3.419e+05\n",
      "ft%            -4.731e+05  2.989e+05    -1.5829     0.1135  -1.059e+06   1.128e+05\n",
      "orb            -1.192e+06  1.005e+06    -1.1857     0.2358  -3.163e+06   7.788e+05\n",
      "drb            -3.176e+05  1.003e+06    -0.3165     0.7516  -2.285e+06   1.649e+06\n",
      "trb             1.024e+06      1e+06     1.0238     0.3060  -9.369e+05   2.985e+06\n",
      "ast             5.313e+05  6.911e+04     7.6869     0.0000   3.958e+05   6.668e+05\n",
      "stl             1.297e+05   1.95e+05     0.6651     0.5060  -2.526e+05   5.121e+05\n",
      "blk             6.765e+05  1.758e+05     3.8478     0.0001   3.318e+05   1.021e+06\n",
      "tov             1.389e+05   1.74e+05     0.7985     0.4246  -2.021e+05     4.8e+05\n",
      "pf             -8.084e+05   1.15e+05    -7.0293     0.0000  -1.034e+06   -5.83e+05\n",
      "pts            -7.424e+04  6.735e+05    -0.1102     0.9122  -1.394e+06   1.246e+06\n",
      "height          2.674e+04   1.26e+04     2.1225     0.0338      2043.5   5.144e+04\n",
      "weight          3.989e+04     7858.2     5.0766     0.0000   2.449e+04    5.53e+04\n",
      "experience_YTD  2.853e+05  2.127e+04     13.413     0.0000   2.436e+05   3.269e+05\n",
      "team_fga        2.576e+06  1.038e+06     2.4823     0.0131   5.416e+05    4.61e+06\n",
      "team_fg%         8.82e+07   6.85e+07     1.2875     0.1980  -4.609e+07   2.225e+08\n",
      "team_3p         9.956e+05   1.32e+06     0.7540     0.4509  -1.593e+06   3.584e+06\n",
      "team_3pa       -2.261e+06  9.798e+05    -2.3081     0.0210  -4.182e+06  -3.407e+05\n",
      "team_3p%        -2.04e+07  1.214e+07    -1.6802     0.0930  -4.419e+07     3.4e+06\n",
      "team_2p         1.127e+06  9.724e+05     1.1586     0.2467  -7.796e+05   3.033e+06\n",
      "team_2pa       -2.672e+06  9.836e+05    -2.7166     0.0066    -4.6e+06  -7.439e+05\n",
      "team_2p%       -7.347e+07  2.235e+07    -3.2878     0.0010  -1.173e+08  -2.967e+07\n",
      "team_ft         6.746e+04  7.742e+05     0.0871     0.9306   -1.45e+06   1.585e+06\n",
      "team_fta        2.114e+05  4.685e+05     0.4512     0.6519   -7.07e+05    1.13e+06\n",
      "team_ft%        1.104e+07  1.464e+07     0.7540     0.4509  -1.766e+07   3.973e+07\n",
      "team_orb        -3.15e+05  9.493e+05    -0.3318     0.7401  -2.176e+06   1.546e+06\n",
      "team_drb       -4.671e+05  9.441e+05    -0.4948     0.6208  -2.318e+06   1.384e+06\n",
      "team_trb        3.244e+05  9.419e+05     0.3444     0.7305  -1.522e+06   2.171e+06\n",
      "team_ast       -8.323e+04  3.886e+04    -2.1418     0.0322  -1.594e+05     -7052.2\n",
      "team_stl       -2.258e+05  7.062e+04    -3.1972     0.0014  -3.642e+05  -8.736e+04\n",
      "team_blk        2.624e+04   7.57e+04     0.3466     0.7289  -1.222e+05   1.746e+05\n",
      "team_tov       -7.642e+04  5.764e+04    -1.3258     0.1849  -1.894e+05   3.657e+04\n",
      "team_pf         7.123e+04  4.368e+04     1.6308     0.1030  -1.439e+04   1.569e+05\n",
      "team_pts       -4.004e+05  5.176e+05    -0.7734     0.4393  -1.415e+06   6.144e+05\n",
      "team_count     -1.768e+06  1.094e+05    -16.156     0.0000  -1.982e+06  -1.553e+06\n",
      "C              -3.771e+05  1.033e+06    -0.3652     0.7149  -2.401e+06   1.647e+06\n",
      "C-PF           -2.419e+05  1.579e+06    -0.1532     0.8783  -3.338e+06   2.854e+06\n",
      "PF             -2.809e+05  1.012e+06    -0.2776     0.7814  -2.265e+06   1.703e+06\n",
      "PF-C            -1.04e+06  1.478e+06    -0.7034     0.4819  -3.937e+06   1.858e+06\n",
      "PF-SF           1.994e+06  1.533e+06     1.3004     0.1935  -1.012e+06   4.999e+06\n",
      "PG             -3.287e+05  9.844e+05    -0.3339     0.7385  -2.258e+06   1.601e+06\n",
      "PG-SG           6.654e+05  1.403e+06     0.4743     0.6353  -2.085e+06   3.416e+06\n",
      "SF              2.134e+04  9.991e+05     0.0214     0.9830  -1.937e+06    1.98e+06\n",
      "SF-C           -7.874e+05  3.015e+06    -0.2612     0.7940  -6.697e+06   5.123e+06\n",
      "SF-PF           1.434e+06  1.496e+06     0.9587     0.3378  -1.498e+06   4.365e+06\n",
      "SF-SG           3.328e+05  1.434e+06     0.2320     0.8165  -2.479e+06   3.144e+06\n",
      "SG              1.494e+05  9.874e+05     0.1513     0.8798  -1.786e+06   2.085e+06\n",
      "SG-PF          -2.575e+06  3.012e+06    -0.8549     0.3926   -8.48e+06    3.33e+06\n",
      "SG-SF           2.298e+06  1.525e+06     1.5065     0.1320  -6.921e+05   5.287e+06\n",
      "age_YTD         1.467e+05  2.064e+04     7.1081     0.0000   1.063e+05   1.872e+05\n",
      "==================================================================================\n"
     ]
    }
   ],
   "source": [
    "model_re = RandomEffects(endog, exog)\n",
    "re_res = model_re.fit()\n",
    "print(re_res)"
   ]
  },
  {
   "cell_type": "markdown",
   "metadata": {},
   "source": [
    "Get significant variables"
   ]
  },
  {
   "cell_type": "code",
   "execution_count": 115,
   "metadata": {},
   "outputs": [
    {
     "name": "stdout",
     "output_type": "stream",
     "text": [
      "Significant variables (FE): ['g', 'gs', 'mp', 'fga', 'fg%', '3p%', '2pa', '2p%', 'efg%', 'ast', 'blk', 'pf', 'height', 'weight', 'experience_YTD', 'team_2pa', 'team_2p%', 'team_stl', 'team_count', 'age_YTD']\n",
      "Significant variables (RE): ['g', 'gs', 'mp', 'fga', 'fg%', '3p%', '2pa', '2p%', 'efg%', 'ast', 'blk', 'pf', 'height', 'weight', 'experience_YTD', 'team_fga', 'team_3pa', 'team_2pa', 'team_2p%', 'team_ast', 'team_stl', 'team_count', 'age_YTD']\n"
     ]
    }
   ],
   "source": [
    "# Fixed effect\n",
    "fe_pvalues = fe_res.pvalues\n",
    "fe_sig_cols = list(fe_pvalues[fe_pvalues<sig_val].index)\n",
    "print(\"Significant variables (FE): {}\".format(fe_sig_cols))\n",
    "\n",
    "# Random effect\n",
    "re_pvalues = re_res.pvalues\n",
    "re_sig_cols = list(re_pvalues[re_pvalues<sig_val].index)\n",
    "print(\"Significant variables (RE): {}\".format(re_sig_cols))"
   ]
  },
  {
   "cell_type": "markdown",
   "metadata": {},
   "source": [
    "### Question 4b"
   ]
  },
  {
   "cell_type": "markdown",
   "metadata": {},
   "source": [
    "Time-invariant predictors"
   ]
  },
  {
   "cell_type": "code",
   "execution_count": 123,
   "metadata": {},
   "outputs": [
    {
     "data": {
      "text/plain": [
       "Index(['const', 'g', 'gs', 'mp', 'fg', 'fga', 'fg%', '3p', '3pa', '3p%', '2p',\n",
       "       '2pa', '2p%', 'efg%', 'ft', 'fta', 'ft%', 'orb', 'drb', 'trb', 'ast',\n",
       "       'stl', 'blk', 'tov', 'pf', 'pts', 'height', 'weight', 'experience_YTD',\n",
       "       'team_fga', 'team_fg%', 'team_3p', 'team_3pa', 'team_3p%', 'team_2p',\n",
       "       'team_2pa', 'team_2p%', 'team_ft', 'team_fta', 'team_ft%', 'team_orb',\n",
       "       'team_drb', 'team_trb', 'team_ast', 'team_stl', 'team_blk', 'team_tov',\n",
       "       'team_pf', 'team_pts', 'team_count', 'C', 'C-PF', 'PF', 'PF-C', 'PF-SF',\n",
       "       'PG', 'PG-SG', 'SF', 'SF-C', 'SF-PF', 'SF-SG', 'SG', 'SG-PF', 'SG-SF',\n",
       "       'age_YTD'],\n",
       "      dtype='object')"
      ]
     },
     "execution_count": 123,
     "metadata": {},
     "output_type": "execute_result"
    }
   ],
   "source": [
    "exog.columns"
   ]
  },
  {
   "cell_type": "code",
   "execution_count": 124,
   "metadata": {},
   "outputs": [
    {
     "name": "stdout",
     "output_type": "stream",
     "text": [
      "Time-invariant variables: ['height', 'weight']\n"
     ]
    }
   ],
   "source": [
    "print(\"Time-invariant variables: {}\".format([\"height\", \"weight\"]))"
   ]
  },
  {
   "cell_type": "code",
   "execution_count": 125,
   "metadata": {},
   "outputs": [
    {
     "name": "stdout",
     "output_type": "stream",
     "text": [
      "No. No fixed effect alpha i is correlated with the predictors.\n"
     ]
    }
   ],
   "source": [
    "print(\"No. No fixed effect alpha i is correlated with the predictors.\")"
   ]
  },
  {
   "cell_type": "markdown",
   "metadata": {},
   "source": [
    "### Question 4c"
   ]
  },
  {
   "cell_type": "markdown",
   "metadata": {},
   "source": [
    "Hausman test"
   ]
  },
  {
   "cell_type": "code",
   "execution_count": 121,
   "metadata": {},
   "outputs": [
    {
     "name": "stdout",
     "output_type": "stream",
     "text": [
      "chi-Squared: 76.72161367111767\n",
      "degrees of freedom: 65\n",
      "p-Value: 0.15157015870262835\n"
     ]
    }
   ],
   "source": [
    "def hausman(fe, re):\n",
    "    b = fe.params\n",
    "    B = re.params\n",
    "    v_b = fe.cov\n",
    "    v_B = re.cov\n",
    "    df = b[np.abs(b) < 1e8].size\n",
    "    chi2 = np.dot((b - B).T, np.linalg.inv(v_b - v_B).dot(b - B)) \n",
    "\n",
    "    pval = stats.chi2.sf(chi2, df)\n",
    "    return chi2, df, pval\n",
    "\n",
    "hausman_results = hausman(fe_res, re_res) \n",
    "print(\"chi-Squared: {}\".format(str(hausman_results[0])))\n",
    "print(\"degrees of freedom: {}\".format(str(hausman_results[1])))\n",
    "print(\"p-Value: {}\".format(str(hausman_results[2])))"
   ]
  },
  {
   "cell_type": "code",
   "execution_count": 122,
   "metadata": {},
   "outputs": [
    {
     "name": "stdout",
     "output_type": "stream",
     "text": [
      "Since p-value of Hausman test > 0.05, we accept the null hypothesis of using RandomEffect model.\n"
     ]
    }
   ],
   "source": [
    "print(\"Since p-value of Hausman test > 0.05, we accept the null hypothesis of using RandomEffect model.\")"
   ]
  },
  {
   "cell_type": "markdown",
   "metadata": {},
   "source": [
    "### Question 4d"
   ]
  },
  {
   "cell_type": "markdown",
   "metadata": {},
   "source": [
    "Recommendation"
   ]
  },
  {
   "cell_type": "code",
   "execution_count": 126,
   "metadata": {},
   "outputs": [
    {
     "name": "stdout",
     "output_type": "stream",
     "text": [
      "                        RandomEffects Estimation Summary                        \n",
      "================================================================================\n",
      "Dep. Variable:                 salary   R-squared:                        0.5443\n",
      "Estimator:              RandomEffects   R-squared (Between):              0.4822\n",
      "No. Observations:                6930   R-squared (Within):               0.5445\n",
      "Date:                Sat, Mar 06 2021   R-squared (Overall):              0.5443\n",
      "Time:                        19:26:22   Log-likelihood                -1.152e+05\n",
      "Cov. Estimator:            Unadjusted                                           \n",
      "                                        F-statistic:                      128.13\n",
      "Entities:                          30   P-value                           0.0000\n",
      "Avg Obs:                       231.00   Distribution:                 F(64,6865)\n",
      "Min Obs:                       186.00                                           \n",
      "Max Obs:                       282.00   F-statistic (robust):             128.13\n",
      "                                        P-value                           0.0000\n",
      "Time periods:                      11   Distribution:                 F(64,6865)\n",
      "Avg Obs:                       630.00                                           \n",
      "Min Obs:                       500.00                                           \n",
      "Max Obs:                       724.00                                           \n",
      "                                                                                \n",
      "                               Parameter Estimates                                \n",
      "==================================================================================\n",
      "                Parameter  Std. Err.     T-stat    P-value    Lower CI    Upper CI\n",
      "----------------------------------------------------------------------------------\n",
      "const          -1.462e+07  3.542e+07    -0.4127     0.6798  -8.406e+07   5.482e+07\n",
      "g              -2.076e+04     2783.2    -7.4606     0.0000  -2.622e+04  -1.531e+04\n",
      "gs              2.539e+04     3302.3     7.6885     0.0000   1.892e+04   3.186e+04\n",
      "mp             -9.957e+04  2.022e+04    -4.9246     0.0000  -1.392e+05  -5.994e+04\n",
      "fg              9.442e+05  1.612e+06     0.5858     0.5580  -2.215e+06   4.104e+06\n",
      "fga             2.327e+06  1.066e+06     2.1835     0.0290   2.379e+05   4.416e+06\n",
      "fg%             6.732e+06  2.959e+06     2.2748     0.0230   9.305e+05   1.253e+07\n",
      "3p              -5.91e+05  1.446e+06    -0.4088     0.6827  -3.425e+06   2.243e+06\n",
      "3pa            -1.611e+06  1.066e+06    -1.5124     0.1305    -3.7e+06   4.773e+05\n",
      "3p%            -1.055e+06  4.638e+05    -2.2742     0.0230  -1.964e+06  -1.456e+05\n",
      "2p              6.908e+05  1.168e+06     0.5916     0.5541  -1.598e+06    2.98e+06\n",
      "2pa             -2.73e+06  1.069e+06    -2.5535     0.0107  -4.825e+06  -6.342e+05\n",
      "2p%            -2.399e+06  9.126e+05    -2.6291     0.0086  -4.188e+06  -6.103e+05\n",
      "efg%           -5.336e+06  2.379e+06    -2.2429     0.0249  -9.999e+06  -6.723e+05\n",
      "ft               7.78e+05  7.049e+05     1.1037     0.2697  -6.038e+05    2.16e+06\n",
      "fta            -6.289e+04  2.065e+05    -0.3046     0.7607  -4.677e+05   3.419e+05\n",
      "ft%            -4.731e+05  2.989e+05    -1.5829     0.1135  -1.059e+06   1.128e+05\n",
      "orb            -1.192e+06  1.005e+06    -1.1857     0.2358  -3.163e+06   7.788e+05\n",
      "drb            -3.176e+05  1.003e+06    -0.3165     0.7516  -2.285e+06   1.649e+06\n",
      "trb             1.024e+06      1e+06     1.0238     0.3060  -9.369e+05   2.985e+06\n",
      "ast             5.313e+05  6.911e+04     7.6869     0.0000   3.958e+05   6.668e+05\n",
      "stl             1.297e+05   1.95e+05     0.6651     0.5060  -2.526e+05   5.121e+05\n",
      "blk             6.765e+05  1.758e+05     3.8478     0.0001   3.318e+05   1.021e+06\n",
      "tov             1.389e+05   1.74e+05     0.7985     0.4246  -2.021e+05     4.8e+05\n",
      "pf             -8.084e+05   1.15e+05    -7.0293     0.0000  -1.034e+06   -5.83e+05\n",
      "pts            -7.424e+04  6.735e+05    -0.1102     0.9122  -1.394e+06   1.246e+06\n",
      "height          2.674e+04   1.26e+04     2.1225     0.0338      2043.5   5.144e+04\n",
      "weight          3.989e+04     7858.2     5.0766     0.0000   2.449e+04    5.53e+04\n",
      "experience_YTD  2.853e+05  2.127e+04     13.413     0.0000   2.436e+05   3.269e+05\n",
      "team_fga        2.576e+06  1.038e+06     2.4823     0.0131   5.416e+05    4.61e+06\n",
      "team_fg%         8.82e+07   6.85e+07     1.2875     0.1980  -4.609e+07   2.225e+08\n",
      "team_3p         9.956e+05   1.32e+06     0.7540     0.4509  -1.593e+06   3.584e+06\n",
      "team_3pa       -2.261e+06  9.798e+05    -2.3081     0.0210  -4.182e+06  -3.407e+05\n",
      "team_3p%        -2.04e+07  1.214e+07    -1.6802     0.0930  -4.419e+07     3.4e+06\n",
      "team_2p         1.127e+06  9.724e+05     1.1586     0.2467  -7.796e+05   3.033e+06\n",
      "team_2pa       -2.672e+06  9.836e+05    -2.7166     0.0066    -4.6e+06  -7.439e+05\n",
      "team_2p%       -7.347e+07  2.235e+07    -3.2878     0.0010  -1.173e+08  -2.967e+07\n",
      "team_ft         6.746e+04  7.742e+05     0.0871     0.9306   -1.45e+06   1.585e+06\n",
      "team_fta        2.114e+05  4.685e+05     0.4512     0.6519   -7.07e+05    1.13e+06\n",
      "team_ft%        1.104e+07  1.464e+07     0.7540     0.4509  -1.766e+07   3.973e+07\n",
      "team_orb        -3.15e+05  9.493e+05    -0.3318     0.7401  -2.176e+06   1.546e+06\n",
      "team_drb       -4.671e+05  9.441e+05    -0.4948     0.6208  -2.318e+06   1.384e+06\n",
      "team_trb        3.244e+05  9.419e+05     0.3444     0.7305  -1.522e+06   2.171e+06\n",
      "team_ast       -8.323e+04  3.886e+04    -2.1418     0.0322  -1.594e+05     -7052.2\n",
      "team_stl       -2.258e+05  7.062e+04    -3.1972     0.0014  -3.642e+05  -8.736e+04\n",
      "team_blk        2.624e+04   7.57e+04     0.3466     0.7289  -1.222e+05   1.746e+05\n",
      "team_tov       -7.642e+04  5.764e+04    -1.3258     0.1849  -1.894e+05   3.657e+04\n",
      "team_pf         7.123e+04  4.368e+04     1.6308     0.1030  -1.439e+04   1.569e+05\n",
      "team_pts       -4.004e+05  5.176e+05    -0.7734     0.4393  -1.415e+06   6.144e+05\n",
      "team_count     -1.768e+06  1.094e+05    -16.156     0.0000  -1.982e+06  -1.553e+06\n",
      "C              -3.771e+05  1.033e+06    -0.3652     0.7149  -2.401e+06   1.647e+06\n",
      "C-PF           -2.419e+05  1.579e+06    -0.1532     0.8783  -3.338e+06   2.854e+06\n",
      "PF             -2.809e+05  1.012e+06    -0.2776     0.7814  -2.265e+06   1.703e+06\n",
      "PF-C            -1.04e+06  1.478e+06    -0.7034     0.4819  -3.937e+06   1.858e+06\n",
      "PF-SF           1.994e+06  1.533e+06     1.3004     0.1935  -1.012e+06   4.999e+06\n",
      "PG             -3.287e+05  9.844e+05    -0.3339     0.7385  -2.258e+06   1.601e+06\n",
      "PG-SG           6.654e+05  1.403e+06     0.4743     0.6353  -2.085e+06   3.416e+06\n",
      "SF              2.134e+04  9.991e+05     0.0214     0.9830  -1.937e+06    1.98e+06\n",
      "SF-C           -7.874e+05  3.015e+06    -0.2612     0.7940  -6.697e+06   5.123e+06\n",
      "SF-PF           1.434e+06  1.496e+06     0.9587     0.3378  -1.498e+06   4.365e+06\n",
      "SF-SG           3.328e+05  1.434e+06     0.2320     0.8165  -2.479e+06   3.144e+06\n",
      "SG              1.494e+05  9.874e+05     0.1513     0.8798  -1.786e+06   2.085e+06\n",
      "SG-PF          -2.575e+06  3.012e+06    -0.8549     0.3926   -8.48e+06    3.33e+06\n",
      "SG-SF           2.298e+06  1.525e+06     1.5065     0.1320  -6.921e+05   5.287e+06\n",
      "age_YTD         1.467e+05  2.064e+04     7.1081     0.0000   1.063e+05   1.872e+05\n",
      "==================================================================================\n"
     ]
    }
   ],
   "source": [
    "print(re_res)"
   ]
  },
  {
   "cell_type": "markdown",
   "metadata": {},
   "source": [
    "Get coefficients of significant variables"
   ]
  },
  {
   "cell_type": "code",
   "execution_count": 142,
   "metadata": {},
   "outputs": [],
   "source": [
    "re_coeff = re_res.params[re_pvalues<sig_val]\n",
    "re_coeff = re_coeff.to_frame().reset_index(drop=False)\n",
    "re_coeff.columns = [\"predictor\", \"coefficient\"]"
   ]
  },
  {
   "cell_type": "code",
   "execution_count": 146,
   "metadata": {},
   "outputs": [
    {
     "name": "stdout",
     "output_type": "stream",
     "text": [
      "On average, for every unit increase in g, increase the players pay by -20764.52\n",
      "On average, for every unit increase in gs, increase the players pay by 25389.58\n",
      "On average, for every unit increase in mp, increase the players pay by -99572.41\n",
      "On average, for every unit increase in fga, increase the players pay by 2326865.92\n",
      "On average, for every unit increase in fg%, increase the players pay by 6731702.85\n",
      "On average, for every unit increase in 3p%, increase the players pay by -1054832.07\n",
      "On average, for every unit increase in 2pa, increase the players pay by -2729691.52\n",
      "On average, for every unit increase in 2p%, increase the players pay by -2399244.14\n",
      "On average, for every unit increase in efg%, increase the players pay by -5335609.54\n",
      "On average, for every unit increase in ast, increase the players pay by 531267.82\n",
      "On average, for every unit increase in blk, increase the players pay by 676476.17\n",
      "On average, for every unit increase in pf, increase the players pay by -808412.19\n",
      "On average, for every unit increase in height, increase the players pay by 26740.29\n",
      "On average, for every unit increase in weight, increase the players pay by 39892.99\n",
      "On average, for every unit increase in experience_YTD, increase the players pay by 285256.65\n",
      "On average, for every unit increase in team_fga, increase the players pay by 2575585.9\n",
      "On average, for every unit increase in team_3pa, increase the players pay by -2261416.54\n",
      "On average, for every unit increase in team_2pa, increase the players pay by -2672103.9\n",
      "On average, for every unit increase in team_2p%, increase the players pay by -73470479.35\n",
      "On average, for every unit increase in team_ast, increase the players pay by -83229.75\n",
      "On average, for every unit increase in team_stl, increase the players pay by -225798.37\n",
      "On average, for every unit increase in team_count, increase the players pay by -1767880.3\n",
      "On average, for every unit increase in age_YTD, increase the players pay by 146721.78\n"
     ]
    }
   ],
   "source": [
    "for i, row in re_coeff.iterrows():\n",
    "    predictor = row[\"predictor\"]\n",
    "    coefficient = row[\"coefficient\"]\n",
    "    \n",
    "    print(\"On average, for every unit increase in {}, increase the players pay by ${}\".format(\n",
    "          predictor, round(coefficient, 2)))"
   ]
  },
  {
   "cell_type": "markdown",
   "metadata": {},
   "source": [
    "### Question 5a"
   ]
  },
  {
   "cell_type": "code",
   "execution_count": null,
   "metadata": {},
   "outputs": [],
   "source": []
  },
  {
   "cell_type": "markdown",
   "metadata": {},
   "source": [
    "### Question 5b"
   ]
  },
  {
   "cell_type": "code",
   "execution_count": 147,
   "metadata": {},
   "outputs": [
    {
     "name": "stdout",
     "output_type": "stream",
     "text": [
      "We can include coorperation amongst members by adding the average statistics of the players in the team and statistics of assists as exogeneous variables.\n"
     ]
    }
   ],
   "source": [
    "print(\"We can include coorperation amongst members by adding the average statistics of the players in the team \"\n",
    "      \"and statistics of assists as exogeneous variables.\")"
   ]
  },
  {
   "cell_type": "code",
   "execution_count": null,
   "metadata": {},
   "outputs": [],
   "source": []
  },
  {
   "cell_type": "code",
   "execution_count": null,
   "metadata": {},
   "outputs": [],
   "source": []
  },
  {
   "cell_type": "code",
   "execution_count": null,
   "metadata": {},
   "outputs": [],
   "source": []
  },
  {
   "cell_type": "code",
   "execution_count": null,
   "metadata": {},
   "outputs": [],
   "source": []
  },
  {
   "cell_type": "code",
   "execution_count": null,
   "metadata": {},
   "outputs": [],
   "source": []
  },
  {
   "cell_type": "code",
   "execution_count": null,
   "metadata": {},
   "outputs": [],
   "source": []
  },
  {
   "cell_type": "markdown",
   "metadata": {},
   "source": [
    "# KIV"
   ]
  },
  {
   "cell_type": "markdown",
   "metadata": {},
   "source": [
    "Get non-primary key columns"
   ]
  },
  {
   "cell_type": "code",
   "execution_count": null,
   "metadata": {},
   "outputs": [],
   "source": [
    "# Get columns related to player statistics\n",
    "player_stats_columns = list(df_player_stats.columns)\n",
    "player_stats_columns.remove(\"player\")\n",
    "player_stats_columns.remove(\"season\")\n",
    "\n",
    "# Get columns related to player salary\n",
    "salary_columns = list(df_salary.columns)\n",
    "salary_columns.remove(\"player\")\n",
    "salary_columns.remove(\"season\")\n",
    "\n",
    "# Get columns related to team statistics\n",
    "team_stats_columns = list(df_team_stats.columns)\n",
    "team_stats_columns.remove(\"team_name\")\n",
    "team_stats_columns.remove(\"season\")\n",
    "\n",
    "# Get columns related to team info\n",
    "team_info_columns = list(df_team_info.columns)\n",
    "team_info_columns.remove(\"team_name\")\n",
    "team_info_columns.remove(\"full_team_name\")"
   ]
  },
  {
   "cell_type": "markdown",
   "metadata": {},
   "source": [
    "### Combined Player Info"
   ]
  },
  {
   "cell_type": "code",
   "execution_count": null,
   "metadata": {},
   "outputs": [],
   "source": [
    "import glob"
   ]
  },
  {
   "cell_type": "code",
   "execution_count": null,
   "metadata": {},
   "outputs": [],
   "source": [
    "player_info = glob.glob(os.path.join(DATA_FOLDER, \"player_active_info\", \"*.csv\"))\n",
    "player_inact_info = glob.glob(os.path.join(DATA_FOLDER, \"player_inactive_info\", \"*.csv\"))"
   ]
  },
  {
   "cell_type": "code",
   "execution_count": null,
   "metadata": {},
   "outputs": [],
   "source": [
    "full_df = []\n",
    "\n",
    "for info in player_info:\n",
    "    df = pd.read_csv(info)\n",
    "    full_df.append(df)\n",
    "    \n",
    "for info in player_inact_info:\n",
    "    df = pd.read_csv(info)\n",
    "    full_df.append(df)\n",
    "    \n",
    "full_df = pd.concat(full_df)"
   ]
  },
  {
   "cell_type": "code",
   "execution_count": null,
   "metadata": {},
   "outputs": [],
   "source": [
    "full_df = full_df.drop(columns=[\"Unnamed: 0\"])\n",
    "full_df = full_df.drop_duplicates(keep=\"first\").reset_index(drop=True)"
   ]
  },
  {
   "cell_type": "code",
   "execution_count": null,
   "metadata": {},
   "outputs": [],
   "source": [
    "pickle.dump(full_df, open(os.path.join(DATA_FOLDER, \"player_info.pkl\"), \"wb\"))"
   ]
  },
  {
   "cell_type": "markdown",
   "metadata": {},
   "source": [
    "Aggregate teams and positions"
   ]
  },
  {
   "cell_type": "code",
   "execution_count": 213,
   "metadata": {},
   "outputs": [],
   "source": [
    "group_cols = [\"g\", \"gs\", \"mp\", \"fg\", \"fga\", \"fg%\", \"3p\", \"3pa\", \"3p%\", \"2p\", \"2pa\", \"2p%\",\n",
    "              \"efg%\", \"ft\", \"fta\", \"ft%\", \"orb\", \"drb\", \"trb\", \"ast\", \"stl\", \"blk\", \"tov\", \"pf\", \"pts\",\n",
    "              \"season_year\", \"height\", \"weight\", \"total_salary\", \"experience_YTD\", \"team_count\", \"age_YTD\"]\n",
    "agg_cols = {col: \"sum\" for col in key_cols if col not in group_cols}\n",
    "\n",
    "df_final = df.groupby(group_cols).agg(agg_cols).reset_index(drop=False)"
   ]
  },
  {
   "cell_type": "markdown",
   "metadata": {},
   "source": [
    "One hot encode \"team_name\""
   ]
  },
  {
   "cell_type": "code",
   "execution_count": 274,
   "metadata": {},
   "outputs": [],
   "source": [
    "team_name_dummies = pd.get_dummies(df[\"team_name\"])\n",
    "df = df.merge(team_name_dummies,\n",
    "              how=\"inner\",\n",
    "              left_index=True,\n",
    "              right_index=True).reset_index(drop=True)"
   ]
  }
 ],
 "metadata": {
  "kernelspec": {
   "display_name": "Python 3 (ipykernel)",
   "language": "python",
   "name": "python3"
  },
  "language_info": {
   "codemirror_mode": {
    "name": "ipython",
    "version": 3
   },
   "file_extension": ".py",
   "mimetype": "text/x-python",
   "name": "python",
   "nbconvert_exporter": "python",
   "pygments_lexer": "ipython3",
   "version": "3.9.0"
  }
 },
 "nbformat": 4,
 "nbformat_minor": 4
}
