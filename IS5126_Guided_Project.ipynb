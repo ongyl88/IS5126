{
 "cells": [
  {
   "cell_type": "markdown",
   "metadata": {},
   "source": [
    "# Readme"
   ]
  },
  {
   "cell_type": "markdown",
   "metadata": {},
   "source": [
    "Folder Structure\n",
    "\n",
    "  /project_folder\n",
    "    IS5126_Guided_Project.ipynb\n",
    "    /data\n",
    "      player_salaries.csv\n",
    "      player_static_info.csv\n",
    "      season_per_game.csv\n",
    "      team_info.csv\n",
    "      team_season_per_game.csv"
   ]
  },
  {
   "cell_type": "markdown",
   "metadata": {},
   "source": [
    "# Import Libraries"
   ]
  },
  {
   "cell_type": "code",
   "execution_count": 75,
   "metadata": {},
   "outputs": [],
   "source": [
    "import os\n",
    "import argparse\n",
    "import pickle \n",
    "\n",
    "\n",
    "import pandas as pd\n",
    "import numpy as np\n",
    "import matplotlib.pyplot as plt\n",
    "import seaborn as sns\n",
    "\n",
    "from sklearn.cluster import KMeans\n",
    "from sklearn.preprocessing import StandardScaler\n",
    "from sklearn.metrics import silhouette_score\n",
    "\n",
    "import statsmodels.api as sm\n",
    "import statsmodels.stats.api as sms\n",
    "\n",
    "from linearmodels import PanelOLS\n",
    "from linearmodels import RandomEffects\n",
    "from scipy import stats"
   ]
  },
  {
   "cell_type": "code",
   "execution_count": 76,
   "metadata": {},
   "outputs": [],
   "source": [
    "import warnings\n",
    "warnings.filterwarnings(\"ignore\", category=DeprecationWarning) "
   ]
  },
  {
   "cell_type": "markdown",
   "metadata": {},
   "source": [
    "# Define Filepaths"
   ]
  },
  {
   "cell_type": "markdown",
   "metadata": {},
   "source": [
    "Data Folder Path"
   ]
  },
  {
   "cell_type": "code",
   "execution_count": 77,
   "metadata": {},
   "outputs": [],
   "source": [
    "DATA_FOLDER = r\"./data/\""
   ]
  },
  {
   "cell_type": "markdown",
   "metadata": {},
   "source": [
    "Data File Paths"
   ]
  },
  {
   "cell_type": "code",
   "execution_count": 78,
   "metadata": {},
   "outputs": [],
   "source": [
    "SALARY_FILE = os.path.join(DATA_FOLDER, \"player_salaries_all.csv\")\n",
    "PLAYER_INFO_FILE = os.path.join(DATA_FOLDER, \"player_static_info.csv\")\n",
    "PLAYER_STATS_FILE = os.path.join(DATA_FOLDER, \"season_per_game.csv\")\n",
    "TEAM_INFO_FILE = os.path.join(DATA_FOLDER, \"team_info.csv\")\n",
    "TEAM_STATS_FILE = os.path.join(DATA_FOLDER, \"team_season_per_game.csv\")\n",
    "MAIN_DF_FILE = os.path.join(DATA_FOLDER, \"df_main.csv\")"
   ]
  },
  {
   "cell_type": "markdown",
   "metadata": {},
   "source": [
    "# Read Data"
   ]
  },
  {
   "cell_type": "code",
   "execution_count": 79,
   "metadata": {},
   "outputs": [],
   "source": [
    "df_salary = pd.read_csv (SALARY_FILE, encoding='latin1')\n",
    "df_player_info = pd.read_csv (PLAYER_INFO_FILE, encoding='latin1')\n",
    "df_player_stats = pd.read_csv (PLAYER_STATS_FILE, encoding='latin1')\n",
    "df_team_info = pd.read_csv (TEAM_INFO_FILE, encoding='latin1')\n",
    "df_team_stats = pd.read_csv (TEAM_STATS_FILE, encoding='latin1')"
   ]
  },
  {
   "cell_type": "markdown",
   "metadata": {},
   "source": [
    "# Check Data "
   ]
  },
  {
   "cell_type": "code",
   "execution_count": 80,
   "metadata": {},
   "outputs": [
    {
     "data": {
      "text/html": [
       "<div>\n",
       "<style scoped>\n",
       "    .dataframe tbody tr th:only-of-type {\n",
       "        vertical-align: middle;\n",
       "    }\n",
       "\n",
       "    .dataframe tbody tr th {\n",
       "        vertical-align: top;\n",
       "    }\n",
       "\n",
       "    .dataframe thead th {\n",
       "        text-align: right;\n",
       "    }\n",
       "</style>\n",
       "<table border=\"1\" class=\"dataframe\">\n",
       "  <thead>\n",
       "    <tr style=\"text-align: right;\">\n",
       "      <th></th>\n",
       "      <th>player</th>\n",
       "      <th>season</th>\n",
       "      <th>team</th>\n",
       "      <th>salary</th>\n",
       "    </tr>\n",
       "  </thead>\n",
       "  <tbody>\n",
       "    <tr>\n",
       "      <th>0</th>\n",
       "      <td>Ãlex Abrines</td>\n",
       "      <td>2016-17</td>\n",
       "      <td>Oklahoma City Thunder</td>\n",
       "      <td>5994764</td>\n",
       "    </tr>\n",
       "  </tbody>\n",
       "</table>\n",
       "</div>"
      ],
      "text/plain": [
       "          player   season                   team   salary\n",
       "0  Ãlex Abrines  2016-17  Oklahoma City Thunder  5994764"
      ]
     },
     "execution_count": 80,
     "metadata": {},
     "output_type": "execute_result"
    }
   ],
   "source": [
    "df_salary.drop(df_salary.filter(regex=\"Unnamed\"),axis=1, inplace=True)\n",
    "df_salary.head(1)"
   ]
  },
  {
   "cell_type": "code",
   "execution_count": 81,
   "metadata": {},
   "outputs": [
    {
     "data": {
      "text/html": [
       "<div>\n",
       "<style scoped>\n",
       "    .dataframe tbody tr th:only-of-type {\n",
       "        vertical-align: middle;\n",
       "    }\n",
       "\n",
       "    .dataframe tbody tr th {\n",
       "        vertical-align: top;\n",
       "    }\n",
       "\n",
       "    .dataframe thead th {\n",
       "        text-align: right;\n",
       "    }\n",
       "</style>\n",
       "<table border=\"1\" class=\"dataframe\">\n",
       "  <thead>\n",
       "    <tr style=\"text-align: right;\">\n",
       "      <th></th>\n",
       "      <th>name</th>\n",
       "      <th>height</th>\n",
       "      <th>birthday</th>\n",
       "      <th>weight</th>\n",
       "    </tr>\n",
       "  </thead>\n",
       "  <tbody>\n",
       "    <tr>\n",
       "      <th>0</th>\n",
       "      <td>Ãlex Abrines</td>\n",
       "      <td>6-2</td>\n",
       "      <td>August 1, 1993</td>\n",
       "      <td>200lb</td>\n",
       "    </tr>\n",
       "  </tbody>\n",
       "</table>\n",
       "</div>"
      ],
      "text/plain": [
       "            name height        birthday weight\n",
       "0  Ãlex Abrines    6-2  August 1, 1993  200lb"
      ]
     },
     "execution_count": 81,
     "metadata": {},
     "output_type": "execute_result"
    }
   ],
   "source": [
    "df_player_info.drop(df_player_info.filter(regex=\"Unnamed\"),axis=1, inplace=True)\n",
    "df_player_info.head(1)"
   ]
  },
  {
   "cell_type": "code",
   "execution_count": 82,
   "metadata": {},
   "outputs": [
    {
     "data": {
      "text/html": [
       "<div>\n",
       "<style scoped>\n",
       "    .dataframe tbody tr th:only-of-type {\n",
       "        vertical-align: middle;\n",
       "    }\n",
       "\n",
       "    .dataframe tbody tr th {\n",
       "        vertical-align: top;\n",
       "    }\n",
       "\n",
       "    .dataframe thead th {\n",
       "        text-align: right;\n",
       "    }\n",
       "</style>\n",
       "<table border=\"1\" class=\"dataframe\">\n",
       "  <thead>\n",
       "    <tr style=\"text-align: right;\">\n",
       "      <th></th>\n",
       "      <th>Player</th>\n",
       "      <th>Pos</th>\n",
       "      <th>Age</th>\n",
       "      <th>Tm</th>\n",
       "      <th>G</th>\n",
       "      <th>GS</th>\n",
       "      <th>MP</th>\n",
       "      <th>FG</th>\n",
       "      <th>FGA</th>\n",
       "      <th>FG%</th>\n",
       "      <th>...</th>\n",
       "      <th>ORB</th>\n",
       "      <th>DRB</th>\n",
       "      <th>TRB</th>\n",
       "      <th>AST</th>\n",
       "      <th>STL</th>\n",
       "      <th>BLK</th>\n",
       "      <th>TOV</th>\n",
       "      <th>PF</th>\n",
       "      <th>PTS</th>\n",
       "      <th>Season</th>\n",
       "    </tr>\n",
       "  </thead>\n",
       "  <tbody>\n",
       "    <tr>\n",
       "      <th>0</th>\n",
       "      <td>Arron Afflalo</td>\n",
       "      <td>SG</td>\n",
       "      <td>24</td>\n",
       "      <td>DEN</td>\n",
       "      <td>82</td>\n",
       "      <td>75</td>\n",
       "      <td>27.1</td>\n",
       "      <td>3.3</td>\n",
       "      <td>7.1</td>\n",
       "      <td>0.465</td>\n",
       "      <td>...</td>\n",
       "      <td>0.7</td>\n",
       "      <td>2.4</td>\n",
       "      <td>3.1</td>\n",
       "      <td>1.7</td>\n",
       "      <td>0.6</td>\n",
       "      <td>0.4</td>\n",
       "      <td>0.9</td>\n",
       "      <td>2.7</td>\n",
       "      <td>8.8</td>\n",
       "      <td>2009-10</td>\n",
       "    </tr>\n",
       "  </tbody>\n",
       "</table>\n",
       "<p>1 rows × 30 columns</p>\n",
       "</div>"
      ],
      "text/plain": [
       "          Player Pos  Age   Tm   G  GS    MP   FG  FGA    FG%  ...  ORB  DRB  \\\n",
       "0  Arron Afflalo  SG   24  DEN  82  75  27.1  3.3  7.1  0.465  ...  0.7  2.4   \n",
       "\n",
       "   TRB  AST  STL  BLK  TOV   PF  PTS   Season  \n",
       "0  3.1  1.7  0.6  0.4  0.9  2.7  8.8  2009-10  \n",
       "\n",
       "[1 rows x 30 columns]"
      ]
     },
     "execution_count": 82,
     "metadata": {},
     "output_type": "execute_result"
    }
   ],
   "source": [
    "df_player_stats.drop(df_player_stats.filter(regex=\"ï»¿\"),axis=1, inplace=True)\n",
    "df_player_stats.head(1)"
   ]
  },
  {
   "cell_type": "code",
   "execution_count": 83,
   "metadata": {},
   "outputs": [
    {
     "data": {
      "text/html": [
       "<div>\n",
       "<style scoped>\n",
       "    .dataframe tbody tr th:only-of-type {\n",
       "        vertical-align: middle;\n",
       "    }\n",
       "\n",
       "    .dataframe tbody tr th {\n",
       "        vertical-align: top;\n",
       "    }\n",
       "\n",
       "    .dataframe thead th {\n",
       "        text-align: right;\n",
       "    }\n",
       "</style>\n",
       "<table border=\"1\" class=\"dataframe\">\n",
       "  <thead>\n",
       "    <tr style=\"text-align: right;\">\n",
       "      <th></th>\n",
       "      <th>name</th>\n",
       "      <th>location</th>\n",
       "      <th>team_names</th>\n",
       "      <th>seasons</th>\n",
       "      <th>record</th>\n",
       "      <th>playoff_appearances</th>\n",
       "      <th>championships</th>\n",
       "    </tr>\n",
       "  </thead>\n",
       "  <tbody>\n",
       "    <tr>\n",
       "      <th>0</th>\n",
       "      <td>Philadelphia 76ers</td>\n",
       "      <td>Pennsylvania</td>\n",
       "      <td>Philadelphia 76ers, Syracuse Nationals</td>\n",
       "      <td>73</td>\n",
       "      <td>0.519</td>\n",
       "      <td>51</td>\n",
       "      <td>3</td>\n",
       "    </tr>\n",
       "  </tbody>\n",
       "</table>\n",
       "</div>"
      ],
      "text/plain": [
       "                 name      location                              team_names  \\\n",
       "0  Philadelphia 76ers  Pennsylvania  Philadelphia 76ers, Syracuse Nationals   \n",
       "\n",
       "   seasons  record  playoff_appearances  championships  \n",
       "0       73   0.519                   51              3  "
      ]
     },
     "execution_count": 83,
     "metadata": {},
     "output_type": "execute_result"
    }
   ],
   "source": [
    "df_team_info.drop(df_team_info.filter(regex=\"ï»¿\"),axis=1, inplace=True)\n",
    "df_team_info.head(1)"
   ]
  },
  {
   "cell_type": "code",
   "execution_count": 84,
   "metadata": {},
   "outputs": [
    {
     "data": {
      "text/html": [
       "<div>\n",
       "<style scoped>\n",
       "    .dataframe tbody tr th:only-of-type {\n",
       "        vertical-align: middle;\n",
       "    }\n",
       "\n",
       "    .dataframe tbody tr th {\n",
       "        vertical-align: top;\n",
       "    }\n",
       "\n",
       "    .dataframe thead th {\n",
       "        text-align: right;\n",
       "    }\n",
       "</style>\n",
       "<table border=\"1\" class=\"dataframe\">\n",
       "  <thead>\n",
       "    <tr style=\"text-align: right;\">\n",
       "      <th></th>\n",
       "      <th>Team</th>\n",
       "      <th>G</th>\n",
       "      <th>MP</th>\n",
       "      <th>FG</th>\n",
       "      <th>FGA</th>\n",
       "      <th>FG%</th>\n",
       "      <th>3P</th>\n",
       "      <th>3PA</th>\n",
       "      <th>3P%</th>\n",
       "      <th>2P</th>\n",
       "      <th>...</th>\n",
       "      <th>ORB</th>\n",
       "      <th>DRB</th>\n",
       "      <th>TRB</th>\n",
       "      <th>AST</th>\n",
       "      <th>STL</th>\n",
       "      <th>BLK</th>\n",
       "      <th>TOV</th>\n",
       "      <th>PF</th>\n",
       "      <th>PTS</th>\n",
       "      <th>Season</th>\n",
       "    </tr>\n",
       "  </thead>\n",
       "  <tbody>\n",
       "    <tr>\n",
       "      <th>0</th>\n",
       "      <td>Phoenix Suns</td>\n",
       "      <td>82</td>\n",
       "      <td>240.6</td>\n",
       "      <td>40.7</td>\n",
       "      <td>82.8</td>\n",
       "      <td>0.492</td>\n",
       "      <td>8.9</td>\n",
       "      <td>21.6</td>\n",
       "      <td>0.412</td>\n",
       "      <td>31.8</td>\n",
       "      <td>...</td>\n",
       "      <td>11.1</td>\n",
       "      <td>31.9</td>\n",
       "      <td>43.0</td>\n",
       "      <td>23.3</td>\n",
       "      <td>5.8</td>\n",
       "      <td>5.1</td>\n",
       "      <td>14.8</td>\n",
       "      <td>20.9</td>\n",
       "      <td>110.2</td>\n",
       "      <td>2009-10</td>\n",
       "    </tr>\n",
       "  </tbody>\n",
       "</table>\n",
       "<p>1 rows × 25 columns</p>\n",
       "</div>"
      ],
      "text/plain": [
       "           Team   G     MP    FG   FGA    FG%   3P   3PA    3P%    2P  ...  \\\n",
       "0  Phoenix Suns  82  240.6  40.7  82.8  0.492  8.9  21.6  0.412  31.8  ...   \n",
       "\n",
       "    ORB   DRB   TRB   AST  STL  BLK   TOV    PF    PTS   Season  \n",
       "0  11.1  31.9  43.0  23.3  5.8  5.1  14.8  20.9  110.2  2009-10  \n",
       "\n",
       "[1 rows x 25 columns]"
      ]
     },
     "execution_count": 84,
     "metadata": {},
     "output_type": "execute_result"
    }
   ],
   "source": [
    "df_team_stats.drop(df_team_stats.filter(regex=\"Unnamed\"),axis=1, inplace=True)\n",
    "df_team_stats.head(1)"
   ]
  },
  {
   "cell_type": "markdown",
   "metadata": {},
   "source": [
    "# Part B"
   ]
  },
  {
   "cell_type": "markdown",
   "metadata": {},
   "source": [
    "### Question 1: Put all the relevant data variables into one dataframe. Explain how you clean your dataset and transform your data variable if any and provide a data dictionary for all your variables. (3 points)"
   ]
  },
  {
   "cell_type": "markdown",
   "metadata": {},
   "source": [
    "Common utility method for coverting dataframe column name to lower case"
   ]
  },
  {
   "cell_type": "code",
   "execution_count": 85,
   "metadata": {},
   "outputs": [],
   "source": [
    "def _lowercase_colnames(df):\n",
    "    df.columns = [col.lower() for col in df.columns]\n",
    "    return df"
   ]
  },
  {
   "cell_type": "markdown",
   "metadata": {},
   "source": [
    "Convert all dataframe column name to lower case"
   ]
  },
  {
   "cell_type": "code",
   "execution_count": 86,
   "metadata": {},
   "outputs": [],
   "source": [
    "df_salary = _lowercase_colnames(df=df_salary)\n",
    "df_player_stats = _lowercase_colnames(df=df_player_stats)\n",
    "df_team_info = _lowercase_colnames(df=df_team_info)\n",
    "df_team_stats = _lowercase_colnames(df=df_team_stats)"
   ]
  },
  {
   "cell_type": "markdown",
   "metadata": {},
   "source": [
    "Standardize dataframe column names for merging"
   ]
  },
  {
   "cell_type": "code",
   "execution_count": 87,
   "metadata": {},
   "outputs": [],
   "source": [
    "# Update df_salary \"team -> team_name\"\n",
    "salary_col = {\"team\": \"team_name\"}\n",
    "\n",
    "# Update df_player_static_info \"name -> player\"\n",
    "player_info_col = {\"name\": \"player\"}\n",
    "\n",
    "# Update df_team_stats \"for all colname except season -> team_colname\"\n",
    "# Update df_team_stats \"team -> team_name\"\n",
    "team_stats_col = {col: \"team_\"+col for col in df_team_stats.columns}\n",
    "team_stats_col[\"team\"] = \"team_name\"\n",
    "del team_stats_col[\"season\"]\n",
    "\n",
    "# Update df_team_info \"for all colname -> team_colname\"\n",
    "# Update df_team_info \"team_names -> full_team_name\"\n",
    "# Update df_team_info \"seasons -> team_total_seasons\"\n",
    "team_info_col = {col: \"team_\"+col for col in df_team_info.columns}\n",
    "team_info_col[\"team_names\"] = \"full_team_name\"\n",
    "team_info_col[\"seasons\"] = \"team_total_seasons\""
   ]
  },
  {
   "cell_type": "markdown",
   "metadata": {},
   "source": [
    "Renaming of column names in dataset"
   ]
  },
  {
   "cell_type": "code",
   "execution_count": 88,
   "metadata": {},
   "outputs": [],
   "source": [
    "df_salary = df_salary.rename(columns=salary_col)\n",
    "df_player_info = df_player_info.rename(columns=player_info_col)\n",
    "df_team_stats = df_team_stats.rename(columns=team_stats_col)\n",
    "df_team_info = df_team_info.rename(columns=team_info_col)"
   ]
  },
  {
   "cell_type": "markdown",
   "metadata": {},
   "source": [
    "Merge salary and player statistics (outer join)"
   ]
  },
  {
   "cell_type": "code",
   "execution_count": 89,
   "metadata": {},
   "outputs": [],
   "source": [
    "df_main = df_salary.merge(df_player_stats,\n",
    "                     how=\"outer\",\n",
    "                     on=[\"player\", \"season\"])"
   ]
  },
  {
   "cell_type": "markdown",
   "metadata": {},
   "source": [
    "Get active players from 2009/2010 to 2020/2021 seasons"
   ]
  },
  {
   "cell_type": "code",
   "execution_count": 90,
   "metadata": {},
   "outputs": [],
   "source": [
    "df_main[\"season_year\"] = df_main[\"season\"].str.split(\"-\").str[0].astype(int)\n",
    "df_active = df_main.loc[(df_main[\"season_year\"]>=2009)\n",
    "                    &(df_main[\"season_year\"]<=2020), :]\n",
    "df_active = pd.DataFrame(df_active.loc[:, \"player\"])"
   ]
  },
  {
   "cell_type": "markdown",
   "metadata": {},
   "source": [
    "Get unique active players"
   ]
  },
  {
   "cell_type": "code",
   "execution_count": 91,
   "metadata": {},
   "outputs": [],
   "source": [
    "df_active = df_active.drop_duplicates(subset=[\"player\"], keep=\"first\")"
   ]
  },
  {
   "cell_type": "markdown",
   "metadata": {},
   "source": [
    "Merge with main df to get statistics of active players only"
   ]
  },
  {
   "cell_type": "code",
   "execution_count": 92,
   "metadata": {},
   "outputs": [],
   "source": [
    "df_main = df_main.merge(df_active,\n",
    "              how=\"inner\",\n",
    "              on=[\"player\"])"
   ]
  },
  {
   "cell_type": "markdown",
   "metadata": {},
   "source": [
    "Convert player height and weight"
   ]
  },
  {
   "cell_type": "code",
   "execution_count": 93,
   "metadata": {},
   "outputs": [],
   "source": [
    "# Convert height into cm\n",
    "df_height_info = df_player_info[\"height\"].str.split(\"-\")\n",
    "df_player_info[\"height\"] = df_height_info.str[0].astype(int) * 30.48 + df_height_info.str[1].astype(int) * 2.54\n",
    "\n",
    "# Replace null with \"0lb\"\n",
    "df_weight_info = df_player_info[\"weight\"].fillna(\"0lb\", inplace = True)\n",
    "# convery weight into kg\n",
    "df_weight_info = df_player_info[\"weight\"].str.split(\"lb\").str[0].astype(int)\n",
    "df_player_info[\"weight\"] = df_weight_info * 0.453592\n"
   ]
  },
  {
   "cell_type": "markdown",
   "metadata": {},
   "source": [
    "Drop birthday column"
   ]
  },
  {
   "cell_type": "code",
   "execution_count": 94,
   "metadata": {},
   "outputs": [],
   "source": [
    "df_player_info = df_player_info.drop(columns=[\"birthday\"])"
   ]
  },
  {
   "cell_type": "markdown",
   "metadata": {},
   "source": [
    "Merge with main df to get height and weight of players"
   ]
  },
  {
   "cell_type": "code",
   "execution_count": 95,
   "metadata": {},
   "outputs": [],
   "source": [
    "df_main = df_main.merge(df_player_info,\n",
    "              how=\"left\",\n",
    "              on=[\"player\"])"
   ]
  },
  {
   "cell_type": "markdown",
   "metadata": {},
   "source": [
    "Get experience for each player"
   ]
  },
  {
   "cell_type": "code",
   "execution_count": 96,
   "metadata": {},
   "outputs": [],
   "source": [
    "df_exp = (df_main.groupby(\"player\")\n",
    "            .agg({\"season_year\": [np.min, np.max]})\n",
    "            .reset_index(drop=False))\n",
    "df_exp.columns = [\"player\", \"start_year\", \"latest_year\"]\n",
    "df_exp[\"experience\"] = df_exp[\"latest_year\"] - df_exp[\"start_year\"]"
   ]
  },
  {
   "cell_type": "markdown",
   "metadata": {},
   "source": [
    "Merge with main df to get experience of active players only"
   ]
  },
  {
   "cell_type": "code",
   "execution_count": 97,
   "metadata": {},
   "outputs": [],
   "source": [
    "df_main = df_main.merge(df_exp,\n",
    "              how=\"inner\",\n",
    "              on=[\"player\"])"
   ]
  },
  {
   "cell_type": "markdown",
   "metadata": {},
   "source": [
    "Get total salary for each player"
   ]
  },
  {
   "cell_type": "code",
   "execution_count": 98,
   "metadata": {},
   "outputs": [],
   "source": [
    "df_total_salary = df_salary.groupby(\"player\").agg({\"salary\": \"sum\"})\n",
    "df_total_salary = df_total_salary.reset_index(drop=False)\n",
    "df_total_salary.columns = [\"player\", \"total_salary\"]"
   ]
  },
  {
   "cell_type": "markdown",
   "metadata": {},
   "source": [
    "Merge with main df to get total salary of active players only"
   ]
  },
  {
   "cell_type": "code",
   "execution_count": 99,
   "metadata": {},
   "outputs": [],
   "source": [
    "df_main = df_main.merge(df_total_salary,\n",
    "              how=\"left\",\n",
    "              on=[\"player\"])"
   ]
  },
  {
   "cell_type": "markdown",
   "metadata": {},
   "source": [
    "Get Year-To-Date experience"
   ]
  },
  {
   "cell_type": "code",
   "execution_count": 100,
   "metadata": {},
   "outputs": [],
   "source": [
    "df_main[\"experience_YTD\"] = df_main[\"season_year\"] - df_main[\"start_year\"]"
   ]
  },
  {
   "cell_type": "markdown",
   "metadata": {},
   "source": [
    "Rename old team names with the new team name"
   ]
  },
  {
   "cell_type": "code",
   "execution_count": 101,
   "metadata": {},
   "outputs": [],
   "source": [
    "df_main[\"team_name\"] = df_main[\"team_name\"].str.replace(\"New Orleans Hornets\", \"New Orleans Pelicans\", regex=False)\n",
    "df_main[\"team_name\"] = df_main[\"team_name\"].str.replace(\"Charlotte Bobcats\", \"Charlotte Hornets\", regex=False)\n",
    "df_main[\"team_name\"] = df_main[\"team_name\"].str.replace(\"New Jersey Nets\", \"Brooklyn Nets\", regex=False)\n",
    "\n",
    "df_team_stats[\"team_name\"] = df_team_stats[\"team_name\"].str.replace(\"New Orleans Hornets\", \"New Orleans Pelicans\", regex=False)\n",
    "df_team_stats[\"team_name\"] = df_team_stats[\"team_name\"].str.replace(\"Charlotte Bobcats\", \"Charlotte Hornets\", regex=False)\n",
    "df_team_stats[\"team_name\"] = df_team_stats[\"team_name\"].str.replace(\"New Jersey Nets\", \"Brooklyn Nets\", regex=False)"
   ]
  },
  {
   "cell_type": "markdown",
   "metadata": {},
   "source": [
    "Merge team info and team stats"
   ]
  },
  {
   "cell_type": "code",
   "execution_count": 102,
   "metadata": {},
   "outputs": [],
   "source": [
    "df_team_info = df_team_info.merge(df_team_stats,\n",
    "                                  how=\"inner\",\n",
    "                                  on=[\"team_name\"])"
   ]
  },
  {
   "cell_type": "markdown",
   "metadata": {},
   "source": [
    "Merge with main df to get team info"
   ]
  },
  {
   "cell_type": "code",
   "execution_count": 103,
   "metadata": {},
   "outputs": [],
   "source": [
    "df_main = df_main.merge(df_team_info,\n",
    "              how=\"inner\",\n",
    "              on=[\"team_name\", \"season\"])"
   ]
  },
  {
   "cell_type": "markdown",
   "metadata": {},
   "source": [
    "Drop unmatched rows with partial data"
   ]
  },
  {
   "cell_type": "code",
   "execution_count": 104,
   "metadata": {},
   "outputs": [],
   "source": [
    "df_main = df_main.dropna(how=\"any\")"
   ]
  },
  {
   "cell_type": "markdown",
   "metadata": {},
   "source": [
    "Convert missing values \"<s+>\" to None"
   ]
  },
  {
   "cell_type": "code",
   "execution_count": 105,
   "metadata": {},
   "outputs": [],
   "source": [
    "df_main = df_main.replace(r\"^\\s*$\", np.nan, regex=True)"
   ]
  },
  {
   "cell_type": "markdown",
   "metadata": {},
   "source": [
    "Check if any columns with missing values"
   ]
  },
  {
   "cell_type": "code",
   "execution_count": 106,
   "metadata": {},
   "outputs": [
    {
     "name": "stdout",
     "output_type": "stream",
     "text": [
      "Columns with missing values: Index([], dtype='object')\n"
     ]
    }
   ],
   "source": [
    "missing_cols = df_main.columns[df_main.isnull().any()]\n",
    "print(\"Columns with missing values: {}\".format(missing_cols))"
   ]
  },
  {
   "cell_type": "markdown",
   "metadata": {},
   "source": [
    "Update missing values with 0 "
   ]
  },
  {
   "cell_type": "code",
   "execution_count": 107,
   "metadata": {},
   "outputs": [],
   "source": [
    "df_main = df_main.fillna(0)"
   ]
  },
  {
   "cell_type": "markdown",
   "metadata": {},
   "source": [
    "Convert numeric columns to numeric (brute force)"
   ]
  },
  {
   "cell_type": "code",
   "execution_count": 108,
   "metadata": {},
   "outputs": [],
   "source": [
    "for col in list(df_main.columns):\n",
    "    try:\n",
    "        df_main[col] = df_main[col].astype(float)\n",
    "    except ValueError:\n",
    "        continue"
   ]
  },
  {
   "cell_type": "markdown",
   "metadata": {},
   "source": [
    "Number of teams playing for per season"
   ]
  },
  {
   "cell_type": "code",
   "execution_count": 109,
   "metadata": {},
   "outputs": [],
   "source": [
    "df_num_teams = (df_main.groupby([\"player\", \"season\"])\n",
    "                  .agg({\"team_name\": pd.Series.nunique})\n",
    "                  .reset_index(drop=False)\n",
    "                  .rename(columns={\"team_name\": \"team_count\"}))\n",
    "df_main = df_main.merge(df_num_teams,\n",
    "              how=\"inner\",\n",
    "              on=[\"player\", \"season\"]).reset_index(drop=True)"
   ]
  },
  {
   "cell_type": "markdown",
   "metadata": {},
   "source": [
    "Get YTD age"
   ]
  },
  {
   "cell_type": "code",
   "execution_count": 110,
   "metadata": {},
   "outputs": [],
   "source": [
    "MOST_CURRENT_SEASON = 2020\n",
    "df_main[\"age_YTD\"] = df_main[\"age\"] - (MOST_CURRENT_SEASON - df_main[\"season_year\"])"
   ]
  },
  {
   "cell_type": "markdown",
   "metadata": {},
   "source": [
    "Reset Index"
   ]
  },
  {
   "cell_type": "code",
   "execution_count": 111,
   "metadata": {},
   "outputs": [],
   "source": [
    "df_main = df_main.reset_index(drop=True)\n",
    "df_main.to_csv(MAIN_DF_FILE,index=False)"
   ]
  },
  {
   "cell_type": "markdown",
   "metadata": {},
   "source": [
    "### Question 2a: For the most current season in the dataset, how many active players are there?"
   ]
  },
  {
   "cell_type": "markdown",
   "metadata": {},
   "source": [
    "Subset data to retrive most current season "
   ]
  },
  {
   "cell_type": "code",
   "execution_count": 572,
   "metadata": {},
   "outputs": [],
   "source": [
    "df_current = df_main.loc[df_main[\"season_year\"]==MOST_CURRENT_SEASON, :]"
   ]
  },
  {
   "cell_type": "markdown",
   "metadata": {},
   "source": [
    "Get number of active players"
   ]
  },
  {
   "cell_type": "code",
   "execution_count": 573,
   "metadata": {},
   "outputs": [
    {
     "name": "stdout",
     "output_type": "stream",
     "text": [
      "Number of active players: 400\n"
     ]
    }
   ],
   "source": [
    "active_players = df_current[\"player\"].unique()\n",
    "print(\"Number of active players: {}\".format(len(active_players)))"
   ]
  },
  {
   "cell_type": "markdown",
   "metadata": {},
   "source": [
    "### Question 2b: For the most current season in the dataset, how many players in each position?"
   ]
  },
  {
   "cell_type": "markdown",
   "metadata": {},
   "source": [
    "Get number of players in each position"
   ]
  },
  {
   "cell_type": "code",
   "execution_count": 574,
   "metadata": {},
   "outputs": [
    {
     "name": "stdout",
     "output_type": "stream",
     "text": [
      "Positions: \n"
     ]
    },
    {
     "data": {
      "text/html": [
       "<div>\n",
       "<style scoped>\n",
       "    .dataframe tbody tr th:only-of-type {\n",
       "        vertical-align: middle;\n",
       "    }\n",
       "\n",
       "    .dataframe tbody tr th {\n",
       "        vertical-align: top;\n",
       "    }\n",
       "\n",
       "    .dataframe thead th {\n",
       "        text-align: right;\n",
       "    }\n",
       "</style>\n",
       "<table border=\"1\" class=\"dataframe\">\n",
       "  <thead>\n",
       "    <tr style=\"text-align: right;\">\n",
       "      <th></th>\n",
       "      <th>pos</th>\n",
       "      <th>player</th>\n",
       "    </tr>\n",
       "  </thead>\n",
       "  <tbody>\n",
       "    <tr>\n",
       "      <th>0</th>\n",
       "      <td>C</td>\n",
       "      <td>71</td>\n",
       "    </tr>\n",
       "    <tr>\n",
       "      <th>1</th>\n",
       "      <td>C-PF</td>\n",
       "      <td>1</td>\n",
       "    </tr>\n",
       "    <tr>\n",
       "      <th>2</th>\n",
       "      <td>PF</td>\n",
       "      <td>93</td>\n",
       "    </tr>\n",
       "    <tr>\n",
       "      <th>3</th>\n",
       "      <td>PF-SF</td>\n",
       "      <td>1</td>\n",
       "    </tr>\n",
       "    <tr>\n",
       "      <th>4</th>\n",
       "      <td>PG</td>\n",
       "      <td>75</td>\n",
       "    </tr>\n",
       "    <tr>\n",
       "      <th>5</th>\n",
       "      <td>PG-SG</td>\n",
       "      <td>1</td>\n",
       "    </tr>\n",
       "    <tr>\n",
       "      <th>6</th>\n",
       "      <td>SF</td>\n",
       "      <td>73</td>\n",
       "    </tr>\n",
       "    <tr>\n",
       "      <th>7</th>\n",
       "      <td>SF-PF</td>\n",
       "      <td>2</td>\n",
       "    </tr>\n",
       "    <tr>\n",
       "      <th>8</th>\n",
       "      <td>SF-SG</td>\n",
       "      <td>3</td>\n",
       "    </tr>\n",
       "    <tr>\n",
       "      <th>9</th>\n",
       "      <td>SG</td>\n",
       "      <td>99</td>\n",
       "    </tr>\n",
       "    <tr>\n",
       "      <th>10</th>\n",
       "      <td>SG-PG</td>\n",
       "      <td>2</td>\n",
       "    </tr>\n",
       "    <tr>\n",
       "      <th>11</th>\n",
       "      <td>SG-SF</td>\n",
       "      <td>2</td>\n",
       "    </tr>\n",
       "  </tbody>\n",
       "</table>\n",
       "</div>"
      ],
      "text/plain": [
       "      pos  player\n",
       "0       C      71\n",
       "1    C-PF       1\n",
       "2      PF      93\n",
       "3   PF-SF       1\n",
       "4      PG      75\n",
       "5   PG-SG       1\n",
       "6      SF      73\n",
       "7   SF-PF       2\n",
       "8   SF-SG       3\n",
       "9      SG      99\n",
       "10  SG-PG       2\n",
       "11  SG-SF       2"
      ]
     },
     "execution_count": 574,
     "metadata": {},
     "output_type": "execute_result"
    }
   ],
   "source": [
    "position_brkdown = (df_current.groupby([\"pos\"])\n",
    "                              .agg({\"player\": pd.Series.nunique})\n",
    "                              .reset_index(drop=False))\n",
    "print(\"Positions: \")\n",
    "position_brkdown"
   ]
  },
  {
   "cell_type": "markdown",
   "metadata": {},
   "source": [
    "### Question 2c: For the most current season in the dataset, what is the average age, weight, experience, salary in the season?"
   ]
  },
  {
   "cell_type": "markdown",
   "metadata": {},
   "source": [
    "Get average age, weight, experience, salary"
   ]
  },
  {
   "cell_type": "code",
   "execution_count": 575,
   "metadata": {},
   "outputs": [
    {
     "name": "stdout",
     "output_type": "stream",
     "text": [
      "age           2.594750e+01\n",
      "weight        9.861884e+01\n",
      "experience    4.817500e+00\n",
      "salary        1.122850e+07\n",
      "Name: mean, dtype: float64\n"
     ]
    }
   ],
   "source": [
    "group_cols = [\"player\", \"age\", \"weight\", \"experience\"]\n",
    "df_average = df_current.groupby(group_cols).agg({\"salary\": \"sum\"})\n",
    "df_average = df_average.reset_index(drop=False)\n",
    "print(df_average.describe().loc[\"mean\"])"
   ]
  },
  {
   "cell_type": "markdown",
   "metadata": {},
   "source": [
    "### Question 2d: For the most current season in the dataset, what is average career salary?"
   ]
  },
  {
   "cell_type": "markdown",
   "metadata": {},
   "source": [
    "Get average career salary"
   ]
  },
  {
   "cell_type": "code",
   "execution_count": 576,
   "metadata": {},
   "outputs": [
    {
     "name": "stdout",
     "output_type": "stream",
     "text": [
      "Average career salary: 43464528.86\n"
     ]
    }
   ],
   "source": [
    "df_average_career = (df_current.groupby([\"player\", \"total_salary\"])\n",
    "                               .agg({\"pos\": \"count\"})\n",
    "                               .reset_index(drop=False))\n",
    "\n",
    "average_career_salary = df_average_career[\"total_salary\"].mean()\n",
    "print(\"Average career salary: {}\".format(average_career_salary))"
   ]
  },
  {
   "cell_type": "markdown",
   "metadata": {},
   "source": [
    "### Question 3a: How many players were active in each season? What is the average salary by season? How about variance of salary be season?"
   ]
  },
  {
   "cell_type": "markdown",
   "metadata": {},
   "source": [
    "Get number of players per season"
   ]
  },
  {
   "cell_type": "code",
   "execution_count": 577,
   "metadata": {},
   "outputs": [
    {
     "name": "stdout",
     "output_type": "stream",
     "text": [
      "Number of players per season:\n"
     ]
    },
    {
     "data": {
      "text/html": [
       "<div>\n",
       "<style scoped>\n",
       "    .dataframe tbody tr th:only-of-type {\n",
       "        vertical-align: middle;\n",
       "    }\n",
       "\n",
       "    .dataframe tbody tr th {\n",
       "        vertical-align: top;\n",
       "    }\n",
       "\n",
       "    .dataframe thead th {\n",
       "        text-align: right;\n",
       "    }\n",
       "</style>\n",
       "<table border=\"1\" class=\"dataframe\">\n",
       "  <thead>\n",
       "    <tr style=\"text-align: right;\">\n",
       "      <th></th>\n",
       "      <th>season</th>\n",
       "      <th>player</th>\n",
       "    </tr>\n",
       "  </thead>\n",
       "  <tbody>\n",
       "    <tr>\n",
       "      <th>0</th>\n",
       "      <td>2009-10</td>\n",
       "      <td>331</td>\n",
       "    </tr>\n",
       "    <tr>\n",
       "      <th>1</th>\n",
       "      <td>2010-11</td>\n",
       "      <td>347</td>\n",
       "    </tr>\n",
       "    <tr>\n",
       "      <th>2</th>\n",
       "      <td>2011-12</td>\n",
       "      <td>352</td>\n",
       "    </tr>\n",
       "    <tr>\n",
       "      <th>3</th>\n",
       "      <td>2012-13</td>\n",
       "      <td>373</td>\n",
       "    </tr>\n",
       "    <tr>\n",
       "      <th>4</th>\n",
       "      <td>2013-14</td>\n",
       "      <td>322</td>\n",
       "    </tr>\n",
       "    <tr>\n",
       "      <th>5</th>\n",
       "      <td>2014-15</td>\n",
       "      <td>386</td>\n",
       "    </tr>\n",
       "    <tr>\n",
       "      <th>6</th>\n",
       "      <td>2015-16</td>\n",
       "      <td>391</td>\n",
       "    </tr>\n",
       "    <tr>\n",
       "      <th>7</th>\n",
       "      <td>2016-17</td>\n",
       "      <td>400</td>\n",
       "    </tr>\n",
       "    <tr>\n",
       "      <th>8</th>\n",
       "      <td>2017-18</td>\n",
       "      <td>392</td>\n",
       "    </tr>\n",
       "    <tr>\n",
       "      <th>9</th>\n",
       "      <td>2018-19</td>\n",
       "      <td>395</td>\n",
       "    </tr>\n",
       "    <tr>\n",
       "      <th>10</th>\n",
       "      <td>2019-20</td>\n",
       "      <td>397</td>\n",
       "    </tr>\n",
       "    <tr>\n",
       "      <th>11</th>\n",
       "      <td>2020-21</td>\n",
       "      <td>400</td>\n",
       "    </tr>\n",
       "  </tbody>\n",
       "</table>\n",
       "</div>"
      ],
      "text/plain": [
       "     season  player\n",
       "0   2009-10     331\n",
       "1   2010-11     347\n",
       "2   2011-12     352\n",
       "3   2012-13     373\n",
       "4   2013-14     322\n",
       "5   2014-15     386\n",
       "6   2015-16     391\n",
       "7   2016-17     400\n",
       "8   2017-18     392\n",
       "9   2018-19     395\n",
       "10  2019-20     397\n",
       "11  2020-21     400"
      ]
     },
     "execution_count": 577,
     "metadata": {},
     "output_type": "execute_result"
    }
   ],
   "source": [
    "season_players = (df_main.groupby([\"season\"])\n",
    "                    .agg({\"player\": pd.Series.nunique})\n",
    "                    .reset_index(drop=False))\n",
    "print(\"Number of players per season:\")\n",
    "season_players"
   ]
  },
  {
   "cell_type": "markdown",
   "metadata": {},
   "source": [
    "Get salary statistics per season"
   ]
  },
  {
   "cell_type": "code",
   "execution_count": 578,
   "metadata": {},
   "outputs": [
    {
     "name": "stdout",
     "output_type": "stream",
     "text": [
      "Average salary per season:\n"
     ]
    },
    {
     "data": {
      "text/html": [
       "<div>\n",
       "<style scoped>\n",
       "    .dataframe tbody tr th:only-of-type {\n",
       "        vertical-align: middle;\n",
       "    }\n",
       "\n",
       "    .dataframe tbody tr th {\n",
       "        vertical-align: top;\n",
       "    }\n",
       "\n",
       "    .dataframe thead th {\n",
       "        text-align: right;\n",
       "    }\n",
       "</style>\n",
       "<table border=\"1\" class=\"dataframe\">\n",
       "  <thead>\n",
       "    <tr style=\"text-align: right;\">\n",
       "      <th></th>\n",
       "      <th>season</th>\n",
       "      <th>mean_salary</th>\n",
       "    </tr>\n",
       "  </thead>\n",
       "  <tbody>\n",
       "    <tr>\n",
       "      <th>0</th>\n",
       "      <td>2009-10</td>\n",
       "      <td>4.364733e+06</td>\n",
       "    </tr>\n",
       "    <tr>\n",
       "      <th>1</th>\n",
       "      <td>2010-11</td>\n",
       "      <td>4.404918e+06</td>\n",
       "    </tr>\n",
       "    <tr>\n",
       "      <th>2</th>\n",
       "      <td>2011-12</td>\n",
       "      <td>4.334382e+06</td>\n",
       "    </tr>\n",
       "    <tr>\n",
       "      <th>3</th>\n",
       "      <td>2012-13</td>\n",
       "      <td>3.966301e+06</td>\n",
       "    </tr>\n",
       "    <tr>\n",
       "      <th>4</th>\n",
       "      <td>2013-14</td>\n",
       "      <td>4.785412e+06</td>\n",
       "    </tr>\n",
       "    <tr>\n",
       "      <th>5</th>\n",
       "      <td>2014-15</td>\n",
       "      <td>3.882502e+06</td>\n",
       "    </tr>\n",
       "    <tr>\n",
       "      <th>6</th>\n",
       "      <td>2015-16</td>\n",
       "      <td>4.538129e+06</td>\n",
       "    </tr>\n",
       "    <tr>\n",
       "      <th>7</th>\n",
       "      <td>2016-17</td>\n",
       "      <td>5.466605e+06</td>\n",
       "    </tr>\n",
       "    <tr>\n",
       "      <th>8</th>\n",
       "      <td>2017-18</td>\n",
       "      <td>6.144456e+06</td>\n",
       "    </tr>\n",
       "    <tr>\n",
       "      <th>9</th>\n",
       "      <td>2018-19</td>\n",
       "      <td>7.121715e+06</td>\n",
       "    </tr>\n",
       "    <tr>\n",
       "      <th>10</th>\n",
       "      <td>2019-20</td>\n",
       "      <td>7.675960e+06</td>\n",
       "    </tr>\n",
       "    <tr>\n",
       "      <th>11</th>\n",
       "      <td>2020-21</td>\n",
       "      <td>7.811128e+06</td>\n",
       "    </tr>\n",
       "  </tbody>\n",
       "</table>\n",
       "</div>"
      ],
      "text/plain": [
       "     season   mean_salary\n",
       "0   2009-10  4.364733e+06\n",
       "1   2010-11  4.404918e+06\n",
       "2   2011-12  4.334382e+06\n",
       "3   2012-13  3.966301e+06\n",
       "4   2013-14  4.785412e+06\n",
       "5   2014-15  3.882502e+06\n",
       "6   2015-16  4.538129e+06\n",
       "7   2016-17  5.466605e+06\n",
       "8   2017-18  6.144456e+06\n",
       "9   2018-19  7.121715e+06\n",
       "10  2019-20  7.675960e+06\n",
       "11  2020-21  7.811128e+06"
      ]
     },
     "execution_count": 578,
     "metadata": {},
     "output_type": "execute_result"
    }
   ],
   "source": [
    "season_salary = (df_main.groupby([\"season\"])\n",
    "                   .agg({\"salary\": [\"mean\", \"var\"]})\n",
    "                   .reset_index(drop=False))\n",
    "season_salary.columns = [\"season\", \"mean_salary\", \"var_salary\"]\n",
    "print(\"Average salary per season:\")\n",
    "season_salary.loc[:, [\"season\", \"mean_salary\"]]"
   ]
  },
  {
   "cell_type": "code",
   "execution_count": 579,
   "metadata": {},
   "outputs": [
    {
     "name": "stdout",
     "output_type": "stream",
     "text": [
      "Variance of salary per season:\n"
     ]
    },
    {
     "data": {
      "text/html": [
       "<div>\n",
       "<style scoped>\n",
       "    .dataframe tbody tr th:only-of-type {\n",
       "        vertical-align: middle;\n",
       "    }\n",
       "\n",
       "    .dataframe tbody tr th {\n",
       "        vertical-align: top;\n",
       "    }\n",
       "\n",
       "    .dataframe thead th {\n",
       "        text-align: right;\n",
       "    }\n",
       "</style>\n",
       "<table border=\"1\" class=\"dataframe\">\n",
       "  <thead>\n",
       "    <tr style=\"text-align: right;\">\n",
       "      <th></th>\n",
       "      <th>season</th>\n",
       "      <th>var_salary</th>\n",
       "    </tr>\n",
       "  </thead>\n",
       "  <tbody>\n",
       "    <tr>\n",
       "      <th>0</th>\n",
       "      <td>2009-10</td>\n",
       "      <td>1.765357e+13</td>\n",
       "    </tr>\n",
       "    <tr>\n",
       "      <th>1</th>\n",
       "      <td>2010-11</td>\n",
       "      <td>2.174283e+13</td>\n",
       "    </tr>\n",
       "    <tr>\n",
       "      <th>2</th>\n",
       "      <td>2011-12</td>\n",
       "      <td>1.926788e+13</td>\n",
       "    </tr>\n",
       "    <tr>\n",
       "      <th>3</th>\n",
       "      <td>2012-13</td>\n",
       "      <td>1.825702e+13</td>\n",
       "    </tr>\n",
       "    <tr>\n",
       "      <th>4</th>\n",
       "      <td>2013-14</td>\n",
       "      <td>2.096707e+13</td>\n",
       "    </tr>\n",
       "    <tr>\n",
       "      <th>5</th>\n",
       "      <td>2014-15</td>\n",
       "      <td>2.068466e+13</td>\n",
       "    </tr>\n",
       "    <tr>\n",
       "      <th>6</th>\n",
       "      <td>2015-16</td>\n",
       "      <td>2.660031e+13</td>\n",
       "    </tr>\n",
       "    <tr>\n",
       "      <th>7</th>\n",
       "      <td>2016-17</td>\n",
       "      <td>3.726963e+13</td>\n",
       "    </tr>\n",
       "    <tr>\n",
       "      <th>8</th>\n",
       "      <td>2017-18</td>\n",
       "      <td>5.138882e+13</td>\n",
       "    </tr>\n",
       "    <tr>\n",
       "      <th>9</th>\n",
       "      <td>2018-19</td>\n",
       "      <td>6.065052e+13</td>\n",
       "    </tr>\n",
       "    <tr>\n",
       "      <th>10</th>\n",
       "      <td>2019-20</td>\n",
       "      <td>7.457126e+13</td>\n",
       "    </tr>\n",
       "    <tr>\n",
       "      <th>11</th>\n",
       "      <td>2020-21</td>\n",
       "      <td>8.422234e+13</td>\n",
       "    </tr>\n",
       "  </tbody>\n",
       "</table>\n",
       "</div>"
      ],
      "text/plain": [
       "     season    var_salary\n",
       "0   2009-10  1.765357e+13\n",
       "1   2010-11  2.174283e+13\n",
       "2   2011-12  1.926788e+13\n",
       "3   2012-13  1.825702e+13\n",
       "4   2013-14  2.096707e+13\n",
       "5   2014-15  2.068466e+13\n",
       "6   2015-16  2.660031e+13\n",
       "7   2016-17  3.726963e+13\n",
       "8   2017-18  5.138882e+13\n",
       "9   2018-19  6.065052e+13\n",
       "10  2019-20  7.457126e+13\n",
       "11  2020-21  8.422234e+13"
      ]
     },
     "execution_count": 579,
     "metadata": {},
     "output_type": "execute_result"
    }
   ],
   "source": [
    "print(\"Variance of salary per season:\")\n",
    "season_salary.loc[:, [\"season\", \"var_salary\"]]"
   ]
  },
  {
   "cell_type": "markdown",
   "metadata": {},
   "source": [
    "### Question 3b: who are the top 10% best paid players in the most current season? Which teams did these players play for?"
   ]
  },
  {
   "cell_type": "markdown",
   "metadata": {},
   "source": [
    "Get total salary per player for current season"
   ]
  },
  {
   "cell_type": "code",
   "execution_count": 453,
   "metadata": {},
   "outputs": [],
   "source": [
    "df_current_salary = (df_current.groupby([\"player\"])\n",
    "                               .agg({\"salary\": \"sum\"})\n",
    "                               .reset_index(drop=False))"
   ]
  },
  {
   "cell_type": "markdown",
   "metadata": {},
   "source": [
    "Get players in the top 10% salary cap"
   ]
  },
  {
   "cell_type": "code",
   "execution_count": 454,
   "metadata": {},
   "outputs": [
    {
     "name": "stdout",
     "output_type": "stream",
     "text": [
      "Top 10 percent players: ['James Harden', 'Blake Griffin', 'Otto Porter Jr.', 'Victor Oladipo', 'Andre Drummond', 'Gary Harris', 'Aaron Gordon', 'LaMarcus Aldridge', 'Gorgui Dieng', 'Evan Fournier', 'Caris LeVert', 'James Johnson', 'Stephen Curry', 'Russell Westbrook', 'Chris Paul', 'John Wall', 'Kevin Durant', 'LeBron James', 'J.J. Redick', 'Kelly Olynyk', 'Cory Joseph', 'Taurean Prince', 'Paul George', 'Mike Conley', 'Kawhi Leonard', 'Kemba Walker', 'Jimmy Butler', 'Tobias Harris', 'Kyrie Irving', 'Khris Middleton', 'Anthony Davis', 'Norman Powell', 'Damian Lillard', 'Kevin Love', 'Ben Simmons', 'Pascal Siakam', 'Kyle Lowry', 'Rodney Hood', 'Steven Adams', 'Joel Embiid', 'Nikola JokiÄ\\x87']\n"
     ]
    }
   ],
   "source": [
    "ten_pct = int(0.1 * df_current_salary.shape[0])\n",
    "df_current_salary = (df_current_salary.sort_values(by=[\"salary\"],\n",
    "                                                   ascending=False)\n",
    "                                      .reset_index(drop=True))\n",
    "top_10pct = df_current_salary.loc[:ten_pct, \"player\"]\n",
    "print(\"Top 10 percent players: {}\".format(top_10pct.to_list()))"
   ]
  },
  {
   "cell_type": "markdown",
   "metadata": {},
   "source": [
    "Get the teams of the players in the top 10% salary cap"
   ]
  },
  {
   "cell_type": "code",
   "execution_count": 455,
   "metadata": {},
   "outputs": [
    {
     "name": "stdout",
     "output_type": "stream",
     "text": [
      "Teams the top 10 percent plays for:\n"
     ]
    },
    {
     "data": {
      "text/html": [
       "<div>\n",
       "<style scoped>\n",
       "    .dataframe tbody tr th:only-of-type {\n",
       "        vertical-align: middle;\n",
       "    }\n",
       "\n",
       "    .dataframe tbody tr th {\n",
       "        vertical-align: top;\n",
       "    }\n",
       "\n",
       "    .dataframe thead th {\n",
       "        text-align: right;\n",
       "    }\n",
       "</style>\n",
       "<table border=\"1\" class=\"dataframe\">\n",
       "  <thead>\n",
       "    <tr style=\"text-align: right;\">\n",
       "      <th></th>\n",
       "      <th>player</th>\n",
       "      <th>team_name</th>\n",
       "    </tr>\n",
       "  </thead>\n",
       "  <tbody>\n",
       "    <tr>\n",
       "      <th>0</th>\n",
       "      <td>Aaron Gordon</td>\n",
       "      <td>[Denver Nuggets]</td>\n",
       "    </tr>\n",
       "    <tr>\n",
       "      <th>1</th>\n",
       "      <td>Andre Drummond</td>\n",
       "      <td>[Cleveland Cavaliers, Los Angeles Lakers]</td>\n",
       "    </tr>\n",
       "    <tr>\n",
       "      <th>2</th>\n",
       "      <td>Anthony Davis</td>\n",
       "      <td>[Los Angeles Lakers]</td>\n",
       "    </tr>\n",
       "    <tr>\n",
       "      <th>3</th>\n",
       "      <td>Ben Simmons</td>\n",
       "      <td>[Philadelphia 76ers]</td>\n",
       "    </tr>\n",
       "    <tr>\n",
       "      <th>4</th>\n",
       "      <td>Blake Griffin</td>\n",
       "      <td>[Brooklyn Nets, Detroit Pistons]</td>\n",
       "    </tr>\n",
       "    <tr>\n",
       "      <th>5</th>\n",
       "      <td>Caris LeVert</td>\n",
       "      <td>[Indiana Pacers]</td>\n",
       "    </tr>\n",
       "    <tr>\n",
       "      <th>6</th>\n",
       "      <td>Chris Paul</td>\n",
       "      <td>[Phoenix Suns]</td>\n",
       "    </tr>\n",
       "    <tr>\n",
       "      <th>7</th>\n",
       "      <td>Cory Joseph</td>\n",
       "      <td>[Detroit Pistons]</td>\n",
       "    </tr>\n",
       "    <tr>\n",
       "      <th>8</th>\n",
       "      <td>Damian Lillard</td>\n",
       "      <td>[Portland Trail Blazers]</td>\n",
       "    </tr>\n",
       "    <tr>\n",
       "      <th>9</th>\n",
       "      <td>Evan Fournier</td>\n",
       "      <td>[Boston Celtics]</td>\n",
       "    </tr>\n",
       "    <tr>\n",
       "      <th>10</th>\n",
       "      <td>Gary Harris</td>\n",
       "      <td>[Orlando Magic]</td>\n",
       "    </tr>\n",
       "    <tr>\n",
       "      <th>11</th>\n",
       "      <td>Gorgui Dieng</td>\n",
       "      <td>[San Antonio Spurs, Memphis Grizzlies]</td>\n",
       "    </tr>\n",
       "    <tr>\n",
       "      <th>12</th>\n",
       "      <td>J.J. Redick</td>\n",
       "      <td>[Dallas Mavericks]</td>\n",
       "    </tr>\n",
       "    <tr>\n",
       "      <th>13</th>\n",
       "      <td>James Harden</td>\n",
       "      <td>[Brooklyn Nets]</td>\n",
       "    </tr>\n",
       "    <tr>\n",
       "      <th>14</th>\n",
       "      <td>James Johnson</td>\n",
       "      <td>[New Orleans Pelicans]</td>\n",
       "    </tr>\n",
       "    <tr>\n",
       "      <th>15</th>\n",
       "      <td>Jimmy Butler</td>\n",
       "      <td>[Miami Heat]</td>\n",
       "    </tr>\n",
       "    <tr>\n",
       "      <th>16</th>\n",
       "      <td>Joel Embiid</td>\n",
       "      <td>[Philadelphia 76ers]</td>\n",
       "    </tr>\n",
       "    <tr>\n",
       "      <th>17</th>\n",
       "      <td>John Wall</td>\n",
       "      <td>[Houston Rockets]</td>\n",
       "    </tr>\n",
       "    <tr>\n",
       "      <th>18</th>\n",
       "      <td>Kawhi Leonard</td>\n",
       "      <td>[Los Angeles Clippers]</td>\n",
       "    </tr>\n",
       "    <tr>\n",
       "      <th>19</th>\n",
       "      <td>Kelly Olynyk</td>\n",
       "      <td>[Houston Rockets]</td>\n",
       "    </tr>\n",
       "    <tr>\n",
       "      <th>20</th>\n",
       "      <td>Kemba Walker</td>\n",
       "      <td>[Boston Celtics]</td>\n",
       "    </tr>\n",
       "    <tr>\n",
       "      <th>21</th>\n",
       "      <td>Kevin Durant</td>\n",
       "      <td>[Brooklyn Nets]</td>\n",
       "    </tr>\n",
       "    <tr>\n",
       "      <th>22</th>\n",
       "      <td>Kevin Love</td>\n",
       "      <td>[Cleveland Cavaliers]</td>\n",
       "    </tr>\n",
       "    <tr>\n",
       "      <th>23</th>\n",
       "      <td>Khris Middleton</td>\n",
       "      <td>[Milwaukee Bucks]</td>\n",
       "    </tr>\n",
       "    <tr>\n",
       "      <th>24</th>\n",
       "      <td>Kyle Lowry</td>\n",
       "      <td>[Toronto Raptors]</td>\n",
       "    </tr>\n",
       "    <tr>\n",
       "      <th>25</th>\n",
       "      <td>Kyrie Irving</td>\n",
       "      <td>[Brooklyn Nets]</td>\n",
       "    </tr>\n",
       "    <tr>\n",
       "      <th>26</th>\n",
       "      <td>LaMarcus Aldridge</td>\n",
       "      <td>[San Antonio Spurs, Brooklyn Nets]</td>\n",
       "    </tr>\n",
       "    <tr>\n",
       "      <th>27</th>\n",
       "      <td>LeBron James</td>\n",
       "      <td>[Los Angeles Lakers]</td>\n",
       "    </tr>\n",
       "    <tr>\n",
       "      <th>28</th>\n",
       "      <td>Mike Conley</td>\n",
       "      <td>[Utah Jazz]</td>\n",
       "    </tr>\n",
       "    <tr>\n",
       "      <th>29</th>\n",
       "      <td>Nikola JokiÄ</td>\n",
       "      <td>[Denver Nuggets]</td>\n",
       "    </tr>\n",
       "    <tr>\n",
       "      <th>30</th>\n",
       "      <td>Norman Powell</td>\n",
       "      <td>[Portland Trail Blazers]</td>\n",
       "    </tr>\n",
       "    <tr>\n",
       "      <th>31</th>\n",
       "      <td>Otto Porter Jr.</td>\n",
       "      <td>[Orlando Magic]</td>\n",
       "    </tr>\n",
       "    <tr>\n",
       "      <th>32</th>\n",
       "      <td>Pascal Siakam</td>\n",
       "      <td>[Toronto Raptors]</td>\n",
       "    </tr>\n",
       "    <tr>\n",
       "      <th>33</th>\n",
       "      <td>Paul George</td>\n",
       "      <td>[Los Angeles Clippers]</td>\n",
       "    </tr>\n",
       "    <tr>\n",
       "      <th>34</th>\n",
       "      <td>Rodney Hood</td>\n",
       "      <td>[Toronto Raptors]</td>\n",
       "    </tr>\n",
       "    <tr>\n",
       "      <th>35</th>\n",
       "      <td>Russell Westbrook</td>\n",
       "      <td>[Washington Wizards]</td>\n",
       "    </tr>\n",
       "    <tr>\n",
       "      <th>36</th>\n",
       "      <td>Stephen Curry</td>\n",
       "      <td>[Golden State Warriors]</td>\n",
       "    </tr>\n",
       "    <tr>\n",
       "      <th>37</th>\n",
       "      <td>Steven Adams</td>\n",
       "      <td>[New Orleans Pelicans]</td>\n",
       "    </tr>\n",
       "    <tr>\n",
       "      <th>38</th>\n",
       "      <td>Taurean Prince</td>\n",
       "      <td>[Cleveland Cavaliers]</td>\n",
       "    </tr>\n",
       "    <tr>\n",
       "      <th>39</th>\n",
       "      <td>Tobias Harris</td>\n",
       "      <td>[Philadelphia 76ers]</td>\n",
       "    </tr>\n",
       "    <tr>\n",
       "      <th>40</th>\n",
       "      <td>Victor Oladipo</td>\n",
       "      <td>[Miami Heat]</td>\n",
       "    </tr>\n",
       "  </tbody>\n",
       "</table>\n",
       "</div>"
      ],
      "text/plain": [
       "               player                                  team_name\n",
       "0        Aaron Gordon                           [Denver Nuggets]\n",
       "1      Andre Drummond  [Cleveland Cavaliers, Los Angeles Lakers]\n",
       "2       Anthony Davis                       [Los Angeles Lakers]\n",
       "3         Ben Simmons                       [Philadelphia 76ers]\n",
       "4       Blake Griffin           [Brooklyn Nets, Detroit Pistons]\n",
       "5        Caris LeVert                           [Indiana Pacers]\n",
       "6          Chris Paul                             [Phoenix Suns]\n",
       "7         Cory Joseph                          [Detroit Pistons]\n",
       "8      Damian Lillard                   [Portland Trail Blazers]\n",
       "9       Evan Fournier                           [Boston Celtics]\n",
       "10        Gary Harris                            [Orlando Magic]\n",
       "11       Gorgui Dieng     [San Antonio Spurs, Memphis Grizzlies]\n",
       "12        J.J. Redick                         [Dallas Mavericks]\n",
       "13       James Harden                            [Brooklyn Nets]\n",
       "14      James Johnson                     [New Orleans Pelicans]\n",
       "15       Jimmy Butler                               [Miami Heat]\n",
       "16        Joel Embiid                       [Philadelphia 76ers]\n",
       "17          John Wall                          [Houston Rockets]\n",
       "18      Kawhi Leonard                     [Los Angeles Clippers]\n",
       "19       Kelly Olynyk                          [Houston Rockets]\n",
       "20       Kemba Walker                           [Boston Celtics]\n",
       "21       Kevin Durant                            [Brooklyn Nets]\n",
       "22         Kevin Love                      [Cleveland Cavaliers]\n",
       "23    Khris Middleton                          [Milwaukee Bucks]\n",
       "24         Kyle Lowry                          [Toronto Raptors]\n",
       "25       Kyrie Irving                            [Brooklyn Nets]\n",
       "26  LaMarcus Aldridge         [San Antonio Spurs, Brooklyn Nets]\n",
       "27       LeBron James                       [Los Angeles Lakers]\n",
       "28        Mike Conley                                [Utah Jazz]\n",
       "29      Nikola JokiÄ                           [Denver Nuggets]\n",
       "30      Norman Powell                   [Portland Trail Blazers]\n",
       "31    Otto Porter Jr.                            [Orlando Magic]\n",
       "32      Pascal Siakam                          [Toronto Raptors]\n",
       "33        Paul George                     [Los Angeles Clippers]\n",
       "34        Rodney Hood                          [Toronto Raptors]\n",
       "35  Russell Westbrook                       [Washington Wizards]\n",
       "36      Stephen Curry                    [Golden State Warriors]\n",
       "37       Steven Adams                     [New Orleans Pelicans]\n",
       "38     Taurean Prince                      [Cleveland Cavaliers]\n",
       "39      Tobias Harris                       [Philadelphia 76ers]\n",
       "40     Victor Oladipo                               [Miami Heat]"
      ]
     },
     "execution_count": 455,
     "metadata": {},
     "output_type": "execute_result"
    }
   ],
   "source": [
    "df_teams_top_10pct = df_current.merge(top_10pct.to_frame(),\n",
    "                                      how=\"inner\",\n",
    "                                      on=[\"player\"])\n",
    "df_teams_top_10pct = df_teams_top_10pct.loc[:, [\"player\", \"team_name\"]]\n",
    "df_teams_top_10pct = df_teams_top_10pct.drop_duplicates(keep=\"first\")\n",
    "df_teams_top_10pct = (df_teams_top_10pct.groupby([\"player\"])\n",
    "                                        .agg({\"team_name\": list})\n",
    "                                        .reset_index(drop=False))\n",
    "print(\"Teams the top 10 percent plays for:\")\n",
    "df_teams_top_10pct"
   ]
  },
  {
   "cell_type": "markdown",
   "metadata": {},
   "source": [
    "### Question 3c: who are the bottom 10% best paid players in the most current season? Which teams did these players play for?"
   ]
  },
  {
   "cell_type": "markdown",
   "metadata": {},
   "source": [
    "Get players in the bottom 10% salary cap"
   ]
  },
  {
   "cell_type": "code",
   "execution_count": 456,
   "metadata": {},
   "outputs": [
    {
     "name": "stdout",
     "output_type": "stream",
     "text": [
      "Bottom 10 percent players: ['Cameron Oliver', 'Isaiah Thomas', 'Mamadi Diakite', 'Henry Ellenson', 'Robert Franks', 'Justin Robinson', 'Andre Roberson', 'Thon Maker', 'Bruno Caboclo', 'Rondae Hollis-Jefferson', 'Tim Frazier', 'Anthony Tolliver', 'Alize Johnson', 'Deividas Sirvydis', 'Jordan Nwora', 'Kenyon Martin Jr.', 'Sam Merrill', 'Isaiah Joe', 'Tre Jones', 'Daniel Oturu', 'CJ Elleby', 'Anthony Gill', 'Elijah Hughes', 'Glenn Robinson III', \"Jahmi'us Ramsey\", 'Nick Richards', 'Khyri Thomas', 'Ersan Ä°lyasova', 'Tyrell Terry', 'Xavier Tillman Sr.', 'Vernon Carey Jr.', 'Yogi Ferrell', \"Jae'Sean Tate\", 'Robert Woodard II', 'Naz Reid', 'Eric Paschall', 'Juwan Morgan', 'Jalen McDaniels', 'Mychal Mulder', 'Isaiah Roby', 'Talen Horton-Tucker']\n"
     ]
    }
   ],
   "source": [
    "df_current_salary = (df_current_salary.sort_values(by=[\"salary\"],\n",
    "                                                   ascending=True)\n",
    "                                      .reset_index(drop=True))\n",
    "btm_10pct = df_current_salary.loc[:ten_pct, \"player\"]\n",
    "print(\"Bottom 10 percent players: {}\".format(btm_10pct.to_list()))"
   ]
  },
  {
   "cell_type": "markdown",
   "metadata": {},
   "source": [
    "Get the teams of the players in the bottom 10% salary cap"
   ]
  },
  {
   "cell_type": "code",
   "execution_count": 457,
   "metadata": {},
   "outputs": [
    {
     "name": "stdout",
     "output_type": "stream",
     "text": [
      "Teams the bottom 10 percent plays for:\n"
     ]
    },
    {
     "data": {
      "text/html": [
       "<div>\n",
       "<style scoped>\n",
       "    .dataframe tbody tr th:only-of-type {\n",
       "        vertical-align: middle;\n",
       "    }\n",
       "\n",
       "    .dataframe tbody tr th {\n",
       "        vertical-align: top;\n",
       "    }\n",
       "\n",
       "    .dataframe thead th {\n",
       "        text-align: right;\n",
       "    }\n",
       "</style>\n",
       "<table border=\"1\" class=\"dataframe\">\n",
       "  <thead>\n",
       "    <tr style=\"text-align: right;\">\n",
       "      <th></th>\n",
       "      <th>player</th>\n",
       "      <th>team_name</th>\n",
       "    </tr>\n",
       "  </thead>\n",
       "  <tbody>\n",
       "    <tr>\n",
       "      <th>0</th>\n",
       "      <td>Alize Johnson</td>\n",
       "      <td>[Brooklyn Nets]</td>\n",
       "    </tr>\n",
       "    <tr>\n",
       "      <th>1</th>\n",
       "      <td>Andre Roberson</td>\n",
       "      <td>[Brooklyn Nets]</td>\n",
       "    </tr>\n",
       "    <tr>\n",
       "      <th>2</th>\n",
       "      <td>Anthony Gill</td>\n",
       "      <td>[Washington Wizards]</td>\n",
       "    </tr>\n",
       "    <tr>\n",
       "      <th>3</th>\n",
       "      <td>Anthony Tolliver</td>\n",
       "      <td>[Philadelphia 76ers]</td>\n",
       "    </tr>\n",
       "    <tr>\n",
       "      <th>4</th>\n",
       "      <td>Bruno Caboclo</td>\n",
       "      <td>[Houston Rockets]</td>\n",
       "    </tr>\n",
       "    <tr>\n",
       "      <th>5</th>\n",
       "      <td>CJ Elleby</td>\n",
       "      <td>[Portland Trail Blazers]</td>\n",
       "    </tr>\n",
       "    <tr>\n",
       "      <th>6</th>\n",
       "      <td>Cameron Oliver</td>\n",
       "      <td>[Houston Rockets]</td>\n",
       "    </tr>\n",
       "    <tr>\n",
       "      <th>7</th>\n",
       "      <td>Daniel Oturu</td>\n",
       "      <td>[Los Angeles Clippers]</td>\n",
       "    </tr>\n",
       "    <tr>\n",
       "      <th>8</th>\n",
       "      <td>Deividas Sirvydis</td>\n",
       "      <td>[Detroit Pistons]</td>\n",
       "    </tr>\n",
       "    <tr>\n",
       "      <th>9</th>\n",
       "      <td>Elijah Hughes</td>\n",
       "      <td>[Utah Jazz]</td>\n",
       "    </tr>\n",
       "    <tr>\n",
       "      <th>10</th>\n",
       "      <td>Eric Paschall</td>\n",
       "      <td>[Golden State Warriors]</td>\n",
       "    </tr>\n",
       "    <tr>\n",
       "      <th>11</th>\n",
       "      <td>Ersan Ä°lyasova</td>\n",
       "      <td>[Utah Jazz]</td>\n",
       "    </tr>\n",
       "    <tr>\n",
       "      <th>12</th>\n",
       "      <td>Glenn Robinson III</td>\n",
       "      <td>[Sacramento Kings]</td>\n",
       "    </tr>\n",
       "    <tr>\n",
       "      <th>13</th>\n",
       "      <td>Henry Ellenson</td>\n",
       "      <td>[Toronto Raptors]</td>\n",
       "    </tr>\n",
       "    <tr>\n",
       "      <th>14</th>\n",
       "      <td>Isaiah Joe</td>\n",
       "      <td>[Philadelphia 76ers]</td>\n",
       "    </tr>\n",
       "    <tr>\n",
       "      <th>15</th>\n",
       "      <td>Isaiah Roby</td>\n",
       "      <td>[Oklahoma City Thunder]</td>\n",
       "    </tr>\n",
       "    <tr>\n",
       "      <th>16</th>\n",
       "      <td>Isaiah Thomas</td>\n",
       "      <td>[New Orleans Pelicans]</td>\n",
       "    </tr>\n",
       "    <tr>\n",
       "      <th>17</th>\n",
       "      <td>Jae'Sean Tate</td>\n",
       "      <td>[Houston Rockets]</td>\n",
       "    </tr>\n",
       "    <tr>\n",
       "      <th>18</th>\n",
       "      <td>Jahmi'us Ramsey</td>\n",
       "      <td>[Sacramento Kings]</td>\n",
       "    </tr>\n",
       "    <tr>\n",
       "      <th>19</th>\n",
       "      <td>Jalen McDaniels</td>\n",
       "      <td>[Charlotte Hornets]</td>\n",
       "    </tr>\n",
       "    <tr>\n",
       "      <th>20</th>\n",
       "      <td>Jordan Nwora</td>\n",
       "      <td>[Milwaukee Bucks]</td>\n",
       "    </tr>\n",
       "    <tr>\n",
       "      <th>21</th>\n",
       "      <td>Justin Robinson</td>\n",
       "      <td>[Oklahoma City Thunder]</td>\n",
       "    </tr>\n",
       "    <tr>\n",
       "      <th>22</th>\n",
       "      <td>Juwan Morgan</td>\n",
       "      <td>[Utah Jazz]</td>\n",
       "    </tr>\n",
       "    <tr>\n",
       "      <th>23</th>\n",
       "      <td>Kenyon Martin Jr.</td>\n",
       "      <td>[Houston Rockets]</td>\n",
       "    </tr>\n",
       "    <tr>\n",
       "      <th>24</th>\n",
       "      <td>Khyri Thomas</td>\n",
       "      <td>[Houston Rockets, Atlanta Hawks]</td>\n",
       "    </tr>\n",
       "    <tr>\n",
       "      <th>25</th>\n",
       "      <td>Mamadi Diakite</td>\n",
       "      <td>[Milwaukee Bucks]</td>\n",
       "    </tr>\n",
       "    <tr>\n",
       "      <th>26</th>\n",
       "      <td>Mychal Mulder</td>\n",
       "      <td>[Golden State Warriors]</td>\n",
       "    </tr>\n",
       "    <tr>\n",
       "      <th>27</th>\n",
       "      <td>Naz Reid</td>\n",
       "      <td>[Minnesota Timberwolves]</td>\n",
       "    </tr>\n",
       "    <tr>\n",
       "      <th>28</th>\n",
       "      <td>Nick Richards</td>\n",
       "      <td>[Charlotte Hornets]</td>\n",
       "    </tr>\n",
       "    <tr>\n",
       "      <th>29</th>\n",
       "      <td>Robert Franks</td>\n",
       "      <td>[Orlando Magic]</td>\n",
       "    </tr>\n",
       "    <tr>\n",
       "      <th>30</th>\n",
       "      <td>Robert Woodard II</td>\n",
       "      <td>[Sacramento Kings]</td>\n",
       "    </tr>\n",
       "    <tr>\n",
       "      <th>31</th>\n",
       "      <td>Rondae Hollis-Jefferson</td>\n",
       "      <td>[Portland Trail Blazers]</td>\n",
       "    </tr>\n",
       "    <tr>\n",
       "      <th>32</th>\n",
       "      <td>Sam Merrill</td>\n",
       "      <td>[Milwaukee Bucks]</td>\n",
       "    </tr>\n",
       "    <tr>\n",
       "      <th>33</th>\n",
       "      <td>Talen Horton-Tucker</td>\n",
       "      <td>[Los Angeles Lakers]</td>\n",
       "    </tr>\n",
       "    <tr>\n",
       "      <th>34</th>\n",
       "      <td>Thon Maker</td>\n",
       "      <td>[Cleveland Cavaliers]</td>\n",
       "    </tr>\n",
       "    <tr>\n",
       "      <th>35</th>\n",
       "      <td>Tim Frazier</td>\n",
       "      <td>[Memphis Grizzlies]</td>\n",
       "    </tr>\n",
       "    <tr>\n",
       "      <th>36</th>\n",
       "      <td>Tre Jones</td>\n",
       "      <td>[San Antonio Spurs]</td>\n",
       "    </tr>\n",
       "    <tr>\n",
       "      <th>37</th>\n",
       "      <td>Tyrell Terry</td>\n",
       "      <td>[Dallas Mavericks]</td>\n",
       "    </tr>\n",
       "    <tr>\n",
       "      <th>38</th>\n",
       "      <td>Vernon Carey Jr.</td>\n",
       "      <td>[Charlotte Hornets]</td>\n",
       "    </tr>\n",
       "    <tr>\n",
       "      <th>39</th>\n",
       "      <td>Xavier Tillman Sr.</td>\n",
       "      <td>[Memphis Grizzlies]</td>\n",
       "    </tr>\n",
       "    <tr>\n",
       "      <th>40</th>\n",
       "      <td>Yogi Ferrell</td>\n",
       "      <td>[Cleveland Cavaliers, Los Angeles Clippers]</td>\n",
       "    </tr>\n",
       "  </tbody>\n",
       "</table>\n",
       "</div>"
      ],
      "text/plain": [
       "                     player                                    team_name\n",
       "0             Alize Johnson                              [Brooklyn Nets]\n",
       "1            Andre Roberson                              [Brooklyn Nets]\n",
       "2              Anthony Gill                         [Washington Wizards]\n",
       "3          Anthony Tolliver                         [Philadelphia 76ers]\n",
       "4             Bruno Caboclo                            [Houston Rockets]\n",
       "5                 CJ Elleby                     [Portland Trail Blazers]\n",
       "6            Cameron Oliver                            [Houston Rockets]\n",
       "7              Daniel Oturu                       [Los Angeles Clippers]\n",
       "8         Deividas Sirvydis                            [Detroit Pistons]\n",
       "9             Elijah Hughes                                  [Utah Jazz]\n",
       "10            Eric Paschall                      [Golden State Warriors]\n",
       "11          Ersan Ä°lyasova                                  [Utah Jazz]\n",
       "12       Glenn Robinson III                           [Sacramento Kings]\n",
       "13           Henry Ellenson                            [Toronto Raptors]\n",
       "14               Isaiah Joe                         [Philadelphia 76ers]\n",
       "15              Isaiah Roby                      [Oklahoma City Thunder]\n",
       "16            Isaiah Thomas                       [New Orleans Pelicans]\n",
       "17            Jae'Sean Tate                            [Houston Rockets]\n",
       "18          Jahmi'us Ramsey                           [Sacramento Kings]\n",
       "19          Jalen McDaniels                          [Charlotte Hornets]\n",
       "20             Jordan Nwora                            [Milwaukee Bucks]\n",
       "21          Justin Robinson                      [Oklahoma City Thunder]\n",
       "22             Juwan Morgan                                  [Utah Jazz]\n",
       "23        Kenyon Martin Jr.                            [Houston Rockets]\n",
       "24             Khyri Thomas             [Houston Rockets, Atlanta Hawks]\n",
       "25           Mamadi Diakite                            [Milwaukee Bucks]\n",
       "26            Mychal Mulder                      [Golden State Warriors]\n",
       "27                 Naz Reid                     [Minnesota Timberwolves]\n",
       "28            Nick Richards                          [Charlotte Hornets]\n",
       "29            Robert Franks                              [Orlando Magic]\n",
       "30        Robert Woodard II                           [Sacramento Kings]\n",
       "31  Rondae Hollis-Jefferson                     [Portland Trail Blazers]\n",
       "32              Sam Merrill                            [Milwaukee Bucks]\n",
       "33      Talen Horton-Tucker                         [Los Angeles Lakers]\n",
       "34               Thon Maker                        [Cleveland Cavaliers]\n",
       "35              Tim Frazier                          [Memphis Grizzlies]\n",
       "36                Tre Jones                          [San Antonio Spurs]\n",
       "37             Tyrell Terry                           [Dallas Mavericks]\n",
       "38         Vernon Carey Jr.                          [Charlotte Hornets]\n",
       "39       Xavier Tillman Sr.                          [Memphis Grizzlies]\n",
       "40             Yogi Ferrell  [Cleveland Cavaliers, Los Angeles Clippers]"
      ]
     },
     "execution_count": 457,
     "metadata": {},
     "output_type": "execute_result"
    }
   ],
   "source": [
    "df_teams_btm_10pct = df_current.merge(btm_10pct.to_frame(),\n",
    "                                      how=\"inner\",\n",
    "                                      on=[\"player\"])\n",
    "df_teams_btm_10pct = df_teams_btm_10pct.loc[:, [\"player\", \"team_name\"]]\n",
    "df_teams_btm_10pct = df_teams_btm_10pct.drop_duplicates(keep=\"first\")\n",
    "df_teams_btm_10pct = (df_teams_btm_10pct.groupby([\"player\"])\n",
    "                                        .agg({\"team_name\": list})\n",
    "                                        .reset_index(drop=False))\n",
    "print(\"Teams the bottom 10 percent plays for:\")\n",
    "df_teams_btm_10pct"
   ]
  },
  {
   "cell_type": "markdown",
   "metadata": {},
   "source": [
    "### Question 3d: who are the middle 50% by salary? Which teams did they play for?"
   ]
  },
  {
   "cell_type": "code",
   "execution_count": 458,
   "metadata": {},
   "outputs": [
    {
     "name": "stdout",
     "output_type": "stream",
     "text": [
      "               player      salary\n",
      "100     Kent Bazemore   2320044.0\n",
      "101  Hassan Whiteside   2320044.0\n",
      "102    Reggie Jackson   2331593.0\n",
      "103     E'Twaun Moore   2331593.0\n",
      "104   Markieff Morris   2331593.0\n",
      "..                ...         ...\n",
      "295     Malik Beasley  13425895.0\n",
      "296      Marcus Smart  13446428.0\n",
      "297     Terrence Ross  13500000.0\n",
      "298       Patty Mills  13535714.0\n",
      "299    Thaddeus Young  13545000.0\n",
      "\n",
      "[200 rows x 2 columns]\n"
     ]
    }
   ],
   "source": [
    "q75, q25 = np.percentile(df_current_salary['salary'], [75 ,25])\n",
    "df_mid50 = df_current_salary[df_current_salary['salary'].between(q25, q75)]\n",
    "print(df_mid50)"
   ]
  },
  {
   "cell_type": "markdown",
   "metadata": {},
   "source": [
    "Get the teams of the players in the bottom 10% salary cap"
   ]
  },
  {
   "cell_type": "code",
   "execution_count": 459,
   "metadata": {},
   "outputs": [
    {
     "name": "stdout",
     "output_type": "stream",
     "text": [
      "Middle 50% of players\n"
     ]
    },
    {
     "data": {
      "text/html": [
       "<div>\n",
       "<style scoped>\n",
       "    .dataframe tbody tr th:only-of-type {\n",
       "        vertical-align: middle;\n",
       "    }\n",
       "\n",
       "    .dataframe tbody tr th {\n",
       "        vertical-align: top;\n",
       "    }\n",
       "\n",
       "    .dataframe thead th {\n",
       "        text-align: right;\n",
       "    }\n",
       "</style>\n",
       "<table border=\"1\" class=\"dataframe\">\n",
       "  <thead>\n",
       "    <tr style=\"text-align: right;\">\n",
       "      <th></th>\n",
       "      <th>player</th>\n",
       "      <th>team_name</th>\n",
       "    </tr>\n",
       "  </thead>\n",
       "  <tbody>\n",
       "    <tr>\n",
       "      <th>0</th>\n",
       "      <td>Aaron Holiday</td>\n",
       "      <td>[Indiana Pacers]</td>\n",
       "    </tr>\n",
       "    <tr>\n",
       "      <th>1</th>\n",
       "      <td>Aaron Nesmith</td>\n",
       "      <td>[Boston Celtics]</td>\n",
       "    </tr>\n",
       "    <tr>\n",
       "      <th>2</th>\n",
       "      <td>Alec Burks</td>\n",
       "      <td>[New York Knicks]</td>\n",
       "    </tr>\n",
       "    <tr>\n",
       "      <th>3</th>\n",
       "      <td>Aleksej Pokusevski</td>\n",
       "      <td>[Oklahoma City Thunder]</td>\n",
       "    </tr>\n",
       "    <tr>\n",
       "      <th>4</th>\n",
       "      <td>Alex Len</td>\n",
       "      <td>[Toronto Raptors, Washington Wizards]</td>\n",
       "    </tr>\n",
       "    <tr>\n",
       "      <th>...</th>\n",
       "      <td>...</td>\n",
       "      <td>...</td>\n",
       "    </tr>\n",
       "    <tr>\n",
       "      <th>195</th>\n",
       "      <td>Wes Iwundu</td>\n",
       "      <td>[New Orleans Pelicans]</td>\n",
       "    </tr>\n",
       "    <tr>\n",
       "      <th>196</th>\n",
       "      <td>Wesley Matthews</td>\n",
       "      <td>[Los Angeles Lakers]</td>\n",
       "    </tr>\n",
       "    <tr>\n",
       "      <th>197</th>\n",
       "      <td>Willie Cauley-Stein</td>\n",
       "      <td>[Dallas Mavericks]</td>\n",
       "    </tr>\n",
       "    <tr>\n",
       "      <th>198</th>\n",
       "      <td>Zeke Nnaji</td>\n",
       "      <td>[Denver Nuggets]</td>\n",
       "    </tr>\n",
       "    <tr>\n",
       "      <th>199</th>\n",
       "      <td>Zion Williamson</td>\n",
       "      <td>[New Orleans Pelicans]</td>\n",
       "    </tr>\n",
       "  </tbody>\n",
       "</table>\n",
       "<p>200 rows × 2 columns</p>\n",
       "</div>"
      ],
      "text/plain": [
       "                  player                              team_name\n",
       "0          Aaron Holiday                       [Indiana Pacers]\n",
       "1          Aaron Nesmith                       [Boston Celtics]\n",
       "2             Alec Burks                      [New York Knicks]\n",
       "3     Aleksej Pokusevski                [Oklahoma City Thunder]\n",
       "4               Alex Len  [Toronto Raptors, Washington Wizards]\n",
       "..                   ...                                    ...\n",
       "195           Wes Iwundu                 [New Orleans Pelicans]\n",
       "196      Wesley Matthews                   [Los Angeles Lakers]\n",
       "197  Willie Cauley-Stein                     [Dallas Mavericks]\n",
       "198           Zeke Nnaji                       [Denver Nuggets]\n",
       "199      Zion Williamson                 [New Orleans Pelicans]\n",
       "\n",
       "[200 rows x 2 columns]"
      ]
     },
     "execution_count": 459,
     "metadata": {},
     "output_type": "execute_result"
    }
   ],
   "source": [
    "df_teams_mid_50pct = df_current.merge(df_mid50,\n",
    "                                      how=\"inner\",\n",
    "                                      on=[\"player\"])\n",
    "df_teams_mid_50pct = df_teams_mid_50pct.loc[:, [\"player\", \"team_name\"]]\n",
    "df_teams_mid_50pct = df_teams_mid_50pct.drop_duplicates(keep=\"first\")\n",
    "df_teams_mid_50pct = (df_teams_mid_50pct.groupby([\"player\"])\n",
    "                                        .agg({\"team_name\": list})\n",
    "                                        .reset_index(drop=False))\n",
    "print(\"Middle 50% of players\")\n",
    "df_teams_mid_50pct"
   ]
  },
  {
   "cell_type": "markdown",
   "metadata": {},
   "source": [
    "### Question 3e: over the career of each of the active players in the most current season, how much money was paid to by season?"
   ]
  },
  {
   "cell_type": "markdown",
   "metadata": {},
   "source": [
    "Get breakdown of salary per season for players active in current season"
   ]
  },
  {
   "cell_type": "code",
   "execution_count": 460,
   "metadata": {},
   "outputs": [
    {
     "name": "stdout",
     "output_type": "stream",
     "text": [
      "Salary of active players per season:\n"
     ]
    },
    {
     "data": {
      "text/html": [
       "<div>\n",
       "<style scoped>\n",
       "    .dataframe tbody tr th:only-of-type {\n",
       "        vertical-align: middle;\n",
       "    }\n",
       "\n",
       "    .dataframe tbody tr th {\n",
       "        vertical-align: top;\n",
       "    }\n",
       "\n",
       "    .dataframe thead th {\n",
       "        text-align: right;\n",
       "    }\n",
       "</style>\n",
       "<table border=\"1\" class=\"dataframe\">\n",
       "  <thead>\n",
       "    <tr style=\"text-align: right;\">\n",
       "      <th></th>\n",
       "      <th>player</th>\n",
       "      <th>season</th>\n",
       "      <th>salary</th>\n",
       "    </tr>\n",
       "  </thead>\n",
       "  <tbody>\n",
       "    <tr>\n",
       "      <th>0</th>\n",
       "      <td>Aaron Gordon</td>\n",
       "      <td>2014-15</td>\n",
       "      <td>3992040.0</td>\n",
       "    </tr>\n",
       "    <tr>\n",
       "      <th>1</th>\n",
       "      <td>Aaron Gordon</td>\n",
       "      <td>2015-16</td>\n",
       "      <td>4171680.0</td>\n",
       "    </tr>\n",
       "    <tr>\n",
       "      <th>2</th>\n",
       "      <td>Aaron Gordon</td>\n",
       "      <td>2016-17</td>\n",
       "      <td>4351320.0</td>\n",
       "    </tr>\n",
       "    <tr>\n",
       "      <th>3</th>\n",
       "      <td>Aaron Gordon</td>\n",
       "      <td>2017-18</td>\n",
       "      <td>5504420.0</td>\n",
       "    </tr>\n",
       "    <tr>\n",
       "      <th>4</th>\n",
       "      <td>Aaron Gordon</td>\n",
       "      <td>2018-19</td>\n",
       "      <td>21590909.0</td>\n",
       "    </tr>\n",
       "    <tr>\n",
       "      <th>...</th>\n",
       "      <td>...</td>\n",
       "      <td>...</td>\n",
       "      <td>...</td>\n",
       "    </tr>\n",
       "    <tr>\n",
       "      <th>2110</th>\n",
       "      <td>Zach LaVine</td>\n",
       "      <td>2019-20</td>\n",
       "      <td>19500000.0</td>\n",
       "    </tr>\n",
       "    <tr>\n",
       "      <th>2111</th>\n",
       "      <td>Zach LaVine</td>\n",
       "      <td>2020-21</td>\n",
       "      <td>19500000.0</td>\n",
       "    </tr>\n",
       "    <tr>\n",
       "      <th>2112</th>\n",
       "      <td>Zeke Nnaji</td>\n",
       "      <td>2020-21</td>\n",
       "      <td>2379840.0</td>\n",
       "    </tr>\n",
       "    <tr>\n",
       "      <th>2113</th>\n",
       "      <td>Zion Williamson</td>\n",
       "      <td>2019-20</td>\n",
       "      <td>9757440.0</td>\n",
       "    </tr>\n",
       "    <tr>\n",
       "      <th>2114</th>\n",
       "      <td>Zion Williamson</td>\n",
       "      <td>2020-21</td>\n",
       "      <td>10245480.0</td>\n",
       "    </tr>\n",
       "  </tbody>\n",
       "</table>\n",
       "<p>2115 rows × 3 columns</p>\n",
       "</div>"
      ],
      "text/plain": [
       "               player   season      salary\n",
       "0        Aaron Gordon  2014-15   3992040.0\n",
       "1        Aaron Gordon  2015-16   4171680.0\n",
       "2        Aaron Gordon  2016-17   4351320.0\n",
       "3        Aaron Gordon  2017-18   5504420.0\n",
       "4        Aaron Gordon  2018-19  21590909.0\n",
       "...               ...      ...         ...\n",
       "2110      Zach LaVine  2019-20  19500000.0\n",
       "2111      Zach LaVine  2020-21  19500000.0\n",
       "2112       Zeke Nnaji  2020-21   2379840.0\n",
       "2113  Zion Williamson  2019-20   9757440.0\n",
       "2114  Zion Williamson  2020-21  10245480.0\n",
       "\n",
       "[2115 rows x 3 columns]"
      ]
     },
     "execution_count": 460,
     "metadata": {},
     "output_type": "execute_result"
    }
   ],
   "source": [
    "df_active_player_career = df_main.merge(pd.DataFrame(active_players, columns=[\"player\"]),\n",
    "                                   how=\"inner\",\n",
    "                                   on=[\"player\"])\n",
    "df_active_salary_season = (df_active_player_career.groupby([\"player\", \"season\"])\n",
    "                                                  .agg({\"salary\": \"sum\"})\n",
    "                                                  .reset_index(drop=False))\n",
    "print(\"Salary of active players per season:\")\n",
    "df_active_salary_season"
   ]
  },
  {
   "cell_type": "markdown",
   "metadata": {},
   "source": [
    "### Question 4a: what is the average salary of each team by season?"
   ]
  },
  {
   "cell_type": "markdown",
   "metadata": {},
   "source": [
    "Get average salary per team per season"
   ]
  },
  {
   "cell_type": "code",
   "execution_count": 461,
   "metadata": {},
   "outputs": [
    {
     "name": "stdout",
     "output_type": "stream",
     "text": [
      "Average salary per team per season:\n"
     ]
    },
    {
     "data": {
      "text/html": [
       "<div>\n",
       "<style scoped>\n",
       "    .dataframe tbody tr th:only-of-type {\n",
       "        vertical-align: middle;\n",
       "    }\n",
       "\n",
       "    .dataframe tbody tr th {\n",
       "        vertical-align: top;\n",
       "    }\n",
       "\n",
       "    .dataframe thead th {\n",
       "        text-align: right;\n",
       "    }\n",
       "</style>\n",
       "<table border=\"1\" class=\"dataframe\">\n",
       "  <thead>\n",
       "    <tr style=\"text-align: right;\">\n",
       "      <th></th>\n",
       "      <th>team_name</th>\n",
       "      <th>season</th>\n",
       "      <th>salary</th>\n",
       "    </tr>\n",
       "  </thead>\n",
       "  <tbody>\n",
       "    <tr>\n",
       "      <th>0</th>\n",
       "      <td>Atlanta Hawks</td>\n",
       "      <td>2009-10</td>\n",
       "      <td>5.393407e+06</td>\n",
       "    </tr>\n",
       "    <tr>\n",
       "      <th>1</th>\n",
       "      <td>Atlanta Hawks</td>\n",
       "      <td>2010-11</td>\n",
       "      <td>5.373799e+06</td>\n",
       "    </tr>\n",
       "    <tr>\n",
       "      <th>2</th>\n",
       "      <td>Atlanta Hawks</td>\n",
       "      <td>2011-12</td>\n",
       "      <td>4.942871e+06</td>\n",
       "    </tr>\n",
       "    <tr>\n",
       "      <th>3</th>\n",
       "      <td>Atlanta Hawks</td>\n",
       "      <td>2012-13</td>\n",
       "      <td>3.502022e+06</td>\n",
       "    </tr>\n",
       "    <tr>\n",
       "      <th>4</th>\n",
       "      <td>Atlanta Hawks</td>\n",
       "      <td>2013-14</td>\n",
       "      <td>4.200021e+06</td>\n",
       "    </tr>\n",
       "    <tr>\n",
       "      <th>...</th>\n",
       "      <td>...</td>\n",
       "      <td>...</td>\n",
       "      <td>...</td>\n",
       "    </tr>\n",
       "    <tr>\n",
       "      <th>355</th>\n",
       "      <td>Washington Wizards</td>\n",
       "      <td>2016-17</td>\n",
       "      <td>5.147514e+06</td>\n",
       "    </tr>\n",
       "    <tr>\n",
       "      <th>356</th>\n",
       "      <td>Washington Wizards</td>\n",
       "      <td>2017-18</td>\n",
       "      <td>7.714084e+06</td>\n",
       "    </tr>\n",
       "    <tr>\n",
       "      <th>357</th>\n",
       "      <td>Washington Wizards</td>\n",
       "      <td>2018-19</td>\n",
       "      <td>7.953608e+06</td>\n",
       "    </tr>\n",
       "    <tr>\n",
       "      <th>358</th>\n",
       "      <td>Washington Wizards</td>\n",
       "      <td>2019-20</td>\n",
       "      <td>5.060215e+06</td>\n",
       "    </tr>\n",
       "    <tr>\n",
       "      <th>359</th>\n",
       "      <td>Washington Wizards</td>\n",
       "      <td>2020-21</td>\n",
       "      <td>7.584004e+06</td>\n",
       "    </tr>\n",
       "  </tbody>\n",
       "</table>\n",
       "<p>360 rows × 3 columns</p>\n",
       "</div>"
      ],
      "text/plain": [
       "              team_name   season        salary\n",
       "0         Atlanta Hawks  2009-10  5.393407e+06\n",
       "1         Atlanta Hawks  2010-11  5.373799e+06\n",
       "2         Atlanta Hawks  2011-12  4.942871e+06\n",
       "3         Atlanta Hawks  2012-13  3.502022e+06\n",
       "4         Atlanta Hawks  2013-14  4.200021e+06\n",
       "..                  ...      ...           ...\n",
       "355  Washington Wizards  2016-17  5.147514e+06\n",
       "356  Washington Wizards  2017-18  7.714084e+06\n",
       "357  Washington Wizards  2018-19  7.953608e+06\n",
       "358  Washington Wizards  2019-20  5.060215e+06\n",
       "359  Washington Wizards  2020-21  7.584004e+06\n",
       "\n",
       "[360 rows x 3 columns]"
      ]
     },
     "execution_count": 461,
     "metadata": {},
     "output_type": "execute_result"
    }
   ],
   "source": [
    "df_team_salary = (df_main.groupby([\"team_name\", \"season\"])\n",
    "                    .agg({\"salary\": \"mean\"})\n",
    "                    .reset_index(drop=False))\n",
    "print(\"Average salary per team per season:\")\n",
    "df_team_salary"
   ]
  },
  {
   "cell_type": "markdown",
   "metadata": {},
   "source": [
    "### Question 4b: what is the average age of the players by season? Average and variance of experience by season of each team?"
   ]
  },
  {
   "cell_type": "markdown",
   "metadata": {},
   "source": [
    "Get average age and experience per team per season"
   ]
  },
  {
   "cell_type": "code",
   "execution_count": 462,
   "metadata": {},
   "outputs": [
    {
     "name": "stdout",
     "output_type": "stream",
     "text": [
      "Statistics of teams per season:\n"
     ]
    },
    {
     "data": {
      "text/html": [
       "<div>\n",
       "<style scoped>\n",
       "    .dataframe tbody tr th:only-of-type {\n",
       "        vertical-align: middle;\n",
       "    }\n",
       "\n",
       "    .dataframe tbody tr th {\n",
       "        vertical-align: top;\n",
       "    }\n",
       "\n",
       "    .dataframe thead th {\n",
       "        text-align: right;\n",
       "    }\n",
       "</style>\n",
       "<table border=\"1\" class=\"dataframe\">\n",
       "  <thead>\n",
       "    <tr style=\"text-align: right;\">\n",
       "      <th></th>\n",
       "      <th>team_name</th>\n",
       "      <th>season</th>\n",
       "      <th>age</th>\n",
       "      <th>mean_exp</th>\n",
       "      <th>var_exp</th>\n",
       "    </tr>\n",
       "  </thead>\n",
       "  <tbody>\n",
       "    <tr>\n",
       "      <th>0</th>\n",
       "      <td>Atlanta Hawks</td>\n",
       "      <td>2009-10</td>\n",
       "      <td>27.083333</td>\n",
       "      <td>6.416667</td>\n",
       "      <td>16.446970</td>\n",
       "    </tr>\n",
       "    <tr>\n",
       "      <th>1</th>\n",
       "      <td>Atlanta Hawks</td>\n",
       "      <td>2010-11</td>\n",
       "      <td>27.187500</td>\n",
       "      <td>5.437500</td>\n",
       "      <td>7.729167</td>\n",
       "    </tr>\n",
       "    <tr>\n",
       "      <th>2</th>\n",
       "      <td>Atlanta Hawks</td>\n",
       "      <td>2011-12</td>\n",
       "      <td>27.538462</td>\n",
       "      <td>5.384615</td>\n",
       "      <td>24.423077</td>\n",
       "    </tr>\n",
       "    <tr>\n",
       "      <th>3</th>\n",
       "      <td>Atlanta Hawks</td>\n",
       "      <td>2012-13</td>\n",
       "      <td>28.850000</td>\n",
       "      <td>7.000000</td>\n",
       "      <td>12.947368</td>\n",
       "    </tr>\n",
       "    <tr>\n",
       "      <th>4</th>\n",
       "      <td>Atlanta Hawks</td>\n",
       "      <td>2013-14</td>\n",
       "      <td>25.846154</td>\n",
       "      <td>4.615385</td>\n",
       "      <td>17.423077</td>\n",
       "    </tr>\n",
       "    <tr>\n",
       "      <th>...</th>\n",
       "      <td>...</td>\n",
       "      <td>...</td>\n",
       "      <td>...</td>\n",
       "      <td>...</td>\n",
       "      <td>...</td>\n",
       "    </tr>\n",
       "    <tr>\n",
       "      <th>355</th>\n",
       "      <td>Washington Wizards</td>\n",
       "      <td>2016-17</td>\n",
       "      <td>25.500000</td>\n",
       "      <td>3.944444</td>\n",
       "      <td>8.408497</td>\n",
       "    </tr>\n",
       "    <tr>\n",
       "      <th>356</th>\n",
       "      <td>Washington Wizards</td>\n",
       "      <td>2017-18</td>\n",
       "      <td>27.714286</td>\n",
       "      <td>6.571429</td>\n",
       "      <td>9.802198</td>\n",
       "    </tr>\n",
       "    <tr>\n",
       "      <th>357</th>\n",
       "      <td>Washington Wizards</td>\n",
       "      <td>2018-19</td>\n",
       "      <td>26.538462</td>\n",
       "      <td>5.846154</td>\n",
       "      <td>17.015385</td>\n",
       "    </tr>\n",
       "    <tr>\n",
       "      <th>358</th>\n",
       "      <td>Washington Wizards</td>\n",
       "      <td>2019-20</td>\n",
       "      <td>25.250000</td>\n",
       "      <td>3.900000</td>\n",
       "      <td>15.463158</td>\n",
       "    </tr>\n",
       "    <tr>\n",
       "      <th>359</th>\n",
       "      <td>Washington Wizards</td>\n",
       "      <td>2020-21</td>\n",
       "      <td>26.055556</td>\n",
       "      <td>4.777778</td>\n",
       "      <td>15.241830</td>\n",
       "    </tr>\n",
       "  </tbody>\n",
       "</table>\n",
       "<p>360 rows × 5 columns</p>\n",
       "</div>"
      ],
      "text/plain": [
       "              team_name   season        age  mean_exp    var_exp\n",
       "0         Atlanta Hawks  2009-10  27.083333  6.416667  16.446970\n",
       "1         Atlanta Hawks  2010-11  27.187500  5.437500   7.729167\n",
       "2         Atlanta Hawks  2011-12  27.538462  5.384615  24.423077\n",
       "3         Atlanta Hawks  2012-13  28.850000  7.000000  12.947368\n",
       "4         Atlanta Hawks  2013-14  25.846154  4.615385  17.423077\n",
       "..                  ...      ...        ...       ...        ...\n",
       "355  Washington Wizards  2016-17  25.500000  3.944444   8.408497\n",
       "356  Washington Wizards  2017-18  27.714286  6.571429   9.802198\n",
       "357  Washington Wizards  2018-19  26.538462  5.846154  17.015385\n",
       "358  Washington Wizards  2019-20  25.250000  3.900000  15.463158\n",
       "359  Washington Wizards  2020-21  26.055556  4.777778  15.241830\n",
       "\n",
       "[360 rows x 5 columns]"
      ]
     },
     "execution_count": 462,
     "metadata": {},
     "output_type": "execute_result"
    }
   ],
   "source": [
    "df_team_age_exp = (df_main.groupby([\"team_name\", \"season\"])\n",
    "                     .agg({\"age\": \"mean\",\n",
    "                           \"experience_YTD\": [\"mean\", \"var\"]})\n",
    "                     .reset_index(drop=False))\n",
    "df_team_age_exp.columns = [\"team_name\", \"season\", \"age\", \"mean_exp\", \"var_exp\"]\n",
    "print(\"Statistics of teams per season:\")\n",
    "df_team_age_exp"
   ]
  },
  {
   "cell_type": "markdown",
   "metadata": {},
   "source": [
    "### Question 4c: provide the information in b. in a \"cross-tabulation\" format, i.e. teams are on rows and seasons are on columns, and statistics are cell values."
   ]
  },
  {
   "cell_type": "markdown",
   "metadata": {},
   "source": [
    "Get average age and experience per team per season (cross-tabulation)"
   ]
  },
  {
   "cell_type": "code",
   "execution_count": 463,
   "metadata": {},
   "outputs": [
    {
     "name": "stdout",
     "output_type": "stream",
     "text": [
      "Statistics of teams per season (cross-tabulated):\n"
     ]
    },
    {
     "data": {
      "text/html": [
       "<div>\n",
       "<style scoped>\n",
       "    .dataframe tbody tr th:only-of-type {\n",
       "        vertical-align: middle;\n",
       "    }\n",
       "\n",
       "    .dataframe tbody tr th {\n",
       "        vertical-align: top;\n",
       "    }\n",
       "\n",
       "    .dataframe thead tr th {\n",
       "        text-align: left;\n",
       "    }\n",
       "\n",
       "    .dataframe thead tr:last-of-type th {\n",
       "        text-align: right;\n",
       "    }\n",
       "</style>\n",
       "<table border=\"1\" class=\"dataframe\">\n",
       "  <thead>\n",
       "    <tr>\n",
       "      <th></th>\n",
       "      <th colspan=\"10\" halign=\"left\">age</th>\n",
       "      <th>...</th>\n",
       "      <th colspan=\"10\" halign=\"left\">var_exp</th>\n",
       "    </tr>\n",
       "    <tr>\n",
       "      <th>season</th>\n",
       "      <th>2009-10</th>\n",
       "      <th>2010-11</th>\n",
       "      <th>2011-12</th>\n",
       "      <th>2012-13</th>\n",
       "      <th>2013-14</th>\n",
       "      <th>2014-15</th>\n",
       "      <th>2015-16</th>\n",
       "      <th>2016-17</th>\n",
       "      <th>2017-18</th>\n",
       "      <th>2018-19</th>\n",
       "      <th>...</th>\n",
       "      <th>2011-12</th>\n",
       "      <th>2012-13</th>\n",
       "      <th>2013-14</th>\n",
       "      <th>2014-15</th>\n",
       "      <th>2015-16</th>\n",
       "      <th>2016-17</th>\n",
       "      <th>2017-18</th>\n",
       "      <th>2018-19</th>\n",
       "      <th>2019-20</th>\n",
       "      <th>2020-21</th>\n",
       "    </tr>\n",
       "    <tr>\n",
       "      <th>team_name</th>\n",
       "      <th></th>\n",
       "      <th></th>\n",
       "      <th></th>\n",
       "      <th></th>\n",
       "      <th></th>\n",
       "      <th></th>\n",
       "      <th></th>\n",
       "      <th></th>\n",
       "      <th></th>\n",
       "      <th></th>\n",
       "      <th></th>\n",
       "      <th></th>\n",
       "      <th></th>\n",
       "      <th></th>\n",
       "      <th></th>\n",
       "      <th></th>\n",
       "      <th></th>\n",
       "      <th></th>\n",
       "      <th></th>\n",
       "      <th></th>\n",
       "      <th></th>\n",
       "    </tr>\n",
       "  </thead>\n",
       "  <tbody>\n",
       "    <tr>\n",
       "      <th>Atlanta Hawks</th>\n",
       "      <td>27.083333</td>\n",
       "      <td>27.187500</td>\n",
       "      <td>27.538462</td>\n",
       "      <td>28.850000</td>\n",
       "      <td>25.846154</td>\n",
       "      <td>27.941176</td>\n",
       "      <td>29.176471</td>\n",
       "      <td>30.576923</td>\n",
       "      <td>28.000000</td>\n",
       "      <td>27.105263</td>\n",
       "      <td>...</td>\n",
       "      <td>24.423077</td>\n",
       "      <td>12.947368</td>\n",
       "      <td>17.423077</td>\n",
       "      <td>16.345588</td>\n",
       "      <td>17.514706</td>\n",
       "      <td>25.755385</td>\n",
       "      <td>30.471053</td>\n",
       "      <td>36.649123</td>\n",
       "      <td>27.114379</td>\n",
       "      <td>30.650000</td>\n",
       "    </tr>\n",
       "    <tr>\n",
       "      <th>Boston Celtics</th>\n",
       "      <td>26.187500</td>\n",
       "      <td>25.000000</td>\n",
       "      <td>26.000000</td>\n",
       "      <td>25.875000</td>\n",
       "      <td>25.466667</td>\n",
       "      <td>26.291667</td>\n",
       "      <td>26.857143</td>\n",
       "      <td>25.571429</td>\n",
       "      <td>24.615385</td>\n",
       "      <td>26.437500</td>\n",
       "      <td>...</td>\n",
       "      <td>21.500000</td>\n",
       "      <td>18.333333</td>\n",
       "      <td>11.600000</td>\n",
       "      <td>11.288043</td>\n",
       "      <td>13.785714</td>\n",
       "      <td>14.417582</td>\n",
       "      <td>10.141026</td>\n",
       "      <td>12.200000</td>\n",
       "      <td>10.901099</td>\n",
       "      <td>9.547619</td>\n",
       "    </tr>\n",
       "    <tr>\n",
       "      <th>Brooklyn Nets</th>\n",
       "      <td>26.833333</td>\n",
       "      <td>26.066667</td>\n",
       "      <td>26.750000</td>\n",
       "      <td>28.250000</td>\n",
       "      <td>28.600000</td>\n",
       "      <td>26.785714</td>\n",
       "      <td>27.315789</td>\n",
       "      <td>26.343750</td>\n",
       "      <td>26.041667</td>\n",
       "      <td>26.409091</td>\n",
       "      <td>...</td>\n",
       "      <td>11.450000</td>\n",
       "      <td>20.969697</td>\n",
       "      <td>23.433333</td>\n",
       "      <td>15.961538</td>\n",
       "      <td>25.134503</td>\n",
       "      <td>12.447581</td>\n",
       "      <td>5.818841</td>\n",
       "      <td>11.290043</td>\n",
       "      <td>10.235294</td>\n",
       "      <td>20.348485</td>\n",
       "    </tr>\n",
       "    <tr>\n",
       "      <th>Charlotte Hornets</th>\n",
       "      <td>25.428571</td>\n",
       "      <td>25.105263</td>\n",
       "      <td>25.687500</td>\n",
       "      <td>25.315789</td>\n",
       "      <td>26.133333</td>\n",
       "      <td>26.086957</td>\n",
       "      <td>26.058824</td>\n",
       "      <td>26.000000</td>\n",
       "      <td>25.133333</td>\n",
       "      <td>26.375000</td>\n",
       "      <td>...</td>\n",
       "      <td>56.062500</td>\n",
       "      <td>54.426901</td>\n",
       "      <td>11.066667</td>\n",
       "      <td>16.260870</td>\n",
       "      <td>8.382353</td>\n",
       "      <td>17.154412</td>\n",
       "      <td>17.238095</td>\n",
       "      <td>22.466667</td>\n",
       "      <td>26.264706</td>\n",
       "      <td>13.647059</td>\n",
       "    </tr>\n",
       "    <tr>\n",
       "      <th>Chicago Bulls</th>\n",
       "      <td>26.944444</td>\n",
       "      <td>27.300000</td>\n",
       "      <td>29.000000</td>\n",
       "      <td>27.428571</td>\n",
       "      <td>26.800000</td>\n",
       "      <td>28.818182</td>\n",
       "      <td>27.588235</td>\n",
       "      <td>26.000000</td>\n",
       "      <td>26.833333</td>\n",
       "      <td>25.227273</td>\n",
       "      <td>...</td>\n",
       "      <td>11.089744</td>\n",
       "      <td>16.571429</td>\n",
       "      <td>17.857143</td>\n",
       "      <td>21.963636</td>\n",
       "      <td>20.970588</td>\n",
       "      <td>15.163743</td>\n",
       "      <td>18.593103</td>\n",
       "      <td>11.523810</td>\n",
       "      <td>12.011111</td>\n",
       "      <td>16.050000</td>\n",
       "    </tr>\n",
       "    <tr>\n",
       "      <th>Cleveland Cavaliers</th>\n",
       "      <td>26.526316</td>\n",
       "      <td>25.857143</td>\n",
       "      <td>24.833333</td>\n",
       "      <td>24.840000</td>\n",
       "      <td>24.083333</td>\n",
       "      <td>28.000000</td>\n",
       "      <td>28.812500</td>\n",
       "      <td>30.545455</td>\n",
       "      <td>28.217391</td>\n",
       "      <td>25.692308</td>\n",
       "      <td>...</td>\n",
       "      <td>20.447712</td>\n",
       "      <td>7.810000</td>\n",
       "      <td>7.424242</td>\n",
       "      <td>21.830065</td>\n",
       "      <td>24.062500</td>\n",
       "      <td>15.212121</td>\n",
       "      <td>20.347826</td>\n",
       "      <td>11.766154</td>\n",
       "      <td>17.153595</td>\n",
       "      <td>7.458462</td>\n",
       "    </tr>\n",
       "    <tr>\n",
       "      <th>Dallas Mavericks</th>\n",
       "      <td>29.125000</td>\n",
       "      <td>28.307692</td>\n",
       "      <td>29.900000</td>\n",
       "      <td>30.217391</td>\n",
       "      <td>29.250000</td>\n",
       "      <td>28.100000</td>\n",
       "      <td>29.944444</td>\n",
       "      <td>26.900000</td>\n",
       "      <td>26.875000</td>\n",
       "      <td>28.666667</td>\n",
       "      <td>...</td>\n",
       "      <td>22.677778</td>\n",
       "      <td>31.754941</td>\n",
       "      <td>31.174242</td>\n",
       "      <td>23.536842</td>\n",
       "      <td>20.104575</td>\n",
       "      <td>21.075862</td>\n",
       "      <td>23.429167</td>\n",
       "      <td>27.790850</td>\n",
       "      <td>9.441176</td>\n",
       "      <td>24.071429</td>\n",
       "    </tr>\n",
       "    <tr>\n",
       "      <th>Denver Nuggets</th>\n",
       "      <td>28.142857</td>\n",
       "      <td>25.052632</td>\n",
       "      <td>26.500000</td>\n",
       "      <td>25.571429</td>\n",
       "      <td>26.941176</td>\n",
       "      <td>26.400000</td>\n",
       "      <td>25.857143</td>\n",
       "      <td>25.350000</td>\n",
       "      <td>28.789474</td>\n",
       "      <td>24.583333</td>\n",
       "      <td>...</td>\n",
       "      <td>19.054945</td>\n",
       "      <td>14.571429</td>\n",
       "      <td>20.257353</td>\n",
       "      <td>13.973333</td>\n",
       "      <td>12.100000</td>\n",
       "      <td>18.778947</td>\n",
       "      <td>27.807018</td>\n",
       "      <td>10.628788</td>\n",
       "      <td>8.994505</td>\n",
       "      <td>17.673203</td>\n",
       "    </tr>\n",
       "    <tr>\n",
       "      <th>Detroit Pistons</th>\n",
       "      <td>26.166667</td>\n",
       "      <td>26.000000</td>\n",
       "      <td>27.071429</td>\n",
       "      <td>26.142857</td>\n",
       "      <td>26.166667</td>\n",
       "      <td>27.272727</td>\n",
       "      <td>25.944444</td>\n",
       "      <td>25.083333</td>\n",
       "      <td>27.650000</td>\n",
       "      <td>25.826087</td>\n",
       "      <td>...</td>\n",
       "      <td>13.873626</td>\n",
       "      <td>15.076923</td>\n",
       "      <td>19.901515</td>\n",
       "      <td>16.432900</td>\n",
       "      <td>13.794118</td>\n",
       "      <td>10.446970</td>\n",
       "      <td>15.313158</td>\n",
       "      <td>18.992095</td>\n",
       "      <td>8.682540</td>\n",
       "      <td>15.693841</td>\n",
       "    </tr>\n",
       "    <tr>\n",
       "      <th>Golden State Warriors</th>\n",
       "      <td>25.764706</td>\n",
       "      <td>26.294118</td>\n",
       "      <td>24.555556</td>\n",
       "      <td>26.166667</td>\n",
       "      <td>25.785714</td>\n",
       "      <td>27.384615</td>\n",
       "      <td>28.153846</td>\n",
       "      <td>29.533333</td>\n",
       "      <td>29.384615</td>\n",
       "      <td>28.363636</td>\n",
       "      <td>...</td>\n",
       "      <td>6.970588</td>\n",
       "      <td>12.969697</td>\n",
       "      <td>8.181319</td>\n",
       "      <td>14.025641</td>\n",
       "      <td>11.076923</td>\n",
       "      <td>21.028571</td>\n",
       "      <td>18.564103</td>\n",
       "      <td>22.272727</td>\n",
       "      <td>9.720588</td>\n",
       "      <td>14.044444</td>\n",
       "    </tr>\n",
       "    <tr>\n",
       "      <th>Houston Rockets</th>\n",
       "      <td>25.863636</td>\n",
       "      <td>25.611111</td>\n",
       "      <td>24.500000</td>\n",
       "      <td>25.111111</td>\n",
       "      <td>26.846154</td>\n",
       "      <td>28.357143</td>\n",
       "      <td>27.666667</td>\n",
       "      <td>28.428571</td>\n",
       "      <td>29.900000</td>\n",
       "      <td>28.823529</td>\n",
       "      <td>...</td>\n",
       "      <td>5.911765</td>\n",
       "      <td>8.712251</td>\n",
       "      <td>6.910256</td>\n",
       "      <td>16.691799</td>\n",
       "      <td>16.433333</td>\n",
       "      <td>22.379121</td>\n",
       "      <td>29.736842</td>\n",
       "      <td>13.779412</td>\n",
       "      <td>14.679842</td>\n",
       "      <td>14.240230</td>\n",
       "    </tr>\n",
       "    <tr>\n",
       "      <th>Indiana Pacers</th>\n",
       "      <td>26.875000</td>\n",
       "      <td>26.375000</td>\n",
       "      <td>26.545455</td>\n",
       "      <td>25.857143</td>\n",
       "      <td>26.500000</td>\n",
       "      <td>28.000000</td>\n",
       "      <td>26.388889</td>\n",
       "      <td>27.125000</td>\n",
       "      <td>27.937500</td>\n",
       "      <td>27.263158</td>\n",
       "      <td>...</td>\n",
       "      <td>13.054545</td>\n",
       "      <td>6.642857</td>\n",
       "      <td>8.109890</td>\n",
       "      <td>10.931818</td>\n",
       "      <td>9.516340</td>\n",
       "      <td>11.562500</td>\n",
       "      <td>13.400000</td>\n",
       "      <td>10.894737</td>\n",
       "      <td>5.424242</td>\n",
       "      <td>4.725275</td>\n",
       "    </tr>\n",
       "    <tr>\n",
       "      <th>Los Angeles Clippers</th>\n",
       "      <td>26.350000</td>\n",
       "      <td>26.388889</td>\n",
       "      <td>27.388889</td>\n",
       "      <td>29.888889</td>\n",
       "      <td>28.000000</td>\n",
       "      <td>28.294118</td>\n",
       "      <td>29.384615</td>\n",
       "      <td>30.250000</td>\n",
       "      <td>27.055556</td>\n",
       "      <td>27.761905</td>\n",
       "      <td>...</td>\n",
       "      <td>18.852941</td>\n",
       "      <td>18.944444</td>\n",
       "      <td>17.358974</td>\n",
       "      <td>10.941176</td>\n",
       "      <td>9.730769</td>\n",
       "      <td>9.659091</td>\n",
       "      <td>7.058824</td>\n",
       "      <td>20.800000</td>\n",
       "      <td>12.982456</td>\n",
       "      <td>17.890476</td>\n",
       "    </tr>\n",
       "    <tr>\n",
       "      <th>Los Angeles Lakers</th>\n",
       "      <td>27.400000</td>\n",
       "      <td>29.333333</td>\n",
       "      <td>29.133333</td>\n",
       "      <td>28.181818</td>\n",
       "      <td>29.600000</td>\n",
       "      <td>25.384615</td>\n",
       "      <td>26.909091</td>\n",
       "      <td>26.909091</td>\n",
       "      <td>26.250000</td>\n",
       "      <td>27.090909</td>\n",
       "      <td>...</td>\n",
       "      <td>26.600000</td>\n",
       "      <td>21.563636</td>\n",
       "      <td>10.266667</td>\n",
       "      <td>8.910256</td>\n",
       "      <td>30.000000</td>\n",
       "      <td>24.831169</td>\n",
       "      <td>20.869565</td>\n",
       "      <td>30.798701</td>\n",
       "      <td>17.081579</td>\n",
       "      <td>14.526144</td>\n",
       "    </tr>\n",
       "    <tr>\n",
       "      <th>Memphis Grizzlies</th>\n",
       "      <td>24.944444</td>\n",
       "      <td>25.571429</td>\n",
       "      <td>25.941176</td>\n",
       "      <td>25.777778</td>\n",
       "      <td>27.785714</td>\n",
       "      <td>27.647059</td>\n",
       "      <td>27.866667</td>\n",
       "      <td>27.812500</td>\n",
       "      <td>25.937500</td>\n",
       "      <td>26.400000</td>\n",
       "      <td>...</td>\n",
       "      <td>9.441176</td>\n",
       "      <td>12.722222</td>\n",
       "      <td>12.109890</td>\n",
       "      <td>24.639706</td>\n",
       "      <td>26.074713</td>\n",
       "      <td>32.895833</td>\n",
       "      <td>12.250000</td>\n",
       "      <td>17.610345</td>\n",
       "      <td>17.655385</td>\n",
       "      <td>6.929167</td>\n",
       "    </tr>\n",
       "    <tr>\n",
       "      <th>Miami Heat</th>\n",
       "      <td>28.000000</td>\n",
       "      <td>30.833333</td>\n",
       "      <td>28.000000</td>\n",
       "      <td>28.615385</td>\n",
       "      <td>30.250000</td>\n",
       "      <td>27.888889</td>\n",
       "      <td>30.066667</td>\n",
       "      <td>26.117647</td>\n",
       "      <td>28.388889</td>\n",
       "      <td>28.785714</td>\n",
       "      <td>...</td>\n",
       "      <td>19.142857</td>\n",
       "      <td>25.269231</td>\n",
       "      <td>19.553571</td>\n",
       "      <td>23.176471</td>\n",
       "      <td>24.352381</td>\n",
       "      <td>13.992647</td>\n",
       "      <td>22.918301</td>\n",
       "      <td>22.115385</td>\n",
       "      <td>22.810458</td>\n",
       "      <td>22.300654</td>\n",
       "    </tr>\n",
       "    <tr>\n",
       "      <th>Milwaukee Bucks</th>\n",
       "      <td>27.600000</td>\n",
       "      <td>26.750000</td>\n",
       "      <td>27.117647</td>\n",
       "      <td>27.176471</td>\n",
       "      <td>26.666667</td>\n",
       "      <td>24.965517</td>\n",
       "      <td>23.750000</td>\n",
       "      <td>25.588235</td>\n",
       "      <td>26.714286</td>\n",
       "      <td>28.875000</td>\n",
       "      <td>...</td>\n",
       "      <td>15.183824</td>\n",
       "      <td>12.220588</td>\n",
       "      <td>13.885714</td>\n",
       "      <td>13.310345</td>\n",
       "      <td>6.562500</td>\n",
       "      <td>18.308824</td>\n",
       "      <td>11.068783</td>\n",
       "      <td>25.505435</td>\n",
       "      <td>24.892105</td>\n",
       "      <td>25.133333</td>\n",
       "    </tr>\n",
       "    <tr>\n",
       "      <th>Minnesota Timberwolves</th>\n",
       "      <td>25.000000</td>\n",
       "      <td>23.500000</td>\n",
       "      <td>24.692308</td>\n",
       "      <td>25.944444</td>\n",
       "      <td>24.466667</td>\n",
       "      <td>24.937500</td>\n",
       "      <td>28.125000</td>\n",
       "      <td>25.235294</td>\n",
       "      <td>27.411765</td>\n",
       "      <td>27.526316</td>\n",
       "      <td>...</td>\n",
       "      <td>13.756410</td>\n",
       "      <td>12.264706</td>\n",
       "      <td>6.523810</td>\n",
       "      <td>6.895833</td>\n",
       "      <td>41.850000</td>\n",
       "      <td>7.029412</td>\n",
       "      <td>16.875000</td>\n",
       "      <td>14.690058</td>\n",
       "      <td>9.761538</td>\n",
       "      <td>6.576923</td>\n",
       "    </tr>\n",
       "    <tr>\n",
       "      <th>New Orleans Pelicans</th>\n",
       "      <td>26.875000</td>\n",
       "      <td>27.000000</td>\n",
       "      <td>24.666667</td>\n",
       "      <td>24.615385</td>\n",
       "      <td>24.363636</td>\n",
       "      <td>25.444444</td>\n",
       "      <td>25.826087</td>\n",
       "      <td>25.969697</td>\n",
       "      <td>26.428571</td>\n",
       "      <td>26.481481</td>\n",
       "      <td>...</td>\n",
       "      <td>5.695238</td>\n",
       "      <td>18.397436</td>\n",
       "      <td>3.090909</td>\n",
       "      <td>1.163399</td>\n",
       "      <td>5.474308</td>\n",
       "      <td>40.329545</td>\n",
       "      <td>7.719780</td>\n",
       "      <td>9.250712</td>\n",
       "      <td>20.242424</td>\n",
       "      <td>15.500000</td>\n",
       "    </tr>\n",
       "    <tr>\n",
       "      <th>New York Knicks</th>\n",
       "      <td>26.384615</td>\n",
       "      <td>27.900000</td>\n",
       "      <td>27.333333</td>\n",
       "      <td>29.444444</td>\n",
       "      <td>29.846154</td>\n",
       "      <td>26.640000</td>\n",
       "      <td>26.416667</td>\n",
       "      <td>27.142857</td>\n",
       "      <td>25.761905</td>\n",
       "      <td>25.185185</td>\n",
       "      <td>...</td>\n",
       "      <td>23.257143</td>\n",
       "      <td>29.000000</td>\n",
       "      <td>19.576923</td>\n",
       "      <td>18.090000</td>\n",
       "      <td>14.022727</td>\n",
       "      <td>15.565934</td>\n",
       "      <td>16.361905</td>\n",
       "      <td>11.823362</td>\n",
       "      <td>11.029167</td>\n",
       "      <td>21.000000</td>\n",
       "    </tr>\n",
       "    <tr>\n",
       "      <th>Oklahoma City Thunder</th>\n",
       "      <td>23.733333</td>\n",
       "      <td>25.461538</td>\n",
       "      <td>25.615385</td>\n",
       "      <td>27.687500</td>\n",
       "      <td>26.545455</td>\n",
       "      <td>25.440000</td>\n",
       "      <td>27.133333</td>\n",
       "      <td>26.458333</td>\n",
       "      <td>27.600000</td>\n",
       "      <td>26.571429</td>\n",
       "      <td>...</td>\n",
       "      <td>12.256410</td>\n",
       "      <td>30.116667</td>\n",
       "      <td>26.018182</td>\n",
       "      <td>8.940000</td>\n",
       "      <td>14.095238</td>\n",
       "      <td>60.896739</td>\n",
       "      <td>17.838095</td>\n",
       "      <td>16.181319</td>\n",
       "      <td>19.324176</td>\n",
       "      <td>13.800866</td>\n",
       "    </tr>\n",
       "    <tr>\n",
       "      <th>Orlando Magic</th>\n",
       "      <td>27.555556</td>\n",
       "      <td>27.133333</td>\n",
       "      <td>26.250000</td>\n",
       "      <td>25.350000</td>\n",
       "      <td>25.785714</td>\n",
       "      <td>25.266667</td>\n",
       "      <td>25.142857</td>\n",
       "      <td>25.416667</td>\n",
       "      <td>25.000000</td>\n",
       "      <td>25.105263</td>\n",
       "      <td>...</td>\n",
       "      <td>18.729167</td>\n",
       "      <td>19.905263</td>\n",
       "      <td>17.956044</td>\n",
       "      <td>17.923810</td>\n",
       "      <td>11.461905</td>\n",
       "      <td>9.545455</td>\n",
       "      <td>11.495238</td>\n",
       "      <td>8.385965</td>\n",
       "      <td>8.552381</td>\n",
       "      <td>11.710227</td>\n",
       "    </tr>\n",
       "    <tr>\n",
       "      <th>Philadelphia 76ers</th>\n",
       "      <td>23.923077</td>\n",
       "      <td>25.181818</td>\n",
       "      <td>25.800000</td>\n",
       "      <td>25.136364</td>\n",
       "      <td>25.055556</td>\n",
       "      <td>23.960000</td>\n",
       "      <td>25.166667</td>\n",
       "      <td>26.000000</td>\n",
       "      <td>27.523810</td>\n",
       "      <td>27.633333</td>\n",
       "      <td>...</td>\n",
       "      <td>20.677778</td>\n",
       "      <td>14.738095</td>\n",
       "      <td>6.352941</td>\n",
       "      <td>8.110000</td>\n",
       "      <td>13.432971</td>\n",
       "      <td>12.290850</td>\n",
       "      <td>18.933333</td>\n",
       "      <td>12.350575</td>\n",
       "      <td>9.693841</td>\n",
       "      <td>27.066176</td>\n",
       "    </tr>\n",
       "    <tr>\n",
       "      <th>Phoenix Suns</th>\n",
       "      <td>25.625000</td>\n",
       "      <td>28.076923</td>\n",
       "      <td>27.909091</td>\n",
       "      <td>25.466667</td>\n",
       "      <td>27.066667</td>\n",
       "      <td>25.964286</td>\n",
       "      <td>25.838710</td>\n",
       "      <td>25.000000</td>\n",
       "      <td>23.571429</td>\n",
       "      <td>26.379310</td>\n",
       "      <td>...</td>\n",
       "      <td>12.018182</td>\n",
       "      <td>6.495238</td>\n",
       "      <td>13.552381</td>\n",
       "      <td>9.802910</td>\n",
       "      <td>15.636559</td>\n",
       "      <td>13.081579</td>\n",
       "      <td>5.763736</td>\n",
       "      <td>23.184729</td>\n",
       "      <td>13.857143</td>\n",
       "      <td>13.295833</td>\n",
       "    </tr>\n",
       "    <tr>\n",
       "      <th>Portland Trail Blazers</th>\n",
       "      <td>26.866667</td>\n",
       "      <td>26.153846</td>\n",
       "      <td>27.000000</td>\n",
       "      <td>24.666667</td>\n",
       "      <td>25.714286</td>\n",
       "      <td>26.473684</td>\n",
       "      <td>25.777778</td>\n",
       "      <td>24.363636</td>\n",
       "      <td>25.000000</td>\n",
       "      <td>25.411765</td>\n",
       "      <td>...</td>\n",
       "      <td>26.533333</td>\n",
       "      <td>7.857143</td>\n",
       "      <td>15.824176</td>\n",
       "      <td>11.467836</td>\n",
       "      <td>7.676471</td>\n",
       "      <td>3.563636</td>\n",
       "      <td>6.878788</td>\n",
       "      <td>6.845588</td>\n",
       "      <td>34.666667</td>\n",
       "      <td>18.730769</td>\n",
       "    </tr>\n",
       "    <tr>\n",
       "      <th>Sacramento Kings</th>\n",
       "      <td>26.000000</td>\n",
       "      <td>24.777778</td>\n",
       "      <td>24.400000</td>\n",
       "      <td>25.555556</td>\n",
       "      <td>27.000000</td>\n",
       "      <td>27.235294</td>\n",
       "      <td>26.923077</td>\n",
       "      <td>27.320000</td>\n",
       "      <td>28.555556</td>\n",
       "      <td>25.391304</td>\n",
       "      <td>...</td>\n",
       "      <td>7.600000</td>\n",
       "      <td>6.212418</td>\n",
       "      <td>8.985755</td>\n",
       "      <td>28.279412</td>\n",
       "      <td>12.397436</td>\n",
       "      <td>17.523333</td>\n",
       "      <td>48.290850</td>\n",
       "      <td>12.529644</td>\n",
       "      <td>12.079710</td>\n",
       "      <td>8.505747</td>\n",
       "    </tr>\n",
       "    <tr>\n",
       "      <th>San Antonio Spurs</th>\n",
       "      <td>30.083333</td>\n",
       "      <td>26.583333</td>\n",
       "      <td>26.923077</td>\n",
       "      <td>26.529412</td>\n",
       "      <td>27.692308</td>\n",
       "      <td>27.470588</td>\n",
       "      <td>30.818182</td>\n",
       "      <td>28.250000</td>\n",
       "      <td>28.600000</td>\n",
       "      <td>30.428571</td>\n",
       "      <td>...</td>\n",
       "      <td>18.923077</td>\n",
       "      <td>16.404412</td>\n",
       "      <td>16.576923</td>\n",
       "      <td>64.691176</td>\n",
       "      <td>28.398268</td>\n",
       "      <td>35.696970</td>\n",
       "      <td>34.638095</td>\n",
       "      <td>35.230769</td>\n",
       "      <td>22.489011</td>\n",
       "      <td>26.558824</td>\n",
       "    </tr>\n",
       "    <tr>\n",
       "      <th>Toronto Raptors</th>\n",
       "      <td>24.200000</td>\n",
       "      <td>24.083333</td>\n",
       "      <td>27.071429</td>\n",
       "      <td>25.937500</td>\n",
       "      <td>25.666667</td>\n",
       "      <td>26.100000</td>\n",
       "      <td>26.133333</td>\n",
       "      <td>26.529412</td>\n",
       "      <td>24.529412</td>\n",
       "      <td>28.352941</td>\n",
       "      <td>...</td>\n",
       "      <td>11.192308</td>\n",
       "      <td>7.195833</td>\n",
       "      <td>4.771242</td>\n",
       "      <td>8.544444</td>\n",
       "      <td>8.123810</td>\n",
       "      <td>14.720588</td>\n",
       "      <td>16.375000</td>\n",
       "      <td>13.507353</td>\n",
       "      <td>16.862637</td>\n",
       "      <td>8.361905</td>\n",
       "    </tr>\n",
       "    <tr>\n",
       "      <th>Utah Jazz</th>\n",
       "      <td>25.200000</td>\n",
       "      <td>26.769231</td>\n",
       "      <td>25.923077</td>\n",
       "      <td>25.636364</td>\n",
       "      <td>25.400000</td>\n",
       "      <td>24.222222</td>\n",
       "      <td>24.666667</td>\n",
       "      <td>26.428571</td>\n",
       "      <td>26.777778</td>\n",
       "      <td>29.076923</td>\n",
       "      <td>...</td>\n",
       "      <td>13.769231</td>\n",
       "      <td>12.600000</td>\n",
       "      <td>13.377778</td>\n",
       "      <td>8.179487</td>\n",
       "      <td>3.712418</td>\n",
       "      <td>18.593407</td>\n",
       "      <td>11.388889</td>\n",
       "      <td>31.166667</td>\n",
       "      <td>19.895833</td>\n",
       "      <td>22.066667</td>\n",
       "    </tr>\n",
       "    <tr>\n",
       "      <th>Washington Wizards</th>\n",
       "      <td>28.181818</td>\n",
       "      <td>26.678571</td>\n",
       "      <td>26.285714</td>\n",
       "      <td>26.681818</td>\n",
       "      <td>26.142857</td>\n",
       "      <td>28.066667</td>\n",
       "      <td>27.571429</td>\n",
       "      <td>25.500000</td>\n",
       "      <td>27.714286</td>\n",
       "      <td>26.538462</td>\n",
       "      <td>...</td>\n",
       "      <td>15.653846</td>\n",
       "      <td>13.967532</td>\n",
       "      <td>17.142857</td>\n",
       "      <td>14.171429</td>\n",
       "      <td>11.400000</td>\n",
       "      <td>8.408497</td>\n",
       "      <td>9.802198</td>\n",
       "      <td>17.015385</td>\n",
       "      <td>15.463158</td>\n",
       "      <td>15.241830</td>\n",
       "    </tr>\n",
       "  </tbody>\n",
       "</table>\n",
       "<p>30 rows × 36 columns</p>\n",
       "</div>"
      ],
      "text/plain": [
       "                              age                                              \\\n",
       "season                    2009-10    2010-11    2011-12    2012-13    2013-14   \n",
       "team_name                                                                       \n",
       "Atlanta Hawks           27.083333  27.187500  27.538462  28.850000  25.846154   \n",
       "Boston Celtics          26.187500  25.000000  26.000000  25.875000  25.466667   \n",
       "Brooklyn Nets           26.833333  26.066667  26.750000  28.250000  28.600000   \n",
       "Charlotte Hornets       25.428571  25.105263  25.687500  25.315789  26.133333   \n",
       "Chicago Bulls           26.944444  27.300000  29.000000  27.428571  26.800000   \n",
       "Cleveland Cavaliers     26.526316  25.857143  24.833333  24.840000  24.083333   \n",
       "Dallas Mavericks        29.125000  28.307692  29.900000  30.217391  29.250000   \n",
       "Denver Nuggets          28.142857  25.052632  26.500000  25.571429  26.941176   \n",
       "Detroit Pistons         26.166667  26.000000  27.071429  26.142857  26.166667   \n",
       "Golden State Warriors   25.764706  26.294118  24.555556  26.166667  25.785714   \n",
       "Houston Rockets         25.863636  25.611111  24.500000  25.111111  26.846154   \n",
       "Indiana Pacers          26.875000  26.375000  26.545455  25.857143  26.500000   \n",
       "Los Angeles Clippers    26.350000  26.388889  27.388889  29.888889  28.000000   \n",
       "Los Angeles Lakers      27.400000  29.333333  29.133333  28.181818  29.600000   \n",
       "Memphis Grizzlies       24.944444  25.571429  25.941176  25.777778  27.785714   \n",
       "Miami Heat              28.000000  30.833333  28.000000  28.615385  30.250000   \n",
       "Milwaukee Bucks         27.600000  26.750000  27.117647  27.176471  26.666667   \n",
       "Minnesota Timberwolves  25.000000  23.500000  24.692308  25.944444  24.466667   \n",
       "New Orleans Pelicans    26.875000  27.000000  24.666667  24.615385  24.363636   \n",
       "New York Knicks         26.384615  27.900000  27.333333  29.444444  29.846154   \n",
       "Oklahoma City Thunder   23.733333  25.461538  25.615385  27.687500  26.545455   \n",
       "Orlando Magic           27.555556  27.133333  26.250000  25.350000  25.785714   \n",
       "Philadelphia 76ers      23.923077  25.181818  25.800000  25.136364  25.055556   \n",
       "Phoenix Suns            25.625000  28.076923  27.909091  25.466667  27.066667   \n",
       "Portland Trail Blazers  26.866667  26.153846  27.000000  24.666667  25.714286   \n",
       "Sacramento Kings        26.000000  24.777778  24.400000  25.555556  27.000000   \n",
       "San Antonio Spurs       30.083333  26.583333  26.923077  26.529412  27.692308   \n",
       "Toronto Raptors         24.200000  24.083333  27.071429  25.937500  25.666667   \n",
       "Utah Jazz               25.200000  26.769231  25.923077  25.636364  25.400000   \n",
       "Washington Wizards      28.181818  26.678571  26.285714  26.681818  26.142857   \n",
       "\n",
       "                                                                               \\\n",
       "season                    2014-15    2015-16    2016-17    2017-18    2018-19   \n",
       "team_name                                                                       \n",
       "Atlanta Hawks           27.941176  29.176471  30.576923  28.000000  27.105263   \n",
       "Boston Celtics          26.291667  26.857143  25.571429  24.615385  26.437500   \n",
       "Brooklyn Nets           26.785714  27.315789  26.343750  26.041667  26.409091   \n",
       "Charlotte Hornets       26.086957  26.058824  26.000000  25.133333  26.375000   \n",
       "Chicago Bulls           28.818182  27.588235  26.000000  26.833333  25.227273   \n",
       "Cleveland Cavaliers     28.000000  28.812500  30.545455  28.217391  25.692308   \n",
       "Dallas Mavericks        28.100000  29.944444  26.900000  26.875000  28.666667   \n",
       "Denver Nuggets          26.400000  25.857143  25.350000  28.789474  24.583333   \n",
       "Detroit Pistons         27.272727  25.944444  25.083333  27.650000  25.826087   \n",
       "Golden State Warriors   27.384615  28.153846  29.533333  29.384615  28.363636   \n",
       "Houston Rockets         28.357143  27.666667  28.428571  29.900000  28.823529   \n",
       "Indiana Pacers          28.000000  26.388889  27.125000  27.937500  27.263158   \n",
       "Los Angeles Clippers    28.294118  29.384615  30.250000  27.055556  27.761905   \n",
       "Los Angeles Lakers      25.384615  26.909091  26.909091  26.250000  27.090909   \n",
       "Memphis Grizzlies       27.647059  27.866667  27.812500  25.937500  26.400000   \n",
       "Miami Heat              27.888889  30.066667  26.117647  28.388889  28.785714   \n",
       "Milwaukee Bucks         24.965517  23.750000  25.588235  26.714286  28.875000   \n",
       "Minnesota Timberwolves  24.937500  28.125000  25.235294  27.411765  27.526316   \n",
       "New Orleans Pelicans    25.444444  25.826087  25.969697  26.428571  26.481481   \n",
       "New York Knicks         26.640000  26.416667  27.142857  25.761905  25.185185   \n",
       "Oklahoma City Thunder   25.440000  27.133333  26.458333  27.600000  26.571429   \n",
       "Orlando Magic           25.266667  25.142857  25.416667  25.000000  25.105263   \n",
       "Philadelphia 76ers      23.960000  25.166667  26.000000  27.523810  27.633333   \n",
       "Phoenix Suns            25.964286  25.838710  25.000000  23.571429  26.379310   \n",
       "Portland Trail Blazers  26.473684  25.777778  24.363636  25.000000  25.411765   \n",
       "Sacramento Kings        27.235294  26.923077  27.320000  28.555556  25.391304   \n",
       "San Antonio Spurs       27.470588  30.818182  28.250000  28.600000  30.428571   \n",
       "Toronto Raptors         26.100000  26.133333  26.529412  24.529412  28.352941   \n",
       "Utah Jazz               24.222222  24.666667  26.428571  26.777778  29.076923   \n",
       "Washington Wizards      28.066667  27.571429  25.500000  27.714286  26.538462   \n",
       "\n",
       "                        ...    var_exp                                   \\\n",
       "season                  ...    2011-12    2012-13    2013-14    2014-15   \n",
       "team_name               ...                                               \n",
       "Atlanta Hawks           ...  24.423077  12.947368  17.423077  16.345588   \n",
       "Boston Celtics          ...  21.500000  18.333333  11.600000  11.288043   \n",
       "Brooklyn Nets           ...  11.450000  20.969697  23.433333  15.961538   \n",
       "Charlotte Hornets       ...  56.062500  54.426901  11.066667  16.260870   \n",
       "Chicago Bulls           ...  11.089744  16.571429  17.857143  21.963636   \n",
       "Cleveland Cavaliers     ...  20.447712   7.810000   7.424242  21.830065   \n",
       "Dallas Mavericks        ...  22.677778  31.754941  31.174242  23.536842   \n",
       "Denver Nuggets          ...  19.054945  14.571429  20.257353  13.973333   \n",
       "Detroit Pistons         ...  13.873626  15.076923  19.901515  16.432900   \n",
       "Golden State Warriors   ...   6.970588  12.969697   8.181319  14.025641   \n",
       "Houston Rockets         ...   5.911765   8.712251   6.910256  16.691799   \n",
       "Indiana Pacers          ...  13.054545   6.642857   8.109890  10.931818   \n",
       "Los Angeles Clippers    ...  18.852941  18.944444  17.358974  10.941176   \n",
       "Los Angeles Lakers      ...  26.600000  21.563636  10.266667   8.910256   \n",
       "Memphis Grizzlies       ...   9.441176  12.722222  12.109890  24.639706   \n",
       "Miami Heat              ...  19.142857  25.269231  19.553571  23.176471   \n",
       "Milwaukee Bucks         ...  15.183824  12.220588  13.885714  13.310345   \n",
       "Minnesota Timberwolves  ...  13.756410  12.264706   6.523810   6.895833   \n",
       "New Orleans Pelicans    ...   5.695238  18.397436   3.090909   1.163399   \n",
       "New York Knicks         ...  23.257143  29.000000  19.576923  18.090000   \n",
       "Oklahoma City Thunder   ...  12.256410  30.116667  26.018182   8.940000   \n",
       "Orlando Magic           ...  18.729167  19.905263  17.956044  17.923810   \n",
       "Philadelphia 76ers      ...  20.677778  14.738095   6.352941   8.110000   \n",
       "Phoenix Suns            ...  12.018182   6.495238  13.552381   9.802910   \n",
       "Portland Trail Blazers  ...  26.533333   7.857143  15.824176  11.467836   \n",
       "Sacramento Kings        ...   7.600000   6.212418   8.985755  28.279412   \n",
       "San Antonio Spurs       ...  18.923077  16.404412  16.576923  64.691176   \n",
       "Toronto Raptors         ...  11.192308   7.195833   4.771242   8.544444   \n",
       "Utah Jazz               ...  13.769231  12.600000  13.377778   8.179487   \n",
       "Washington Wizards      ...  15.653846  13.967532  17.142857  14.171429   \n",
       "\n",
       "                                                                               \\\n",
       "season                    2015-16    2016-17    2017-18    2018-19    2019-20   \n",
       "team_name                                                                       \n",
       "Atlanta Hawks           17.514706  25.755385  30.471053  36.649123  27.114379   \n",
       "Boston Celtics          13.785714  14.417582  10.141026  12.200000  10.901099   \n",
       "Brooklyn Nets           25.134503  12.447581   5.818841  11.290043  10.235294   \n",
       "Charlotte Hornets        8.382353  17.154412  17.238095  22.466667  26.264706   \n",
       "Chicago Bulls           20.970588  15.163743  18.593103  11.523810  12.011111   \n",
       "Cleveland Cavaliers     24.062500  15.212121  20.347826  11.766154  17.153595   \n",
       "Dallas Mavericks        20.104575  21.075862  23.429167  27.790850   9.441176   \n",
       "Denver Nuggets          12.100000  18.778947  27.807018  10.628788   8.994505   \n",
       "Detroit Pistons         13.794118  10.446970  15.313158  18.992095   8.682540   \n",
       "Golden State Warriors   11.076923  21.028571  18.564103  22.272727   9.720588   \n",
       "Houston Rockets         16.433333  22.379121  29.736842  13.779412  14.679842   \n",
       "Indiana Pacers           9.516340  11.562500  13.400000  10.894737   5.424242   \n",
       "Los Angeles Clippers     9.730769   9.659091   7.058824  20.800000  12.982456   \n",
       "Los Angeles Lakers      30.000000  24.831169  20.869565  30.798701  17.081579   \n",
       "Memphis Grizzlies       26.074713  32.895833  12.250000  17.610345  17.655385   \n",
       "Miami Heat              24.352381  13.992647  22.918301  22.115385  22.810458   \n",
       "Milwaukee Bucks          6.562500  18.308824  11.068783  25.505435  24.892105   \n",
       "Minnesota Timberwolves  41.850000   7.029412  16.875000  14.690058   9.761538   \n",
       "New Orleans Pelicans     5.474308  40.329545   7.719780   9.250712  20.242424   \n",
       "New York Knicks         14.022727  15.565934  16.361905  11.823362  11.029167   \n",
       "Oklahoma City Thunder   14.095238  60.896739  17.838095  16.181319  19.324176   \n",
       "Orlando Magic           11.461905   9.545455  11.495238   8.385965   8.552381   \n",
       "Philadelphia 76ers      13.432971  12.290850  18.933333  12.350575   9.693841   \n",
       "Phoenix Suns            15.636559  13.081579   5.763736  23.184729  13.857143   \n",
       "Portland Trail Blazers   7.676471   3.563636   6.878788   6.845588  34.666667   \n",
       "Sacramento Kings        12.397436  17.523333  48.290850  12.529644  12.079710   \n",
       "San Antonio Spurs       28.398268  35.696970  34.638095  35.230769  22.489011   \n",
       "Toronto Raptors          8.123810  14.720588  16.375000  13.507353  16.862637   \n",
       "Utah Jazz                3.712418  18.593407  11.388889  31.166667  19.895833   \n",
       "Washington Wizards      11.400000   8.408497   9.802198  17.015385  15.463158   \n",
       "\n",
       "                                   \n",
       "season                    2020-21  \n",
       "team_name                          \n",
       "Atlanta Hawks           30.650000  \n",
       "Boston Celtics           9.547619  \n",
       "Brooklyn Nets           20.348485  \n",
       "Charlotte Hornets       13.647059  \n",
       "Chicago Bulls           16.050000  \n",
       "Cleveland Cavaliers      7.458462  \n",
       "Dallas Mavericks        24.071429  \n",
       "Denver Nuggets          17.673203  \n",
       "Detroit Pistons         15.693841  \n",
       "Golden State Warriors   14.044444  \n",
       "Houston Rockets         14.240230  \n",
       "Indiana Pacers           4.725275  \n",
       "Los Angeles Clippers    17.890476  \n",
       "Los Angeles Lakers      14.526144  \n",
       "Memphis Grizzlies        6.929167  \n",
       "Miami Heat              22.300654  \n",
       "Milwaukee Bucks         25.133333  \n",
       "Minnesota Timberwolves   6.576923  \n",
       "New Orleans Pelicans    15.500000  \n",
       "New York Knicks         21.000000  \n",
       "Oklahoma City Thunder   13.800866  \n",
       "Orlando Magic           11.710227  \n",
       "Philadelphia 76ers      27.066176  \n",
       "Phoenix Suns            13.295833  \n",
       "Portland Trail Blazers  18.730769  \n",
       "Sacramento Kings         8.505747  \n",
       "San Antonio Spurs       26.558824  \n",
       "Toronto Raptors          8.361905  \n",
       "Utah Jazz               22.066667  \n",
       "Washington Wizards      15.241830  \n",
       "\n",
       "[30 rows x 36 columns]"
      ]
     },
     "execution_count": 463,
     "metadata": {},
     "output_type": "execute_result"
    }
   ],
   "source": [
    "df_cross_tab = df_team_age_exp.pivot(index=[\"team_name\"], columns=[\"season\"], values=[\"age\", \"mean_exp\", \"var_exp\"])\n",
    "print(\"Statistics of teams per season (cross-tabulated):\")\n",
    "df_cross_tab"
   ]
  },
  {
   "cell_type": "markdown",
   "metadata": {},
   "source": [
    "### Question 5: What other data from the website can you use to explain salary? Produce a table of summary statistics for key variables you shall use in your analysis in the following Part C. Summary statistics should include at least sample average, standard deviation, min/max. (5 points)"
   ]
  },
  {
   "cell_type": "markdown",
   "metadata": {},
   "source": [
    "Other data used to explain Salary"
   ]
  },
  {
   "cell_type": "markdown",
   "metadata": {},
   "source": [
    "One hot encode for column \"pos\""
   ]
  },
  {
   "cell_type": "code",
   "execution_count": 464,
   "metadata": {},
   "outputs": [],
   "source": [
    "pos_dummies = pd.get_dummies(df_main[\"pos\"])\n",
    "df_main = df_main.merge(pos_dummies,\n",
    "              how=\"inner\",\n",
    "              left_index=True,\n",
    "              right_index=True).reset_index(drop=True)"
   ]
  },
  {
   "cell_type": "markdown",
   "metadata": {},
   "source": [
    "One hot encode for column \"season_year\""
   ]
  },
  {
   "cell_type": "code",
   "execution_count": 465,
   "metadata": {},
   "outputs": [],
   "source": [
    "season_year_dummies = pd.get_dummies(df_main[\"season_year\"].astype(int).astype(str))\n",
    "df_main = df_main.merge(season_year_dummies,\n",
    "              how=\"inner\",\n",
    "              left_index=True,\n",
    "              right_index=True).reset_index(drop=True)"
   ]
  },
  {
   "cell_type": "markdown",
   "metadata": {},
   "source": [
    "Key columns"
   ]
  },
  {
   "cell_type": "code",
   "execution_count": 466,
   "metadata": {},
   "outputs": [],
   "source": [
    "key_cols = list(df_main.columns)\n",
    "key_cols.remove(\"age\")\n",
    "key_cols.remove(\"total_salary\")\n",
    "key_cols.remove(\"player\")\n",
    "key_cols.remove(\"season\")\n",
    "key_cols.remove(\"season_year\")\n",
    "key_cols.remove(\"team_name\")\n",
    "key_cols.remove(\"pos\")\n",
    "key_cols.remove(\"start_year\")\n",
    "key_cols.remove(\"full_team_name\")\n",
    "key_cols.remove(\"latest_year\")\n",
    "key_cols.remove(\"team_location\")\n",
    "key_cols.remove(\"experience\")\n",
    "key_cols.remove(\"team_total_seasons\")\n",
    "key_cols.remove(\"team_championships\")\n",
    "key_cols.remove(\"team_playoff_appearances\")\n",
    "key_cols.remove(\"team_g\")\n",
    "key_cols.remove(\"team_mp\")\n",
    "key_cols.remove(\"team_record\")\n",
    "key_cols.remove(\"team_fg\")\n",
    "key_cols.remove(\"tm\")"
   ]
  },
  {
   "cell_type": "code",
   "execution_count": 467,
   "metadata": {},
   "outputs": [],
   "source": [
    "df_final = df_main.loc[:, key_cols]"
   ]
  },
  {
   "cell_type": "markdown",
   "metadata": {},
   "source": [
    "Summary Statistics of Variables"
   ]
  },
  {
   "cell_type": "code",
   "execution_count": 580,
   "metadata": {},
   "outputs": [
    {
     "name": "stdout",
     "output_type": "stream",
     "text": [
      "Summary statistics:\n"
     ]
    },
    {
     "data": {
      "text/html": [
       "<div>\n",
       "<style scoped>\n",
       "    .dataframe tbody tr th:only-of-type {\n",
       "        vertical-align: middle;\n",
       "    }\n",
       "\n",
       "    .dataframe tbody tr th {\n",
       "        vertical-align: top;\n",
       "    }\n",
       "\n",
       "    .dataframe thead th {\n",
       "        text-align: right;\n",
       "    }\n",
       "</style>\n",
       "<table border=\"1\" class=\"dataframe\">\n",
       "  <thead>\n",
       "    <tr style=\"text-align: right;\">\n",
       "      <th></th>\n",
       "      <th>salary</th>\n",
       "      <th>g</th>\n",
       "      <th>gs</th>\n",
       "      <th>mp</th>\n",
       "      <th>fg</th>\n",
       "      <th>fga</th>\n",
       "      <th>fg%</th>\n",
       "      <th>3p</th>\n",
       "      <th>3pa</th>\n",
       "      <th>3p%</th>\n",
       "      <th>...</th>\n",
       "      <th>2011</th>\n",
       "      <th>2012</th>\n",
       "      <th>2013</th>\n",
       "      <th>2014</th>\n",
       "      <th>2015</th>\n",
       "      <th>2016</th>\n",
       "      <th>2017</th>\n",
       "      <th>2018</th>\n",
       "      <th>2019</th>\n",
       "      <th>2020</th>\n",
       "    </tr>\n",
       "  </thead>\n",
       "  <tbody>\n",
       "    <tr>\n",
       "      <th>count</th>\n",
       "      <td>6.182000e+03</td>\n",
       "      <td>6182.000000</td>\n",
       "      <td>6182.000000</td>\n",
       "      <td>6182.000000</td>\n",
       "      <td>6182.000000</td>\n",
       "      <td>6182.000000</td>\n",
       "      <td>6182.000000</td>\n",
       "      <td>6182.000000</td>\n",
       "      <td>6182.000000</td>\n",
       "      <td>6182.000000</td>\n",
       "      <td>...</td>\n",
       "      <td>6182.000000</td>\n",
       "      <td>6182.000000</td>\n",
       "      <td>6182.000000</td>\n",
       "      <td>6182.000000</td>\n",
       "      <td>6182.000000</td>\n",
       "      <td>6182.000000</td>\n",
       "      <td>6182.000000</td>\n",
       "      <td>6182.000000</td>\n",
       "      <td>6182.000000</td>\n",
       "      <td>6182.000000</td>\n",
       "    </tr>\n",
       "    <tr>\n",
       "      <th>mean</th>\n",
       "      <td>5.469368e+06</td>\n",
       "      <td>48.423002</td>\n",
       "      <td>22.844387</td>\n",
       "      <td>21.196182</td>\n",
       "      <td>3.297638</td>\n",
       "      <td>7.425655</td>\n",
       "      <td>0.435660</td>\n",
       "      <td>0.830767</td>\n",
       "      <td>2.372841</td>\n",
       "      <td>0.299397</td>\n",
       "      <td>...</td>\n",
       "      <td>0.067777</td>\n",
       "      <td>0.079262</td>\n",
       "      <td>0.067130</td>\n",
       "      <td>0.093497</td>\n",
       "      <td>0.087836</td>\n",
       "      <td>0.089939</td>\n",
       "      <td>0.087997</td>\n",
       "      <td>0.098188</td>\n",
       "      <td>0.087512</td>\n",
       "      <td>0.093012</td>\n",
       "    </tr>\n",
       "    <tr>\n",
       "      <th>std</th>\n",
       "      <td>6.442880e+06</td>\n",
       "      <td>23.960359</td>\n",
       "      <td>26.778213</td>\n",
       "      <td>8.626955</td>\n",
       "      <td>2.039023</td>\n",
       "      <td>4.278260</td>\n",
       "      <td>0.074927</td>\n",
       "      <td>0.741982</td>\n",
       "      <td>1.911411</td>\n",
       "      <td>0.138457</td>\n",
       "      <td>...</td>\n",
       "      <td>0.251384</td>\n",
       "      <td>0.270170</td>\n",
       "      <td>0.250268</td>\n",
       "      <td>0.291152</td>\n",
       "      <td>0.283079</td>\n",
       "      <td>0.286117</td>\n",
       "      <td>0.283314</td>\n",
       "      <td>0.297593</td>\n",
       "      <td>0.282607</td>\n",
       "      <td>0.290473</td>\n",
       "    </tr>\n",
       "    <tr>\n",
       "      <th>min</th>\n",
       "      <td>4.608000e+03</td>\n",
       "      <td>1.000000</td>\n",
       "      <td>0.000000</td>\n",
       "      <td>2.100000</td>\n",
       "      <td>0.000000</td>\n",
       "      <td>0.400000</td>\n",
       "      <td>0.000000</td>\n",
       "      <td>0.000000</td>\n",
       "      <td>0.000000</td>\n",
       "      <td>0.000000</td>\n",
       "      <td>...</td>\n",
       "      <td>0.000000</td>\n",
       "      <td>0.000000</td>\n",
       "      <td>0.000000</td>\n",
       "      <td>0.000000</td>\n",
       "      <td>0.000000</td>\n",
       "      <td>0.000000</td>\n",
       "      <td>0.000000</td>\n",
       "      <td>0.000000</td>\n",
       "      <td>0.000000</td>\n",
       "      <td>0.000000</td>\n",
       "    </tr>\n",
       "    <tr>\n",
       "      <th>25%</th>\n",
       "      <td>1.227985e+06</td>\n",
       "      <td>27.000000</td>\n",
       "      <td>1.000000</td>\n",
       "      <td>14.400000</td>\n",
       "      <td>1.700000</td>\n",
       "      <td>4.100000</td>\n",
       "      <td>0.399000</td>\n",
       "      <td>0.200000</td>\n",
       "      <td>0.800000</td>\n",
       "      <td>0.256000</td>\n",
       "      <td>...</td>\n",
       "      <td>0.000000</td>\n",
       "      <td>0.000000</td>\n",
       "      <td>0.000000</td>\n",
       "      <td>0.000000</td>\n",
       "      <td>0.000000</td>\n",
       "      <td>0.000000</td>\n",
       "      <td>0.000000</td>\n",
       "      <td>0.000000</td>\n",
       "      <td>0.000000</td>\n",
       "      <td>0.000000</td>\n",
       "    </tr>\n",
       "    <tr>\n",
       "      <th>50%</th>\n",
       "      <td>2.967060e+06</td>\n",
       "      <td>52.000000</td>\n",
       "      <td>10.000000</td>\n",
       "      <td>21.000000</td>\n",
       "      <td>2.900000</td>\n",
       "      <td>6.600000</td>\n",
       "      <td>0.434000</td>\n",
       "      <td>0.700000</td>\n",
       "      <td>2.100000</td>\n",
       "      <td>0.333000</td>\n",
       "      <td>...</td>\n",
       "      <td>0.000000</td>\n",
       "      <td>0.000000</td>\n",
       "      <td>0.000000</td>\n",
       "      <td>0.000000</td>\n",
       "      <td>0.000000</td>\n",
       "      <td>0.000000</td>\n",
       "      <td>0.000000</td>\n",
       "      <td>0.000000</td>\n",
       "      <td>0.000000</td>\n",
       "      <td>0.000000</td>\n",
       "    </tr>\n",
       "    <tr>\n",
       "      <th>75%</th>\n",
       "      <td>7.420912e+06</td>\n",
       "      <td>70.000000</td>\n",
       "      <td>42.000000</td>\n",
       "      <td>28.200000</td>\n",
       "      <td>4.500000</td>\n",
       "      <td>10.000000</td>\n",
       "      <td>0.473000</td>\n",
       "      <td>1.300000</td>\n",
       "      <td>3.500000</td>\n",
       "      <td>0.375000</td>\n",
       "      <td>...</td>\n",
       "      <td>0.000000</td>\n",
       "      <td>0.000000</td>\n",
       "      <td>0.000000</td>\n",
       "      <td>0.000000</td>\n",
       "      <td>0.000000</td>\n",
       "      <td>0.000000</td>\n",
       "      <td>0.000000</td>\n",
       "      <td>0.000000</td>\n",
       "      <td>0.000000</td>\n",
       "      <td>0.000000</td>\n",
       "    </tr>\n",
       "    <tr>\n",
       "      <th>max</th>\n",
       "      <td>4.300636e+07</td>\n",
       "      <td>83.000000</td>\n",
       "      <td>82.000000</td>\n",
       "      <td>41.400000</td>\n",
       "      <td>11.200000</td>\n",
       "      <td>24.500000</td>\n",
       "      <td>0.833000</td>\n",
       "      <td>5.300000</td>\n",
       "      <td>13.200000</td>\n",
       "      <td>1.000000</td>\n",
       "      <td>...</td>\n",
       "      <td>1.000000</td>\n",
       "      <td>1.000000</td>\n",
       "      <td>1.000000</td>\n",
       "      <td>1.000000</td>\n",
       "      <td>1.000000</td>\n",
       "      <td>1.000000</td>\n",
       "      <td>1.000000</td>\n",
       "      <td>1.000000</td>\n",
       "      <td>1.000000</td>\n",
       "      <td>1.000000</td>\n",
       "    </tr>\n",
       "  </tbody>\n",
       "</table>\n",
       "<p>8 rows × 78 columns</p>\n",
       "</div>"
      ],
      "text/plain": [
       "             salary            g           gs           mp           fg  \\\n",
       "count  6.182000e+03  6182.000000  6182.000000  6182.000000  6182.000000   \n",
       "mean   5.469368e+06    48.423002    22.844387    21.196182     3.297638   \n",
       "std    6.442880e+06    23.960359    26.778213     8.626955     2.039023   \n",
       "min    4.608000e+03     1.000000     0.000000     2.100000     0.000000   \n",
       "25%    1.227985e+06    27.000000     1.000000    14.400000     1.700000   \n",
       "50%    2.967060e+06    52.000000    10.000000    21.000000     2.900000   \n",
       "75%    7.420912e+06    70.000000    42.000000    28.200000     4.500000   \n",
       "max    4.300636e+07    83.000000    82.000000    41.400000    11.200000   \n",
       "\n",
       "               fga          fg%           3p          3pa          3p%  ...  \\\n",
       "count  6182.000000  6182.000000  6182.000000  6182.000000  6182.000000  ...   \n",
       "mean      7.425655     0.435660     0.830767     2.372841     0.299397  ...   \n",
       "std       4.278260     0.074927     0.741982     1.911411     0.138457  ...   \n",
       "min       0.400000     0.000000     0.000000     0.000000     0.000000  ...   \n",
       "25%       4.100000     0.399000     0.200000     0.800000     0.256000  ...   \n",
       "50%       6.600000     0.434000     0.700000     2.100000     0.333000  ...   \n",
       "75%      10.000000     0.473000     1.300000     3.500000     0.375000  ...   \n",
       "max      24.500000     0.833000     5.300000    13.200000     1.000000  ...   \n",
       "\n",
       "              2011         2012         2013         2014         2015  \\\n",
       "count  6182.000000  6182.000000  6182.000000  6182.000000  6182.000000   \n",
       "mean      0.067777     0.079262     0.067130     0.093497     0.087836   \n",
       "std       0.251384     0.270170     0.250268     0.291152     0.283079   \n",
       "min       0.000000     0.000000     0.000000     0.000000     0.000000   \n",
       "25%       0.000000     0.000000     0.000000     0.000000     0.000000   \n",
       "50%       0.000000     0.000000     0.000000     0.000000     0.000000   \n",
       "75%       0.000000     0.000000     0.000000     0.000000     0.000000   \n",
       "max       1.000000     1.000000     1.000000     1.000000     1.000000   \n",
       "\n",
       "              2016         2017         2018         2019         2020  \n",
       "count  6182.000000  6182.000000  6182.000000  6182.000000  6182.000000  \n",
       "mean      0.089939     0.087997     0.098188     0.087512     0.093012  \n",
       "std       0.286117     0.283314     0.297593     0.282607     0.290473  \n",
       "min       0.000000     0.000000     0.000000     0.000000     0.000000  \n",
       "25%       0.000000     0.000000     0.000000     0.000000     0.000000  \n",
       "50%       0.000000     0.000000     0.000000     0.000000     0.000000  \n",
       "75%       0.000000     0.000000     0.000000     0.000000     0.000000  \n",
       "max       1.000000     1.000000     1.000000     1.000000     1.000000  \n",
       "\n",
       "[8 rows x 78 columns]"
      ]
     },
     "execution_count": 580,
     "metadata": {},
     "output_type": "execute_result"
    }
   ],
   "source": [
    "print(\"Summary statistics:\")\n",
    "df_final.describe()"
   ]
  },
  {
   "cell_type": "code",
   "execution_count": 469,
   "metadata": {},
   "outputs": [
    {
     "data": {
      "text/plain": [
       "Index(['salary', 'g', 'gs', 'mp', 'fg', 'fga', 'fg%', '3p', '3pa', '3p%', '2p',\n",
       "       '2pa', '2p%', 'efg%', 'ft', 'fta', 'ft%', 'orb', 'drb', 'trb', 'ast',\n",
       "       'stl', 'blk', 'tov', 'pf', 'pts', 'height', 'weight', 'experience_YTD',\n",
       "       'team_fga', 'team_fg%', 'team_3p', 'team_3pa', 'team_3p%', 'team_2p',\n",
       "       'team_2pa', 'team_2p%', 'team_ft', 'team_fta', 'team_ft%', 'team_orb',\n",
       "       'team_drb', 'team_trb', 'team_ast', 'team_stl', 'team_blk', 'team_tov',\n",
       "       'team_pf', 'team_pts', 'team_count', 'age_YTD', 'C', 'C-PF', 'PF',\n",
       "       'PF-C', 'PF-SF', 'PG', 'PG-SG', 'SF', 'SF-C', 'SF-PF', 'SF-SG', 'SG',\n",
       "       'SG-PF', 'SG-PG', 'SG-SF', '2009', '2010', '2011', '2012', '2013',\n",
       "       '2014', '2015', '2016', '2017', '2018', '2019', '2020'],\n",
       "      dtype='object')"
      ]
     },
     "execution_count": 469,
     "metadata": {},
     "output_type": "execute_result"
    }
   ],
   "source": [
    "df_final.columns\n",
    "df_final.to_csv(OUTPUT_FILE_FINAL,index=False)"
   ]
  },
  {
   "cell_type": "markdown",
   "metadata": {},
   "source": [
    "# Part C"
   ]
  },
  {
   "cell_type": "markdown",
   "metadata": {},
   "source": [
    "Understanding distribution of salary"
   ]
  },
  {
   "cell_type": "code",
   "execution_count": 470,
   "metadata": {},
   "outputs": [
    {
     "data": {
      "image/png": "[encoded data removed]",
      "text/plain": [
       "<Figure size 432x288 with 1 Axes>"
      ]
     },
     "metadata": {
      "needs_background": "light"
     },
     "output_type": "display_data"
    }
   ],
   "source": [
    "plt.hist(df_final[\"salary\"], bins=100)\n",
    "plt.show()"
   ]
  },
  {
   "cell_type": "markdown",
   "metadata": {},
   "source": [
    "## Question 1: Clustering. Which players are similar?"
   ]
  },
  {
   "cell_type": "markdown",
   "metadata": {},
   "source": [
    "### Question 1a: Apply \"k-means\" algorithm."
   ]
  },
  {
   "cell_type": "markdown",
   "metadata": {},
   "source": [
    "Metric for evaluation: Silhouette Score\n",
    "    \n",
    "    Silhouette Coefficient = (x-y)/ max(x,y)\n",
    "    where x = mean intercluster distance and y = mean intracluster distance"
   ]
  },
  {
   "cell_type": "markdown",
   "metadata": {},
   "source": [
    "Define cluster sizes"
   ]
  },
  {
   "cell_type": "code",
   "execution_count": 471,
   "metadata": {},
   "outputs": [],
   "source": [
    "n_clusters = range(2, 22)"
   ]
  },
  {
   "cell_type": "markdown",
   "metadata": {},
   "source": [
    "Form clusters using salary"
   ]
  },
  {
   "cell_type": "code",
   "execution_count": 472,
   "metadata": {},
   "outputs": [],
   "source": [
    "df_salary_clusters = df_final.loc[:, \"salary\"].to_frame()\n",
    "df_salary_kmeans = df_final.loc[:, \"salary\"].to_frame()"
   ]
  },
  {
   "cell_type": "markdown",
   "metadata": {},
   "source": [
    "Fit Kmeans to salary to identify optimal clusters"
   ]
  },
  {
   "cell_type": "code",
   "execution_count": 473,
   "metadata": {},
   "outputs": [],
   "source": [
    "for n_cluster in n_clusters:\n",
    "    kmeans = KMeans(n_clusters=n_cluster, random_state=0, max_iter=1000).fit(df_salary_kmeans)\n",
    "    df_salary_clusters[\"cluster_{}\".format(n_cluster)] = kmeans.labels_"
   ]
  },
  {
   "cell_type": "markdown",
   "metadata": {},
   "source": [
    "Evaluate similarity of salary clusters"
   ]
  },
  {
   "cell_type": "code",
   "execution_count": 474,
   "metadata": {},
   "outputs": [],
   "source": [
    "all_salary_scores = []\n",
    "\n",
    "for n_cluster in n_clusters:\n",
    "    score = silhouette_score(df_salary_clusters[\"salary\"].to_frame(), df_salary_clusters[\"cluster_{}\".format(n_cluster)])\n",
    "    all_salary_scores.append(score)"
   ]
  },
  {
   "cell_type": "code",
   "execution_count": 475,
   "metadata": {},
   "outputs": [
    {
     "data": {
      "text/plain": [
       "[0.7317497390791429,\n",
       " 0.6829984582277977,\n",
       " 0.643933940136239,\n",
       " 0.6044375743139744,\n",
       " 0.5920074097207878,\n",
       " 0.5964446091337381,\n",
       " 0.5688638549720192,\n",
       " 0.5706504515465296,\n",
       " 0.5489301775601618,\n",
       " 0.5476039280627018,\n",
       " 0.5488314086713463,\n",
       " 0.5489873720504765,\n",
       " 0.5381611197769763,\n",
       " 0.5412373661492274,\n",
       " 0.5569756482521401,\n",
       " 0.5507634346457312,\n",
       " 0.5503472696189785,\n",
       " 0.553292359360914,\n",
       " 0.5714521906978259,\n",
       " 0.5692830791212563]"
      ]
     },
     "execution_count": 475,
     "metadata": {},
     "output_type": "execute_result"
    }
   ],
   "source": [
    "all_salary_scores"
   ]
  },
  {
   "cell_type": "markdown",
   "metadata": {},
   "source": [
    "Get predictors"
   ]
  },
  {
   "cell_type": "code",
   "execution_count": 476,
   "metadata": {},
   "outputs": [],
   "source": [
    "df_kmeans = df_final.drop(columns=[\"salary\"])\n",
    "df_kmeans_clusters = df_final.drop(columns=[\"salary\"])\n",
    "df_kmeans_cols = df_kmeans.columns"
   ]
  },
  {
   "cell_type": "markdown",
   "metadata": {},
   "source": [
    "Normalize predictors"
   ]
  },
  {
   "cell_type": "code",
   "execution_count": 477,
   "metadata": {},
   "outputs": [],
   "source": [
    "scaler = StandardScaler()\n",
    "df_kmeans = pd.DataFrame(scaler.fit_transform(df_kmeans), columns=df_kmeans_cols)"
   ]
  },
  {
   "cell_type": "markdown",
   "metadata": {},
   "source": [
    "Random selection of predictors"
   ]
  },
  {
   "cell_type": "code",
   "execution_count": 478,
   "metadata": {},
   "outputs": [],
   "source": [
    "def _generate_random_predictors(df_kmeans):\n",
    "    size_pct = float(np.random.randint(low=0, high=100))/100\n",
    "    size = max(int(df_kmeans.shape[1] * size_pct), 1)\n",
    "    features = np.random.choice(list(df_kmeans.columns), size=size, replace=False)\n",
    "    \n",
    "    return df_kmeans.loc[:, features]"
   ]
  },
  {
   "cell_type": "markdown",
   "metadata": {},
   "source": [
    "Define number of random selections of predictors"
   ]
  },
  {
   "cell_type": "code",
   "execution_count": 479,
   "metadata": {},
   "outputs": [],
   "source": [
    "n_feature_selection = range(50)"
   ]
  },
  {
   "cell_type": "markdown",
   "metadata": {},
   "source": [
    "Fit Kmeans"
   ]
  },
  {
   "cell_type": "code",
   "execution_count": 480,
   "metadata": {},
   "outputs": [
    {
     "name": "stderr",
     "output_type": "stream",
     "text": [
      "<ipython-input-480-46bdee1f7861>:7: ConvergenceWarning: Number of distinct clusters (2) found smaller than n_clusters (3). Possibly due to duplicate points in X.\n",
      "  kmeans = KMeans(n_clusters=n_cluster, random_state=0, max_iter=1000).fit(df_features)\n",
      "<ipython-input-480-46bdee1f7861>:7: ConvergenceWarning: Number of distinct clusters (2) found smaller than n_clusters (4). Possibly due to duplicate points in X.\n",
      "  kmeans = KMeans(n_clusters=n_cluster, random_state=0, max_iter=1000).fit(df_features)\n",
      "<ipython-input-480-46bdee1f7861>:7: ConvergenceWarning: Number of distinct clusters (2) found smaller than n_clusters (5). Possibly due to duplicate points in X.\n",
      "  kmeans = KMeans(n_clusters=n_cluster, random_state=0, max_iter=1000).fit(df_features)\n",
      "<ipython-input-480-46bdee1f7861>:7: ConvergenceWarning: Number of distinct clusters (2) found smaller than n_clusters (6). Possibly due to duplicate points in X.\n",
      "  kmeans = KMeans(n_clusters=n_cluster, random_state=0, max_iter=1000).fit(df_features)\n",
      "<ipython-input-480-46bdee1f7861>:7: ConvergenceWarning: Number of distinct clusters (2) found smaller than n_clusters (7). Possibly due to duplicate points in X.\n",
      "  kmeans = KMeans(n_clusters=n_cluster, random_state=0, max_iter=1000).fit(df_features)\n",
      "<ipython-input-480-46bdee1f7861>:7: ConvergenceWarning: Number of distinct clusters (2) found smaller than n_clusters (8). Possibly due to duplicate points in X.\n",
      "  kmeans = KMeans(n_clusters=n_cluster, random_state=0, max_iter=1000).fit(df_features)\n",
      "<ipython-input-480-46bdee1f7861>:7: ConvergenceWarning: Number of distinct clusters (2) found smaller than n_clusters (9). Possibly due to duplicate points in X.\n",
      "  kmeans = KMeans(n_clusters=n_cluster, random_state=0, max_iter=1000).fit(df_features)\n",
      "<ipython-input-480-46bdee1f7861>:7: ConvergenceWarning: Number of distinct clusters (2) found smaller than n_clusters (10). Possibly due to duplicate points in X.\n",
      "  kmeans = KMeans(n_clusters=n_cluster, random_state=0, max_iter=1000).fit(df_features)\n",
      "<ipython-input-480-46bdee1f7861>:7: ConvergenceWarning: Number of distinct clusters (2) found smaller than n_clusters (11). Possibly due to duplicate points in X.\n",
      "  kmeans = KMeans(n_clusters=n_cluster, random_state=0, max_iter=1000).fit(df_features)\n",
      "<ipython-input-480-46bdee1f7861>:7: ConvergenceWarning: Number of distinct clusters (2) found smaller than n_clusters (12). Possibly due to duplicate points in X.\n",
      "  kmeans = KMeans(n_clusters=n_cluster, random_state=0, max_iter=1000).fit(df_features)\n",
      "<ipython-input-480-46bdee1f7861>:7: ConvergenceWarning: Number of distinct clusters (2) found smaller than n_clusters (13). Possibly due to duplicate points in X.\n",
      "  kmeans = KMeans(n_clusters=n_cluster, random_state=0, max_iter=1000).fit(df_features)\n",
      "<ipython-input-480-46bdee1f7861>:7: ConvergenceWarning: Number of distinct clusters (2) found smaller than n_clusters (14). Possibly due to duplicate points in X.\n",
      "  kmeans = KMeans(n_clusters=n_cluster, random_state=0, max_iter=1000).fit(df_features)\n",
      "<ipython-input-480-46bdee1f7861>:7: ConvergenceWarning: Number of distinct clusters (2) found smaller than n_clusters (15). Possibly due to duplicate points in X.\n",
      "  kmeans = KMeans(n_clusters=n_cluster, random_state=0, max_iter=1000).fit(df_features)\n",
      "<ipython-input-480-46bdee1f7861>:7: ConvergenceWarning: Number of distinct clusters (2) found smaller than n_clusters (16). Possibly due to duplicate points in X.\n",
      "  kmeans = KMeans(n_clusters=n_cluster, random_state=0, max_iter=1000).fit(df_features)\n",
      "<ipython-input-480-46bdee1f7861>:7: ConvergenceWarning: Number of distinct clusters (2) found smaller than n_clusters (17). Possibly due to duplicate points in X.\n",
      "  kmeans = KMeans(n_clusters=n_cluster, random_state=0, max_iter=1000).fit(df_features)\n",
      "<ipython-input-480-46bdee1f7861>:7: ConvergenceWarning: Number of distinct clusters (2) found smaller than n_clusters (18). Possibly due to duplicate points in X.\n",
      "  kmeans = KMeans(n_clusters=n_cluster, random_state=0, max_iter=1000).fit(df_features)\n",
      "<ipython-input-480-46bdee1f7861>:7: ConvergenceWarning: Number of distinct clusters (2) found smaller than n_clusters (19). Possibly due to duplicate points in X.\n",
      "  kmeans = KMeans(n_clusters=n_cluster, random_state=0, max_iter=1000).fit(df_features)\n",
      "<ipython-input-480-46bdee1f7861>:7: ConvergenceWarning: Number of distinct clusters (2) found smaller than n_clusters (20). Possibly due to duplicate points in X.\n",
      "  kmeans = KMeans(n_clusters=n_cluster, random_state=0, max_iter=1000).fit(df_features)\n",
      "<ipython-input-480-46bdee1f7861>:7: ConvergenceWarning: Number of distinct clusters (2) found smaller than n_clusters (21). Possibly due to duplicate points in X.\n",
      "  kmeans = KMeans(n_clusters=n_cluster, random_state=0, max_iter=1000).fit(df_features)\n"
     ]
    }
   ],
   "source": [
    "all_feature_clusters = []\n",
    "\n",
    "for i in n_feature_selection:\n",
    "    df_features = _generate_random_predictors(df_kmeans=df_kmeans)\n",
    "    \n",
    "    for n_cluster in n_clusters:\n",
    "        kmeans = KMeans(n_clusters=n_cluster, random_state=0, max_iter=1000).fit(df_features)\n",
    "        \n",
    "        feature_cluster = (list(df_features.columns), kmeans.labels_, n_cluster)\n",
    "        all_feature_clusters.append(feature_cluster)"
   ]
  },
  {
   "cell_type": "markdown",
   "metadata": {},
   "source": [
    "Evaluate similarity of players in clusters"
   ]
  },
  {
   "cell_type": "code",
   "execution_count": 481,
   "metadata": {},
   "outputs": [],
   "source": [
    "player_similarity = []\n",
    "salary_similarity = []\n",
    "\n",
    "for feature_cluster in all_feature_clusters:\n",
    "    df_subset = df_kmeans.loc[:, feature_cluster[0]]\n",
    "    player_score = silhouette_score(df_subset, feature_cluster[1])\n",
    "    salary_score = silhouette_score(df_salary_kmeans, feature_cluster[1])\n",
    "    \n",
    "    player_similarity.append([feature_cluster[0], feature_cluster[2], player_score])\n",
    "    salary_similarity.append([feature_cluster[0], feature_cluster[2], salary_score])"
   ]
  },
  {
   "cell_type": "markdown",
   "metadata": {},
   "source": [
    "Identify best combination"
   ]
  },
  {
   "cell_type": "code",
   "execution_count": 482,
   "metadata": {},
   "outputs": [],
   "source": [
    "player_similarity = sorted(player_similarity, key=lambda x: x[2], reverse=True)\n",
    "salary_similarity = sorted(salary_similarity, key=lambda x: x[2], reverse=True)"
   ]
  },
  {
   "cell_type": "code",
   "execution_count": 483,
   "metadata": {},
   "outputs": [],
   "source": [
    "optimal_columns = salary_similarity[0][0]\n",
    "optimal_k = salary_similarity[0][1]"
   ]
  },
  {
   "cell_type": "markdown",
   "metadata": {},
   "source": [
    "### Question 1b: With k-mean clustering, what attributes about the players do you use, as to justify the players' salaries?"
   ]
  },
  {
   "cell_type": "code",
   "execution_count": 484,
   "metadata": {},
   "outputs": [
    {
     "name": "stdout",
     "output_type": "stream",
     "text": [
      "Attributes of players used: ['age_YTD', 'SG-PF', 'ft%', 'team_2p', 'team_fta', 'PF-C', 'SF-PF', '2015', 'pf', '2016', 'PF-SF', '2020', '2013', 'SF-C', 'stl', 'ft', 'SG-PG', 'fta', '2019', 'team_trb', 'team_orb', 'team_pf', '2012', '2009', 'team_drb', '2pa', '2010', 'SG-SF', '2011', 'trb', 'team_fg%', 'experience_YTD', 'team_fga', 'team_blk', '2p%', 'team_tov', '3p%', 'team_ft%', 'team_ast', 'ast', 'PF', 'tov', 'drb', '2017', 'fg', 'SG', 'orb', '3p', 'PG-SG', '2018', 'SF-SG', 'team_ft', 'team_2pa', 'team_3pa', 'team_2p%', '2p']\n"
     ]
    }
   ],
   "source": [
    "print(\"Attributes of players used: {}\".format(optimal_columns))"
   ]
  },
  {
   "cell_type": "markdown",
   "metadata": {},
   "source": [
    "### Question 1c: How many clusters k do you choose and why?"
   ]
  },
  {
   "cell_type": "code",
   "execution_count": 485,
   "metadata": {},
   "outputs": [
    {
     "name": "stdout",
     "output_type": "stream",
     "text": [
      "Number of clusters chosen: 2. Silhouette scores for k=2 is the highest across all experiments.\n"
     ]
    }
   ],
   "source": [
    "print(\"Number of clusters chosen: 2. Silhouette scores for k={} is the highest across all experiments.\".format(\n",
    "      optimal_k))"
   ]
  },
  {
   "cell_type": "markdown",
   "metadata": {},
   "source": [
    "### Question 1d: Do you get different results with different (random) initialization of centers? Can you finnd parameters, i.e. k and attributes, that yield \"stable\" clustering?"
   ]
  },
  {
   "cell_type": "markdown",
   "metadata": {},
   "source": [
    "Try different random states"
   ]
  },
  {
   "cell_type": "code",
   "execution_count": 486,
   "metadata": {},
   "outputs": [],
   "source": [
    "df_features = df_kmeans.loc[:, optimal_columns]\n",
    "\n",
    "def random_initializations(df_features, k, tries):\n",
    "    clusters = []\n",
    "    \n",
    "    for i in range(tries):\n",
    "        random_state = np.random.randint(low=0, high=9999)\n",
    "        kmeans = KMeans(n_clusters=k, random_state=random_state, max_iter=1000).fit(df_features)\n",
    "        kmeans = pd.Series(kmeans.labels_)\n",
    "        clusters.append(kmeans)\n",
    "\n",
    "    clusters = pd.concat(clusters, axis=1)\n",
    "    return clusters\n",
    "    \n",
    "cluster_labels = random_initializations(df_features=df_features, k=optimal_k, tries=4)"
   ]
  },
  {
   "cell_type": "code",
   "execution_count": 487,
   "metadata": {},
   "outputs": [
    {
     "data": {
      "text/html": [
       "<div>\n",
       "<style scoped>\n",
       "    .dataframe tbody tr th:only-of-type {\n",
       "        vertical-align: middle;\n",
       "    }\n",
       "\n",
       "    .dataframe tbody tr th {\n",
       "        vertical-align: top;\n",
       "    }\n",
       "\n",
       "    .dataframe thead th {\n",
       "        text-align: right;\n",
       "    }\n",
       "</style>\n",
       "<table border=\"1\" class=\"dataframe\">\n",
       "  <thead>\n",
       "    <tr style=\"text-align: right;\">\n",
       "      <th></th>\n",
       "      <th>0</th>\n",
       "      <th>1</th>\n",
       "      <th>2</th>\n",
       "      <th>3</th>\n",
       "    </tr>\n",
       "  </thead>\n",
       "  <tbody>\n",
       "    <tr>\n",
       "      <th>0</th>\n",
       "      <td>0</td>\n",
       "      <td>0</td>\n",
       "      <td>0</td>\n",
       "      <td>1</td>\n",
       "    </tr>\n",
       "    <tr>\n",
       "      <th>1</th>\n",
       "      <td>1</td>\n",
       "      <td>1</td>\n",
       "      <td>1</td>\n",
       "      <td>0</td>\n",
       "    </tr>\n",
       "    <tr>\n",
       "      <th>2</th>\n",
       "      <td>0</td>\n",
       "      <td>0</td>\n",
       "      <td>0</td>\n",
       "      <td>1</td>\n",
       "    </tr>\n",
       "    <tr>\n",
       "      <th>3</th>\n",
       "      <td>0</td>\n",
       "      <td>0</td>\n",
       "      <td>0</td>\n",
       "      <td>1</td>\n",
       "    </tr>\n",
       "    <tr>\n",
       "      <th>4</th>\n",
       "      <td>0</td>\n",
       "      <td>0</td>\n",
       "      <td>0</td>\n",
       "      <td>1</td>\n",
       "    </tr>\n",
       "    <tr>\n",
       "      <th>...</th>\n",
       "      <td>...</td>\n",
       "      <td>...</td>\n",
       "      <td>...</td>\n",
       "      <td>...</td>\n",
       "    </tr>\n",
       "    <tr>\n",
       "      <th>6177</th>\n",
       "      <td>0</td>\n",
       "      <td>0</td>\n",
       "      <td>0</td>\n",
       "      <td>1</td>\n",
       "    </tr>\n",
       "    <tr>\n",
       "      <th>6178</th>\n",
       "      <td>0</td>\n",
       "      <td>0</td>\n",
       "      <td>0</td>\n",
       "      <td>1</td>\n",
       "    </tr>\n",
       "    <tr>\n",
       "      <th>6179</th>\n",
       "      <td>0</td>\n",
       "      <td>0</td>\n",
       "      <td>0</td>\n",
       "      <td>1</td>\n",
       "    </tr>\n",
       "    <tr>\n",
       "      <th>6180</th>\n",
       "      <td>0</td>\n",
       "      <td>0</td>\n",
       "      <td>0</td>\n",
       "      <td>1</td>\n",
       "    </tr>\n",
       "    <tr>\n",
       "      <th>6181</th>\n",
       "      <td>1</td>\n",
       "      <td>1</td>\n",
       "      <td>1</td>\n",
       "      <td>0</td>\n",
       "    </tr>\n",
       "  </tbody>\n",
       "</table>\n",
       "<p>6182 rows × 4 columns</p>\n",
       "</div>"
      ],
      "text/plain": [
       "      0  1  2  3\n",
       "0     0  0  0  1\n",
       "1     1  1  1  0\n",
       "2     0  0  0  1\n",
       "3     0  0  0  1\n",
       "4     0  0  0  1\n",
       "...  .. .. .. ..\n",
       "6177  0  0  0  1\n",
       "6178  0  0  0  1\n",
       "6179  0  0  0  1\n",
       "6180  0  0  0  1\n",
       "6181  1  1  1  0\n",
       "\n",
       "[6182 rows x 4 columns]"
      ]
     },
     "execution_count": 487,
     "metadata": {},
     "output_type": "execute_result"
    }
   ],
   "source": [
    "cluster_labels"
   ]
  },
  {
   "cell_type": "code",
   "execution_count": 488,
   "metadata": {},
   "outputs": [
    {
     "name": "stdout",
     "output_type": "stream",
     "text": [
      "We get same results with different initialization of cluster centers using k=2 and features=['age_YTD', 'SG-PF', 'ft%', 'team_2p', 'team_fta', 'PF-C', 'SF-PF', '2015', 'pf', '2016', 'PF-SF', '2020', '2013', 'SF-C', 'stl', 'ft', 'SG-PG', 'fta', '2019', 'team_trb', 'team_orb', 'team_pf', '2012', '2009', 'team_drb', '2pa', '2010', 'SG-SF', '2011', 'trb', 'team_fg%', 'experience_YTD', 'team_fga', 'team_blk', '2p%', 'team_tov', '3p%', 'team_ft%', 'team_ast', 'ast', 'PF', 'tov', 'drb', '2017', 'fg', 'SG', 'orb', '3p', 'PG-SG', '2018', 'SF-SG', 'team_ft', 'team_2pa', 'team_3pa', 'team_2p%', '2p']\n"
     ]
    }
   ],
   "source": [
    "print(\"We get same results with different initialization of cluster centers using k={} and features={}\".format(\n",
    "      optimal_k, optimal_columns))"
   ]
  },
  {
   "cell_type": "markdown",
   "metadata": {},
   "source": [
    "### Question 1e: How do you interpret the clusters to your boss? What do each cluster mean (in terms of the attributes)?"
   ]
  },
  {
   "cell_type": "markdown",
   "metadata": {},
   "source": [
    "Interpret clusters"
   ]
  },
  {
   "cell_type": "code",
   "execution_count": 489,
   "metadata": {},
   "outputs": [
    {
     "name": "stdout",
     "output_type": "stream",
     "text": [
      "['age_YTD', 'SG-PF', 'ft%', 'team_2p', 'team_fta', 'PF-C', 'SF-PF', '2015', 'pf', '2016', 'PF-SF', '2020', '2013', 'SF-C', 'stl', 'ft', 'SG-PG', 'fta', '2019', 'team_trb', 'team_orb', 'team_pf', '2012', '2009', 'team_drb', '2pa', '2010', 'SG-SF', '2011', 'trb', 'team_fg%', 'experience_YTD', 'team_fga', 'team_blk', '2p%', 'team_tov', '3p%', 'team_ft%', 'team_ast', 'ast', 'PF', 'tov', 'drb', '2017', 'fg', 'SG', 'orb', '3p', 'PG-SG', '2018', 'SF-SG', 'team_ft', 'team_2pa', 'team_3pa', 'team_2p%', '2p']\n"
     ]
    }
   ],
   "source": [
    "print(optimal_columns)"
   ]
  },
  {
   "cell_type": "markdown",
   "metadata": {},
   "source": [
    "## Question 2: Linear Regression. What factors predict a player's salary in the most current season?"
   ]
  },
  {
   "cell_type": "markdown",
   "metadata": {},
   "source": [
    "### Question 2a: Using salary as the dependent variable, what variables do you include as the independent variables?"
   ]
  },
  {
   "cell_type": "markdown",
   "metadata": {},
   "source": [
    "Select most current season"
   ]
  },
  {
   "cell_type": "code",
   "execution_count": 490,
   "metadata": {},
   "outputs": [],
   "source": [
    "df_current_ols = df_final.loc[df_final[str(MOST_CURRENT_SEASON)]==1, :]\n",
    "ols_y = df_current_ols[\"salary\"]\n",
    "ols_X = df_current_ols.drop(columns=[\"salary\", \"2020\"])"
   ]
  },
  {
   "cell_type": "markdown",
   "metadata": {},
   "source": [
    "Stepwise regression"
   ]
  },
  {
   "cell_type": "code",
   "execution_count": 491,
   "metadata": {},
   "outputs": [],
   "source": [
    "def stepwise_selection(X, y, \n",
    "                       initial_list=[], \n",
    "                       threshold_in=0.01, \n",
    "                       threshold_out = 0.05, \n",
    "                       verbose=True):\n",
    "    \"\"\" Perform a forward-backward feature selection \n",
    "    based on p-value from statsmodels.api.OLS\n",
    "    Arguments:\n",
    "        X - pandas.DataFrame with candidate features\n",
    "        y - list-like with the target\n",
    "        initial_list - list of features to start with (column names of X)\n",
    "        threshold_in - include a feature if its p-value < threshold_in\n",
    "        threshold_out - exclude a feature if its p-value > threshold_out\n",
    "        verbose - whether to print the sequence of inclusions and exclusions\n",
    "    Returns: list of selected features \n",
    "    Always set threshold_in < threshold_out to avoid infinite looping.\n",
    "    See https://en.wikipedia.org/wiki/Stepwise_regression for the details\n",
    "    \"\"\"\n",
    "    included = list(initial_list)\n",
    "    while True:\n",
    "        changed=False\n",
    "        # forward step\n",
    "        excluded = list(set(X.columns)-set(included))\n",
    "        new_pval = pd.Series(index=excluded)\n",
    "        for new_column in excluded:\n",
    "            model = sm.OLS(y, sm.add_constant(pd.DataFrame(X[included+[new_column]]))).fit()\n",
    "            new_pval[new_column] = model.pvalues[new_column]\n",
    "        best_pval = new_pval.min()\n",
    "        if best_pval < threshold_in:\n",
    "            best_feature = excluded[new_pval.argmin()]\n",
    "            included.append(best_feature)\n",
    "            changed=True\n",
    "            if verbose:\n",
    "                print('Add  {:30} with p-value {:.6}'.format(best_feature, best_pval))\n",
    "\n",
    "        # backward step\n",
    "        model = sm.OLS(y, sm.add_constant(pd.DataFrame(X[included]))).fit()\n",
    "        # use all coefs except intercept\n",
    "        pvalues = model.pvalues.iloc[1:]\n",
    "        worst_pval = pvalues.max() # null if pvalues is empty\n",
    "        if worst_pval > threshold_out:\n",
    "            changed=True\n",
    "            worst_feature = pvalues.argmax()\n",
    "            included.remove(worst_feature)\n",
    "            if verbose:\n",
    "                print('Drop {:30} with p-value {:.6}'.format(worst_feature, worst_pval))\n",
    "        if not changed:\n",
    "            break\n",
    "    return included"
   ]
  },
  {
   "cell_type": "code",
   "execution_count": 492,
   "metadata": {
    "scrolled": true
   },
   "outputs": [
    {
     "name": "stderr",
     "output_type": "stream",
     "text": [
      "<ipython-input-491-07be02362e73>:24: FutureWarning: The default dtype for empty Series will be 'object' instead of 'float64' in a future version. Specify a dtype explicitly to silence this warning.\n",
      "  new_pval = pd.Series(index=excluded)\n"
     ]
    },
    {
     "name": "stdout",
     "output_type": "stream",
     "text": [
      "Add  pts                            with p-value 1.47777e-71\n"
     ]
    },
    {
     "name": "stderr",
     "output_type": "stream",
     "text": [
      "<ipython-input-491-07be02362e73>:24: FutureWarning: The default dtype for empty Series will be 'object' instead of 'float64' in a future version. Specify a dtype explicitly to silence this warning.\n",
      "  new_pval = pd.Series(index=excluded)\n"
     ]
    },
    {
     "name": "stdout",
     "output_type": "stream",
     "text": [
      "Add  experience_YTD                 with p-value 1.06651e-23\n"
     ]
    },
    {
     "name": "stderr",
     "output_type": "stream",
     "text": [
      "<ipython-input-491-07be02362e73>:24: FutureWarning: The default dtype for empty Series will be 'object' instead of 'float64' in a future version. Specify a dtype explicitly to silence this warning.\n",
      "  new_pval = pd.Series(index=excluded)\n"
     ]
    },
    {
     "name": "stdout",
     "output_type": "stream",
     "text": [
      "Add  ast                            with p-value 1.68027e-09\n"
     ]
    },
    {
     "name": "stderr",
     "output_type": "stream",
     "text": [
      "<ipython-input-491-07be02362e73>:24: FutureWarning: The default dtype for empty Series will be 'object' instead of 'float64' in a future version. Specify a dtype explicitly to silence this warning.\n",
      "  new_pval = pd.Series(index=excluded)\n"
     ]
    },
    {
     "name": "stdout",
     "output_type": "stream",
     "text": [
      "Add  team_count                     with p-value 1.01047e-07\n"
     ]
    },
    {
     "name": "stderr",
     "output_type": "stream",
     "text": [
      "<ipython-input-491-07be02362e73>:24: FutureWarning: The default dtype for empty Series will be 'object' instead of 'float64' in a future version. Specify a dtype explicitly to silence this warning.\n",
      "  new_pval = pd.Series(index=excluded)\n"
     ]
    },
    {
     "name": "stdout",
     "output_type": "stream",
     "text": [
      "Add  height                         with p-value 1.82258e-07\n"
     ]
    },
    {
     "name": "stderr",
     "output_type": "stream",
     "text": [
      "<ipython-input-491-07be02362e73>:24: FutureWarning: The default dtype for empty Series will be 'object' instead of 'float64' in a future version. Specify a dtype explicitly to silence this warning.\n",
      "  new_pval = pd.Series(index=excluded)\n"
     ]
    },
    {
     "name": "stdout",
     "output_type": "stream",
     "text": [
      "Add  C                              with p-value 0.000491646\n"
     ]
    },
    {
     "name": "stderr",
     "output_type": "stream",
     "text": [
      "<ipython-input-491-07be02362e73>:24: FutureWarning: The default dtype for empty Series will be 'object' instead of 'float64' in a future version. Specify a dtype explicitly to silence this warning.\n",
      "  new_pval = pd.Series(index=excluded)\n"
     ]
    },
    {
     "name": "stdout",
     "output_type": "stream",
     "text": [
      "Add  fg                             with p-value 0.00484472\n"
     ]
    },
    {
     "name": "stderr",
     "output_type": "stream",
     "text": [
      "<ipython-input-491-07be02362e73>:24: FutureWarning: The default dtype for empty Series will be 'object' instead of 'float64' in a future version. Specify a dtype explicitly to silence this warning.\n",
      "  new_pval = pd.Series(index=excluded)\n"
     ]
    },
    {
     "name": "stdout",
     "output_type": "stream",
     "text": [
      "Add  3p%                            with p-value 0.00258047\n"
     ]
    },
    {
     "name": "stderr",
     "output_type": "stream",
     "text": [
      "<ipython-input-491-07be02362e73>:24: FutureWarning: The default dtype for empty Series will be 'object' instead of 'float64' in a future version. Specify a dtype explicitly to silence this warning.\n",
      "  new_pval = pd.Series(index=excluded)\n"
     ]
    }
   ],
   "source": [
    "stepwise_results = stepwise_selection(X=ols_X, y=ols_y) "
   ]
  },
  {
   "cell_type": "code",
   "execution_count": 493,
   "metadata": {},
   "outputs": [
    {
     "name": "stdout",
     "output_type": "stream",
     "text": [
      "Independent variables: ['pts', 'experience_YTD', 'ast', 'team_count', 'height', 'C', 'fg', '3p%']\n"
     ]
    }
   ],
   "source": [
    "print(\"Independent variables: {}\".format(stepwise_results))"
   ]
  },
  {
   "cell_type": "markdown",
   "metadata": {},
   "source": [
    "### Question 2b: Why do you choose the model you specified? Do you have any \"theory\" or rely on your observations?"
   ]
  },
  {
   "cell_type": "markdown",
   "metadata": {},
   "source": [
    "Reason for model"
   ]
  },
  {
   "cell_type": "code",
   "execution_count": 494,
   "metadata": {},
   "outputs": [
    {
     "name": "stdout",
     "output_type": "stream",
     "text": [
      "Stepwise regression was carried out and the selected variables are significant in improving the prediction of salary.\n"
     ]
    }
   ],
   "source": [
    "print(\"Stepwise regression was carried out and the selected variables are significant in improving the prediction of salary.\")"
   ]
  },
  {
   "cell_type": "markdown",
   "metadata": {},
   "source": [
    "### Question 2c: How do you interpret the results, particularly your key variable of interest?"
   ]
  },
  {
   "cell_type": "markdown",
   "metadata": {},
   "source": [
    "Selected OLS model"
   ]
  },
  {
   "cell_type": "code",
   "execution_count": 495,
   "metadata": {},
   "outputs": [],
   "source": [
    "final_ols_X = df_current_ols.loc[:, stepwise_results]\n",
    "model = sm.OLS(ols_y, sm.add_constant(pd.DataFrame(final_ols_X))).fit()"
   ]
  },
  {
   "cell_type": "markdown",
   "metadata": {},
   "source": [
    "Get coefficients"
   ]
  },
  {
   "cell_type": "code",
   "execution_count": 496,
   "metadata": {},
   "outputs": [
    {
     "name": "stdout",
     "output_type": "stream",
     "text": [
      "const            -4.797013e+07\n",
      "pts               1.524616e+06\n",
      "experience_YTD    7.039788e+05\n",
      "ast               1.449691e+06\n",
      "team_count       -3.313078e+06\n",
      "height            2.514139e+05\n",
      "C                -2.817044e+06\n",
      "fg               -2.639826e+06\n",
      "3p%              -6.607083e+06\n",
      "dtype: float64\n"
     ]
    }
   ],
   "source": [
    "ols_coefficients = model.params\n",
    "print(ols_coefficients)"
   ]
  },
  {
   "cell_type": "markdown",
   "metadata": {},
   "source": [
    " <Insert interpretation>"
   ]
  },
  {
   "cell_type": "markdown",
   "metadata": {},
   "source": [
    "Interpret results"
   ]
  },
  {
   "cell_type": "code",
   "execution_count": 497,
   "metadata": {},
   "outputs": [
    {
     "name": "stdout",
     "output_type": "stream",
     "text": [
      "INSERT INTERPRETATION....\n"
     ]
    }
   ],
   "source": [
    "print(\"INSERT INTERPRETATION....\")"
   ]
  },
  {
   "cell_type": "markdown",
   "metadata": {},
   "source": [
    "### Question 2d: Which predictors are statistically significant?"
   ]
  },
  {
   "cell_type": "markdown",
   "metadata": {},
   "source": [
    "Statistically significant variables"
   ]
  },
  {
   "cell_type": "code",
   "execution_count": 498,
   "metadata": {},
   "outputs": [
    {
     "name": "stdout",
     "output_type": "stream",
     "text": [
      "Statistically significant variables:\n"
     ]
    },
    {
     "data": {
      "text/plain": [
       "const             2.313720e-09\n",
       "pts               2.409533e-07\n",
       "experience_YTD    4.928577e-27\n",
       "ast               7.276998e-12\n",
       "team_count        7.046905e-08\n",
       "height            3.948712e-10\n",
       "C                 6.789114e-04\n",
       "fg                8.600254e-04\n",
       "3p%               2.580470e-03\n",
       "dtype: float64"
      ]
     },
     "execution_count": 498,
     "metadata": {},
     "output_type": "execute_result"
    }
   ],
   "source": [
    "sig_val = 0.05\n",
    "print(\"Statistically significant variables:\")\n",
    "model.pvalues[model.pvalues < sig_val]"
   ]
  },
  {
   "cell_type": "markdown",
   "metadata": {},
   "source": [
    "### Question 2e: If you are the team coach, what do you tell players from your analysis? For instance, each field goal contributes to your salary $X amount, so everyone should shoot as often? How does does your analysis contribute to the team's overall revenue model?"
   ]
  },
  {
   "cell_type": "markdown",
   "metadata": {},
   "source": [
    "Analysis"
   ]
  },
  {
   "cell_type": "code",
   "execution_count": 499,
   "metadata": {},
   "outputs": [
    {
     "name": "stdout",
     "output_type": "stream",
     "text": [
      "INSERT ANALYSIS....\n"
     ]
    }
   ],
   "source": [
    "print(\"INSERT ANALYSIS....\")"
   ]
  },
  {
   "cell_type": "markdown",
   "metadata": {},
   "source": [
    "### Question 2f: Do you believe the results?"
   ]
  },
  {
   "cell_type": "markdown",
   "metadata": {},
   "source": [
    "Believe in results"
   ]
  },
  {
   "cell_type": "code",
   "execution_count": 500,
   "metadata": {},
   "outputs": [
    {
     "name": "stdout",
     "output_type": "stream",
     "text": [
      "INSERT CONCLUSION....\n"
     ]
    }
   ],
   "source": [
    "print(\"INSERT CONCLUSION....\")"
   ]
  },
  {
   "cell_type": "markdown",
   "metadata": {},
   "source": [
    "### Question 3a: Do you think your coefficients in regression are fair, overestimated or underestimated? (hint: check the conditional mean-zero error assumption from the residual plot and what is the implication of the residual average shown in the plot?)"
   ]
  },
  {
   "cell_type": "markdown",
   "metadata": {},
   "source": [
    "Residual vs Fitted plot"
   ]
  },
  {
   "cell_type": "code",
   "execution_count": 501,
   "metadata": {},
   "outputs": [
    {
     "data": {
      "image/png": "[encoded data removed]",
      "text/plain": [
       "<Figure size 432x288 with 1 Axes>"
      ]
     },
     "metadata": {
      "needs_background": "light"
     },
     "output_type": "display_data"
    }
   ],
   "source": [
    "ax = plt.figure()\n",
    "ax.axes[0] = sns.residplot(y=model.fittedvalues, x=model.resid, \n",
    "                          lowess=True,\n",
    "                          scatter_kws={'alpha': 0.5},\n",
    "                          line_kws={'color': 'red', 'lw': 1, 'alpha': 0.8})\n",
    "\n",
    "ax.axes[0].set_title('Residuals vs Fitted')\n",
    "ax.axes[0].set_xlabel('Fitted values')\n",
    "ax.axes[0].set_ylabel('Residuals');"
   ]
  },
  {
   "cell_type": "markdown",
   "metadata": {},
   "source": [
    "Estimation for coefficients"
   ]
  },
  {
   "cell_type": "code",
   "execution_count": 502,
   "metadata": {},
   "outputs": [
    {
     "name": "stdout",
     "output_type": "stream",
     "text": [
      "From the residuals vs fitted plot, most the coefficients tend to be underestimated for larger absolute value of fitted values but overestimated for smaller absolute value of fitted values. Also, it is noted that the shape of the residual plot implies a non-linear relationship.\n"
     ]
    }
   ],
   "source": [
    "print(\"From the residuals vs fitted plot, most the coefficients tend to be underestimated for larger \"\n",
    "      \"absolute value of fitted values but overestimated for smaller absolute value of fitted values. Also, \"\n",
    "      \"it is noted that the shape of the residual plot implies a non-linear relationship.\")"
   ]
  },
  {
   "cell_type": "markdown",
   "metadata": {},
   "source": [
    "### Question 3b: Do you worry about heteroskedasticity? How can you detect and fix it if any?"
   ]
  },
  {
   "cell_type": "markdown",
   "metadata": {},
   "source": [
    "Heteroskedasticity"
   ]
  },
  {
   "cell_type": "code",
   "execution_count": 503,
   "metadata": {},
   "outputs": [
    {
     "data": {
      "text/plain": [
       "{'Lagrange multiplier statistic': 103.8387284704925,\n",
       " 'p-value': 6.996326315822745e-19,\n",
       " 'f-value': 15.59251679459662,\n",
       " 'f p-value': 7.914430633567428e-21}"
      ]
     },
     "execution_count": 503,
     "metadata": {},
     "output_type": "execute_result"
    }
   ],
   "source": [
    "# Breusch Pagan test\n",
    "name = ['Lagrange multiplier statistic', 'p-value',\n",
    "        'f-value', 'f p-value']\n",
    "bptest = sms.het_breuschpagan(model.resid, model.model.exog)\n",
    "dict(zip(name, bptest))"
   ]
  },
  {
   "cell_type": "code",
   "execution_count": 504,
   "metadata": {},
   "outputs": [
    {
     "name": "stdout",
     "output_type": "stream",
     "text": [
      "From the residuals vs fitted plot, the spread of the residuals is not constant, hence heteroskedasticity is present. In addition, from the results of the Breusch-Pagan test, the p-value is < 0.05 and hence, we reject the null hypothesis of homoskedasticity. To fix this, we will use the White-Huber standard errors.\n"
     ]
    }
   ],
   "source": [
    "print(\"From the residuals vs fitted plot, the spread of the residuals is not constant, hence heteroskedasticity \"\n",
    "      \"is present. In addition, from the results of the Breusch-Pagan test, the p-value is < 0.05 and hence, \"\n",
    "      \"we reject the null hypothesis of homoskedasticity. To fix this, we will use the White-Huber standard errors.\")"
   ]
  },
  {
   "cell_type": "markdown",
   "metadata": {},
   "source": [
    "New OLS using White-Huber standard error"
   ]
  },
  {
   "cell_type": "code",
   "execution_count": 505,
   "metadata": {},
   "outputs": [],
   "source": [
    "model_wh = sm.OLS(ols_y, sm.add_constant(pd.DataFrame(final_ols_X))).fit(cov_type=\"HC0\")"
   ]
  },
  {
   "cell_type": "markdown",
   "metadata": {},
   "source": [
    "### Question 3c: Do you worry about multicollinearity among your predictors? How can you quickly tell direction/strength of correlations among your variables?"
   ]
  },
  {
   "cell_type": "markdown",
   "metadata": {},
   "source": [
    "Multicollinearity (Via Correlation Matrix)"
   ]
  },
  {
   "cell_type": "code",
   "execution_count": 506,
   "metadata": {
    "scrolled": true
   },
   "outputs": [
    {
     "data": {
      "text/html": [
       "<div>\n",
       "<style scoped>\n",
       "    .dataframe tbody tr th:only-of-type {\n",
       "        vertical-align: middle;\n",
       "    }\n",
       "\n",
       "    .dataframe tbody tr th {\n",
       "        vertical-align: top;\n",
       "    }\n",
       "\n",
       "    .dataframe thead th {\n",
       "        text-align: right;\n",
       "    }\n",
       "</style>\n",
       "<table border=\"1\" class=\"dataframe\">\n",
       "  <thead>\n",
       "    <tr style=\"text-align: right;\">\n",
       "      <th></th>\n",
       "      <th>pts</th>\n",
       "      <th>experience_YTD</th>\n",
       "      <th>ast</th>\n",
       "      <th>team_count</th>\n",
       "      <th>height</th>\n",
       "      <th>C</th>\n",
       "      <th>fg</th>\n",
       "      <th>3p%</th>\n",
       "    </tr>\n",
       "  </thead>\n",
       "  <tbody>\n",
       "    <tr>\n",
       "      <th>pts</th>\n",
       "      <td>1.000000</td>\n",
       "      <td>0.181049</td>\n",
       "      <td>0.722688</td>\n",
       "      <td>-0.167692</td>\n",
       "      <td>-0.091057</td>\n",
       "      <td>-0.087425</td>\n",
       "      <td>0.989007</td>\n",
       "      <td>0.240138</td>\n",
       "    </tr>\n",
       "    <tr>\n",
       "      <th>experience_YTD</th>\n",
       "      <td>0.181049</td>\n",
       "      <td>1.000000</td>\n",
       "      <td>0.251107</td>\n",
       "      <td>0.140772</td>\n",
       "      <td>-0.025812</td>\n",
       "      <td>0.087331</td>\n",
       "      <td>0.170119</td>\n",
       "      <td>0.109238</td>\n",
       "    </tr>\n",
       "    <tr>\n",
       "      <th>ast</th>\n",
       "      <td>0.722688</td>\n",
       "      <td>0.251107</td>\n",
       "      <td>1.000000</td>\n",
       "      <td>-0.166076</td>\n",
       "      <td>-0.324641</td>\n",
       "      <td>-0.230914</td>\n",
       "      <td>0.702043</td>\n",
       "      <td>0.186566</td>\n",
       "    </tr>\n",
       "    <tr>\n",
       "      <th>team_count</th>\n",
       "      <td>-0.167692</td>\n",
       "      <td>0.140772</td>\n",
       "      <td>-0.166076</td>\n",
       "      <td>1.000000</td>\n",
       "      <td>0.233699</td>\n",
       "      <td>0.359760</td>\n",
       "      <td>-0.163951</td>\n",
       "      <td>-0.048338</td>\n",
       "    </tr>\n",
       "    <tr>\n",
       "      <th>height</th>\n",
       "      <td>-0.091057</td>\n",
       "      <td>-0.025812</td>\n",
       "      <td>-0.324641</td>\n",
       "      <td>0.233699</td>\n",
       "      <td>1.000000</td>\n",
       "      <td>0.640315</td>\n",
       "      <td>-0.057650</td>\n",
       "      <td>-0.236918</td>\n",
       "    </tr>\n",
       "    <tr>\n",
       "      <th>C</th>\n",
       "      <td>-0.087425</td>\n",
       "      <td>0.087331</td>\n",
       "      <td>-0.230914</td>\n",
       "      <td>0.359760</td>\n",
       "      <td>0.640315</td>\n",
       "      <td>1.000000</td>\n",
       "      <td>-0.046176</td>\n",
       "      <td>-0.295958</td>\n",
       "    </tr>\n",
       "    <tr>\n",
       "      <th>fg</th>\n",
       "      <td>0.989007</td>\n",
       "      <td>0.170119</td>\n",
       "      <td>0.702043</td>\n",
       "      <td>-0.163951</td>\n",
       "      <td>-0.057650</td>\n",
       "      <td>-0.046176</td>\n",
       "      <td>1.000000</td>\n",
       "      <td>0.200721</td>\n",
       "    </tr>\n",
       "    <tr>\n",
       "      <th>3p%</th>\n",
       "      <td>0.240138</td>\n",
       "      <td>0.109238</td>\n",
       "      <td>0.186566</td>\n",
       "      <td>-0.048338</td>\n",
       "      <td>-0.236918</td>\n",
       "      <td>-0.295958</td>\n",
       "      <td>0.200721</td>\n",
       "      <td>1.000000</td>\n",
       "    </tr>\n",
       "  </tbody>\n",
       "</table>\n",
       "</div>"
      ],
      "text/plain": [
       "                     pts  experience_YTD       ast  team_count    height  \\\n",
       "pts             1.000000        0.181049  0.722688   -0.167692 -0.091057   \n",
       "experience_YTD  0.181049        1.000000  0.251107    0.140772 -0.025812   \n",
       "ast             0.722688        0.251107  1.000000   -0.166076 -0.324641   \n",
       "team_count     -0.167692        0.140772 -0.166076    1.000000  0.233699   \n",
       "height         -0.091057       -0.025812 -0.324641    0.233699  1.000000   \n",
       "C              -0.087425        0.087331 -0.230914    0.359760  0.640315   \n",
       "fg              0.989007        0.170119  0.702043   -0.163951 -0.057650   \n",
       "3p%             0.240138        0.109238  0.186566   -0.048338 -0.236918   \n",
       "\n",
       "                       C        fg       3p%  \n",
       "pts            -0.087425  0.989007  0.240138  \n",
       "experience_YTD  0.087331  0.170119  0.109238  \n",
       "ast            -0.230914  0.702043  0.186566  \n",
       "team_count      0.359760 -0.163951 -0.048338  \n",
       "height          0.640315 -0.057650 -0.236918  \n",
       "C               1.000000 -0.046176 -0.295958  \n",
       "fg             -0.046176  1.000000  0.200721  \n",
       "3p%            -0.295958  0.200721  1.000000  "
      ]
     },
     "execution_count": 506,
     "metadata": {},
     "output_type": "execute_result"
    }
   ],
   "source": [
    "final_ols_X.corr()"
   ]
  },
  {
   "cell_type": "markdown",
   "metadata": {},
   "source": [
    "### Question 3d: If there is strong evidence for multicollinearity, which method do you choose to alleviate it and why?"
   ]
  },
  {
   "cell_type": "code",
   "execution_count": 507,
   "metadata": {},
   "outputs": [
    {
     "name": "stdout",
     "output_type": "stream",
     "text": [
      "From the correlation matrix, we can see that 'pf', 'blk' and 'drb' has fairly high correlation which might result in multicollinearity. As such, we can use PCA to fix this as PCA projects the data into lower dimensional space while preserving the variation by using orthogonal linear combinations of the original data. However, we might lose interpretability after the use of PCA.\n"
     ]
    }
   ],
   "source": [
    "print(\"From the correlation matrix, we can see that 'pf', 'blk' and 'drb' has fairly high correlation which might \"\n",
    "      \"result in multicollinearity. As such, we can use PCA to fix this as PCA projects the data into lower dimensional \"\n",
    "      \"space while preserving the variation by using orthogonal linear combinations of the original data. However, \"\n",
    "      \"we might lose interpretability after the use of PCA.\")"
   ]
  },
  {
   "cell_type": "markdown",
   "metadata": {},
   "source": [
    "### Question 4a: Which time-varying variables matter to explain player's salary?"
   ]
  },
  {
   "cell_type": "markdown",
   "metadata": {},
   "source": [
    "Get panel data"
   ]
  },
  {
   "cell_type": "code",
   "execution_count": 510,
   "metadata": {},
   "outputs": [],
   "source": [
    "df_panel = df_main.copy(deep=True)\n",
    "#df_panel[\"pos\"] = df_panel[pos_dummies.columns].idxmax(axis=1)\n",
    "df_panel[\"season_year\"] = df_panel[season_year_dummies.columns].idxmax(axis=1).astype(int)\n",
    "df_panel = df_panel.drop(columns=list(season_year_dummies.columns))"
   ]
  },
  {
   "cell_type": "markdown",
   "metadata": {},
   "source": [
    "Key columns"
   ]
  },
  {
   "cell_type": "code",
   "execution_count": 511,
   "metadata": {},
   "outputs": [],
   "source": [
    "panel_key_cols = list(df_panel.columns)\n",
    "panel_key_cols.remove(\"age\")\n",
    "panel_key_cols.remove(\"total_salary\")\n",
    "panel_key_cols.remove(\"player\")\n",
    "panel_key_cols.remove(\"season\")\n",
    "panel_key_cols.remove(\"pos\")\n",
    "panel_key_cols.remove(\"start_year\")\n",
    "panel_key_cols.remove(\"full_team_name\")\n",
    "panel_key_cols.remove(\"latest_year\")\n",
    "panel_key_cols.remove(\"team_location\")\n",
    "panel_key_cols.remove(\"experience\")\n",
    "panel_key_cols.remove(\"team_total_seasons\")\n",
    "panel_key_cols.remove(\"team_championships\")\n",
    "panel_key_cols.remove(\"team_playoff_appearances\")\n",
    "panel_key_cols.remove(\"team_g\")\n",
    "panel_key_cols.remove(\"team_mp\")\n",
    "panel_key_cols.remove(\"team_record\")\n",
    "panel_key_cols.remove(\"team_fg\")\n",
    "panel_key_cols.remove(\"tm\")"
   ]
  },
  {
   "cell_type": "code",
   "execution_count": 512,
   "metadata": {},
   "outputs": [],
   "source": [
    "df_panel = df_panel.loc[:, panel_key_cols]"
   ]
  },
  {
   "cell_type": "markdown",
   "metadata": {},
   "source": [
    "Set index"
   ]
  },
  {
   "cell_type": "code",
   "execution_count": 513,
   "metadata": {},
   "outputs": [],
   "source": [
    "season_year = pd.Categorical(df_panel[\"season_year\"])\n",
    "df_panel = df_panel.set_index([\"team_name\", \"season_year\"])\n",
    "df_panel[\"season_year\"] = season_year"
   ]
  },
  {
   "cell_type": "markdown",
   "metadata": {},
   "source": [
    "Get exogeneous variables"
   ]
  },
  {
   "cell_type": "code",
   "execution_count": 514,
   "metadata": {},
   "outputs": [],
   "source": [
    "exog_var = list(df_panel.columns)\n",
    "exog_var.remove(\"season_year\")\n",
    "exog_var.remove(\"salary\")\n",
    "exog_var.remove(\"SG-PG\")"
   ]
  },
  {
   "cell_type": "code",
   "execution_count": 515,
   "metadata": {},
   "outputs": [],
   "source": [
    "exog = df_panel[exog_var]#.astype(float)\n",
    "exog = sm.add_constant(exog)"
   ]
  },
  {
   "cell_type": "markdown",
   "metadata": {},
   "source": [
    "Get endogeneous variable"
   ]
  },
  {
   "cell_type": "code",
   "execution_count": 516,
   "metadata": {},
   "outputs": [],
   "source": [
    "endog = df_panel[\"salary\"]"
   ]
  },
  {
   "cell_type": "markdown",
   "metadata": {},
   "source": [
    "Fixed effect model"
   ]
  },
  {
   "cell_type": "code",
   "execution_count": 517,
   "metadata": {
    "scrolled": true
   },
   "outputs": [
    {
     "name": "stdout",
     "output_type": "stream",
     "text": [
      "                          PanelOLS Estimation Summary                           \n",
      "================================================================================\n",
      "Dep. Variable:                 salary   R-squared:                        0.5543\n",
      "Estimator:                   PanelOLS   R-squared (Between):              0.1146\n",
      "No. Observations:                6182   R-squared (Within):               0.5543\n",
      "Date:                Sun, Mar 06 2022   R-squared (Overall):              0.5512\n",
      "Time:                        19:19:30   Log-likelihood                -1.032e+05\n",
      "Cov. Estimator:            Unadjusted                                           \n",
      "                                        F-statistic:                      118.30\n",
      "Entities:                          30   P-value                           0.0000\n",
      "Avg Obs:                       206.07   Distribution:                 F(64,6088)\n",
      "Min Obs:                       170.00                                           \n",
      "Max Obs:                       251.00   F-statistic (robust):             118.30\n",
      "                                        P-value                           0.0000\n",
      "Time periods:                      12   Distribution:                 F(64,6088)\n",
      "Avg Obs:                       515.17                                           \n",
      "Min Obs:                       415.00                                           \n",
      "Max Obs:                       607.00                                           \n",
      "                                                                                \n",
      "                               Parameter Estimates                                \n",
      "==================================================================================\n",
      "                Parameter  Std. Err.     T-stat    P-value    Lower CI    Upper CI\n",
      "----------------------------------------------------------------------------------\n",
      "const            6.07e+06  4.303e+07     0.1411     0.8878  -7.829e+07   9.043e+07\n",
      "g               -2.44e+04     3236.1    -7.5384     0.0000  -3.074e+04  -1.805e+04\n",
      "gs              2.545e+04     3747.4     6.7920     0.0000   1.811e+04    3.28e+04\n",
      "mp             -1.152e+05  2.289e+04    -5.0342     0.0000  -1.601e+05  -7.036e+04\n",
      "fg               -4.9e+05  1.752e+06    -0.2797     0.7797  -3.924e+06   2.944e+06\n",
      "fga             1.242e+06  1.138e+06     1.0907     0.2755    -9.9e+05   3.473e+06\n",
      "fg%              8.86e+06  3.616e+06     2.4504     0.0143   1.772e+06   1.595e+07\n",
      "3p              -6.82e+05  1.568e+06    -0.4348     0.6637  -3.757e+06   2.393e+06\n",
      "3pa            -1.196e+06  1.139e+06    -1.0501     0.2937  -3.428e+06   1.036e+06\n",
      "3p%            -1.373e+06  5.707e+05    -2.4048     0.0162  -2.491e+06  -2.537e+05\n",
      "2p              2.598e+05  1.243e+06     0.2090     0.8344  -2.177e+06   2.696e+06\n",
      "2pa            -1.916e+06  1.141e+06    -1.6789     0.0932  -4.154e+06   3.212e+05\n",
      "2p%            -1.652e+06  1.336e+06    -1.2365     0.2163   -4.27e+06   9.669e+05\n",
      "efg%            -1.36e+07   3.23e+06    -4.2109     0.0000  -1.993e+07   -7.27e+06\n",
      "ft             -1.278e+05  8.088e+05    -0.1580     0.8744  -1.713e+06   1.458e+06\n",
      "fta             -3.22e+05  2.763e+05    -1.1656     0.2438  -8.636e+05   2.195e+05\n",
      "ft%            -1.585e+06  5.634e+05    -2.8140     0.0049   -2.69e+06  -4.809e+05\n",
      "orb             1.924e+05  1.138e+06     0.1691     0.8657  -2.038e+06   2.423e+06\n",
      "drb             9.628e+05  1.134e+06     0.8489     0.3960  -1.261e+06   3.186e+06\n",
      "trb            -2.732e+05  1.131e+06    -0.2415     0.8091  -2.491e+06   1.944e+06\n",
      "ast             7.627e+05  7.792e+04     9.7885     0.0000   6.099e+05   9.154e+05\n",
      "stl             1.553e+05  2.234e+05     0.6952     0.4870  -2.826e+05   5.932e+05\n",
      "blk             1.087e+06  2.201e+05     4.9414     0.0000    6.56e+05   1.519e+06\n",
      "tov            -5.438e+04  2.055e+05    -0.2646     0.7913  -4.572e+05   3.485e+05\n",
      "pf             -9.368e+05  1.368e+05    -6.8459     0.0000  -1.205e+06  -6.685e+05\n",
      "pts             1.147e+06  7.536e+05     1.5220     0.1281  -3.303e+05   2.624e+06\n",
      "height          2.974e+04  1.423e+04     2.0901     0.0366      1846.4   5.762e+04\n",
      "weight          4.176e+04     9502.8     4.3950     0.0000   2.314e+04   6.039e+04\n",
      "experience_YTD  3.261e+05  2.594e+04     12.570     0.0000   2.752e+05   3.769e+05\n",
      "team_fga        2.138e+06  1.237e+06     1.7277     0.0841  -2.879e+05   4.564e+06\n",
      "team_fg%       -7.332e+07  8.204e+07    -0.8938     0.3715  -2.341e+08    8.75e+07\n",
      "team_3p         9.022e+05  1.562e+06     0.5776     0.5636   -2.16e+06   3.964e+06\n",
      "team_3pa       -2.187e+06  1.205e+06    -1.8149     0.0696  -4.548e+06   1.753e+05\n",
      "team_3p%        1.455e+07  1.435e+07     1.0137     0.3108  -1.359e+07   4.268e+07\n",
      "team_2p         1.988e+06  1.168e+06     1.7022     0.0888  -3.015e+05   4.277e+06\n",
      "team_2pa       -2.763e+06  1.211e+06    -2.2819     0.0225  -5.137e+06  -3.893e+05\n",
      "team_2p%       -2.893e+07  2.874e+07    -1.0067     0.3141  -8.528e+07   2.741e+07\n",
      "team_ft        -1.079e+06  9.259e+05    -1.1653     0.2439  -2.894e+06   7.361e+05\n",
      "team_fta        9.891e+05  5.784e+05     1.7100     0.0873  -1.448e+05   2.123e+06\n",
      "team_ft%        3.697e+07  1.798e+07     2.0558     0.0398   1.717e+06   7.222e+07\n",
      "team_orb       -8.135e+05  1.092e+06    -0.7451     0.4562  -2.954e+06   1.327e+06\n",
      "team_drb       -1.024e+06  1.085e+06    -0.9438     0.3453  -3.151e+06   1.103e+06\n",
      "team_trb        8.726e+05  1.085e+06     0.8039     0.4215  -1.255e+06       3e+06\n",
      "team_ast       -7.487e+04  5.047e+04    -1.4834     0.1380  -1.738e+05   2.407e+04\n",
      "team_stl       -1.491e+05  9.371e+04    -1.5906     0.1118  -3.328e+05   3.465e+04\n",
      "team_blk       -2.259e+04  9.632e+04    -0.2345     0.8146  -2.114e+05   1.662e+05\n",
      "team_tov       -2.267e+04  7.553e+04    -0.3002     0.7640  -1.707e+05   1.254e+05\n",
      "team_pf         4.956e+04  5.915e+04     0.8379     0.4021  -6.639e+04   1.655e+05\n",
      "team_pts       -2.183e+05  6.104e+05    -0.3576     0.7207  -1.415e+06   9.784e+05\n",
      "team_count     -2.156e+06  1.293e+05    -16.672     0.0000   -2.41e+06  -1.903e+06\n",
      "age_YTD         1.691e+05  2.503e+04     6.7575     0.0000   1.201e+05   2.182e+05\n",
      "C              -1.074e+06  1.186e+06    -0.9048     0.3656  -3.399e+06   1.252e+06\n",
      "C-PF           -6.714e+05   2.01e+06    -0.3341     0.7383  -4.611e+06   3.268e+06\n",
      "PF             -5.338e+05  1.159e+06    -0.4605     0.6452  -2.806e+06   1.739e+06\n",
      "PF-C           -1.703e+06  1.643e+06    -1.0360     0.3003  -4.924e+06   1.519e+06\n",
      "PF-SF           1.903e+06  1.743e+06     1.0918     0.2750  -1.514e+06   5.321e+06\n",
      "PG             -8.125e+05   1.13e+06    -0.7188     0.4723  -3.029e+06   1.404e+06\n",
      "PG-SG           1.522e+06  1.542e+06     0.9867     0.3238  -1.502e+06   4.546e+06\n",
      "SF             -2.972e+05  1.145e+06    -0.2596     0.7952  -2.541e+06   1.947e+06\n",
      "SF-C           -1.237e+06  3.277e+06    -0.3773     0.7060  -7.661e+06   5.188e+06\n",
      "SF-PF           2.533e+06  1.696e+06     1.4933     0.1354  -7.923e+05   5.859e+06\n",
      "SF-SG            2.91e+04  1.525e+06     0.0191     0.9848  -2.961e+06   3.019e+06\n",
      "SG             -2.184e+05  1.132e+06    -0.1929     0.8471  -2.438e+06   2.001e+06\n",
      "SG-PF           -3.87e+06  3.277e+06    -1.1807     0.2378  -1.029e+07   2.555e+06\n",
      "SG-SF            1.61e+06  1.731e+06     0.9301     0.3524  -1.783e+06   5.003e+06\n",
      "==================================================================================\n",
      "\n",
      "F-test for Poolability: 2.2181\n",
      "P-value: 0.0002\n",
      "Distribution: F(29,6088)\n",
      "\n",
      "Included effects: Entity\n"
     ]
    }
   ],
   "source": [
    "model_fe = PanelOLS(endog, exog, entity_effects = True, drop_absorbed=True)\n",
    "fe_res = model_fe.fit()\n",
    "print(fe_res)"
   ]
  },
  {
   "cell_type": "markdown",
   "metadata": {},
   "source": [
    "Random effect model"
   ]
  },
  {
   "cell_type": "code",
   "execution_count": 518,
   "metadata": {
    "scrolled": true
   },
   "outputs": [
    {
     "name": "stdout",
     "output_type": "stream",
     "text": [
      "                        RandomEffects Estimation Summary                        \n",
      "================================================================================\n",
      "Dep. Variable:                 salary   R-squared:                        0.5524\n",
      "Estimator:              RandomEffects   R-squared (Between):              0.3958\n",
      "No. Observations:                6182   R-squared (Within):               0.5535\n",
      "Date:                Sun, Mar 06 2022   R-squared (Overall):              0.5524\n",
      "Time:                        19:19:30   Log-likelihood                -1.032e+05\n",
      "Cov. Estimator:            Unadjusted                                           \n",
      "                                        F-statistic:                      117.95\n",
      "Entities:                          30   P-value                           0.0000\n",
      "Avg Obs:                       206.07   Distribution:                 F(64,6117)\n",
      "Min Obs:                       170.00                                           \n",
      "Max Obs:                       251.00   F-statistic (robust):             117.95\n",
      "                                        P-value                           0.0000\n",
      "Time periods:                      12   Distribution:                 F(64,6117)\n",
      "Avg Obs:                       515.17                                           \n",
      "Min Obs:                       415.00                                           \n",
      "Max Obs:                       607.00                                           \n",
      "                                                                                \n",
      "                               Parameter Estimates                                \n",
      "==================================================================================\n",
      "                Parameter  Std. Err.     T-stat    P-value    Lower CI    Upper CI\n",
      "----------------------------------------------------------------------------------\n",
      "const           9.937e+06   4.08e+07     0.2435     0.8076  -7.005e+07   8.992e+07\n",
      "g              -2.484e+04     3228.9    -7.6926     0.0000  -3.117e+04  -1.851e+04\n",
      "gs              2.529e+04     3750.8     6.7421     0.0000   1.794e+04   3.264e+04\n",
      "mp             -1.169e+05  2.287e+04    -5.1126     0.0000  -1.618e+05  -7.209e+04\n",
      "fg             -2.721e+05  1.752e+06    -0.1553     0.8766  -3.707e+06   3.163e+06\n",
      "fga             1.316e+06  1.138e+06     1.1559     0.2478  -9.157e+05   3.547e+06\n",
      "fg%             8.961e+06  3.613e+06     2.4805     0.0131   1.879e+06   1.604e+07\n",
      "3p             -6.111e+05  1.568e+06    -0.3897     0.6968  -3.685e+06   2.463e+06\n",
      "3pa            -1.223e+06  1.138e+06    -1.0743     0.2827  -3.454e+06   1.009e+06\n",
      "3p%            -1.249e+06  5.708e+05    -2.1884     0.0287  -2.368e+06  -1.302e+05\n",
      "2p              3.156e+05  1.243e+06     0.2539     0.7996  -2.121e+06   2.752e+06\n",
      "2pa            -1.989e+06  1.141e+06    -1.7430     0.0814  -4.226e+06    2.48e+05\n",
      "2p%            -1.817e+06  1.338e+06    -1.3583     0.1744  -4.439e+06   8.053e+05\n",
      "efg%           -1.349e+07  3.223e+06    -4.1855     0.0000  -1.981e+07  -7.172e+06\n",
      "ft             -6.554e+04  8.095e+05    -0.0810     0.9355  -1.652e+06   1.521e+06\n",
      "fta            -2.568e+05  2.763e+05    -0.9295     0.3527  -7.984e+05   2.848e+05\n",
      "ft%            -1.478e+06  5.618e+05    -2.6314     0.0085   -2.58e+06   -3.77e+05\n",
      "orb             1.409e+05  1.139e+06     0.1237     0.9015  -2.092e+06   2.374e+06\n",
      "drb             9.252e+05  1.135e+06     0.8150     0.4151    -1.3e+06   3.151e+06\n",
      "trb            -2.352e+05  1.132e+06    -0.2077     0.8354  -2.455e+06   1.984e+06\n",
      "ast             7.744e+05  7.791e+04     9.9396     0.0000   6.217e+05   9.272e+05\n",
      "stl             1.423e+05  2.236e+05     0.6366     0.5244   -2.96e+05   5.807e+05\n",
      "blk             1.081e+06  2.202e+05     4.9107     0.0000   6.497e+05   1.513e+06\n",
      "tov            -9.197e+04  2.056e+05    -0.4473     0.6547  -4.951e+05   3.111e+05\n",
      "pf             -9.021e+05  1.368e+05    -6.5961     0.0000   -1.17e+06   -6.34e+05\n",
      "pts             1.015e+06  7.534e+05     1.3467     0.1781  -4.623e+05   2.491e+06\n",
      "height          2.527e+04  1.411e+04     1.7903     0.0735     -2400.1   5.293e+04\n",
      "weight          4.367e+04     9463.1     4.6153     0.0000   2.512e+04   6.223e+04\n",
      "experience_YTD  2.992e+05  2.507e+04     11.932     0.0000     2.5e+05   3.483e+05\n",
      "team_fga        2.863e+06  1.185e+06     2.4156     0.0157   5.396e+05   5.187e+06\n",
      "team_fg%        1.628e+06  7.733e+07     0.0211     0.9832    -1.5e+08   1.532e+08\n",
      "team_3p         1.409e+06  1.504e+06     0.9367     0.3490   -1.54e+06   4.357e+06\n",
      "team_3pa       -2.855e+06  1.128e+06    -2.5314     0.0114  -5.067e+06  -6.441e+05\n",
      "team_3p%       -8.512e+06   1.29e+07    -0.6597     0.5095  -3.381e+07   1.678e+07\n",
      "team_2p         1.759e+06  1.117e+06     1.5753     0.1152  -4.299e+05   3.948e+06\n",
      "team_2pa       -3.268e+06  1.135e+06    -2.8801     0.0040  -5.492e+06  -1.044e+06\n",
      "team_2p%       -5.356e+07  2.487e+07    -2.1540     0.0313  -1.023e+08  -4.815e+06\n",
      "team_ft         -1.62e+05  8.663e+05    -0.1870     0.8516   -1.86e+06   1.536e+06\n",
      "team_fta        3.772e+05  5.282e+05     0.7141     0.4752  -6.583e+05   1.413e+06\n",
      "team_ft%        1.645e+07   1.63e+07     1.0088     0.3131  -1.551e+07   4.841e+07\n",
      "team_orb       -6.953e+05  1.049e+06    -0.6625     0.5077  -2.753e+06   1.362e+06\n",
      "team_drb       -8.697e+05  1.042e+06    -0.8350     0.4038  -2.911e+06   1.172e+06\n",
      "team_trb         7.39e+05  1.041e+06     0.7101     0.4777  -1.301e+06   2.779e+06\n",
      "team_ast       -6.458e+04  4.457e+04    -1.4491     0.1474  -1.519e+05   2.279e+04\n",
      "team_stl       -1.823e+05  8.231e+04    -2.2153     0.0268  -3.437e+05  -2.098e+04\n",
      "team_blk       -1.086e+04  8.626e+04    -0.1259     0.8998    -1.8e+05   1.582e+05\n",
      "team_tov       -7.265e+04  6.706e+04    -1.0833     0.2787  -2.041e+05   5.882e+04\n",
      "team_pf         6.215e+04  4.907e+04     1.2667     0.2053  -3.404e+04   1.583e+05\n",
      "team_pts       -3.716e+05  5.792e+05    -0.6416     0.5211  -1.507e+06   7.639e+05\n",
      "team_count     -2.174e+06  1.287e+05    -16.893     0.0000  -2.427e+06  -1.922e+06\n",
      "age_YTD         1.898e+05  2.388e+04     7.9498     0.0000    1.43e+05   2.366e+05\n",
      "C              -1.162e+06  1.187e+06    -0.9788     0.3277  -3.489e+06   1.165e+06\n",
      "C-PF           -6.706e+05  2.012e+06    -0.3333     0.7390  -4.615e+06   3.274e+06\n",
      "PF             -6.117e+05   1.16e+06    -0.5273     0.5980  -2.886e+06   1.662e+06\n",
      "PF-C           -1.666e+06  1.643e+06    -1.0135     0.3109  -4.887e+06   1.556e+06\n",
      "PF-SF           1.648e+06  1.744e+06     0.9450     0.3447   -1.77e+06   5.066e+06\n",
      "PG             -9.595e+05  1.131e+06    -0.8485     0.3962  -3.176e+06   1.257e+06\n",
      "PG-SG           1.189e+06  1.541e+06     0.7712     0.4406  -1.833e+06    4.21e+06\n",
      "SF             -3.741e+05  1.145e+06    -0.3266     0.7440   -2.62e+06   1.871e+06\n",
      "SF-C           -1.418e+06   3.28e+06    -0.4322     0.6656  -7.847e+06   5.012e+06\n",
      "SF-PF           2.489e+06  1.698e+06     1.4662     0.1427   -8.39e+05   5.818e+06\n",
      "SF-SG              3977.1  1.527e+06     0.0026     0.9979   -2.99e+06   2.998e+06\n",
      "SG             -3.555e+05  1.133e+06    -0.3138     0.7537  -2.577e+06   1.866e+06\n",
      "SG-PF          -3.219e+06  3.276e+06    -0.9824     0.3259  -9.642e+06   3.204e+06\n",
      "SG-SF           1.488e+06  1.732e+06     0.8589     0.3904  -1.908e+06   4.883e+06\n",
      "==================================================================================\n"
     ]
    }
   ],
   "source": [
    "model_re = RandomEffects(endog, exog)\n",
    "re_res = model_re.fit()\n",
    "print(re_res)"
   ]
  },
  {
   "cell_type": "markdown",
   "metadata": {},
   "source": [
    "Get significant variables"
   ]
  },
  {
   "cell_type": "code",
   "execution_count": 519,
   "metadata": {},
   "outputs": [
    {
     "name": "stdout",
     "output_type": "stream",
     "text": [
      "Significant variables (FE): ['g', 'gs', 'mp', 'fg%', '3p%', 'efg%', 'ft%', 'ast', 'blk', 'pf', 'height', 'weight', 'experience_YTD', 'team_2pa', 'team_ft%', 'team_count', 'age_YTD']\n",
      "Significant variables (RE): ['g', 'gs', 'mp', 'fg%', '3p%', 'efg%', 'ft%', 'ast', 'blk', 'pf', 'weight', 'experience_YTD', 'team_fga', 'team_3pa', 'team_2pa', 'team_2p%', 'team_stl', 'team_count', 'age_YTD']\n"
     ]
    }
   ],
   "source": [
    "# Fixed effect\n",
    "fe_pvalues = fe_res.pvalues\n",
    "fe_sig_cols = list(fe_pvalues[fe_pvalues<sig_val].index)\n",
    "print(\"Significant variables (FE): {}\".format(fe_sig_cols))\n",
    "\n",
    "# Random effect\n",
    "re_pvalues = re_res.pvalues\n",
    "re_sig_cols = list(re_pvalues[re_pvalues<sig_val].index)\n",
    "print(\"Significant variables (RE): {}\".format(re_sig_cols))"
   ]
  },
  {
   "cell_type": "markdown",
   "metadata": {},
   "source": [
    "### Question 4b: Which are time-invariant predictors in your data set? Do you worry about any fixed effect @i that might correlated with your predictors? If yes, provide examples of such fixed effects."
   ]
  },
  {
   "cell_type": "markdown",
   "metadata": {},
   "source": [
    "Time-invariant predictors"
   ]
  },
  {
   "cell_type": "code",
   "execution_count": 520,
   "metadata": {},
   "outputs": [
    {
     "data": {
      "text/plain": [
       "Index(['const', 'g', 'gs', 'mp', 'fg', 'fga', 'fg%', '3p', '3pa', '3p%', '2p',\n",
       "       '2pa', '2p%', 'efg%', 'ft', 'fta', 'ft%', 'orb', 'drb', 'trb', 'ast',\n",
       "       'stl', 'blk', 'tov', 'pf', 'pts', 'height', 'weight', 'experience_YTD',\n",
       "       'team_fga', 'team_fg%', 'team_3p', 'team_3pa', 'team_3p%', 'team_2p',\n",
       "       'team_2pa', 'team_2p%', 'team_ft', 'team_fta', 'team_ft%', 'team_orb',\n",
       "       'team_drb', 'team_trb', 'team_ast', 'team_stl', 'team_blk', 'team_tov',\n",
       "       'team_pf', 'team_pts', 'team_count', 'age_YTD', 'C', 'C-PF', 'PF',\n",
       "       'PF-C', 'PF-SF', 'PG', 'PG-SG', 'SF', 'SF-C', 'SF-PF', 'SF-SG', 'SG',\n",
       "       'SG-PF', 'SG-SF'],\n",
       "      dtype='object')"
      ]
     },
     "execution_count": 520,
     "metadata": {},
     "output_type": "execute_result"
    }
   ],
   "source": [
    "exog.columns"
   ]
  },
  {
   "cell_type": "code",
   "execution_count": 521,
   "metadata": {},
   "outputs": [
    {
     "name": "stdout",
     "output_type": "stream",
     "text": [
      "Time-invariant variables: ['height', 'weight']\n"
     ]
    }
   ],
   "source": [
    "print(\"Time-invariant variables: {}\".format([\"height\", \"weight\"]))"
   ]
  },
  {
   "cell_type": "code",
   "execution_count": 522,
   "metadata": {},
   "outputs": [
    {
     "name": "stdout",
     "output_type": "stream",
     "text": [
      "No. No fixed effect alpha i is correlated with the predictors.\n"
     ]
    }
   ],
   "source": [
    "print(\"No. No fixed effect alpha i is correlated with the predictors.\")"
   ]
  },
  {
   "cell_type": "markdown",
   "metadata": {},
   "source": [
    "### Question 4c: Which model of panel analysis do you choose, \"fixed-effect\" or random effect models and why?"
   ]
  },
  {
   "cell_type": "markdown",
   "metadata": {},
   "source": [
    "Hausman test"
   ]
  },
  {
   "cell_type": "code",
   "execution_count": 523,
   "metadata": {},
   "outputs": [
    {
     "name": "stdout",
     "output_type": "stream",
     "text": [
      "chi-Squared: 57.101534383960164\n",
      "degrees of freedom: 65\n",
      "p-Value: 0.7466062480194186\n"
     ]
    }
   ],
   "source": [
    "def hausman(fe, re):\n",
    "    b = fe.params\n",
    "    B = re.params\n",
    "    v_b = fe.cov\n",
    "    v_B = re.cov\n",
    "    df = b[np.abs(b) < 1e8].size\n",
    "    chi2 = np.dot((b - B).T, np.linalg.inv(v_b - v_B).dot(b - B)) \n",
    "\n",
    "    pval = stats.chi2.sf(chi2, df)\n",
    "    return chi2, df, pval\n",
    "\n",
    "hausman_results = hausman(fe_res, re_res) \n",
    "print(\"chi-Squared: {}\".format(str(hausman_results[0])))\n",
    "print(\"degrees of freedom: {}\".format(str(hausman_results[1])))\n",
    "print(\"p-Value: {}\".format(str(hausman_results[2])))"
   ]
  },
  {
   "cell_type": "code",
   "execution_count": 524,
   "metadata": {},
   "outputs": [
    {
     "name": "stdout",
     "output_type": "stream",
     "text": [
      "Since p-value of Hausman test > 0.05, we accept the null hypothesis of using RandomEffect model.\n"
     ]
    }
   ],
   "source": [
    "print(\"Since p-value of Hausman test > 0.05, we accept the null hypothesis of using RandomEffect model.\")"
   ]
  },
  {
   "cell_type": "markdown",
   "metadata": {},
   "source": [
    "### Question 4d: Based on your results, what do you recommend to the team owner? How much should team pay existing players?"
   ]
  },
  {
   "cell_type": "markdown",
   "metadata": {},
   "source": [
    "Recommendation"
   ]
  },
  {
   "cell_type": "code",
   "execution_count": 525,
   "metadata": {},
   "outputs": [
    {
     "name": "stdout",
     "output_type": "stream",
     "text": [
      "                        RandomEffects Estimation Summary                        \n",
      "================================================================================\n",
      "Dep. Variable:                 salary   R-squared:                        0.5524\n",
      "Estimator:              RandomEffects   R-squared (Between):              0.3958\n",
      "No. Observations:                6182   R-squared (Within):               0.5535\n",
      "Date:                Sun, Mar 06 2022   R-squared (Overall):              0.5524\n",
      "Time:                        19:19:30   Log-likelihood                -1.032e+05\n",
      "Cov. Estimator:            Unadjusted                                           \n",
      "                                        F-statistic:                      117.95\n",
      "Entities:                          30   P-value                           0.0000\n",
      "Avg Obs:                       206.07   Distribution:                 F(64,6117)\n",
      "Min Obs:                       170.00                                           \n",
      "Max Obs:                       251.00   F-statistic (robust):             117.95\n",
      "                                        P-value                           0.0000\n",
      "Time periods:                      12   Distribution:                 F(64,6117)\n",
      "Avg Obs:                       515.17                                           \n",
      "Min Obs:                       415.00                                           \n",
      "Max Obs:                       607.00                                           \n",
      "                                                                                \n",
      "                               Parameter Estimates                                \n",
      "==================================================================================\n",
      "                Parameter  Std. Err.     T-stat    P-value    Lower CI    Upper CI\n",
      "----------------------------------------------------------------------------------\n",
      "const           9.937e+06   4.08e+07     0.2435     0.8076  -7.005e+07   8.992e+07\n",
      "g              -2.484e+04     3228.9    -7.6926     0.0000  -3.117e+04  -1.851e+04\n",
      "gs              2.529e+04     3750.8     6.7421     0.0000   1.794e+04   3.264e+04\n",
      "mp             -1.169e+05  2.287e+04    -5.1126     0.0000  -1.618e+05  -7.209e+04\n",
      "fg             -2.721e+05  1.752e+06    -0.1553     0.8766  -3.707e+06   3.163e+06\n",
      "fga             1.316e+06  1.138e+06     1.1559     0.2478  -9.157e+05   3.547e+06\n",
      "fg%             8.961e+06  3.613e+06     2.4805     0.0131   1.879e+06   1.604e+07\n",
      "3p             -6.111e+05  1.568e+06    -0.3897     0.6968  -3.685e+06   2.463e+06\n",
      "3pa            -1.223e+06  1.138e+06    -1.0743     0.2827  -3.454e+06   1.009e+06\n",
      "3p%            -1.249e+06  5.708e+05    -2.1884     0.0287  -2.368e+06  -1.302e+05\n",
      "2p              3.156e+05  1.243e+06     0.2539     0.7996  -2.121e+06   2.752e+06\n",
      "2pa            -1.989e+06  1.141e+06    -1.7430     0.0814  -4.226e+06    2.48e+05\n",
      "2p%            -1.817e+06  1.338e+06    -1.3583     0.1744  -4.439e+06   8.053e+05\n",
      "efg%           -1.349e+07  3.223e+06    -4.1855     0.0000  -1.981e+07  -7.172e+06\n",
      "ft             -6.554e+04  8.095e+05    -0.0810     0.9355  -1.652e+06   1.521e+06\n",
      "fta            -2.568e+05  2.763e+05    -0.9295     0.3527  -7.984e+05   2.848e+05\n",
      "ft%            -1.478e+06  5.618e+05    -2.6314     0.0085   -2.58e+06   -3.77e+05\n",
      "orb             1.409e+05  1.139e+06     0.1237     0.9015  -2.092e+06   2.374e+06\n",
      "drb             9.252e+05  1.135e+06     0.8150     0.4151    -1.3e+06   3.151e+06\n",
      "trb            -2.352e+05  1.132e+06    -0.2077     0.8354  -2.455e+06   1.984e+06\n",
      "ast             7.744e+05  7.791e+04     9.9396     0.0000   6.217e+05   9.272e+05\n",
      "stl             1.423e+05  2.236e+05     0.6366     0.5244   -2.96e+05   5.807e+05\n",
      "blk             1.081e+06  2.202e+05     4.9107     0.0000   6.497e+05   1.513e+06\n",
      "tov            -9.197e+04  2.056e+05    -0.4473     0.6547  -4.951e+05   3.111e+05\n",
      "pf             -9.021e+05  1.368e+05    -6.5961     0.0000   -1.17e+06   -6.34e+05\n",
      "pts             1.015e+06  7.534e+05     1.3467     0.1781  -4.623e+05   2.491e+06\n",
      "height          2.527e+04  1.411e+04     1.7903     0.0735     -2400.1   5.293e+04\n",
      "weight          4.367e+04     9463.1     4.6153     0.0000   2.512e+04   6.223e+04\n",
      "experience_YTD  2.992e+05  2.507e+04     11.932     0.0000     2.5e+05   3.483e+05\n",
      "team_fga        2.863e+06  1.185e+06     2.4156     0.0157   5.396e+05   5.187e+06\n",
      "team_fg%        1.628e+06  7.733e+07     0.0211     0.9832    -1.5e+08   1.532e+08\n",
      "team_3p         1.409e+06  1.504e+06     0.9367     0.3490   -1.54e+06   4.357e+06\n",
      "team_3pa       -2.855e+06  1.128e+06    -2.5314     0.0114  -5.067e+06  -6.441e+05\n",
      "team_3p%       -8.512e+06   1.29e+07    -0.6597     0.5095  -3.381e+07   1.678e+07\n",
      "team_2p         1.759e+06  1.117e+06     1.5753     0.1152  -4.299e+05   3.948e+06\n",
      "team_2pa       -3.268e+06  1.135e+06    -2.8801     0.0040  -5.492e+06  -1.044e+06\n",
      "team_2p%       -5.356e+07  2.487e+07    -2.1540     0.0313  -1.023e+08  -4.815e+06\n",
      "team_ft         -1.62e+05  8.663e+05    -0.1870     0.8516   -1.86e+06   1.536e+06\n",
      "team_fta        3.772e+05  5.282e+05     0.7141     0.4752  -6.583e+05   1.413e+06\n",
      "team_ft%        1.645e+07   1.63e+07     1.0088     0.3131  -1.551e+07   4.841e+07\n",
      "team_orb       -6.953e+05  1.049e+06    -0.6625     0.5077  -2.753e+06   1.362e+06\n",
      "team_drb       -8.697e+05  1.042e+06    -0.8350     0.4038  -2.911e+06   1.172e+06\n",
      "team_trb         7.39e+05  1.041e+06     0.7101     0.4777  -1.301e+06   2.779e+06\n",
      "team_ast       -6.458e+04  4.457e+04    -1.4491     0.1474  -1.519e+05   2.279e+04\n",
      "team_stl       -1.823e+05  8.231e+04    -2.2153     0.0268  -3.437e+05  -2.098e+04\n",
      "team_blk       -1.086e+04  8.626e+04    -0.1259     0.8998    -1.8e+05   1.582e+05\n",
      "team_tov       -7.265e+04  6.706e+04    -1.0833     0.2787  -2.041e+05   5.882e+04\n",
      "team_pf         6.215e+04  4.907e+04     1.2667     0.2053  -3.404e+04   1.583e+05\n",
      "team_pts       -3.716e+05  5.792e+05    -0.6416     0.5211  -1.507e+06   7.639e+05\n",
      "team_count     -2.174e+06  1.287e+05    -16.893     0.0000  -2.427e+06  -1.922e+06\n",
      "age_YTD         1.898e+05  2.388e+04     7.9498     0.0000    1.43e+05   2.366e+05\n",
      "C              -1.162e+06  1.187e+06    -0.9788     0.3277  -3.489e+06   1.165e+06\n",
      "C-PF           -6.706e+05  2.012e+06    -0.3333     0.7390  -4.615e+06   3.274e+06\n",
      "PF             -6.117e+05   1.16e+06    -0.5273     0.5980  -2.886e+06   1.662e+06\n",
      "PF-C           -1.666e+06  1.643e+06    -1.0135     0.3109  -4.887e+06   1.556e+06\n",
      "PF-SF           1.648e+06  1.744e+06     0.9450     0.3447   -1.77e+06   5.066e+06\n",
      "PG             -9.595e+05  1.131e+06    -0.8485     0.3962  -3.176e+06   1.257e+06\n",
      "PG-SG           1.189e+06  1.541e+06     0.7712     0.4406  -1.833e+06    4.21e+06\n",
      "SF             -3.741e+05  1.145e+06    -0.3266     0.7440   -2.62e+06   1.871e+06\n",
      "SF-C           -1.418e+06   3.28e+06    -0.4322     0.6656  -7.847e+06   5.012e+06\n",
      "SF-PF           2.489e+06  1.698e+06     1.4662     0.1427   -8.39e+05   5.818e+06\n",
      "SF-SG              3977.1  1.527e+06     0.0026     0.9979   -2.99e+06   2.998e+06\n",
      "SG             -3.555e+05  1.133e+06    -0.3138     0.7537  -2.577e+06   1.866e+06\n",
      "SG-PF          -3.219e+06  3.276e+06    -0.9824     0.3259  -9.642e+06   3.204e+06\n",
      "SG-SF           1.488e+06  1.732e+06     0.8589     0.3904  -1.908e+06   4.883e+06\n",
      "==================================================================================\n"
     ]
    }
   ],
   "source": [
    "print(re_res)"
   ]
  },
  {
   "cell_type": "markdown",
   "metadata": {},
   "source": [
    "Get coefficients of significant variables"
   ]
  },
  {
   "cell_type": "code",
   "execution_count": 526,
   "metadata": {},
   "outputs": [],
   "source": [
    "re_coeff = re_res.params[re_pvalues<sig_val]\n",
    "re_coeff = re_coeff.to_frame().reset_index(drop=False)\n",
    "re_coeff.columns = [\"predictor\", \"coefficient\"]"
   ]
  },
  {
   "cell_type": "code",
   "execution_count": 527,
   "metadata": {},
   "outputs": [
    {
     "name": "stdout",
     "output_type": "stream",
     "text": [
      "On average, for every unit increase in g, increase the players pay by $-24838.68\n",
      "On average, for every unit increase in gs, increase the players pay by $25288.38\n",
      "On average, for every unit increase in mp, increase the players pay by $-116919.98\n",
      "On average, for every unit increase in fg%, increase the players pay by $8960859.82\n",
      "On average, for every unit increase in 3p%, increase the players pay by $-1249183.64\n",
      "On average, for every unit increase in efg%, increase the players pay by $-13489930.29\n",
      "On average, for every unit increase in ft%, increase the players pay by $-1478278.38\n",
      "On average, for every unit increase in ast, increase the players pay by $774425.15\n",
      "On average, for every unit increase in blk, increase the players pay by $1081411.27\n",
      "On average, for every unit increase in pf, increase the players pay by $-902110.8\n",
      "On average, for every unit increase in weight, increase the players pay by $43674.74\n",
      "On average, for every unit increase in experience_YTD, increase the players pay by $299157.49\n",
      "On average, for every unit increase in team_fga, increase the players pay by $2863117.56\n",
      "On average, for every unit increase in team_3pa, increase the players pay by $-2855325.36\n",
      "On average, for every unit increase in team_2pa, increase the players pay by $-3268063.24\n",
      "On average, for every unit increase in team_2p%, increase the players pay by $-53561260.75\n",
      "On average, for every unit increase in team_stl, increase the players pay by $-182345.47\n",
      "On average, for every unit increase in team_count, increase the players pay by $-2174481.08\n",
      "On average, for every unit increase in age_YTD, increase the players pay by $189809.77\n"
     ]
    }
   ],
   "source": [
    "for i, row in re_coeff.iterrows():\n",
    "    predictor = row[\"predictor\"]\n",
    "    coefficient = row[\"coefficient\"]\n",
    "    \n",
    "    print(\"On average, for every unit increase in {}, increase the players pay by ${}\".format(\n",
    "          predictor, round(coefficient, 2)))"
   ]
  },
  {
   "cell_type": "markdown",
   "metadata": {},
   "source": [
    "### Question 5a: Do you think your result could be interpreted in a causal relationship? Why or why not?"
   ]
  },
  {
   "cell_type": "code",
   "execution_count": null,
   "metadata": {},
   "outputs": [],
   "source": []
  },
  {
   "cell_type": "markdown",
   "metadata": {},
   "source": [
    "### Question 5b: Winning a game is a team effort, but solely that of a single player. If the objective is to win, how can your prediction include cooperation amongst members?"
   ]
  },
  {
   "cell_type": "code",
   "execution_count": 528,
   "metadata": {},
   "outputs": [
    {
     "name": "stdout",
     "output_type": "stream",
     "text": [
      "We can include coorperation amongst members by adding the average statistics of the players in the team and statistics of assists as exogeneous variables.\n"
     ]
    }
   ],
   "source": [
    "print(\"We can include coorperation amongst members by adding the average statistics of the players in the team \"\n",
    "      \"and statistics of assists as exogeneous variables.\")"
   ]
  }
 ],
 "metadata": {
  "kernelspec": {
   "display_name": "Python 3 (ipykernel)",
   "language": "python",
   "name": "python3"
  },
  "language_info": {
   "codemirror_mode": {
    "name": "ipython",
    "version": 3
   },
   "file_extension": ".py",
   "mimetype": "text/x-python",
   "name": "python",
   "nbconvert_exporter": "python",
   "pygments_lexer": "ipython3",
   "version": "3.9.0"
  }
 },
 "nbformat": 4,
 "nbformat_minor": 4
}
